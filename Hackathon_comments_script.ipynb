{
  "nbformat": 4,
  "nbformat_minor": 0,
  "metadata": {
    "colab": {
      "name": "Hackathon_comments_script.ipynb",
      "provenance": [],
      "collapsed_sections": [
        "btwGaisga4PJ",
        "8cg0Sp4dRPeV",
        "0HuNvHeZbE-K",
        "C1uq5mQnF2Fy"
      ],
      "toc_visible": true
    },
    "kernelspec": {
      "display_name": "Python 3",
      "name": "python3"
    },
    "widgets": {
      "application/vnd.jupyter.widget-state+json": {
        "cfe4dd61b7394220807b2a2e70c9a1d4": {
          "model_module": "@jupyter-widgets/controls",
          "model_name": "HBoxModel",
          "state": {
            "_dom_classes": [],
            "_model_module": "@jupyter-widgets/controls",
            "_model_module_version": "1.5.0",
            "_model_name": "HBoxModel",
            "_view_count": null,
            "_view_module": "@jupyter-widgets/controls",
            "_view_module_version": "1.5.0",
            "_view_name": "HBoxView",
            "box_style": "",
            "children": [
              "IPY_MODEL_bcb850b194784b20b55ea9dfeb19c788",
              "IPY_MODEL_0cbab36eb040426ba73c3878b00767a1"
            ],
            "layout": "IPY_MODEL_96bf91d421a54f878f650a76063156fc"
          }
        },
        "bcb850b194784b20b55ea9dfeb19c788": {
          "model_module": "@jupyter-widgets/controls",
          "model_name": "FloatProgressModel",
          "state": {
            "_dom_classes": [],
            "_model_module": "@jupyter-widgets/controls",
            "_model_module_version": "1.5.0",
            "_model_name": "FloatProgressModel",
            "_view_count": null,
            "_view_module": "@jupyter-widgets/controls",
            "_view_module_version": "1.5.0",
            "_view_name": "ProgressView",
            "bar_style": "success",
            "description": "Downloading: 100%",
            "description_tooltip": null,
            "layout": "IPY_MODEL_6e2d2b94293542b8bb1b89f2a86b2145",
            "max": 433,
            "min": 0,
            "orientation": "horizontal",
            "style": "IPY_MODEL_399501a812a945c1ba3019785a6a385f",
            "value": 433
          }
        },
        "0cbab36eb040426ba73c3878b00767a1": {
          "model_module": "@jupyter-widgets/controls",
          "model_name": "HTMLModel",
          "state": {
            "_dom_classes": [],
            "_model_module": "@jupyter-widgets/controls",
            "_model_module_version": "1.5.0",
            "_model_name": "HTMLModel",
            "_view_count": null,
            "_view_module": "@jupyter-widgets/controls",
            "_view_module_version": "1.5.0",
            "_view_name": "HTMLView",
            "description": "",
            "description_tooltip": null,
            "layout": "IPY_MODEL_edbed31b733840a9831e0885d75ac579",
            "placeholder": "​",
            "style": "IPY_MODEL_b536720b07814dbd84f5e43df6310aaf",
            "value": " 433/433 [00:00&lt;00:00, 12.6kB/s]"
          }
        },
        "96bf91d421a54f878f650a76063156fc": {
          "model_module": "@jupyter-widgets/base",
          "model_name": "LayoutModel",
          "state": {
            "_model_module": "@jupyter-widgets/base",
            "_model_module_version": "1.2.0",
            "_model_name": "LayoutModel",
            "_view_count": null,
            "_view_module": "@jupyter-widgets/base",
            "_view_module_version": "1.2.0",
            "_view_name": "LayoutView",
            "align_content": null,
            "align_items": null,
            "align_self": null,
            "border": null,
            "bottom": null,
            "display": null,
            "flex": null,
            "flex_flow": null,
            "grid_area": null,
            "grid_auto_columns": null,
            "grid_auto_flow": null,
            "grid_auto_rows": null,
            "grid_column": null,
            "grid_gap": null,
            "grid_row": null,
            "grid_template_areas": null,
            "grid_template_columns": null,
            "grid_template_rows": null,
            "height": null,
            "justify_content": null,
            "justify_items": null,
            "left": null,
            "margin": null,
            "max_height": null,
            "max_width": null,
            "min_height": null,
            "min_width": null,
            "object_fit": null,
            "object_position": null,
            "order": null,
            "overflow": null,
            "overflow_x": null,
            "overflow_y": null,
            "padding": null,
            "right": null,
            "top": null,
            "visibility": null,
            "width": null
          }
        },
        "6e2d2b94293542b8bb1b89f2a86b2145": {
          "model_module": "@jupyter-widgets/base",
          "model_name": "LayoutModel",
          "state": {
            "_model_module": "@jupyter-widgets/base",
            "_model_module_version": "1.2.0",
            "_model_name": "LayoutModel",
            "_view_count": null,
            "_view_module": "@jupyter-widgets/base",
            "_view_module_version": "1.2.0",
            "_view_name": "LayoutView",
            "align_content": null,
            "align_items": null,
            "align_self": null,
            "border": null,
            "bottom": null,
            "display": null,
            "flex": null,
            "flex_flow": null,
            "grid_area": null,
            "grid_auto_columns": null,
            "grid_auto_flow": null,
            "grid_auto_rows": null,
            "grid_column": null,
            "grid_gap": null,
            "grid_row": null,
            "grid_template_areas": null,
            "grid_template_columns": null,
            "grid_template_rows": null,
            "height": null,
            "justify_content": null,
            "justify_items": null,
            "left": null,
            "margin": null,
            "max_height": null,
            "max_width": null,
            "min_height": null,
            "min_width": null,
            "object_fit": null,
            "object_position": null,
            "order": null,
            "overflow": null,
            "overflow_x": null,
            "overflow_y": null,
            "padding": null,
            "right": null,
            "top": null,
            "visibility": null,
            "width": null
          }
        },
        "399501a812a945c1ba3019785a6a385f": {
          "model_module": "@jupyter-widgets/controls",
          "model_name": "ProgressStyleModel",
          "state": {
            "_model_module": "@jupyter-widgets/controls",
            "_model_module_version": "1.5.0",
            "_model_name": "ProgressStyleModel",
            "_view_count": null,
            "_view_module": "@jupyter-widgets/base",
            "_view_module_version": "1.2.0",
            "_view_name": "StyleView",
            "bar_color": null,
            "description_width": "initial"
          }
        },
        "edbed31b733840a9831e0885d75ac579": {
          "model_module": "@jupyter-widgets/base",
          "model_name": "LayoutModel",
          "state": {
            "_model_module": "@jupyter-widgets/base",
            "_model_module_version": "1.2.0",
            "_model_name": "LayoutModel",
            "_view_count": null,
            "_view_module": "@jupyter-widgets/base",
            "_view_module_version": "1.2.0",
            "_view_name": "LayoutView",
            "align_content": null,
            "align_items": null,
            "align_self": null,
            "border": null,
            "bottom": null,
            "display": null,
            "flex": null,
            "flex_flow": null,
            "grid_area": null,
            "grid_auto_columns": null,
            "grid_auto_flow": null,
            "grid_auto_rows": null,
            "grid_column": null,
            "grid_gap": null,
            "grid_row": null,
            "grid_template_areas": null,
            "grid_template_columns": null,
            "grid_template_rows": null,
            "height": null,
            "justify_content": null,
            "justify_items": null,
            "left": null,
            "margin": null,
            "max_height": null,
            "max_width": null,
            "min_height": null,
            "min_width": null,
            "object_fit": null,
            "object_position": null,
            "order": null,
            "overflow": null,
            "overflow_x": null,
            "overflow_y": null,
            "padding": null,
            "right": null,
            "top": null,
            "visibility": null,
            "width": null
          }
        },
        "b536720b07814dbd84f5e43df6310aaf": {
          "model_module": "@jupyter-widgets/controls",
          "model_name": "DescriptionStyleModel",
          "state": {
            "_model_module": "@jupyter-widgets/controls",
            "_model_module_version": "1.5.0",
            "_model_name": "DescriptionStyleModel",
            "_view_count": null,
            "_view_module": "@jupyter-widgets/base",
            "_view_module_version": "1.2.0",
            "_view_name": "StyleView",
            "description_width": ""
          }
        },
        "6ff7588be1064f2fa2a3640217b9706c": {
          "model_module": "@jupyter-widgets/controls",
          "model_name": "HBoxModel",
          "state": {
            "_dom_classes": [],
            "_model_module": "@jupyter-widgets/controls",
            "_model_module_version": "1.5.0",
            "_model_name": "HBoxModel",
            "_view_count": null,
            "_view_module": "@jupyter-widgets/controls",
            "_view_module_version": "1.5.0",
            "_view_name": "HBoxView",
            "box_style": "",
            "children": [
              "IPY_MODEL_ac07c481517f48559d22b670fb99ed0c",
              "IPY_MODEL_4dafab0ad0d14c6bacbc2718d127ee26"
            ],
            "layout": "IPY_MODEL_3d8ac82479e74524ae38471aef89576a"
          }
        },
        "ac07c481517f48559d22b670fb99ed0c": {
          "model_module": "@jupyter-widgets/controls",
          "model_name": "FloatProgressModel",
          "state": {
            "_dom_classes": [],
            "_model_module": "@jupyter-widgets/controls",
            "_model_module_version": "1.5.0",
            "_model_name": "FloatProgressModel",
            "_view_count": null,
            "_view_module": "@jupyter-widgets/controls",
            "_view_module_version": "1.5.0",
            "_view_name": "ProgressView",
            "bar_style": "success",
            "description": "Downloading: 100%",
            "description_tooltip": null,
            "layout": "IPY_MODEL_65ec311f38ec47e3a19be97e60ba2f87",
            "max": 213450,
            "min": 0,
            "orientation": "horizontal",
            "style": "IPY_MODEL_dd12d1f891a94c188d5cb935649447a8",
            "value": 213450
          }
        },
        "4dafab0ad0d14c6bacbc2718d127ee26": {
          "model_module": "@jupyter-widgets/controls",
          "model_name": "HTMLModel",
          "state": {
            "_dom_classes": [],
            "_model_module": "@jupyter-widgets/controls",
            "_model_module_version": "1.5.0",
            "_model_name": "HTMLModel",
            "_view_count": null,
            "_view_module": "@jupyter-widgets/controls",
            "_view_module_version": "1.5.0",
            "_view_name": "HTMLView",
            "description": "",
            "description_tooltip": null,
            "layout": "IPY_MODEL_aa9f6a28be5542cc8275386ec64e8f9c",
            "placeholder": "​",
            "style": "IPY_MODEL_0f8fbc6243244ec9a02ad7f176aa3f0e",
            "value": " 213k/213k [06:07&lt;00:00, 580B/s]"
          }
        },
        "3d8ac82479e74524ae38471aef89576a": {
          "model_module": "@jupyter-widgets/base",
          "model_name": "LayoutModel",
          "state": {
            "_model_module": "@jupyter-widgets/base",
            "_model_module_version": "1.2.0",
            "_model_name": "LayoutModel",
            "_view_count": null,
            "_view_module": "@jupyter-widgets/base",
            "_view_module_version": "1.2.0",
            "_view_name": "LayoutView",
            "align_content": null,
            "align_items": null,
            "align_self": null,
            "border": null,
            "bottom": null,
            "display": null,
            "flex": null,
            "flex_flow": null,
            "grid_area": null,
            "grid_auto_columns": null,
            "grid_auto_flow": null,
            "grid_auto_rows": null,
            "grid_column": null,
            "grid_gap": null,
            "grid_row": null,
            "grid_template_areas": null,
            "grid_template_columns": null,
            "grid_template_rows": null,
            "height": null,
            "justify_content": null,
            "justify_items": null,
            "left": null,
            "margin": null,
            "max_height": null,
            "max_width": null,
            "min_height": null,
            "min_width": null,
            "object_fit": null,
            "object_position": null,
            "order": null,
            "overflow": null,
            "overflow_x": null,
            "overflow_y": null,
            "padding": null,
            "right": null,
            "top": null,
            "visibility": null,
            "width": null
          }
        },
        "65ec311f38ec47e3a19be97e60ba2f87": {
          "model_module": "@jupyter-widgets/base",
          "model_name": "LayoutModel",
          "state": {
            "_model_module": "@jupyter-widgets/base",
            "_model_module_version": "1.2.0",
            "_model_name": "LayoutModel",
            "_view_count": null,
            "_view_module": "@jupyter-widgets/base",
            "_view_module_version": "1.2.0",
            "_view_name": "LayoutView",
            "align_content": null,
            "align_items": null,
            "align_self": null,
            "border": null,
            "bottom": null,
            "display": null,
            "flex": null,
            "flex_flow": null,
            "grid_area": null,
            "grid_auto_columns": null,
            "grid_auto_flow": null,
            "grid_auto_rows": null,
            "grid_column": null,
            "grid_gap": null,
            "grid_row": null,
            "grid_template_areas": null,
            "grid_template_columns": null,
            "grid_template_rows": null,
            "height": null,
            "justify_content": null,
            "justify_items": null,
            "left": null,
            "margin": null,
            "max_height": null,
            "max_width": null,
            "min_height": null,
            "min_width": null,
            "object_fit": null,
            "object_position": null,
            "order": null,
            "overflow": null,
            "overflow_x": null,
            "overflow_y": null,
            "padding": null,
            "right": null,
            "top": null,
            "visibility": null,
            "width": null
          }
        },
        "dd12d1f891a94c188d5cb935649447a8": {
          "model_module": "@jupyter-widgets/controls",
          "model_name": "ProgressStyleModel",
          "state": {
            "_model_module": "@jupyter-widgets/controls",
            "_model_module_version": "1.5.0",
            "_model_name": "ProgressStyleModel",
            "_view_count": null,
            "_view_module": "@jupyter-widgets/base",
            "_view_module_version": "1.2.0",
            "_view_name": "StyleView",
            "bar_color": null,
            "description_width": "initial"
          }
        },
        "aa9f6a28be5542cc8275386ec64e8f9c": {
          "model_module": "@jupyter-widgets/base",
          "model_name": "LayoutModel",
          "state": {
            "_model_module": "@jupyter-widgets/base",
            "_model_module_version": "1.2.0",
            "_model_name": "LayoutModel",
            "_view_count": null,
            "_view_module": "@jupyter-widgets/base",
            "_view_module_version": "1.2.0",
            "_view_name": "LayoutView",
            "align_content": null,
            "align_items": null,
            "align_self": null,
            "border": null,
            "bottom": null,
            "display": null,
            "flex": null,
            "flex_flow": null,
            "grid_area": null,
            "grid_auto_columns": null,
            "grid_auto_flow": null,
            "grid_auto_rows": null,
            "grid_column": null,
            "grid_gap": null,
            "grid_row": null,
            "grid_template_areas": null,
            "grid_template_columns": null,
            "grid_template_rows": null,
            "height": null,
            "justify_content": null,
            "justify_items": null,
            "left": null,
            "margin": null,
            "max_height": null,
            "max_width": null,
            "min_height": null,
            "min_width": null,
            "object_fit": null,
            "object_position": null,
            "order": null,
            "overflow": null,
            "overflow_x": null,
            "overflow_y": null,
            "padding": null,
            "right": null,
            "top": null,
            "visibility": null,
            "width": null
          }
        },
        "0f8fbc6243244ec9a02ad7f176aa3f0e": {
          "model_module": "@jupyter-widgets/controls",
          "model_name": "DescriptionStyleModel",
          "state": {
            "_model_module": "@jupyter-widgets/controls",
            "_model_module_version": "1.5.0",
            "_model_name": "DescriptionStyleModel",
            "_view_count": null,
            "_view_module": "@jupyter-widgets/base",
            "_view_module_version": "1.2.0",
            "_view_name": "StyleView",
            "description_width": ""
          }
        },
        "c21c571d95f54a3788b93ddfa688f004": {
          "model_module": "@jupyter-widgets/controls",
          "model_name": "HBoxModel",
          "state": {
            "_dom_classes": [],
            "_model_module": "@jupyter-widgets/controls",
            "_model_module_version": "1.5.0",
            "_model_name": "HBoxModel",
            "_view_count": null,
            "_view_module": "@jupyter-widgets/controls",
            "_view_module_version": "1.5.0",
            "_view_name": "HBoxView",
            "box_style": "",
            "children": [
              "IPY_MODEL_3cb5dbc2c51646bda04a95e6cf75f2f0",
              "IPY_MODEL_21450ebad0de4bf1997d95307a2c250a"
            ],
            "layout": "IPY_MODEL_b988f2de0a624f75be73bff359014ff2"
          }
        },
        "3cb5dbc2c51646bda04a95e6cf75f2f0": {
          "model_module": "@jupyter-widgets/controls",
          "model_name": "FloatProgressModel",
          "state": {
            "_dom_classes": [],
            "_model_module": "@jupyter-widgets/controls",
            "_model_module_version": "1.5.0",
            "_model_name": "FloatProgressModel",
            "_view_count": null,
            "_view_module": "@jupyter-widgets/controls",
            "_view_module_version": "1.5.0",
            "_view_name": "ProgressView",
            "bar_style": "success",
            "description": "Downloading: 100%",
            "description_tooltip": null,
            "layout": "IPY_MODEL_78ea793fff5d48ec8ac896fdba2c7635",
            "max": 435797,
            "min": 0,
            "orientation": "horizontal",
            "style": "IPY_MODEL_6caeb7ae7ff549bcb47dd5777d25fd73",
            "value": 435797
          }
        },
        "21450ebad0de4bf1997d95307a2c250a": {
          "model_module": "@jupyter-widgets/controls",
          "model_name": "HTMLModel",
          "state": {
            "_dom_classes": [],
            "_model_module": "@jupyter-widgets/controls",
            "_model_module_version": "1.5.0",
            "_model_name": "HTMLModel",
            "_view_count": null,
            "_view_module": "@jupyter-widgets/controls",
            "_view_module_version": "1.5.0",
            "_view_name": "HTMLView",
            "description": "",
            "description_tooltip": null,
            "layout": "IPY_MODEL_3e35c1263f524350913777e3d8f168de",
            "placeholder": "​",
            "style": "IPY_MODEL_d428236904f743dfaead41105103d368",
            "value": " 436k/436k [06:05&lt;00:00, 1.19kB/s]"
          }
        },
        "b988f2de0a624f75be73bff359014ff2": {
          "model_module": "@jupyter-widgets/base",
          "model_name": "LayoutModel",
          "state": {
            "_model_module": "@jupyter-widgets/base",
            "_model_module_version": "1.2.0",
            "_model_name": "LayoutModel",
            "_view_count": null,
            "_view_module": "@jupyter-widgets/base",
            "_view_module_version": "1.2.0",
            "_view_name": "LayoutView",
            "align_content": null,
            "align_items": null,
            "align_self": null,
            "border": null,
            "bottom": null,
            "display": null,
            "flex": null,
            "flex_flow": null,
            "grid_area": null,
            "grid_auto_columns": null,
            "grid_auto_flow": null,
            "grid_auto_rows": null,
            "grid_column": null,
            "grid_gap": null,
            "grid_row": null,
            "grid_template_areas": null,
            "grid_template_columns": null,
            "grid_template_rows": null,
            "height": null,
            "justify_content": null,
            "justify_items": null,
            "left": null,
            "margin": null,
            "max_height": null,
            "max_width": null,
            "min_height": null,
            "min_width": null,
            "object_fit": null,
            "object_position": null,
            "order": null,
            "overflow": null,
            "overflow_x": null,
            "overflow_y": null,
            "padding": null,
            "right": null,
            "top": null,
            "visibility": null,
            "width": null
          }
        },
        "78ea793fff5d48ec8ac896fdba2c7635": {
          "model_module": "@jupyter-widgets/base",
          "model_name": "LayoutModel",
          "state": {
            "_model_module": "@jupyter-widgets/base",
            "_model_module_version": "1.2.0",
            "_model_name": "LayoutModel",
            "_view_count": null,
            "_view_module": "@jupyter-widgets/base",
            "_view_module_version": "1.2.0",
            "_view_name": "LayoutView",
            "align_content": null,
            "align_items": null,
            "align_self": null,
            "border": null,
            "bottom": null,
            "display": null,
            "flex": null,
            "flex_flow": null,
            "grid_area": null,
            "grid_auto_columns": null,
            "grid_auto_flow": null,
            "grid_auto_rows": null,
            "grid_column": null,
            "grid_gap": null,
            "grid_row": null,
            "grid_template_areas": null,
            "grid_template_columns": null,
            "grid_template_rows": null,
            "height": null,
            "justify_content": null,
            "justify_items": null,
            "left": null,
            "margin": null,
            "max_height": null,
            "max_width": null,
            "min_height": null,
            "min_width": null,
            "object_fit": null,
            "object_position": null,
            "order": null,
            "overflow": null,
            "overflow_x": null,
            "overflow_y": null,
            "padding": null,
            "right": null,
            "top": null,
            "visibility": null,
            "width": null
          }
        },
        "6caeb7ae7ff549bcb47dd5777d25fd73": {
          "model_module": "@jupyter-widgets/controls",
          "model_name": "ProgressStyleModel",
          "state": {
            "_model_module": "@jupyter-widgets/controls",
            "_model_module_version": "1.5.0",
            "_model_name": "ProgressStyleModel",
            "_view_count": null,
            "_view_module": "@jupyter-widgets/base",
            "_view_module_version": "1.2.0",
            "_view_name": "StyleView",
            "bar_color": null,
            "description_width": "initial"
          }
        },
        "3e35c1263f524350913777e3d8f168de": {
          "model_module": "@jupyter-widgets/base",
          "model_name": "LayoutModel",
          "state": {
            "_model_module": "@jupyter-widgets/base",
            "_model_module_version": "1.2.0",
            "_model_name": "LayoutModel",
            "_view_count": null,
            "_view_module": "@jupyter-widgets/base",
            "_view_module_version": "1.2.0",
            "_view_name": "LayoutView",
            "align_content": null,
            "align_items": null,
            "align_self": null,
            "border": null,
            "bottom": null,
            "display": null,
            "flex": null,
            "flex_flow": null,
            "grid_area": null,
            "grid_auto_columns": null,
            "grid_auto_flow": null,
            "grid_auto_rows": null,
            "grid_column": null,
            "grid_gap": null,
            "grid_row": null,
            "grid_template_areas": null,
            "grid_template_columns": null,
            "grid_template_rows": null,
            "height": null,
            "justify_content": null,
            "justify_items": null,
            "left": null,
            "margin": null,
            "max_height": null,
            "max_width": null,
            "min_height": null,
            "min_width": null,
            "object_fit": null,
            "object_position": null,
            "order": null,
            "overflow": null,
            "overflow_x": null,
            "overflow_y": null,
            "padding": null,
            "right": null,
            "top": null,
            "visibility": null,
            "width": null
          }
        },
        "d428236904f743dfaead41105103d368": {
          "model_module": "@jupyter-widgets/controls",
          "model_name": "DescriptionStyleModel",
          "state": {
            "_model_module": "@jupyter-widgets/controls",
            "_model_module_version": "1.5.0",
            "_model_name": "DescriptionStyleModel",
            "_view_count": null,
            "_view_module": "@jupyter-widgets/base",
            "_view_module_version": "1.2.0",
            "_view_name": "StyleView",
            "description_width": ""
          }
        }
      }
    }
  },
  "cells": [
    {
      "cell_type": "markdown",
      "metadata": {
        "id": "0EwuWEaLJo17"
      },
      "source": [
        "#Mounting Drive"
      ]
    },
    {
      "cell_type": "code",
      "metadata": {
        "id": "ujacUeBEr7Ud"
      },
      "source": [
        "import pandas as pd\n",
        "pd.options.display.max_seq_items = 200000\n",
        "pd.options.display.max_colwidth = 100"
      ],
      "execution_count": null,
      "outputs": []
    },
    {
      "cell_type": "code",
      "metadata": {
        "colab": {
          "base_uri": "https://localhost:8080/"
        },
        "id": "3xB0tHPsrMAi",
        "outputId": "3c177893-1eed-4a7a-f08f-c2c2b3da4eb5"
      },
      "source": [
        "#mounting this to my drive to access the archive.zip zip file from Kaggle that has the NYTimes dataset\n",
        "\n",
        "from google.colab import drive\n",
        "drive.mount('/content/drive')"
      ],
      "execution_count": null,
      "outputs": [
        {
          "output_type": "stream",
          "text": [
            "Drive already mounted at /content/drive; to attempt to forcibly remount, call drive.mount(\"/content/drive\", force_remount=True).\n"
          ],
          "name": "stdout"
        }
      ]
    },
    {
      "cell_type": "markdown",
      "metadata": {
        "id": "sdlSn1I7JKHP"
      },
      "source": [
        "# **NYTIMES dataset**\n",
        "\n"
      ]
    },
    {
      "cell_type": "markdown",
      "metadata": {
        "id": "dqDPYQW9JxAI"
      },
      "source": [
        "##Loading the data"
      ]
    },
    {
      "cell_type": "code",
      "metadata": {
        "id": "9asHGlzsrZqh"
      },
      "source": [
        "## Unzip the NYTimes comments files\n",
        "\n",
        "import zipfile\n",
        "\n",
        "zip_ref = zipfile.ZipFile(\"/content/drive/MyDrive/Colab Notebooks/archive.zip\", \"r\")\n",
        "zip_ref.extractall()\n",
        "zip_ref.close()"
      ],
      "execution_count": null,
      "outputs": []
    },
    {
      "cell_type": "code",
      "metadata": {
        "colab": {
          "base_uri": "https://localhost:8080/",
          "height": 543
        },
        "id": "OoGJuQwq8TrN",
        "outputId": "f5fd4056-3a1f-4f43-d8c5-2d783feebb57"
      },
      "source": [
        "## Read all article + comments files, and combine them in one dataframe for each with pandas\n",
        "import glob\n",
        "import pandas as pd\n",
        "\n",
        "df_allcomments = pd.concat([pd.read_csv(f) for f in glob.glob('/content/Comments*.csv')])\n",
        "\n",
        "df_allarticles = pd.concat([pd.read_csv(f) for f in glob.glob('/content/Articles*.csv')])\n",
        "\n",
        "df_allcomments[:2]"
      ],
      "execution_count": null,
      "outputs": [
        {
          "output_type": "stream",
          "text": [
            "/usr/local/lib/python3.6/dist-packages/IPython/core/interactiveshell.py:2822: DtypeWarning: Columns (14,15,31,32) have mixed types.Specify dtype option on import or set low_memory=False.\n",
            "  if self.run_code(code, result):\n",
            "/usr/local/lib/python3.6/dist-packages/IPython/core/interactiveshell.py:2822: DtypeWarning: Columns (32) have mixed types.Specify dtype option on import or set low_memory=False.\n",
            "  if self.run_code(code, result):\n",
            "/usr/local/lib/python3.6/dist-packages/IPython/core/interactiveshell.py:2822: DtypeWarning: Columns (14,15,31) have mixed types.Specify dtype option on import or set low_memory=False.\n",
            "  if self.run_code(code, result):\n",
            "/usr/local/lib/python3.6/dist-packages/IPython/core/interactiveshell.py:2822: DtypeWarning: Columns (25,26) have mixed types.Specify dtype option on import or set low_memory=False.\n",
            "  if self.run_code(code, result):\n",
            "/usr/local/lib/python3.6/dist-packages/IPython/core/interactiveshell.py:2822: DtypeWarning: Columns (32,33) have mixed types.Specify dtype option on import or set low_memory=False.\n",
            "  if self.run_code(code, result):\n"
          ],
          "name": "stderr"
        },
        {
          "output_type": "execute_result",
          "data": {
            "text/html": [
              "<div>\n",
              "<style scoped>\n",
              "    .dataframe tbody tr th:only-of-type {\n",
              "        vertical-align: middle;\n",
              "    }\n",
              "\n",
              "    .dataframe tbody tr th {\n",
              "        vertical-align: top;\n",
              "    }\n",
              "\n",
              "    .dataframe thead th {\n",
              "        text-align: right;\n",
              "    }\n",
              "</style>\n",
              "<table border=\"1\" class=\"dataframe\">\n",
              "  <thead>\n",
              "    <tr style=\"text-align: right;\">\n",
              "      <th></th>\n",
              "      <th>approveDate</th>\n",
              "      <th>articleID</th>\n",
              "      <th>articleWordCount</th>\n",
              "      <th>commentBody</th>\n",
              "      <th>commentID</th>\n",
              "      <th>commentSequence</th>\n",
              "      <th>commentTitle</th>\n",
              "      <th>commentType</th>\n",
              "      <th>createDate</th>\n",
              "      <th>depth</th>\n",
              "      <th>editorsSelection</th>\n",
              "      <th>inReplyTo</th>\n",
              "      <th>newDesk</th>\n",
              "      <th>parentID</th>\n",
              "      <th>parentUserDisplayName</th>\n",
              "      <th>permID</th>\n",
              "      <th>picURL</th>\n",
              "      <th>printPage</th>\n",
              "      <th>recommendations</th>\n",
              "      <th>recommendedFlag</th>\n",
              "      <th>replyCount</th>\n",
              "      <th>reportAbuseFlag</th>\n",
              "      <th>sectionName</th>\n",
              "      <th>sharing</th>\n",
              "      <th>status</th>\n",
              "      <th>timespeople</th>\n",
              "      <th>trusted</th>\n",
              "      <th>updateDate</th>\n",
              "      <th>userDisplayName</th>\n",
              "      <th>userID</th>\n",
              "      <th>userLocation</th>\n",
              "      <th>userTitle</th>\n",
              "      <th>userURL</th>\n",
              "      <th>typeOfMaterial</th>\n",
              "    </tr>\n",
              "  </thead>\n",
              "  <tbody>\n",
              "    <tr>\n",
              "      <th>0</th>\n",
              "      <td>1483455908</td>\n",
              "      <td>58691a5795d0e039260788b9</td>\n",
              "      <td>1324.0</td>\n",
              "      <td>For all you Americans out there --- still rejoicing over the majority win of  Republicans over t...</td>\n",
              "      <td>20969730.0</td>\n",
              "      <td>20969730.0</td>\n",
              "      <td>&lt;br/&gt;</td>\n",
              "      <td>comment</td>\n",
              "      <td>1.483426e+09</td>\n",
              "      <td>1.0</td>\n",
              "      <td>0</td>\n",
              "      <td>0.0</td>\n",
              "      <td>National</td>\n",
              "      <td>0.0</td>\n",
              "      <td>NaN</td>\n",
              "      <td>20969730</td>\n",
              "      <td>https://graphics8.nytimes.com/images/apps/timespeople/none.png</td>\n",
              "      <td>1.0</td>\n",
              "      <td>5.0</td>\n",
              "      <td>NaN</td>\n",
              "      <td>0.0</td>\n",
              "      <td>NaN</td>\n",
              "      <td>Politics</td>\n",
              "      <td>0</td>\n",
              "      <td>approved</td>\n",
              "      <td>1.0</td>\n",
              "      <td>0.0</td>\n",
              "      <td>1483455908</td>\n",
              "      <td>N. Smith</td>\n",
              "      <td>64679318.0</td>\n",
              "      <td>New York City</td>\n",
              "      <td>NaN</td>\n",
              "      <td>NaN</td>\n",
              "      <td>News</td>\n",
              "    </tr>\n",
              "    <tr>\n",
              "      <th>1</th>\n",
              "      <td>1483455656</td>\n",
              "      <td>58691a5795d0e039260788b9</td>\n",
              "      <td>1324.0</td>\n",
              "      <td>Obamas policies may prove to be the least of this countrys worries.  The GOP has been emboldened...</td>\n",
              "      <td>20969325.0</td>\n",
              "      <td>20969325.0</td>\n",
              "      <td>&lt;br/&gt;</td>\n",
              "      <td>comment</td>\n",
              "      <td>1.483417e+09</td>\n",
              "      <td>1.0</td>\n",
              "      <td>0</td>\n",
              "      <td>0.0</td>\n",
              "      <td>National</td>\n",
              "      <td>0.0</td>\n",
              "      <td>NaN</td>\n",
              "      <td>20969325</td>\n",
              "      <td>https://graphics8.nytimes.com/images/apps/timespeople/none.png</td>\n",
              "      <td>1.0</td>\n",
              "      <td>3.0</td>\n",
              "      <td>NaN</td>\n",
              "      <td>0.0</td>\n",
              "      <td>NaN</td>\n",
              "      <td>Politics</td>\n",
              "      <td>0</td>\n",
              "      <td>approved</td>\n",
              "      <td>1.0</td>\n",
              "      <td>0.0</td>\n",
              "      <td>1483455656</td>\n",
              "      <td>Kilocharlie</td>\n",
              "      <td>69254188.0</td>\n",
              "      <td>Phoenix</td>\n",
              "      <td>NaN</td>\n",
              "      <td>NaN</td>\n",
              "      <td>News</td>\n",
              "    </tr>\n",
              "  </tbody>\n",
              "</table>\n",
              "</div>"
            ],
            "text/plain": [
              "   approveDate                 articleID  ...  userURL typeOfMaterial\n",
              "0   1483455908  58691a5795d0e039260788b9  ...      NaN           News\n",
              "1   1483455656  58691a5795d0e039260788b9  ...      NaN           News\n",
              "\n",
              "[2 rows x 34 columns]"
            ]
          },
          "metadata": {
            "tags": []
          },
          "execution_count": 15
        }
      ]
    },
    {
      "cell_type": "code",
      "metadata": {
        "colab": {
          "base_uri": "https://localhost:8080/",
          "height": 305
        },
        "id": "PYPLFT45rZuV",
        "outputId": "0473cdd5-ed9a-4d6e-b1e5-f5fced9ab48d"
      },
      "source": [
        "## Open one test file (feb 2018) file with pandas\n",
        "import pandas as pd\n",
        "\n",
        "feb2018article = pd.read_csv(\"/content/ArticlesFeb2018.csv\")\n",
        "feb2018comments = pd.read_csv(\"/content/CommentsFeb2018.csv\")\n",
        "\n",
        "feb2018article[:1]"
      ],
      "execution_count": null,
      "outputs": [
        {
          "output_type": "stream",
          "text": [
            "/usr/local/lib/python3.6/dist-packages/IPython/core/interactiveshell.py:2718: DtypeWarning: Columns (32) have mixed types.Specify dtype option on import or set low_memory=False.\n",
            "  interactivity=interactivity, compiler=compiler, result=result)\n"
          ],
          "name": "stderr"
        },
        {
          "output_type": "execute_result",
          "data": {
            "text/html": [
              "<div>\n",
              "<style scoped>\n",
              "    .dataframe tbody tr th:only-of-type {\n",
              "        vertical-align: middle;\n",
              "    }\n",
              "\n",
              "    .dataframe tbody tr th {\n",
              "        vertical-align: top;\n",
              "    }\n",
              "\n",
              "    .dataframe thead th {\n",
              "        text-align: right;\n",
              "    }\n",
              "</style>\n",
              "<table border=\"1\" class=\"dataframe\">\n",
              "  <thead>\n",
              "    <tr style=\"text-align: right;\">\n",
              "      <th></th>\n",
              "      <th>articleID</th>\n",
              "      <th>byline</th>\n",
              "      <th>documentType</th>\n",
              "      <th>headline</th>\n",
              "      <th>keywords</th>\n",
              "      <th>multimedia</th>\n",
              "      <th>newDesk</th>\n",
              "      <th>printPage</th>\n",
              "      <th>pubDate</th>\n",
              "      <th>sectionName</th>\n",
              "      <th>snippet</th>\n",
              "      <th>source</th>\n",
              "      <th>typeOfMaterial</th>\n",
              "      <th>webURL</th>\n",
              "      <th>articleWordCount</th>\n",
              "    </tr>\n",
              "  </thead>\n",
              "  <tbody>\n",
              "    <tr>\n",
              "      <th>0</th>\n",
              "      <td>5a7258e410f40f00018bed7d</td>\n",
              "      <td>By NICHOLAS KRISTOF</td>\n",
              "      <td>article</td>\n",
              "      <td>I Stand  With the ‘She-Devils’</td>\n",
              "      <td>['Women and Girls', \"Women's Rights\", 'United States Politics and Government', '#MeToo Movement'...</td>\n",
              "      <td>68</td>\n",
              "      <td>OpEd</td>\n",
              "      <td>23</td>\n",
              "      <td>2018-02-01 00:01:36</td>\n",
              "      <td>Unknown</td>\n",
              "      <td>Progress on women’s rights was stalling, and then Donald Trump came along.</td>\n",
              "      <td>The New York Times</td>\n",
              "      <td>Op-Ed</td>\n",
              "      <td>https://www.nytimes.com/2018/01/31/opinion/courtland-sykes-senate-me-too.html</td>\n",
              "      <td>835</td>\n",
              "    </tr>\n",
              "  </tbody>\n",
              "</table>\n",
              "</div>"
            ],
            "text/plain": [
              "                  articleID  ... articleWordCount\n",
              "0  5a7258e410f40f00018bed7d  ...              835\n",
              "\n",
              "[1 rows x 15 columns]"
            ]
          },
          "metadata": {
            "tags": []
          },
          "execution_count": 9
        }
      ]
    },
    {
      "cell_type": "code",
      "metadata": {
        "colab": {
          "base_uri": "https://localhost:8080/",
          "height": 305
        },
        "id": "faWLm63huEcG",
        "outputId": "fd854f92-e18d-40c4-b142-67c9a873d2a9"
      },
      "source": [
        "## Open one test file (feb 2017) file with pandas\n",
        "import pandas as pd\n",
        "\n",
        "feb2017article = pd.read_csv(\"/content/ArticlesFeb2017.csv\")\n",
        "feb2017comments = pd.read_csv(\"/content/CommentsFeb2017.csv\")\n",
        "\n",
        "feb2017article[:1]"
      ],
      "execution_count": null,
      "outputs": [
        {
          "output_type": "stream",
          "text": [
            "/usr/local/lib/python3.6/dist-packages/IPython/core/interactiveshell.py:2718: DtypeWarning: Columns (14,15,31,32) have mixed types.Specify dtype option on import or set low_memory=False.\n",
            "  interactivity=interactivity, compiler=compiler, result=result)\n"
          ],
          "name": "stderr"
        },
        {
          "output_type": "execute_result",
          "data": {
            "text/html": [
              "<div>\n",
              "<style scoped>\n",
              "    .dataframe tbody tr th:only-of-type {\n",
              "        vertical-align: middle;\n",
              "    }\n",
              "\n",
              "    .dataframe tbody tr th {\n",
              "        vertical-align: top;\n",
              "    }\n",
              "\n",
              "    .dataframe thead th {\n",
              "        text-align: right;\n",
              "    }\n",
              "</style>\n",
              "<table border=\"1\" class=\"dataframe\">\n",
              "  <thead>\n",
              "    <tr style=\"text-align: right;\">\n",
              "      <th></th>\n",
              "      <th>articleID</th>\n",
              "      <th>abstract</th>\n",
              "      <th>byline</th>\n",
              "      <th>documentType</th>\n",
              "      <th>headline</th>\n",
              "      <th>keywords</th>\n",
              "      <th>multimedia</th>\n",
              "      <th>newDesk</th>\n",
              "      <th>printPage</th>\n",
              "      <th>pubDate</th>\n",
              "      <th>sectionName</th>\n",
              "      <th>snippet</th>\n",
              "      <th>source</th>\n",
              "      <th>typeOfMaterial</th>\n",
              "      <th>webURL</th>\n",
              "      <th>articleWordCount</th>\n",
              "    </tr>\n",
              "  </thead>\n",
              "  <tbody>\n",
              "    <tr>\n",
              "      <th>0</th>\n",
              "      <td>58927e0495d0e0392607e1b3</td>\n",
              "      <td>NaN</td>\n",
              "      <td>By KEN BELSON</td>\n",
              "      <td>article</td>\n",
              "      <td>N.F.L. vs. Politics Has Been Battle All Season Long</td>\n",
              "      <td>['Football', 'Super Bowl', 'National Football League', 'New England Patriots', 'Goodell, Roger',...</td>\n",
              "      <td>1</td>\n",
              "      <td>Sports</td>\n",
              "      <td>12</td>\n",
              "      <td>2017-02-02 00:26:16</td>\n",
              "      <td>Pro Football</td>\n",
              "      <td>Despite the national tumult over immigration spilling over, Commissioner Roger Goodell said, “I’...</td>\n",
              "      <td>The New York Times</td>\n",
              "      <td>News</td>\n",
              "      <td>https://www.nytimes.com/2017/02/01/sports/super-bowl-politics-trump-nfl.html</td>\n",
              "      <td>1129</td>\n",
              "    </tr>\n",
              "  </tbody>\n",
              "</table>\n",
              "</div>"
            ],
            "text/plain": [
              "                  articleID  ... articleWordCount\n",
              "0  58927e0495d0e0392607e1b3  ...             1129\n",
              "\n",
              "[1 rows x 16 columns]"
            ]
          },
          "metadata": {
            "tags": []
          },
          "execution_count": 10
        }
      ]
    },
    {
      "cell_type": "markdown",
      "metadata": {
        "id": "FfWuUmnDQ4el"
      },
      "source": [
        "## Preprocessing the dataset"
      ]
    },
    {
      "cell_type": "code",
      "metadata": {
        "id": "m3gWrRzTrZv-"
      },
      "source": [
        "##Right now, each comment connected to one articleID, with three values per comment in a list: \n",
        "##[[comment_text], [is it recommended by editors (TRUE/FALSE)?], [How many likes for comment?] ]]]\n",
        "\n",
        "def connect_comments(comments, articles, extra_comment_column=None):\n",
        "\n",
        "  if extra_comment_column !=  None:\n",
        "    comments['comment_info'] = comments[['commentBody', 'editorsSelection', 'recommendations', 'commentID', 'articleID', extra_comment_column]].values.tolist() \n",
        "  else: \n",
        "    comments['comment_info'] = comments[['commentBody', 'editorsSelection', 'recommendations', 'commentID', 'articleID']].values.tolist() \n",
        "\n",
        "  groupings = comments.groupby('articleID', as_index=False)\n",
        "\n",
        "  df2 = pd.DataFrame([comments.loc[groupings.groups[n], 'comment_info'].values for n in groupings.groups], \n",
        "                    index=groupings.groups.keys())\n",
        "  \n",
        "  df2.columns = [\"Comment_\" + str(i + 1) for i in df2.columns]\n",
        "  df2.index.name = \"articleID\"\n",
        "\n",
        "  ##CONNECT THE COMMENTS TO THE INFORMATION ABOUT THE ARTICLE\n",
        "  ## Throw away variables that seem less important, but we could add those later if we want.\n",
        "\n",
        "  merged_dataframe = articles[['headline', 'keywords', 'sectionName', 'snippet', 'articleID']].merge(df2, on=\"articleID\")\n",
        "\n",
        "  merged_dataframe[:5]\n",
        "  return merged_dataframe\n",
        "\n"
      ],
      "execution_count": null,
      "outputs": []
    },
    {
      "cell_type": "code",
      "metadata": {
        "id": "IMIf2Ry22ToF",
        "colab": {
          "base_uri": "https://localhost:8080/",
          "height": 520
        },
        "outputId": "0c329742-dfba-4814-a32f-1ec89f504ff5"
      },
      "source": [
        "connected_comments = connect_comments(feb2018comments, feb2018article)\n",
        "\n",
        "connected_comments[:2]"
      ],
      "execution_count": null,
      "outputs": [
        {
          "output_type": "execute_result",
          "data": {
            "text/html": [
              "<div>\n",
              "<style scoped>\n",
              "    .dataframe tbody tr th:only-of-type {\n",
              "        vertical-align: middle;\n",
              "    }\n",
              "\n",
              "    .dataframe tbody tr th {\n",
              "        vertical-align: top;\n",
              "    }\n",
              "\n",
              "    .dataframe thead th {\n",
              "        text-align: right;\n",
              "    }\n",
              "</style>\n",
              "<table border=\"1\" class=\"dataframe\">\n",
              "  <thead>\n",
              "    <tr style=\"text-align: right;\">\n",
              "      <th></th>\n",
              "      <th>headline</th>\n",
              "      <th>keywords</th>\n",
              "      <th>sectionName</th>\n",
              "      <th>snippet</th>\n",
              "      <th>articleID</th>\n",
              "      <th>Comment_1</th>\n",
              "      <th>Comment_2</th>\n",
              "      <th>Comment_3</th>\n",
              "      <th>Comment_4</th>\n",
              "      <th>Comment_5</th>\n",
              "      <th>Comment_6</th>\n",
              "      <th>Comment_7</th>\n",
              "      <th>Comment_8</th>\n",
              "      <th>Comment_9</th>\n",
              "      <th>Comment_10</th>\n",
              "      <th>Comment_11</th>\n",
              "      <th>Comment_12</th>\n",
              "      <th>Comment_13</th>\n",
              "      <th>Comment_14</th>\n",
              "      <th>Comment_15</th>\n",
              "      <th>Comment_16</th>\n",
              "      <th>Comment_17</th>\n",
              "      <th>Comment_18</th>\n",
              "      <th>Comment_19</th>\n",
              "      <th>Comment_20</th>\n",
              "      <th>Comment_21</th>\n",
              "      <th>Comment_22</th>\n",
              "      <th>Comment_23</th>\n",
              "      <th>Comment_24</th>\n",
              "      <th>Comment_25</th>\n",
              "      <th>Comment_26</th>\n",
              "      <th>Comment_27</th>\n",
              "      <th>Comment_28</th>\n",
              "      <th>Comment_29</th>\n",
              "      <th>Comment_30</th>\n",
              "      <th>Comment_31</th>\n",
              "      <th>Comment_32</th>\n",
              "      <th>Comment_33</th>\n",
              "      <th>Comment_34</th>\n",
              "      <th>Comment_35</th>\n",
              "      <th>...</th>\n",
              "      <th>Comment_1745</th>\n",
              "      <th>Comment_1746</th>\n",
              "      <th>Comment_1747</th>\n",
              "      <th>Comment_1748</th>\n",
              "      <th>Comment_1749</th>\n",
              "      <th>Comment_1750</th>\n",
              "      <th>Comment_1751</th>\n",
              "      <th>Comment_1752</th>\n",
              "      <th>Comment_1753</th>\n",
              "      <th>Comment_1754</th>\n",
              "      <th>Comment_1755</th>\n",
              "      <th>Comment_1756</th>\n",
              "      <th>Comment_1757</th>\n",
              "      <th>Comment_1758</th>\n",
              "      <th>Comment_1759</th>\n",
              "      <th>Comment_1760</th>\n",
              "      <th>Comment_1761</th>\n",
              "      <th>Comment_1762</th>\n",
              "      <th>Comment_1763</th>\n",
              "      <th>Comment_1764</th>\n",
              "      <th>Comment_1765</th>\n",
              "      <th>Comment_1766</th>\n",
              "      <th>Comment_1767</th>\n",
              "      <th>Comment_1768</th>\n",
              "      <th>Comment_1769</th>\n",
              "      <th>Comment_1770</th>\n",
              "      <th>Comment_1771</th>\n",
              "      <th>Comment_1772</th>\n",
              "      <th>Comment_1773</th>\n",
              "      <th>Comment_1774</th>\n",
              "      <th>Comment_1775</th>\n",
              "      <th>Comment_1776</th>\n",
              "      <th>Comment_1777</th>\n",
              "      <th>Comment_1778</th>\n",
              "      <th>Comment_1779</th>\n",
              "      <th>Comment_1780</th>\n",
              "      <th>Comment_1781</th>\n",
              "      <th>Comment_1782</th>\n",
              "      <th>Comment_1783</th>\n",
              "      <th>Comment_1784</th>\n",
              "    </tr>\n",
              "  </thead>\n",
              "  <tbody>\n",
              "    <tr>\n",
              "      <th>0</th>\n",
              "      <td>I Stand  With the ‘She-Devils’</td>\n",
              "      <td>['Women and Girls', \"Women's Rights\", 'United States Politics and Government', '#MeToo Movement'...</td>\n",
              "      <td>Unknown</td>\n",
              "      <td>Progress on women’s rights was stalling, and then Donald Trump came along.</td>\n",
              "      <td>5a7258e410f40f00018bed7d</td>\n",
              "      <td>[The snake-filled heads comment made me think of Medusa.  &lt;br/&gt;&lt;br/&gt;I hope he loses, so retrogra...</td>\n",
              "      <td>[She-devil reporting for duty!, False, 2, 25795675.0, 5a7258e410f40f00018bed7d]</td>\n",
              "      <td>[XX is the new mark of the devil., False, 1, 25792078.0, 5a7258e410f40f00018bed7d]</td>\n",
              "      <td>[\"Courtland Sykes\" should be writing for The Onion, not running for office. , False, 6, 25791604...</td>\n",
              "      <td>[I happen to descend for a few of them, because we nasty women like to roam in PACs!  Isabella, ...</td>\n",
              "      <td>[I don't care about the details of this troglodyte's oddities. Thing is, in much of America, the...</td>\n",
              "      <td>[As I have grown older, the more I have learned about sexism, the more I want it gone.&lt;br/&gt;&lt;br/&gt;...</td>\n",
              "      <td>[“...a newfound freedom in the Age of Trump to say things that were previously beyond the pale.”...</td>\n",
              "      <td>[\"Many women, and some men, were horrified that a man who boasted of sexual assault could be ele...</td>\n",
              "      <td>[After reading about Sykes, I'm tempted to feel relief that McCaskill will have no problem holdi...</td>\n",
              "      <td>[I hate to say this about someone I love as much as I love you, Nicholas Kristof, but another re...</td>\n",
              "      <td>[Yes!  Yet another reason to hold Mr Kristof in the highest esteem.  The dignity of all humans i...</td>\n",
              "      <td>[Courtland Sykes might do well to heed a cautionary tale from NJ where, last January, Atlantic C...</td>\n",
              "      <td>[I used to joke about being a \"Feminazi\". But I stopped. There's something retrograde about thes...</td>\n",
              "      <td>[\"To be on the right side of history, we should all, men and women alike, stand on the side of t...</td>\n",
              "      <td>[While I see no value in Trump I see something more going on with the West.&lt;br/&gt;Here is what I s...</td>\n",
              "      <td>[What is the source of the statistic that says in 1987, only half of Americans believed wife-bea...</td>\n",
              "      <td>[Good job, sir. I agree one hundred percent. The voice rising from fearful anxious men or their ...</td>\n",
              "      <td>[Some more encouraging news from flyover country (aka Missouri). We aren't all dinosaurs like Sy...</td>\n",
              "      <td>[Men are such delicate and fragile creatures; always needing reassurance of our strength and vir...</td>\n",
              "      <td>[The comments regarding women, from some conservatives, are simply outdated. This is not an era ...</td>\n",
              "      <td>[Nicholas Kristof writes, “Why is a man writing this column? Frankly, because women’s rights are...</td>\n",
              "      <td>[Well it's quite clear Claire McCaskill will have no problem dispatching this anachronistic buff...</td>\n",
              "      <td>[Thank you Mr. Kristoff!  You are right, 'women's rights aren't just a woman's issues any more t...</td>\n",
              "      <td>[If I were Sykes I'd sign up for some cooking classes., False, 12, 25791841.0, 5a7258e410f40f000...</td>\n",
              "      <td>[Blessings on you from an fellow Oregonian!  We admire your continued stands for women's issues....</td>\n",
              "      <td>[A perfect column, Nick! Thank you&lt;br/&gt;very much.&lt;br/&gt;When Hillary Clinton lost the Electoral Co...</td>\n",
              "      <td>[The good news is -- it is much easier to fight against the tyranny of those you can identify. I...</td>\n",
              "      <td>[Hurray for Nasty Women....and She Devils!  The more, the better.&lt;br/&gt;&lt;br/&gt;Here's hoping that po...</td>\n",
              "      <td>[This is clearly a cock (in the sense of a chicken) and wants a hen.  There are lots of people w...</td>\n",
              "      <td>[Just another embarassment for Missouri.  You would have thought that Todd Akin would have been ...</td>\n",
              "      <td>[Sykes's statements are so absurd and so far out of the public mainstream to suggest that he may...</td>\n",
              "      <td>[Yes, we all know of the family-oriented, never straying habits of your liberal heroes in the pr...</td>\n",
              "      <td>[If the choice is either she-devil or servile breeding stock, I wouldn’t hesitate for even one s...</td>\n",
              "      <td>[\"A new Quinnipiac poll finds that 72 percent of Republicans consider Trump a good role model fo...</td>\n",
              "      <td>...</td>\n",
              "      <td>None</td>\n",
              "      <td>None</td>\n",
              "      <td>None</td>\n",
              "      <td>None</td>\n",
              "      <td>None</td>\n",
              "      <td>None</td>\n",
              "      <td>None</td>\n",
              "      <td>None</td>\n",
              "      <td>None</td>\n",
              "      <td>None</td>\n",
              "      <td>None</td>\n",
              "      <td>None</td>\n",
              "      <td>None</td>\n",
              "      <td>None</td>\n",
              "      <td>None</td>\n",
              "      <td>None</td>\n",
              "      <td>None</td>\n",
              "      <td>None</td>\n",
              "      <td>None</td>\n",
              "      <td>None</td>\n",
              "      <td>None</td>\n",
              "      <td>None</td>\n",
              "      <td>None</td>\n",
              "      <td>None</td>\n",
              "      <td>None</td>\n",
              "      <td>None</td>\n",
              "      <td>None</td>\n",
              "      <td>None</td>\n",
              "      <td>None</td>\n",
              "      <td>None</td>\n",
              "      <td>None</td>\n",
              "      <td>None</td>\n",
              "      <td>None</td>\n",
              "      <td>None</td>\n",
              "      <td>None</td>\n",
              "      <td>None</td>\n",
              "      <td>None</td>\n",
              "      <td>None</td>\n",
              "      <td>None</td>\n",
              "      <td>None</td>\n",
              "    </tr>\n",
              "    <tr>\n",
              "      <th>1</th>\n",
              "      <td>Trump’s Birth Control Problems</td>\n",
              "      <td>['Trump, Donald J', 'Clifford, Stephanie (1979- )', 'Birth Control and Family Planning', 'Aborti...</td>\n",
              "      <td>Unknown</td>\n",
              "      <td>Plus: the night the porn star yawned.</td>\n",
              "      <td>5a725f2410f40f00018bed89</td>\n",
              "      <td>[Stormy weather..., False, 1, 25781804.0, 5a725f2410f40f00018bed89]</td>\n",
              "      <td>[Why am I suddenly craving milk?, False, 24, 25796106.0, 5a725f2410f40f00018bed89]</td>\n",
              "      <td>[It wouldn't be a surprise to learn that this simple-minded uninformed lacking in principles man...</td>\n",
              "      <td>[Correction:&lt;br/&gt;I think she got this amount of money because the affair lasted a year, not just...</td>\n",
              "      <td>[So the Republicans don't want women to use birth control, and they don't want women to have abo...</td>\n",
              "      <td>[As a pro life woman, I have every right to protest abortion which is part of my freedom of spee...</td>\n",
              "      <td>[Gail, this concise expose of our Creep-in-Chief would make a wonderful blurb for his Evangelica...</td>\n",
              "      <td>[Looking at Stormy's two big attributes in this photo makes it easier to understand why Melania ...</td>\n",
              "      <td>[52% of white women need to wise up and vote better.  The anti-birth control stance of the GOP i...</td>\n",
              "      <td>[I feel like what no one's bringing up about the Stormy Daniels scandal, as with every one invol...</td>\n",
              "      <td>[The depravity of trump is equalled by the depravity of the Christian Right.&lt;br/&gt;&lt;br/&gt;The latter...</td>\n",
              "      <td>[I guarantee you Trump has paid for numerous abortions.   Oh to get those women to come forward ...</td>\n",
              "      <td>[A political candidate in Indiana said the thing worse than planned parenthood was UNplanned par...</td>\n",
              "      <td>[What, Gayle, you didn't find my post about my Dad bringing HPV home from Vietnam funny?  Neithe...</td>\n",
              "      <td>[Point of fact: My wife's IUD failed., False, 2, 25796278.0, 5a725f2410f40f00018bed89]</td>\n",
              "      <td>[Trump doesn't have birth control problems. He has self control problems.  As does the country a...</td>\n",
              "      <td>[I think the other depravity is that he was being unfaithful to the wife who just gave birth to ...</td>\n",
              "      <td>[Trump neither knows nor cares about birth control for others.  If he had sex without a condom, ...</td>\n",
              "      <td>[How hypocritical are Republicans.  Not too long ago, they wanted to impeach a President for hav...</td>\n",
              "      <td>[So, do we imagine Trump has never paid for an abortion?  Or advised one of his wives, mistresse...</td>\n",
              "      <td>[I never thought I'd say it but I wish Trump's parents had never gotten together.  We might have...</td>\n",
              "      <td>[Trump's birth control problem is that his parents didn't use any., False, 30, 25795882.0, 5a725...</td>\n",
              "      <td>[Why are we even having this discussion? So predictable. Trump does something scummy, outlandish...</td>\n",
              "      <td>[I’m sure every child whose birth came as a surprise to his parents would be surprised to hear t...</td>\n",
              "      <td>[\"...the point is that Trump seems to have had either terrible luck or stupendous ineptitude whe...</td>\n",
              "      <td>[Recently there have been Republicans who are stridently on the public record as being antichoic...</td>\n",
              "      <td>[Trump \"wandered in\" to teenage girl's beauty pageant dressing rooms regularly when he ran such ...</td>\n",
              "      <td>[Yep, life begins at conception, and rights end at birth. , False, 10, 25795734.0, 5a725f2410f40...</td>\n",
              "      <td>[Properly deployed in the hands of a short-fingered vulgarian, a fortune cookie is 100% reliable...</td>\n",
              "      <td>[Wasn't Trump's first reaction to Marla Maples' announcement that she was pregnant his recommend...</td>\n",
              "      <td>[Let's coin a new term.&lt;br/&gt;&lt;br/&gt;How about Pro-Health? In which the total mental and physical he...</td>\n",
              "      <td>[You would think they'd both have been concerned about catching something.  &lt;br/&gt;&lt;br/&gt;Stormy - y...</td>\n",
              "      <td>[Raised Catholic and occasionally have attended Methodist services during the holidays with frie...</td>\n",
              "      <td>[I wonder what this Valerie Huber chick recommends for married couples who either don't want chi...</td>\n",
              "      <td>[It is possible that Trump's choice is very likely his age. As the body slows down so does the s...</td>\n",
              "      <td>...</td>\n",
              "      <td>None</td>\n",
              "      <td>None</td>\n",
              "      <td>None</td>\n",
              "      <td>None</td>\n",
              "      <td>None</td>\n",
              "      <td>None</td>\n",
              "      <td>None</td>\n",
              "      <td>None</td>\n",
              "      <td>None</td>\n",
              "      <td>None</td>\n",
              "      <td>None</td>\n",
              "      <td>None</td>\n",
              "      <td>None</td>\n",
              "      <td>None</td>\n",
              "      <td>None</td>\n",
              "      <td>None</td>\n",
              "      <td>None</td>\n",
              "      <td>None</td>\n",
              "      <td>None</td>\n",
              "      <td>None</td>\n",
              "      <td>None</td>\n",
              "      <td>None</td>\n",
              "      <td>None</td>\n",
              "      <td>None</td>\n",
              "      <td>None</td>\n",
              "      <td>None</td>\n",
              "      <td>None</td>\n",
              "      <td>None</td>\n",
              "      <td>None</td>\n",
              "      <td>None</td>\n",
              "      <td>None</td>\n",
              "      <td>None</td>\n",
              "      <td>None</td>\n",
              "      <td>None</td>\n",
              "      <td>None</td>\n",
              "      <td>None</td>\n",
              "      <td>None</td>\n",
              "      <td>None</td>\n",
              "      <td>None</td>\n",
              "      <td>None</td>\n",
              "    </tr>\n",
              "  </tbody>\n",
              "</table>\n",
              "<p>2 rows × 1789 columns</p>\n",
              "</div>"
            ],
            "text/plain": [
              "                         headline  ... Comment_1784\n",
              "0  I Stand  With the ‘She-Devils’  ...         None\n",
              "1  Trump’s Birth Control Problems  ...         None\n",
              "\n",
              "[2 rows x 1789 columns]"
            ]
          },
          "metadata": {
            "tags": []
          },
          "execution_count": 12
        }
      ]
    },
    {
      "cell_type": "code",
      "metadata": {
        "id": "Oa2jFc6w8bQW"
      },
      "source": [
        "# def clean(data):\n",
        "#   cols = [x for x in data.columns if 'Comment' in x]\n",
        "#   #for col in cols:\n",
        "#   for col in cols:\n",
        "#     row = data[col]\n",
        "#     for y in range(0, len(row)):\n",
        "#       data[col][y] = data[col][y][0].lower()\n",
        "#     print(data[col][y])\n",
        "#     # data[col] = data[col].apply(lambda x: x[0].apply(str))\n",
        "#     #data.apply(lambda x: x.apply(str) if x.dtype == 'object' else x).col[0]\n",
        "#     #.str.replace(\".?!@#$%^></\\\\\\\\\", \"\")\n",
        "#   return data\n",
        "\n",
        "\n",
        "# # def tokenize(data):\n",
        "# #   import spacy\n",
        "# #   nlp = spacy.load('en', disable=['parser', 'tagger', 'ner'])\n",
        "# #   from spacy.lang.en import English\n",
        "\n",
        "# #   data = clean(data)\n",
        "# #   tokenizer = English().Defaults.create_tokenizer(nlp)\n",
        "# #   cols = [x for x in data.columns if 'Comment' in x]\n",
        "# #   for col in cols:\n",
        "# #     data[col] = tokenizer(data[col].apply(lambda y: tokenizer(y)))\n",
        "# #   return data\n",
        "\n",
        "# x = clean(connected_comments)\n",
        "# print(x[\"Comment_1\"])"
      ],
      "execution_count": null,
      "outputs": []
    },
    {
      "cell_type": "code",
      "metadata": {
        "id": "FfIXWqfw97dk"
      },
      "source": [
        "# def clean(data):\n",
        "#   cols = [x for x in data.columns if 'Comment' in x]\n",
        "#   for col in cols:\n",
        "#     data[col] = data[col].astype(str).str.lower()\n",
        "#     data[col] = data[col].astype(str).str.replace(\".?!@#$%^></\\\\\\\\\", \"\")\n",
        "#   return data\n",
        "\n",
        "\n",
        "# def tokenize(data):\n",
        "#   import spacy\n",
        "#   nlp = spacy.load('en', disable=['parser', 'tagger', 'ner'])\n",
        "#   from spacy.lang.en import English\n",
        "\n",
        "#   data = clean(data)\n",
        "#   tokenizer = English().Defaults.create_tokenizer(nlp)\n",
        "#   cols = [x for x in data.columns if 'Comment' in x]\n",
        "#   for col in cols:\n",
        "#     data[col] = tokenizer(data[col][0].apply(lambda y: tokenizer(y.str)))\n",
        "#   return data\n",
        "\n",
        "# print(tokenize(connected_comments))"
      ],
      "execution_count": null,
      "outputs": []
    },
    {
      "cell_type": "markdown",
      "metadata": {
        "id": "flhZ3_wsJ38H"
      },
      "source": [
        "## Data Description"
      ]
    },
    {
      "cell_type": "code",
      "metadata": {
        "colab": {
          "base_uri": "https://localhost:8080/"
        },
        "id": "eYfvOAdreTC9",
        "outputId": "86702b97-55e0-4529-e09b-e70c5360e7df"
      },
      "source": [
        "##Find out some statistics of entir NYtimes comments dataset\n",
        "groupings = df_allcomments.groupby('articleID', as_index=False)\n",
        "comments_count = groupings[\"commentBody\"].count()\n",
        "\n",
        "# print(comments_count)\n",
        "print(\"MEAN = \"+str(comments_count.mean()))\n",
        "print(\"SD = \"+str(comments_count.std()))\n",
        "print(\"ALL ARTICLES = \"+str(comments_count.count()))\n",
        "print(\"ALL COMMENTS: = \"+str(df_allcomments[\"commentID\"].count()))\n",
        "##MEAN = 230 comments per article\n",
        "## SD = 403.4 comments    \n",
        "##9450 articles\n",
        "##And 2.176.364 comments"
      ],
      "execution_count": null,
      "outputs": [
        {
          "output_type": "stream",
          "text": [
            "MEAN = commentBody    230.303069\n",
            "dtype: float64\n",
            "SD = commentBody    403.40704\n",
            "dtype: float64\n",
            "ALL ARTICLES = articleID      9450\n",
            "commentBody    9450\n",
            "dtype: int64\n",
            "ALL COMMENTS: = 2176364\n"
          ],
          "name": "stdout"
        }
      ]
    },
    {
      "cell_type": "code",
      "metadata": {
        "colab": {
          "base_uri": "https://localhost:8080/"
        },
        "id": "VYuygOcUUm03",
        "outputId": "e4cc9a82-7629-48d8-c70d-a29e1e7523f1"
      },
      "source": [
        "##Find out some statistics of entir NYtimes comments dataset\n",
        "groupings = feb2017comments.groupby('articleID', as_index=False)\n",
        "comments_count = groupings[\"commentBody\"].count()\n",
        "\n",
        "# print(comments_count)\n",
        "print(\"MEAN = \"+str(comments_count.mean()))\n",
        "print(\"SD = \"+str(comments_count.std()))\n",
        "print(\"ALL ARTICLES = \"+str(comments_count.count()))\n",
        "print(\"ALL COMMENTS: = \"+str(feb2017comments[\"commentID\"].count()))\n",
        "##MEAN = 230 comments per article\n",
        "## SD = 403.4 comments    \n",
        "##9450 articles\n",
        "##And 2.176.364 comments"
      ],
      "execution_count": null,
      "outputs": [
        {
          "output_type": "stream",
          "text": [
            "MEAN = commentBody    263.736723\n",
            "dtype: float64\n",
            "SD = commentBody    466.65675\n",
            "dtype: float64\n",
            "ALL ARTICLES = articleID      885\n",
            "commentBody    885\n",
            "dtype: int64\n",
            "ALL COMMENTS: = 233407\n"
          ],
          "name": "stdout"
        }
      ]
    },
    {
      "cell_type": "code",
      "metadata": {
        "id": "yn0Rv-ahUusY",
        "colab": {
          "base_uri": "https://localhost:8080/"
        },
        "outputId": "e2ac9d0f-e421-49a8-cfb4-3424d522e657"
      },
      "source": [
        "##Find out some statistics of entir NYtimes comments dataset\n",
        "groupings = feb2018comments.groupby('articleID', as_index=False)\n",
        "comments_count = groupings[\"commentBody\"].count()\n",
        "\n",
        "# print(comments_count)\n",
        "print(\"MEAN = \"+str(comments_count.mean()))\n",
        "print(\"SD = \"+str(comments_count.std()))\n",
        "print(\"ALL ARTICLES = \"+str(comments_count.count()))\n",
        "print(\"ALL COMMENTS: = \"+str(feb2018comments[\"commentID\"].count()))\n",
        "##MEAN = 230 comments per article\n",
        "## SD = 403.4 comments    \n",
        "##9450 articles\n",
        "##And 2.176.364 comments"
      ],
      "execution_count": null,
      "outputs": [
        {
          "output_type": "stream",
          "text": [
            "MEAN = commentBody    186.391342\n",
            "dtype: float64\n",
            "SD = commentBody    298.366618\n",
            "dtype: float64\n",
            "ALL ARTICLES = articleID      1155\n",
            "commentBody    1155\n",
            "dtype: int64\n",
            "ALL COMMENTS: = 215282\n"
          ],
          "name": "stdout"
        }
      ]
    },
    {
      "cell_type": "markdown",
      "metadata": {
        "id": "btwGaisga4PJ"
      },
      "source": [
        "## Re-rank comments strategy 1: by user likes"
      ]
    },
    {
      "cell_type": "code",
      "metadata": {
        "id": "3pDuAr3o1hMn"
      },
      "source": [
        "import numpy as np\n",
        "## See if we can re-rank comments by popularity (e.g. likes)\n",
        "def get_liked(comments, articles, N=None):\n",
        "\n",
        "  #Get a like rank\n",
        "  comments['like_rank'] = comments.groupby('articleID')[\"recommendations\"].rank(ascending=False, axis=\"rows\")\n",
        "  liked_comments_per_article = connect_comments(comments, articles, extra_comment_column='like_rank')\n",
        "\n",
        "  #Change the df to a list of lists\n",
        "  cols = [x for x in liked_comments_per_article.columns if 'Comment' in x]\n",
        "  list_of_articles = [x.tolist() for x in liked_comments_per_article[cols].values]\n",
        "\n",
        "  #Filter out non-existent comments\n",
        "  list_of_articles = filter(None, list_of_articles)\n",
        "  str_list = [list(filter(None, lst)) for lst in list_of_articles]\n",
        "\n",
        "  #sort the list by likes (position 2 in the list of list)\n",
        "  sorted_list = [sorted(x, key=lambda x: x[2], reverse=True) for x in str_list]\n",
        "\n",
        "  #get the top N articles\n",
        "  if N != None:\n",
        "      sorted_list = [x[:N] for x in sorted_list]\n",
        "  else:\n",
        "      sorted_list = [x[:] for x in sorted_list]\n",
        "\n",
        "  return sorted_list\n",
        "\n",
        "\n",
        "# all_comments = get_liked(feb2018comments, feb2018article)\n",
        "\n",
        "# #the most liked comments of the first 5 articles\n",
        "# print(\"Top 3 for first 2 articles\")\n",
        "# print(top3_liked_comments[:1])\n",
        "# print(len(top3_liked_comments[:1][0]))\n",
        "# print(\"Top 5 for first 2 articles\")\n",
        "# print(top5_liked_comments[:1])\n",
        "# print(len(top5_liked_comments[:1][0]))\n",
        "# print(\"Top 10 for first 2 articles\")\n",
        "# print(top10_liked_comments[:1])\n",
        "# print(len(top10_liked_comments[:1][0]))\n",
        "\n",
        "# print(\"All comments for first 2 articles\")\n",
        "# print(all_comments[:1])\n"
      ],
      "execution_count": null,
      "outputs": []
    },
    {
      "cell_type": "markdown",
      "metadata": {
        "id": "8cg0Sp4dRPeV"
      },
      "source": [
        "## Re-rank comments strategy 2: selected by NYTimes editors\n",
        "\n",
        "\n",
        "\n"
      ]
    },
    {
      "cell_type": "code",
      "metadata": {
        "id": "Ond1tZ3_2CuY"
      },
      "source": [
        "## re-rank comments by whether or not recommended by NYTimes\n",
        "pd.options.mode.chained_assignment = None \n",
        "\n",
        "def get_selected(comments, articles, N=None):\n",
        "  selected_comments = comments.loc[comments[\"editorsSelection\"] == True]\n",
        "\n",
        "  selected_comments_per_article = connect_comments(selected_comments, articles)\n",
        "\n",
        "  #Change the df to a list of lists\n",
        "  cols = [x for x in selected_comments_per_article.columns if 'Comment' in x]\n",
        "  list_of_articles = [x.tolist() for x in selected_comments_per_article[cols].values]\n",
        "\n",
        "  # #Filter out non-existent comments\n",
        "  #list_of_articles = filter(None, list_of_articles)\n",
        "  str_list = [list(filter(None, lst)) for lst in list_of_articles]\n",
        "\n",
        "  if N != None:\n",
        "    str_list = [x[:N] for x in str_list]\n",
        "  else:\n",
        "    str_list = [x[:] for x in str_list]\n",
        "  \n",
        "  return str_list\n",
        "\n",
        "# selected_comments = get_selected(feb2018comments, feb2018article)\n",
        "\n",
        "# selected_comments[0]\n",
        "# print(len(selected_comments[0]))\n",
        "# ##11 comments are selected in article 1\n",
        "\n",
        "# selected_comments[1]\n",
        "# print(len(selected_comments[1]))\n",
        "# ##10 comments are selected in article 2\n",
        "\n",
        "# selected_comments[2]\n",
        "# print(len(selected_comments[2]))\n",
        "# ##9 comments are selected in article 2\n",
        "\n",
        "# top3_selected_comments = get_selected(feb2018comments, feb2018article, N=3)\n",
        "# top5_selected_comments = get_selected(feb2018comments, feb2018article, N=5)\n",
        "# top10_selected_comments = get_selected(feb2018comments, feb2018article, N=10)\n",
        "\n",
        "# #the most liked comments of the first 5 articles\n",
        "# print(\"Top 3 for first 2 articles\")\n",
        "# print(top3_selected_comments[:1])\n",
        "# print(len(top3_selected_comments[:1][0]))\n",
        "# print(\"Top 5 for first 2 articles\")\n",
        "# print(top5_selected_comments[:1])\n",
        "# print(len(top5_selected_comments[:1][0]))\n",
        "# print(\"Top 10 for first 2 articles\")\n",
        "# print(top10_selected_comments[:1])\n",
        "# print(len(top10_selected_comments[:1][0]))\n"
      ],
      "execution_count": null,
      "outputs": []
    },
    {
      "cell_type": "code",
      "metadata": {
        "colab": {
          "base_uri": "https://localhost:8080/"
        },
        "id": "DV-RMvEz6MAt",
        "outputId": "7cda6ff2-7909-4b61-8daf-36ac8e37c5db"
      },
      "source": [
        "##Find out some statistics of entir NYtimes comments dataset, only selected comments\n",
        "# groupings = selected_comments.groupby('articleID', as_index=False)\n",
        "import numpy as np\n",
        "import scipy\n",
        "\n",
        "selected_comments = get_selected(df_allcomments, df_allarticles)\n",
        "\n",
        "selected_count = [len(x) for x in selected_comments]\n",
        "\n",
        "# print(selected_count)\n",
        "print(\"MEAN = \"+str(np.mean(selected_count)))\n",
        "print(\"MODE = \"+str(max(set(selected_count), key=selected_count.count)))\n",
        "print(\"SD = \"+str(np.std(selected_count)))\n",
        "print(\"ALL ARTICLES = \"+str(len(selected_count)))\n",
        "# print(\"ALL COMMENTS: = \"+str(df_allcomments[\"commentID\"].count()))\n",
        "##MEAN = 13 selected comments per article (SD = 11)\n",
        "##3646 selected in total\n"
      ],
      "execution_count": null,
      "outputs": [
        {
          "output_type": "stream",
          "text": [
            "MEAN = 13.064781773263794\n",
            "MODE = 1\n",
            "SD = 11.337299962374988\n",
            "ALL ARTICLES = 3643\n"
          ],
          "name": "stdout"
        }
      ]
    },
    {
      "cell_type": "markdown",
      "metadata": {
        "id": "0HuNvHeZbE-K"
      },
      "source": [
        "## Re-rank comments strategy 3: diversity (max intra-list diversity)"
      ]
    },
    {
      "cell_type": "code",
      "metadata": {
        "id": "csF0oyHPnBhP"
      },
      "source": [
        "# !pip install transformers\n",
        "# !pip install gensim"
      ],
      "execution_count": null,
      "outputs": []
    },
    {
      "cell_type": "code",
      "metadata": {
        "id": "2CjLADp5L61B"
      },
      "source": [
        "# !brew install wget\n",
        "\n",
        "# !wget -c \"https://s3.amazonaws.com/dl4j-distribution/GoogleNews-vectors-negative300.bin.gz\""
      ],
      "execution_count": null,
      "outputs": []
    },
    {
      "cell_type": "code",
      "metadata": {
        "id": "w-2w135_i60I"
      },
      "source": [
        "  ##For each comment;\n",
        "  ##Change to a word vector;\n",
        "  ##Then, maximize distance within word vector? Average word vector?\n",
        "  #Using BERT?\n",
        "  #over: author(s), tags, sections, and word embeddings. (As in Graus 2020?)\n",
        "\n",
        "  #probably: re-using metric from Liu & Graus (2020), who use a more click-based and less normative idea of diversity.\n",
        "\n",
        "  ##Using GoogleNews Vectors "
      ],
      "execution_count": null,
      "outputs": []
    },
    {
      "cell_type": "code",
      "metadata": {
        "id": "UGSmuuHfNlRQ"
      },
      "source": [
        "\n",
        "def vectorize_comments(comments, article):\n",
        "  connected_comments = connect_comments(comments, articles)\n",
        "\n",
        "  return vectorized_comments\n",
        "\n",
        "\n",
        "def intra_list_div(comments, articles, N=None):\n",
        "  from sklearn.metrics.pairwise import cosine_similarity\n",
        "\n",
        "  vectorized_comments = vectorize_comments(comments, articles)\n",
        "\n",
        "  list_div = [1 - cosine_similarity(x, y) for x, y in zip(comments, comments[1:])] \n",
        "  \n",
        "  diversity = list_div / (N * (N-1)/2) \n",
        "\n",
        "  return diversity\n",
        "\n"
      ],
      "execution_count": null,
      "outputs": []
    },
    {
      "cell_type": "code",
      "metadata": {
        "id": "k9ZIftgxPEax"
      },
      "source": [
        "# tokenize and pad every document \n",
        "# from keras.preprocessing.text import Tokenizer\n",
        "# from keras.preprocessing.sequence import pad_sequences\n",
        "\n",
        "# cols = [x for x in connected_comments.columns if 'Comment' in x]\n",
        "\n",
        "# tokenizer=Tokenizer()\n",
        "\n",
        "# tokenizer.fit_on_texts([connected_comments[x] for x in cols])\n",
        "# tokenized_documents=tokenizer.texts_to_sequences([x[0] for x in connected_comments[cols]])\n",
        "# tokenized_paded_documents=pad_sequences(tokenized_documents,maxlen=64,padding='post')\n",
        "# vocab_size=len(tokenizer.word_index)+1\n",
        "# print (tokenized_paded_documents[0])"
      ],
      "execution_count": null,
      "outputs": []
    },
    {
      "cell_type": "code",
      "metadata": {
        "id": "nqg2hV90kxBB"
      },
      "source": [
        "### GOOGLE VECTORS (from 2013, so older)\n",
        "import gensim    \n",
        "from gensim import models\n",
        "from gensim.models import Word2Vec\n",
        "\n",
        "#Downloaded from: https://s3.amazonaws.com/dl4j-distribution/GoogleNews-vectors-negative300.bin.gz\n",
        "\n",
        "##Open Vectors\n",
        "import gzip\n",
        "\n",
        "f = gzip.open('/content/Vectors.bin.gz', 'rb')\n",
        "file_content = f.read()\n",
        "f.close()\n"
      ],
      "execution_count": null,
      "outputs": []
    },
    {
      "cell_type": "code",
      "metadata": {
        "colab": {
          "base_uri": "https://localhost:8080/"
        },
        "id": "KEXK0pRmN8dx",
        "outputId": "409440bd-f4ad-416d-832b-addbce02bce0"
      },
      "source": [
        "model = gensim.models.KeyedVectors.load_word2vec_format('/content/Vectors.bin.gz', binary=True)\n",
        "dog = model['dog']\n",
        "print(dog.shape)"
      ],
      "execution_count": null,
      "outputs": [
        {
          "output_type": "stream",
          "text": [
            "(300,)\n"
          ],
          "name": "stdout"
        }
      ]
    },
    {
      "cell_type": "code",
      "metadata": {
        "id": "qS32QQ-KmDX-"
      },
      "source": [
        ""
      ],
      "execution_count": null,
      "outputs": []
    },
    {
      "cell_type": "code",
      "metadata": {
        "id": "icXPiAyRmDm9"
      },
      "source": [
        ""
      ],
      "execution_count": null,
      "outputs": []
    },
    {
      "cell_type": "code",
      "metadata": {
        "colab": {
          "base_uri": "https://localhost:8080/",
          "height": 201,
          "referenced_widgets": [
            "cfe4dd61b7394220807b2a2e70c9a1d4",
            "bcb850b194784b20b55ea9dfeb19c788",
            "0cbab36eb040426ba73c3878b00767a1",
            "96bf91d421a54f878f650a76063156fc",
            "6e2d2b94293542b8bb1b89f2a86b2145",
            "399501a812a945c1ba3019785a6a385f",
            "edbed31b733840a9831e0885d75ac579",
            "b536720b07814dbd84f5e43df6310aaf",
            "6ff7588be1064f2fa2a3640217b9706c",
            "ac07c481517f48559d22b670fb99ed0c",
            "4dafab0ad0d14c6bacbc2718d127ee26",
            "3d8ac82479e74524ae38471aef89576a",
            "65ec311f38ec47e3a19be97e60ba2f87",
            "dd12d1f891a94c188d5cb935649447a8",
            "aa9f6a28be5542cc8275386ec64e8f9c",
            "0f8fbc6243244ec9a02ad7f176aa3f0e",
            "c21c571d95f54a3788b93ddfa688f004",
            "3cb5dbc2c51646bda04a95e6cf75f2f0",
            "21450ebad0de4bf1997d95307a2c250a",
            "b988f2de0a624f75be73bff359014ff2",
            "78ea793fff5d48ec8ac896fdba2c7635",
            "6caeb7ae7ff549bcb47dd5777d25fd73",
            "3e35c1263f524350913777e3d8f168de",
            "d428236904f743dfaead41105103d368"
          ]
        },
        "id": "_sN9NfdMk1Rh",
        "outputId": "673a65a3-ad81-44ec-b522-bde7d5045326"
      },
      "source": [
        "##Using BERT\n",
        "from transformers import AutoTokenizer\n",
        "tokenizer = AutoTokenizer.from_pretrained('bert-base-cased')\n",
        "\n",
        "encoded_input = tokenizer(\"Hello, I'm a single sentence!\")\n",
        "print(encoded_input)"
      ],
      "execution_count": null,
      "outputs": [
        {
          "output_type": "display_data",
          "data": {
            "application/vnd.jupyter.widget-view+json": {
              "model_id": "cfe4dd61b7394220807b2a2e70c9a1d4",
              "version_major": 2,
              "version_minor": 0
            },
            "text/plain": [
              "HBox(children=(FloatProgress(value=0.0, description='Downloading', max=433.0, style=ProgressStyle(description_…"
            ]
          },
          "metadata": {
            "tags": []
          }
        },
        {
          "output_type": "stream",
          "text": [
            "\n"
          ],
          "name": "stdout"
        },
        {
          "output_type": "display_data",
          "data": {
            "application/vnd.jupyter.widget-view+json": {
              "model_id": "6ff7588be1064f2fa2a3640217b9706c",
              "version_major": 2,
              "version_minor": 0
            },
            "text/plain": [
              "HBox(children=(FloatProgress(value=0.0, description='Downloading', max=213450.0, style=ProgressStyle(descripti…"
            ]
          },
          "metadata": {
            "tags": []
          }
        },
        {
          "output_type": "stream",
          "text": [
            "\n"
          ],
          "name": "stdout"
        },
        {
          "output_type": "display_data",
          "data": {
            "application/vnd.jupyter.widget-view+json": {
              "model_id": "c21c571d95f54a3788b93ddfa688f004",
              "version_major": 2,
              "version_minor": 0
            },
            "text/plain": [
              "HBox(children=(FloatProgress(value=0.0, description='Downloading', max=435797.0, style=ProgressStyle(descripti…"
            ]
          },
          "metadata": {
            "tags": []
          }
        },
        {
          "output_type": "stream",
          "text": [
            "\n",
            "{'input_ids': [101, 8667, 117, 146, 112, 182, 170, 1423, 5650, 106, 102], 'token_type_ids': [0, 0, 0, 0, 0, 0, 0, 0, 0, 0, 0], 'attention_mask': [1, 1, 1, 1, 1, 1, 1, 1, 1, 1, 1]}\n"
          ],
          "name": "stdout"
        }
      ]
    },
    {
      "cell_type": "markdown",
      "metadata": {
        "id": "F4dVKuhJe1kf"
      },
      "source": [
        "##Theory-based diversity metrics"
      ]
    },
    {
      "cell_type": "markdown",
      "metadata": {
        "id": "98wvorIRYPD6"
      },
      "source": [
        "###Activation metric"
      ]
    },
    {
      "cell_type": "code",
      "metadata": {
        "colab": {
          "base_uri": "https://localhost:8080/"
        },
        "id": "5PhEZ1z3mfMT",
        "outputId": "8ac0a418-f19e-404e-fa6c-263324afb864"
      },
      "source": [
        "!pip install vaderSentiment"
      ],
      "execution_count": null,
      "outputs": [
        {
          "output_type": "stream",
          "text": [
            "Collecting vaderSentiment\n",
            "\u001b[?25l  Downloading https://files.pythonhosted.org/packages/76/fc/310e16254683c1ed35eeb97386986d6c00bc29df17ce280aed64d55537e9/vaderSentiment-3.3.2-py2.py3-none-any.whl (125kB)\n",
            "\r\u001b[K     |██▋                             | 10kB 21.2MB/s eta 0:00:01\r\u001b[K     |█████▏                          | 20kB 25.3MB/s eta 0:00:01\r\u001b[K     |███████▉                        | 30kB 11.5MB/s eta 0:00:01\r\u001b[K     |██████████▍                     | 40kB 9.4MB/s eta 0:00:01\r\u001b[K     |█████████████                   | 51kB 7.6MB/s eta 0:00:01\r\u001b[K     |███████████████▋                | 61kB 8.2MB/s eta 0:00:01\r\u001b[K     |██████████████████▏             | 71kB 8.4MB/s eta 0:00:01\r\u001b[K     |████████████████████▉           | 81kB 8.2MB/s eta 0:00:01\r\u001b[K     |███████████████████████▍        | 92kB 7.9MB/s eta 0:00:01\r\u001b[K     |██████████████████████████      | 102kB 8.5MB/s eta 0:00:01\r\u001b[K     |████████████████████████████▋   | 112kB 8.5MB/s eta 0:00:01\r\u001b[K     |███████████████████████████████▏| 122kB 8.5MB/s eta 0:00:01\r\u001b[K     |████████████████████████████████| 133kB 8.5MB/s \n",
            "\u001b[?25hRequirement already satisfied: requests in /usr/local/lib/python3.6/dist-packages (from vaderSentiment) (2.23.0)\n",
            "Requirement already satisfied: chardet<4,>=3.0.2 in /usr/local/lib/python3.6/dist-packages (from requests->vaderSentiment) (3.0.4)\n",
            "Requirement already satisfied: idna<3,>=2.5 in /usr/local/lib/python3.6/dist-packages (from requests->vaderSentiment) (2.10)\n",
            "Requirement already satisfied: certifi>=2017.4.17 in /usr/local/lib/python3.6/dist-packages (from requests->vaderSentiment) (2020.12.5)\n",
            "Requirement already satisfied: urllib3!=1.25.0,!=1.25.1,<1.26,>=1.21.1 in /usr/local/lib/python3.6/dist-packages (from requests->vaderSentiment) (1.24.3)\n",
            "Installing collected packages: vaderSentiment\n",
            "Successfully installed vaderSentiment-3.3.2\n"
          ],
          "name": "stdout"
        }
      ]
    },
    {
      "cell_type": "code",
      "metadata": {
        "id": "eTYuk8tFe_cW"
      },
      "source": [
        "def polarity(comment_list, articles=None):\n",
        "  from vaderSentiment.vaderSentiment import SentimentIntensityAnalyzer\n",
        "  from statistics import mean\n",
        "\n",
        "  analyser = SentimentIntensityAnalyzer()\n",
        "  #comments_nr = []\n",
        "\n",
        "  #For every article\n",
        "  for y in range(0, len(comment_list)):\n",
        "    #print(\"NEW ARTICLE\")\n",
        "    article_list = []\n",
        "    text_list = []\n",
        "    #print(\"nr of comments:\")\n",
        "    #comments_nr.append(comment_list[y])\n",
        "    #print(len(comment_list[y]))\n",
        "    for x in comment_list[y]:\n",
        "      #score of every comment\n",
        "      article_list.append(analyser.polarity_scores(str(x[0]))['compound'])\n",
        "      text_list.append(str(x[0]))\n",
        "    # #Mean of every article\n",
        "    #print(\"EVERY COMMENT SCORE IN RECOMMENDATION LIST\")\n",
        "    #print(article_list)\n",
        "    #print(text_list)\n",
        "    comment_list[y] = abs(mean(article_list))\n",
        "    \n",
        "    #print(\"MEAN ABSOLUTE SCORE OF RECOMMENDATION LIST\")\n",
        "    #print(abs(mean(article_list)))\n",
        "\n",
        "  if articles != None:\n",
        "    for y in range(0, len(articles)):\n",
        "      #print(\"NEW ARTICLE\")\n",
        "      article_list = []\n",
        "      text_list = []\n",
        "      #print(\"nr of comments:\")\n",
        "      #comments_nr.append(comment_list[y])\n",
        "      #print(len(comment_list[y]))\n",
        "      for x in comment_list[y]:\n",
        "        #score of every comment\n",
        "        article_list.append(analyser.polarity_scores(str(x[0]))['compound'])\n",
        "        text_list.append(str(x[0]))\n",
        "      #print(\"EVERY COMMENT SCORE IN RECOMMENDATION LIST\")\n",
        "      #print(article_list)\n",
        "      #print(text_list)\n",
        "      comment_list[y] = abs(mean(article_list))\n",
        "     # print(\"MEAN ABSOLUTE SCORE OF RECOMMENDATION LIST\")\n",
        "     # print(abs(mean(article_list)))\n",
        "\n",
        "  #print(\"MEAN NR COMMENTS\")\n",
        "  #print(mean(comments_nr))\n",
        "  #print(std(comments_nr))\n",
        "  return comment_list\n",
        "\n",
        "def activation_metric(possible_comments, recommended_comments, articles=None):\n",
        "  from statistics import mean\n",
        "\n",
        "  # print(\"POSSIBLE\")\n",
        "  possible_score = polarity(possible_comments, articles=articles)\n",
        "\n",
        "  # print(\"RECOMMENDED\")\n",
        "  recommended_score = polarity(recommended_comments, articles=articles)\n",
        "  \n",
        "  #print(\"mean absolute sentiment score of ALL recommendation lists\")\n",
        "  score = (abs(mean(possible_score)) - abs(mean(recommended_score)))/2 \n",
        "  #print(\"score = absolute_mean_possible_comments - absolute_mean_recommended_comments\")\n",
        "  #print(str(score)+\" = \"+str(abs(mean(possible_score))) +\" - \"+str(abs(mean(recommended_score)))+\"/2\" )\n",
        "  # print(str(score)+\"=\"+str(abs(possible_score))+(\" - \")+str(mean(recommended_score))))\n",
        "  return score"
      ],
      "execution_count": null,
      "outputs": []
    },
    {
      "cell_type": "markdown",
      "metadata": {
        "id": "Iq23UOMMEL8s"
      },
      "source": [
        "####Data: Liked comments"
      ]
    },
    {
      "cell_type": "code",
      "metadata": {
        "id": "Z97GVOYzEZve"
      },
      "source": [
        "top3_liked_comments = get_liked(feb2017comments, feb2017article, N=3)"
      ],
      "execution_count": null,
      "outputs": []
    },
    {
      "cell_type": "code",
      "metadata": {
        "id": "ht0U2NGlEaGl"
      },
      "source": [
        "top5_liked_comments = get_liked(feb2017comments, feb2017article, N=5)"
      ],
      "execution_count": null,
      "outputs": []
    },
    {
      "cell_type": "code",
      "metadata": {
        "id": "m-qujkHIEaXA"
      },
      "source": [
        "top10_liked_comments = get_liked(feb2017comments, feb2017article, N=10)"
      ],
      "execution_count": null,
      "outputs": []
    },
    {
      "cell_type": "code",
      "metadata": {
        "id": "a_pK7xQYE6IN"
      },
      "source": [
        "all_comments = get_liked(feb2017comments, feb2017article)"
      ],
      "execution_count": null,
      "outputs": []
    },
    {
      "cell_type": "markdown",
      "metadata": {
        "id": "pR3zbsFyEXCj"
      },
      "source": [
        "####Data: Selected Comments"
      ]
    },
    {
      "cell_type": "code",
      "metadata": {
        "id": "hyk0GR1cESNz"
      },
      "source": [
        "top3_selected_comments = get_selected(feb2017comments, feb2017article, N=3)"
      ],
      "execution_count": null,
      "outputs": []
    },
    {
      "cell_type": "code",
      "metadata": {
        "id": "1Ic9OeDOFEsr"
      },
      "source": [
        "top5_selected_comments = get_selected(feb2017comments, feb2017article, N=5)"
      ],
      "execution_count": null,
      "outputs": []
    },
    {
      "cell_type": "code",
      "metadata": {
        "id": "rjJtUFLTFE-6"
      },
      "source": [
        "top10_selected_comments = get_selected(feb2017comments, feb2017article, N=10)"
      ],
      "execution_count": null,
      "outputs": []
    },
    {
      "cell_type": "code",
      "metadata": {
        "id": "OIDEXA5rFFWN"
      },
      "source": [
        "selected_comments = get_selected(feb2017comments, feb2017article)"
      ],
      "execution_count": null,
      "outputs": []
    },
    {
      "cell_type": "markdown",
      "metadata": {
        "id": "HAMVEKQEFnPA"
      },
      "source": [
        "####Activation Test: Liked"
      ]
    },
    {
      "cell_type": "code",
      "metadata": {
        "colab": {
          "base_uri": "https://localhost:8080/"
        },
        "id": "ieIGDM71F5nn",
        "outputId": "ad7bf087-da45-4082-ad48-b84fdd6dfea4"
      },
      "source": [
        "##Top3 Liked\n",
        "print(activation_metric(all_comments, top3_liked_comments))"
      ],
      "execution_count": null,
      "outputs": [
        {
          "output_type": "stream",
          "text": [
            "-0.07852364129171946\n"
          ],
          "name": "stdout"
        }
      ]
    },
    {
      "cell_type": "code",
      "metadata": {
        "colab": {
          "base_uri": "https://localhost:8080/"
        },
        "id": "Zi37-jdNF59t",
        "outputId": "cf951461-8b5a-4a63-fef8-455cdc34b761"
      },
      "source": [
        "##Top5 Liked\n",
        "print(activation_metric(all_comments, top5_liked_comments))"
      ],
      "execution_count": null,
      "outputs": [
        {
          "output_type": "stream",
          "text": [
            "-0.052061708146710045\n"
          ],
          "name": "stdout"
        }
      ]
    },
    {
      "cell_type": "code",
      "metadata": {
        "colab": {
          "base_uri": "https://localhost:8080/"
        },
        "id": "GLHywhIZF6Ns",
        "outputId": "24e48169-1579-4f30-968c-34fb2b4a2068"
      },
      "source": [
        "##Top10 Liked\n",
        "print(activation_metric(all_comments, top10_liked_comments))"
      ],
      "execution_count": null,
      "outputs": [
        {
          "output_type": "stream",
          "text": [
            "-0.034534571118640806\n"
          ],
          "name": "stdout"
        }
      ]
    },
    {
      "cell_type": "markdown",
      "metadata": {
        "id": "-lnhLYlDFuEm"
      },
      "source": [
        "#### Activation Test: Selected"
      ]
    },
    {
      "cell_type": "code",
      "metadata": {
        "colab": {
          "base_uri": "https://localhost:8080/"
        },
        "id": "qwoz0u8sF7Ei",
        "outputId": "1e976c6e-2051-48e0-c920-816d6153bf6a"
      },
      "source": [
        "##Top3 selected\n",
        "print(activation_metric(all_comments, top3_selected_comments))"
      ],
      "execution_count": null,
      "outputs": [
        {
          "output_type": "stream",
          "text": [
            "-0.06716668272298124\n"
          ],
          "name": "stdout"
        }
      ]
    },
    {
      "cell_type": "code",
      "metadata": {
        "colab": {
          "base_uri": "https://localhost:8080/"
        },
        "id": "kHC1hwNBF7SG",
        "outputId": "9b1edcee-9d3b-4746-a670-6a858e07ae10"
      },
      "source": [
        "##Top5 selected\n",
        "print(activation_metric(all_comments, top5_selected_comments))"
      ],
      "execution_count": null,
      "outputs": [
        {
          "output_type": "stream",
          "text": [
            "-0.0381701083789579\n"
          ],
          "name": "stdout"
        }
      ]
    },
    {
      "cell_type": "code",
      "metadata": {
        "colab": {
          "base_uri": "https://localhost:8080/"
        },
        "id": "XRAEpaT8F7hh",
        "outputId": "d6eb9bf8-3ba2-408f-ddf0-14a895ea8a75"
      },
      "source": [
        "##Top10 selected\n",
        "print(activation_metric(all_comments, top10_selected_comments))"
      ],
      "execution_count": null,
      "outputs": [
        {
          "output_type": "stream",
          "text": [
            "-0.020918482031139857\n"
          ],
          "name": "stdout"
        }
      ]
    },
    {
      "cell_type": "code",
      "metadata": {
        "colab": {
          "base_uri": "https://localhost:8080/"
        },
        "id": "QIuPN5JIF7yi",
        "outputId": "10e41731-3731-4a26-e930-62419068002b"
      },
      "source": [
        "##SELECTED VS NON\n",
        "print(activation_metric(all_comments, selected_comments))"
      ],
      "execution_count": null,
      "outputs": [
        {
          "output_type": "stream",
          "text": [
            "-0.012693080528571876\n"
          ],
          "name": "stdout"
        }
      ]
    },
    {
      "cell_type": "markdown",
      "metadata": {
        "id": "NkHvdmA0YSwn"
      },
      "source": [
        "###Representation metric"
      ]
    },
    {
      "cell_type": "code",
      "metadata": {
        "id": "JS6iIlw2e_l-"
      },
      "source": [
        "def representation_metric(possible_comments, recommended_comments):\n",
        "  #Kullblack-Leibler Divergence, different opinion categories\n",
        "  # different opinion categories --> metadata?\n",
        "  return score"
      ],
      "execution_count": null,
      "outputs": []
    },
    {
      "cell_type": "markdown",
      "metadata": {
        "id": "1oz_GePbYboB"
      },
      "source": [
        "###Protected Voices Metric"
      ]
    },
    {
      "cell_type": "code",
      "metadata": {
        "id": "-y6NkoNGRgLq"
      },
      "source": [
        "def count_protected(comments)\n",
        "  return count\n",
        "\n",
        "def count_unprotected(comments)\n",
        "  return count\n",
        "\n",
        "def voices_metric(possible_comments, recommended_comments):\n",
        "  protected_group_recommended = count_protected(recommended_comments)\n",
        "  protected_group_possible = count_protected(possible_comments)\n",
        "\n",
        "  unprotected_group_recommended = count_unprotected(recommended_comments)\n",
        "  unprotected_group_possible = count_unprotected(possible_comments)\n",
        "\n",
        "  score = (protected_group_recommended/protected_group_possible) / (unprotected_group_recommended/unprocted_group_recommended)\n",
        "  return score"
      ],
      "execution_count": null,
      "outputs": []
    },
    {
      "cell_type": "markdown",
      "metadata": {
        "id": "1CVSMAfVX6TM"
      },
      "source": [
        "#Experiments"
      ]
    },
    {
      "cell_type": "markdown",
      "metadata": {
        "id": "3K4ebn77YCoC"
      },
      "source": [
        "#Evaluation of the test set"
      ]
    },
    {
      "cell_type": "markdown",
      "metadata": {
        "id": "r40NEAGJxfKm"
      },
      "source": [
        "# **SFU Dataset**\r\n"
      ]
    },
    {
      "cell_type": "markdown",
      "metadata": {
        "id": "4Vg2sA42SzjG"
      },
      "source": [
        "## Loading the data"
      ]
    },
    {
      "cell_type": "code",
      "metadata": {
        "id": "WAVDb9GzzMVO"
      },
      "source": [
        "#Importing the zip\r\n",
        "zip_ref_sfu = zipfile.ZipFile(\"/content/drive/MyDrive/Colab Notebooks/SFU-Opinion_and_Comments_Corpus.zip\", \"r\")\r\n",
        "zip_ref_sfu.extractall()\r\n",
        "zip_ref_sfu.close()"
      ],
      "execution_count": null,
      "outputs": []
    },
    {
      "cell_type": "code",
      "metadata": {
        "colab": {
          "base_uri": "https://localhost:8080/",
          "height": 523
        },
        "id": "SPvio3MlPgVa",
        "outputId": "453bd7e8-e5ce-45c5-fc5b-fc4e5695fbed"
      },
      "source": [
        "import pandas as pd\r\n",
        "\r\n",
        "# Raw data\r\n",
        "sfu_articles = pd.read_csv(\"/content/drive/MyDrive/Colab Notebooks/gnm_articles.csv\")\r\n",
        "sfu_comments = pd.read_csv(\"/content/drive/MyDrive/Colab Notebooks/gnm_comments.csv\")\r\n",
        "sfu_threads = pd.read_csv(\"/content/drive/MyDrive/Colab Notebooks/gnm_comment_threads.csv\")\r\n",
        "\r\n",
        "threads.head(5)"
      ],
      "execution_count": null,
      "outputs": [
        {
          "output_type": "stream",
          "text": [
            "/usr/local/lib/python3.6/dist-packages/IPython/core/interactiveshell.py:2718: DtypeWarning: Columns (4,9,10,11,13,14,16,17,18,23,24,25,26,27) have mixed types.Specify dtype option on import or set low_memory=False.\n",
            "  interactivity=interactivity, compiler=compiler, result=result)\n"
          ],
          "name": "stderr"
        },
        {
          "output_type": "execute_result",
          "data": {
            "text/html": [
              "<div>\n",
              "<style scoped>\n",
              "    .dataframe tbody tr th:only-of-type {\n",
              "        vertical-align: middle;\n",
              "    }\n",
              "\n",
              "    .dataframe tbody tr th {\n",
              "        vertical-align: top;\n",
              "    }\n",
              "\n",
              "    .dataframe thead th {\n",
              "        text-align: right;\n",
              "    }\n",
              "</style>\n",
              "<table border=\"1\" class=\"dataframe\">\n",
              "  <thead>\n",
              "    <tr style=\"text-align: right;\">\n",
              "      <th></th>\n",
              "      <th>article_id</th>\n",
              "      <th>comment_counter</th>\n",
              "      <th>comment_author</th>\n",
              "      <th>timestamp</th>\n",
              "      <th>post_time</th>\n",
              "      <th>comment_text</th>\n",
              "      <th>TotalVotes</th>\n",
              "      <th>posVotes</th>\n",
              "      <th>negVotes</th>\n",
              "      <th>vote</th>\n",
              "      <th>reactions</th>\n",
              "      <th>replies</th>\n",
              "      <th>comment_id</th>\n",
              "      <th>parentID</th>\n",
              "      <th>threadID</th>\n",
              "      <th>streamId</th>\n",
              "      <th>edited</th>\n",
              "      <th>isModerator</th>\n",
              "      <th>highlightGroups</th>\n",
              "      <th>moderatorEdit</th>\n",
              "      <th>descendantsCount</th>\n",
              "      <th>threadTimestamp</th>\n",
              "      <th>flagCount</th>\n",
              "      <th>sender_isSelf</th>\n",
              "      <th>sender_loginProvider</th>\n",
              "      <th>data_type</th>\n",
              "      <th>is_empty</th>\n",
              "      <th>status</th>\n",
              "    </tr>\n",
              "  </thead>\n",
              "  <tbody>\n",
              "    <tr>\n",
              "      <th>0</th>\n",
              "      <td>535381</td>\n",
              "      <td>source1_535381_0</td>\n",
              "      <td>Muhammad Shoaib</td>\n",
              "      <td>1.461225e+12</td>\n",
              "      <td>NaN</td>\n",
              "      <td>Indeed it is the best police force in the worl...</td>\n",
              "      <td>0.0</td>\n",
              "      <td>0.0</td>\n",
              "      <td>0.0</td>\n",
              "      <td>none</td>\n",
              "      <td>NaN</td>\n",
              "      <td>NaN</td>\n",
              "      <td>bca183ec85d04ba9abe7df742b05baef</td>\n",
              "      <td>NaN</td>\n",
              "      <td>NaN</td>\n",
              "      <td>535381.0</td>\n",
              "      <td>False</td>\n",
              "      <td>False</td>\n",
              "      <td>[]</td>\n",
              "      <td>NaN</td>\n",
              "      <td>NaN</td>\n",
              "      <td>1.461225e+12</td>\n",
              "      <td>0.0</td>\n",
              "      <td>False</td>\n",
              "      <td>Facebook</td>\n",
              "      <td>comment</td>\n",
              "      <td>N</td>\n",
              "      <td>published</td>\n",
              "    </tr>\n",
              "    <tr>\n",
              "      <th>1</th>\n",
              "      <td>543638</td>\n",
              "      <td>source1_543638_0</td>\n",
              "      <td>Franklin Galvin1</td>\n",
              "      <td>1.454088e+12</td>\n",
              "      <td>NaN</td>\n",
              "      <td>Patients need to express their discontent with...</td>\n",
              "      <td>0.0</td>\n",
              "      <td>0.0</td>\n",
              "      <td>0.0</td>\n",
              "      <td>none</td>\n",
              "      <td>NaN</td>\n",
              "      <td>NaN</td>\n",
              "      <td>3f349e7b7c6b4a73bbe240b86ca81ec1</td>\n",
              "      <td>NaN</td>\n",
              "      <td>NaN</td>\n",
              "      <td>543638.0</td>\n",
              "      <td>False</td>\n",
              "      <td>False</td>\n",
              "      <td>[]</td>\n",
              "      <td>NaN</td>\n",
              "      <td>NaN</td>\n",
              "      <td>1.454088e+12</td>\n",
              "      <td>0.0</td>\n",
              "      <td>False</td>\n",
              "      <td>Site</td>\n",
              "      <td>comment</td>\n",
              "      <td>N</td>\n",
              "      <td>published</td>\n",
              "    </tr>\n",
              "    <tr>\n",
              "      <th>2</th>\n",
              "      <td>544184</td>\n",
              "      <td>source1_544184_0</td>\n",
              "      <td>openwater2010</td>\n",
              "      <td>1.404260e+12</td>\n",
              "      <td>NaN</td>\n",
              "      <td>The Opinion Gap on SPAM seems to match the opi...</td>\n",
              "      <td>1.0</td>\n",
              "      <td>1.0</td>\n",
              "      <td>0.0</td>\n",
              "      <td>none</td>\n",
              "      <td>NaN</td>\n",
              "      <td>NaN</td>\n",
              "      <td>672e3742723545b4bfa745594d1673e1</td>\n",
              "      <td>NaN</td>\n",
              "      <td>NaN</td>\n",
              "      <td>544184.0</td>\n",
              "      <td>False</td>\n",
              "      <td>False</td>\n",
              "      <td>[]</td>\n",
              "      <td>NaN</td>\n",
              "      <td>NaN</td>\n",
              "      <td>1.404260e+12</td>\n",
              "      <td>0.0</td>\n",
              "      <td>False</td>\n",
              "      <td>Site</td>\n",
              "      <td>comment</td>\n",
              "      <td>N</td>\n",
              "      <td>published</td>\n",
              "    </tr>\n",
              "    <tr>\n",
              "      <th>3</th>\n",
              "      <td>544562</td>\n",
              "      <td>source1_544562_0</td>\n",
              "      <td>Wild Bill 2</td>\n",
              "      <td>1.388010e+12</td>\n",
              "      <td>NaN</td>\n",
              "      <td>Prince Rupert route would avoid having 220 sup...</td>\n",
              "      <td>0.0</td>\n",
              "      <td>NaN</td>\n",
              "      <td>NaN</td>\n",
              "      <td>none</td>\n",
              "      <td>NaN</td>\n",
              "      <td>NaN</td>\n",
              "      <td>73767f8e40c941d1bfdba7b8e8f86b03</td>\n",
              "      <td>NaN</td>\n",
              "      <td>NaN</td>\n",
              "      <td>544562.0</td>\n",
              "      <td>False</td>\n",
              "      <td>False</td>\n",
              "      <td>[]</td>\n",
              "      <td>NaN</td>\n",
              "      <td>NaN</td>\n",
              "      <td>1.388010e+12</td>\n",
              "      <td>0.0</td>\n",
              "      <td>False</td>\n",
              "      <td>Site</td>\n",
              "      <td>comment</td>\n",
              "      <td>N</td>\n",
              "      <td>published</td>\n",
              "    </tr>\n",
              "    <tr>\n",
              "      <th>4</th>\n",
              "      <td>544912</td>\n",
              "      <td>source1_544912_0</td>\n",
              "      <td>SusanK.</td>\n",
              "      <td>1.378332e+12</td>\n",
              "      <td>NaN</td>\n",
              "      <td>If I understand your commentary, you are targe...</td>\n",
              "      <td>-4.0</td>\n",
              "      <td>NaN</td>\n",
              "      <td>4.0</td>\n",
              "      <td>none</td>\n",
              "      <td>NaN</td>\n",
              "      <td>NaN</td>\n",
              "      <td>6b6933f1beff41b3934ca71f7aab3ab5</td>\n",
              "      <td>NaN</td>\n",
              "      <td>NaN</td>\n",
              "      <td>544912.0</td>\n",
              "      <td>False</td>\n",
              "      <td>False</td>\n",
              "      <td>[]</td>\n",
              "      <td>NaN</td>\n",
              "      <td>NaN</td>\n",
              "      <td>1.378332e+12</td>\n",
              "      <td>0.0</td>\n",
              "      <td>False</td>\n",
              "      <td>Site</td>\n",
              "      <td>comment</td>\n",
              "      <td>N</td>\n",
              "      <td>published</td>\n",
              "    </tr>\n",
              "  </tbody>\n",
              "</table>\n",
              "</div>"
            ],
            "text/plain": [
              "   article_id   comment_counter    comment_author  ...  data_type is_empty     status\n",
              "0      535381  source1_535381_0   Muhammad Shoaib  ...    comment        N  published\n",
              "1      543638  source1_543638_0  Franklin Galvin1  ...    comment        N  published\n",
              "2      544184  source1_544184_0     openwater2010  ...    comment        N  published\n",
              "3      544562  source1_544562_0       Wild Bill 2  ...    comment        N  published\n",
              "4      544912  source1_544912_0           SusanK.  ...    comment        N  published\n",
              "\n",
              "[5 rows x 28 columns]"
            ]
          },
          "metadata": {
            "tags": []
          },
          "execution_count": 11
        }
      ]
    },
    {
      "cell_type": "code",
      "metadata": {
        "colab": {
          "base_uri": "https://localhost:8080/",
          "height": 660
        },
        "id": "s8tv29gQ0Wdx",
        "outputId": "d98e183c-738a-489a-fe40-03949d00204d"
      },
      "source": [
        "sfu_constr = pd.read_csv(\"/content/SOCC/annotated/constructiveness/SFU_constructiveness_toxicity_corpus.csv\")\r\n",
        "sfu_constr.head()"
      ],
      "execution_count": null,
      "outputs": [
        {
          "output_type": "execute_result",
          "data": {
            "text/html": [
              "<div>\n",
              "<style scoped>\n",
              "    .dataframe tbody tr th:only-of-type {\n",
              "        vertical-align: middle;\n",
              "    }\n",
              "\n",
              "    .dataframe tbody tr th {\n",
              "        vertical-align: top;\n",
              "    }\n",
              "\n",
              "    .dataframe thead th {\n",
              "        text-align: right;\n",
              "    }\n",
              "</style>\n",
              "<table border=\"1\" class=\"dataframe\">\n",
              "  <thead>\n",
              "    <tr style=\"text-align: right;\">\n",
              "      <th></th>\n",
              "      <th>article_id</th>\n",
              "      <th>comment_counter</th>\n",
              "      <th>title</th>\n",
              "      <th>globe_url</th>\n",
              "      <th>url</th>\n",
              "      <th>comment_text</th>\n",
              "      <th>is_constructive</th>\n",
              "      <th>is_constructive:confidence</th>\n",
              "      <th>toxicity_level</th>\n",
              "      <th>toxicity_level:confidence</th>\n",
              "      <th>did_you_read_the_article</th>\n",
              "      <th>did_you_read_the_article:confidence</th>\n",
              "      <th>annotator_comments</th>\n",
              "      <th>expert_is_constructive</th>\n",
              "      <th>expert_toxicity_level</th>\n",
              "      <th>expert_comments</th>\n",
              "    </tr>\n",
              "  </thead>\n",
              "  <tbody>\n",
              "    <tr>\n",
              "      <th>0</th>\n",
              "      <td>23462276</td>\n",
              "      <td>source1_23462276_4</td>\n",
              "      <td>Apple Watch: It's the precise opposite of a la...</td>\n",
              "      <td>http://www.theglobeandmail.com/opinion/as-tech...</td>\n",
              "      <td>http://www.sfu.ca/content/dam/sfu/discourse-la...</td>\n",
              "      <td>While technology does march on, sometimes it t...</td>\n",
              "      <td>yes</td>\n",
              "      <td>1.0000</td>\n",
              "      <td>1</td>\n",
              "      <td>1</td>\n",
              "      <td>1</td>\n",
              "      <td>1.0</td>\n",
              "      <td>\\n\\n\\n\\n\\n\\n\\n\\n\\n\\n\\n\\n\\n\\n\\n\\n\\n\\n\\n\\n\\n</td>\n",
              "      <td>NaN</td>\n",
              "      <td>NaN</td>\n",
              "      <td>NaN</td>\n",
              "    </tr>\n",
              "    <tr>\n",
              "      <th>1</th>\n",
              "      <td>23462276</td>\n",
              "      <td>source1_23462276_10</td>\n",
              "      <td>Apple Watch: It's the precise opposite of a la...</td>\n",
              "      <td>http://www.theglobeandmail.com/opinion/as-tech...</td>\n",
              "      <td>http://www.sfu.ca/content/dam/sfu/discourse-la...</td>\n",
              "      <td>Everyone is still missing the point of what th...</td>\n",
              "      <td>yes</td>\n",
              "      <td>1.0000</td>\n",
              "      <td>1\\n2</td>\n",
              "      <td>0.9111\\n0.0889</td>\n",
              "      <td>1</td>\n",
              "      <td>1.0</td>\n",
              "      <td>\\n\\n\\n\\n\\n\\n\\n\\n\\n\\n</td>\n",
              "      <td>NaN</td>\n",
              "      <td>NaN</td>\n",
              "      <td>NaN</td>\n",
              "    </tr>\n",
              "    <tr>\n",
              "      <th>2</th>\n",
              "      <td>23462276</td>\n",
              "      <td>source1_23462276_11_1</td>\n",
              "      <td>Apple Watch: It's the precise opposite of a la...</td>\n",
              "      <td>http://www.theglobeandmail.com/opinion/as-tech...</td>\n",
              "      <td>http://www.sfu.ca/content/dam/sfu/discourse-la...</td>\n",
              "      <td>You've never used an Apple product have you?</td>\n",
              "      <td>no</td>\n",
              "      <td>1.0000</td>\n",
              "      <td>1\\n2</td>\n",
              "      <td>0.6308\\n0.2937</td>\n",
              "      <td>1</td>\n",
              "      <td>1.0</td>\n",
              "      <td>\\n\\n\\n\\n\\n\\n\\n\\n\\n\\n\\n\\n\\n</td>\n",
              "      <td>NaN</td>\n",
              "      <td>NaN</td>\n",
              "      <td>NaN</td>\n",
              "    </tr>\n",
              "    <tr>\n",
              "      <th>3</th>\n",
              "      <td>23462276</td>\n",
              "      <td>source1_23462276_25</td>\n",
              "      <td>Apple Watch: It's the precise opposite of a la...</td>\n",
              "      <td>http://www.theglobeandmail.com/opinion/as-tech...</td>\n",
              "      <td>http://www.sfu.ca/content/dam/sfu/discourse-la...</td>\n",
              "      <td>You may be using a blackberry. I'm still using...</td>\n",
              "      <td>no</td>\n",
              "      <td>1.0000</td>\n",
              "      <td>1\\n2</td>\n",
              "      <td>0.7346\\n0.2023</td>\n",
              "      <td>1</td>\n",
              "      <td>1.0</td>\n",
              "      <td>\\n\\n\\n\\n\\n\\n\\n\\n\\n\\n\\n\\n\\n\\n</td>\n",
              "      <td>NaN</td>\n",
              "      <td>NaN</td>\n",
              "      <td>NaN</td>\n",
              "    </tr>\n",
              "    <tr>\n",
              "      <th>4</th>\n",
              "      <td>26373964</td>\n",
              "      <td>source1_26373964_63</td>\n",
              "      <td>Don't be fooled by the (surprise!) budget surplus</td>\n",
              "      <td>http://www.theglobeandmail.com/opinion/dont-be...</td>\n",
              "      <td>http://www.sfu.ca/content/dam/sfu/discourse-la...</td>\n",
              "      <td>Of course we all know, unfortunately, there is...</td>\n",
              "      <td>no</td>\n",
              "      <td>0.5963</td>\n",
              "      <td>2\\n1</td>\n",
              "      <td>0.4429\\n0.3066</td>\n",
              "      <td>1</td>\n",
              "      <td>1.0</td>\n",
              "      <td>\\n\\n\\n\\n\\n\\n</td>\n",
              "      <td>NaN</td>\n",
              "      <td>NaN</td>\n",
              "      <td>NaN</td>\n",
              "    </tr>\n",
              "  </tbody>\n",
              "</table>\n",
              "</div>"
            ],
            "text/plain": [
              "   article_id        comment_counter  ... expert_toxicity_level expert_comments\n",
              "0    23462276     source1_23462276_4  ...                   NaN             NaN\n",
              "1    23462276    source1_23462276_10  ...                   NaN             NaN\n",
              "2    23462276  source1_23462276_11_1  ...                   NaN             NaN\n",
              "3    23462276    source1_23462276_25  ...                   NaN             NaN\n",
              "4    26373964    source1_26373964_63  ...                   NaN             NaN\n",
              "\n",
              "[5 rows x 16 columns]"
            ]
          },
          "metadata": {
            "tags": []
          },
          "execution_count": 51
        }
      ]
    },
    {
      "cell_type": "code",
      "metadata": {
        "id": "7U0tdxhT0ab_"
      },
      "source": [
        "#Getting the constructiveness annotations\r\n",
        "zip_ref_sfu_app = zipfile.ZipFile(\"/content/SOCC/annotated/Appraisal/Appraisal_annotations.zip\", \"r\")\r\n",
        "zip_ref_sfu_app.extractall()\r\n",
        "zip_ref_sfu_app.close()"
      ],
      "execution_count": null,
      "outputs": []
    },
    {
      "cell_type": "markdown",
      "metadata": {
        "id": "RVM-mBeVx7eA"
      },
      "source": [
        "## Data description\r\n",
        "\r\n",
        "## What data do we have\r\n",
        "- 10.339 opinion articles from The Globe and Mail\r\n",
        "- 663.173 comments linked to those articles\r\n",
        "- 303.665 comment threads in theory; in practice it's 773716 which makes absolutly no sense at all but I checked the raw file and it does indeed have that many lines\r\n",
        "- 1043 annotated comments in terms of their constructiveness\r\n",
        "- Raw metrics for **comments** (such as pos/neg votes, replies and reactions, but also thread id's and positions) and **articles** (text, headlines, and number of (top-level) comments per article)\r\n",
        "- Dictionaries with annotations for appraisal and negation (not quite sure yet how to transform them in a way that I really understand what is in there and how it is organised)\r\n",
        "### What would we need to do with the data\r\n",
        "- Article text needs to be cleaned, although it seems the only issues are related to formatting: < /p>\" & < p>\r\n",
        "- **Not use** the threads data because it clearly seems untrustworthy\r\n",
        "- Link comments to articles (either with the article id or the thread variable)\r\n",
        "- Unpack the dictionaries??"
      ]
    },
    {
      "cell_type": "code",
      "metadata": {
        "colab": {
          "base_uri": "https://localhost:8080/"
        },
        "id": "dYCcSU4rXZQo",
        "outputId": "406c62f4-ab19-48d3-d514-c540da34ad12"
      },
      "source": [
        "#How much raw data is there\r\n",
        "print(\"Articles:\",len(sfu_articles),\r\n",
        "      \"Comments:\", len(sfu_comments),\r\n",
        "      \"Threads:\", len(sfu_threads),\r\n",
        "      \"Constructiveness:\", len(sfu_constr))"
      ],
      "execution_count": null,
      "outputs": [
        {
          "output_type": "stream",
          "text": [
            "Articles: 10339 Comments: 663173 Threads: 773716 Constructiveness: 1043\n"
          ],
          "name": "stdout"
        }
      ]
    },
    {
      "cell_type": "code",
      "metadata": {
        "colab": {
          "base_uri": "https://localhost:8080/"
        },
        "id": "MVOOa4x42VOq",
        "outputId": "8cd2de84-2a7b-4746-c609-cfad88226c1c"
      },
      "source": [
        "#What is in the article data?\r\n",
        "sfu_articles.columns"
      ],
      "execution_count": null,
      "outputs": [
        {
          "output_type": "execute_result",
          "data": {
            "text/plain": [
              "Index(['article_id', 'title', 'article_url', 'author', 'published_date',\n",
              "       'ncomments', 'ntop_level_comments', 'article_text'],\n",
              "      dtype='object')"
            ]
          },
          "metadata": {
            "tags": []
          },
          "execution_count": 17
        }
      ]
    },
    {
      "cell_type": "code",
      "metadata": {
        "colab": {
          "base_uri": "https://localhost:8080/"
        },
        "id": "tzDbUcSu2d7E",
        "outputId": "8e1c41a5-5b52-4638-be19-af6921683adb"
      },
      "source": [
        "#What is in the columns data?\r\n",
        "sfu_comments.columns"
      ],
      "execution_count": null,
      "outputs": [
        {
          "output_type": "execute_result",
          "data": {
            "text/plain": [
              "Index(['article_id', 'comment_counter', 'comment_author', 'timestamp',\n",
              "       'post_time', 'comment_text', 'TotalVotes', 'posVotes', 'negVotes',\n",
              "       'vote', 'reactions', 'replies', 'comment_id', 'parentID', 'threadID',\n",
              "       'streamId', 'edited', 'isModerator', 'highlightGroups', 'moderatorEdit',\n",
              "       'descendantsCount', 'threadTimestamp', 'flagCount', 'sender_isSelf',\n",
              "       'sender_loginProvider', 'data_type', 'is_empty', 'status'],\n",
              "      dtype='object')"
            ]
          },
          "metadata": {
            "tags": []
          },
          "execution_count": 18
        }
      ]
    },
    {
      "cell_type": "code",
      "metadata": {
        "colab": {
          "base_uri": "https://localhost:8080/"
        },
        "id": "HpK66ueFTP0Y",
        "outputId": "ef1a4e98-bac0-4541-cb94-87a7d79c0236"
      },
      "source": [
        "#What is in the constructiveness data?\r\n",
        "sfu_constr.columns"
      ],
      "execution_count": null,
      "outputs": [
        {
          "output_type": "execute_result",
          "data": {
            "text/plain": [
              "Index(['article_id', 'comment_counter', 'title', 'globe_url', 'url',\n",
              "       'comment_text', 'is_constructive', 'is_constructive:confidence',\n",
              "       'toxicity_level', 'toxicity_level:confidence',\n",
              "       'did_you_read_the_article', 'did_you_read_the_article:confidence',\n",
              "       'annotator_comments', 'expert_is_constructive', 'expert_toxicity_level',\n",
              "       'expert_comments'],\n",
              "      dtype='object')"
            ]
          },
          "metadata": {
            "tags": []
          },
          "execution_count": 53
        }
      ]
    },
    {
      "cell_type": "code",
      "metadata": {
        "colab": {
          "base_uri": "https://localhost:8080/",
          "height": 163
        },
        "id": "dlq7eqx_2sUP",
        "outputId": "f64390b0-4f3d-4e2e-def6-fb394732083f"
      },
      "source": [
        "#What does the text look like?\r\n",
        "articles[\"article_text\"][20]"
      ],
      "execution_count": null,
      "outputs": [
        {
          "output_type": "execute_result",
          "data": {
            "application/vnd.google.colaboratory.intrinsic+json": {
              "type": "string"
            },
            "text/plain": [
              "\"<p>It's good to be a firefighter, especially if you live in a small town. You're one of the best-paid guys around. You get lots and lots of time off to go fishing or hunting or run your own business on the side. And your union always gets its way.</p><p>There's just one problem. The people you work for can't afford you anymore.</p><p>'We're spending 25 per cent of our operating budget on firefighters,' Ted Luciani, the mayor of Thorold, Ont., told me the other day. 'It's not sustainable. We've hit the wall.'</p><p>Thorold is a middle-class town of 18,500 in southwestern Ontario. It has 15 significant structure-related fires a year, the mayor's office says. But although its 18 firefighters don't have much to do, they make big-city money. An arbitrator recently awarded them a retroactive 9.2 per cent raise that bumped their pay to $92,119. Similar settlements have been awarded throughout the province. Most of the people who make these towns' Sunshine List (because their compensation is over $100,000) are cops and firefighters.</p><p>Firefighting is increasingly a lucrative part-time job. Starting next year, Thorold's firefighters will switch to 24-hour shifts, which means they'll work approximately seven shifts every 28 days. The advantages of this arrangement are obvious. Mayor Luciani is not happy about this change. He figures that overtime and sick-pay costs will increase. Besides, he fumes, 'We'll be paying them to sleep on the job.'</p><p>Municipalities that resist the union's demands can go to arbitration. But they virtually never win. Arbitrators simply hand the union whatever the last guys got. 'When the municipalities lose 100 to zero, there's something wrong,' the mayor argues. 'The arbitration system has to change.'</p><p>Thanks to better building materials and stiffer fire safety regulations, the number of fires across Canada has plunged. In big cities, only a small number of the calls to the fire service are for actual fires. (In Toronto, only 9.9 per cent of calls to the fire service in 2013 were about fires; in Calgary it was just 3.4 per cent.) But the number of firefighters just keeps going up. Thorold and other municipalities aren't able to cut staffing levels because of manning clauses in the contracts.</p><p>A new report by the Fraser Institute says the number of fires in Ontario fell by 41 per cent between 1997 and 2012, while the number of firefighters increased by 36 per cent. Although precise statistics aren't available for all of Canada, the national trends are the same. On top of that, firefighter compensation has risen faster than inflation, according to the report.</p><p>The firefighters' union does not want to acknowledge any of this. Its strategy is to try to discredit and intimidate its critics, while reminding us that firefighters risk their lives on our behalf. They like to warn that any effort to challenge its demands will put the public at risk of frying in their beds. They insist that firefighters do extremely valuable work when they're not fighting fires, such as training, prevention, public education, inspections, and pre-fire planning, to say nothing of sending their big red trucks screaming through the streets to rescue people in car accidents.</p><p>I have respect for firefighters. They're brave people and they do their jobs well, so far as I know. But their union is far too powerful for the public good. The arbitration system is broken, too. Although arbitrators are supposed to consider a town's ability to pay, in fact they don't. As a result, firefighters and cops are eating up a bigger and bigger piece of municipal budgets, and leaving less and less money for parks and libraries and everything else.</p><p>The firefighters' sense of entitlement is rapidly exhausting the goodwill of the public, who are increasingly fed up at their high salaries and cushy working conditions. 'Yes, they save lives,' Mayor Luciani says. 'But nurses save lives too. And look how hard they work. When nurses go on shift they're working every minute. They save lives every day.'</p><p>Thorold's wrangle with the firefighters is over for now, but not for long. This dispute take years to settle. They'll be back to the bargaining table in January.\\\\</p><p>Clarification: The original newspaper version and an earlier online version of this column estimatedthere were maybe 10 to 15 fires a year in Thorold, Ont. The mayor's office now confirms that there were 15 significant structure-related calls resulting in $960,000 of fire loss in 2014. This online version has been updated.</p><p> </p>\""
            ]
          },
          "metadata": {
            "tags": []
          },
          "execution_count": 19
        }
      ]
    },
    {
      "cell_type": "code",
      "metadata": {
        "colab": {
          "base_uri": "https://localhost:8080/"
        },
        "id": "TphS-OJL8Nju",
        "outputId": "95f24b3e-9a44-4337-cbc9-b2713dd38b05"
      },
      "source": [
        "#appraisal dictionary\r\n",
        "import json\r\n",
        "\r\n",
        "file = \"exportedproject5207298023855609783.json\"\r\n",
        "#with open(file) as appraisal:\r\n",
        "#    dict_appraisal = json.load(appraisal)\r\n",
        "\r\n",
        "#print(pd.json_normalize(dict_appraisal))\r\n"
      ],
      "execution_count": null,
      "outputs": [
        {
          "output_type": "stream",
          "text": [
            "        name description  ... disableExport  script_direction\n",
            "0  Appraisal        None  ...         False               LTR\n",
            "\n",
            "[1 rows x 12 columns]\n"
          ],
          "name": "stdout"
        }
      ]
    },
    {
      "cell_type": "code",
      "metadata": {
        "colab": {
          "base_uri": "https://localhost:8080/",
          "height": 421
        },
        "id": "_lnqfKFMdccC",
        "outputId": "d5175d59-898d-4c1b-b49b-170ce07e8069"
      },
      "source": [
        "df = pd.read_json(file,orient='index')\r\n",
        "df"
      ],
      "execution_count": null,
      "outputs": [
        {
          "output_type": "execute_result",
          "data": {
            "text/html": [
              "<div>\n",
              "<style scoped>\n",
              "    .dataframe tbody tr th:only-of-type {\n",
              "        vertical-align: middle;\n",
              "    }\n",
              "\n",
              "    .dataframe tbody tr th {\n",
              "        vertical-align: top;\n",
              "    }\n",
              "\n",
              "    .dataframe thead th {\n",
              "        text-align: right;\n",
              "    }\n",
              "</style>\n",
              "<table border=\"1\" class=\"dataframe\">\n",
              "  <thead>\n",
              "    <tr style=\"text-align: right;\">\n",
              "      <th></th>\n",
              "      <th>0</th>\n",
              "    </tr>\n",
              "  </thead>\n",
              "  <tbody>\n",
              "    <tr>\n",
              "      <th>name</th>\n",
              "      <td>Appraisal</td>\n",
              "    </tr>\n",
              "    <tr>\n",
              "      <th>description</th>\n",
              "      <td>None</td>\n",
              "    </tr>\n",
              "    <tr>\n",
              "      <th>mode</th>\n",
              "      <td>ANNOTATION</td>\n",
              "    </tr>\n",
              "    <tr>\n",
              "      <th>version</th>\n",
              "      <td>1</td>\n",
              "    </tr>\n",
              "    <tr>\n",
              "      <th>source_documents</th>\n",
              "      <td>[{'name': 'aboriginal_1.txt', 'format': 'text'...</td>\n",
              "    </tr>\n",
              "    <tr>\n",
              "      <th>annotation_documents</th>\n",
              "      <td>[{'name': 'aboriginal_1.txt', 'user': 'Luca', ...</td>\n",
              "    </tr>\n",
              "    <tr>\n",
              "      <th>project_permissions</th>\n",
              "      <td>[{'level': 'USER', 'user': 'Erin'}, {'level': ...</td>\n",
              "    </tr>\n",
              "    <tr>\n",
              "      <th>tag_sets</th>\n",
              "      <td>[{'name': 'Appraisal', 'typeUiName': None, 'de...</td>\n",
              "    </tr>\n",
              "    <tr>\n",
              "      <th>layers</th>\n",
              "      <td>[{'name': 'webanno.custom.Attitude__', 'featur...</td>\n",
              "    </tr>\n",
              "    <tr>\n",
              "      <th>mira_templates</th>\n",
              "      <td>[]</td>\n",
              "    </tr>\n",
              "    <tr>\n",
              "      <th>disableExport</th>\n",
              "      <td>False</td>\n",
              "    </tr>\n",
              "    <tr>\n",
              "      <th>script_direction</th>\n",
              "      <td>LTR</td>\n",
              "    </tr>\n",
              "  </tbody>\n",
              "</table>\n",
              "</div>"
            ],
            "text/plain": [
              "                                                                      0\n",
              "name                                                          Appraisal\n",
              "description                                                        None\n",
              "mode                                                         ANNOTATION\n",
              "version                                                               1\n",
              "source_documents      [{'name': 'aboriginal_1.txt', 'format': 'text'...\n",
              "annotation_documents  [{'name': 'aboriginal_1.txt', 'user': 'Luca', ...\n",
              "project_permissions   [{'level': 'USER', 'user': 'Erin'}, {'level': ...\n",
              "tag_sets              [{'name': 'Appraisal', 'typeUiName': None, 'de...\n",
              "layers                [{'name': 'webanno.custom.Attitude__', 'featur...\n",
              "mira_templates                                                       []\n",
              "disableExport                                                     False\n",
              "script_direction                                                    LTR"
            ]
          },
          "metadata": {
            "tags": []
          },
          "execution_count": 95
        }
      ]
    },
    {
      "cell_type": "code",
      "metadata": {
        "id": "GXEZrYvpjQ5M"
      },
      "source": [
        ""
      ],
      "execution_count": null,
      "outputs": []
    },
    {
      "cell_type": "code",
      "metadata": {
        "id": "32i7xISTjQvp"
      },
      "source": [
        ""
      ],
      "execution_count": null,
      "outputs": []
    }
  ]
}
