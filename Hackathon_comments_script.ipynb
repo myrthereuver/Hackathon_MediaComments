{
  "nbformat": 4,
  "nbformat_minor": 0,
  "metadata": {
    "colab": {
      "name": "Hackathon_comments_script.ipynb",
      "provenance": [],
      "collapsed_sections": [
        "btwGaisga4PJ",
        "8cg0Sp4dRPeV",
        "0HuNvHeZbE-K",
        "C1uq5mQnF2Fy"
      ],
      "toc_visible": true
    },
    "kernelspec": {
      "display_name": "Python 3",
      "name": "python3"
    },
    "widgets": {
      "application/vnd.jupyter.widget-state+json": {
        "cfe4dd61b7394220807b2a2e70c9a1d4": {
          "model_module": "@jupyter-widgets/controls",
          "model_name": "HBoxModel",
          "state": {
            "_dom_classes": [],
            "_model_module": "@jupyter-widgets/controls",
            "_model_module_version": "1.5.0",
            "_model_name": "HBoxModel",
            "_view_count": null,
            "_view_module": "@jupyter-widgets/controls",
            "_view_module_version": "1.5.0",
            "_view_name": "HBoxView",
            "box_style": "",
            "children": [
              "IPY_MODEL_bcb850b194784b20b55ea9dfeb19c788",
              "IPY_MODEL_0cbab36eb040426ba73c3878b00767a1"
            ],
            "layout": "IPY_MODEL_96bf91d421a54f878f650a76063156fc"
          }
        },
        "bcb850b194784b20b55ea9dfeb19c788": {
          "model_module": "@jupyter-widgets/controls",
          "model_name": "FloatProgressModel",
          "state": {
            "_dom_classes": [],
            "_model_module": "@jupyter-widgets/controls",
            "_model_module_version": "1.5.0",
            "_model_name": "FloatProgressModel",
            "_view_count": null,
            "_view_module": "@jupyter-widgets/controls",
            "_view_module_version": "1.5.0",
            "_view_name": "ProgressView",
            "bar_style": "success",
            "description": "Downloading: 100%",
            "description_tooltip": null,
            "layout": "IPY_MODEL_6e2d2b94293542b8bb1b89f2a86b2145",
            "max": 433,
            "min": 0,
            "orientation": "horizontal",
            "style": "IPY_MODEL_399501a812a945c1ba3019785a6a385f",
            "value": 433
          }
        },
        "0cbab36eb040426ba73c3878b00767a1": {
          "model_module": "@jupyter-widgets/controls",
          "model_name": "HTMLModel",
          "state": {
            "_dom_classes": [],
            "_model_module": "@jupyter-widgets/controls",
            "_model_module_version": "1.5.0",
            "_model_name": "HTMLModel",
            "_view_count": null,
            "_view_module": "@jupyter-widgets/controls",
            "_view_module_version": "1.5.0",
            "_view_name": "HTMLView",
            "description": "",
            "description_tooltip": null,
            "layout": "IPY_MODEL_edbed31b733840a9831e0885d75ac579",
            "placeholder": "​",
            "style": "IPY_MODEL_b536720b07814dbd84f5e43df6310aaf",
            "value": " 433/433 [00:00&lt;00:00, 12.6kB/s]"
          }
        },
        "96bf91d421a54f878f650a76063156fc": {
          "model_module": "@jupyter-widgets/base",
          "model_name": "LayoutModel",
          "state": {
            "_model_module": "@jupyter-widgets/base",
            "_model_module_version": "1.2.0",
            "_model_name": "LayoutModel",
            "_view_count": null,
            "_view_module": "@jupyter-widgets/base",
            "_view_module_version": "1.2.0",
            "_view_name": "LayoutView",
            "align_content": null,
            "align_items": null,
            "align_self": null,
            "border": null,
            "bottom": null,
            "display": null,
            "flex": null,
            "flex_flow": null,
            "grid_area": null,
            "grid_auto_columns": null,
            "grid_auto_flow": null,
            "grid_auto_rows": null,
            "grid_column": null,
            "grid_gap": null,
            "grid_row": null,
            "grid_template_areas": null,
            "grid_template_columns": null,
            "grid_template_rows": null,
            "height": null,
            "justify_content": null,
            "justify_items": null,
            "left": null,
            "margin": null,
            "max_height": null,
            "max_width": null,
            "min_height": null,
            "min_width": null,
            "object_fit": null,
            "object_position": null,
            "order": null,
            "overflow": null,
            "overflow_x": null,
            "overflow_y": null,
            "padding": null,
            "right": null,
            "top": null,
            "visibility": null,
            "width": null
          }
        },
        "6e2d2b94293542b8bb1b89f2a86b2145": {
          "model_module": "@jupyter-widgets/base",
          "model_name": "LayoutModel",
          "state": {
            "_model_module": "@jupyter-widgets/base",
            "_model_module_version": "1.2.0",
            "_model_name": "LayoutModel",
            "_view_count": null,
            "_view_module": "@jupyter-widgets/base",
            "_view_module_version": "1.2.0",
            "_view_name": "LayoutView",
            "align_content": null,
            "align_items": null,
            "align_self": null,
            "border": null,
            "bottom": null,
            "display": null,
            "flex": null,
            "flex_flow": null,
            "grid_area": null,
            "grid_auto_columns": null,
            "grid_auto_flow": null,
            "grid_auto_rows": null,
            "grid_column": null,
            "grid_gap": null,
            "grid_row": null,
            "grid_template_areas": null,
            "grid_template_columns": null,
            "grid_template_rows": null,
            "height": null,
            "justify_content": null,
            "justify_items": null,
            "left": null,
            "margin": null,
            "max_height": null,
            "max_width": null,
            "min_height": null,
            "min_width": null,
            "object_fit": null,
            "object_position": null,
            "order": null,
            "overflow": null,
            "overflow_x": null,
            "overflow_y": null,
            "padding": null,
            "right": null,
            "top": null,
            "visibility": null,
            "width": null
          }
        },
        "399501a812a945c1ba3019785a6a385f": {
          "model_module": "@jupyter-widgets/controls",
          "model_name": "ProgressStyleModel",
          "state": {
            "_model_module": "@jupyter-widgets/controls",
            "_model_module_version": "1.5.0",
            "_model_name": "ProgressStyleModel",
            "_view_count": null,
            "_view_module": "@jupyter-widgets/base",
            "_view_module_version": "1.2.0",
            "_view_name": "StyleView",
            "bar_color": null,
            "description_width": "initial"
          }
        },
        "edbed31b733840a9831e0885d75ac579": {
          "model_module": "@jupyter-widgets/base",
          "model_name": "LayoutModel",
          "state": {
            "_model_module": "@jupyter-widgets/base",
            "_model_module_version": "1.2.0",
            "_model_name": "LayoutModel",
            "_view_count": null,
            "_view_module": "@jupyter-widgets/base",
            "_view_module_version": "1.2.0",
            "_view_name": "LayoutView",
            "align_content": null,
            "align_items": null,
            "align_self": null,
            "border": null,
            "bottom": null,
            "display": null,
            "flex": null,
            "flex_flow": null,
            "grid_area": null,
            "grid_auto_columns": null,
            "grid_auto_flow": null,
            "grid_auto_rows": null,
            "grid_column": null,
            "grid_gap": null,
            "grid_row": null,
            "grid_template_areas": null,
            "grid_template_columns": null,
            "grid_template_rows": null,
            "height": null,
            "justify_content": null,
            "justify_items": null,
            "left": null,
            "margin": null,
            "max_height": null,
            "max_width": null,
            "min_height": null,
            "min_width": null,
            "object_fit": null,
            "object_position": null,
            "order": null,
            "overflow": null,
            "overflow_x": null,
            "overflow_y": null,
            "padding": null,
            "right": null,
            "top": null,
            "visibility": null,
            "width": null
          }
        },
        "b536720b07814dbd84f5e43df6310aaf": {
          "model_module": "@jupyter-widgets/controls",
          "model_name": "DescriptionStyleModel",
          "state": {
            "_model_module": "@jupyter-widgets/controls",
            "_model_module_version": "1.5.0",
            "_model_name": "DescriptionStyleModel",
            "_view_count": null,
            "_view_module": "@jupyter-widgets/base",
            "_view_module_version": "1.2.0",
            "_view_name": "StyleView",
            "description_width": ""
          }
        },
        "6ff7588be1064f2fa2a3640217b9706c": {
          "model_module": "@jupyter-widgets/controls",
          "model_name": "HBoxModel",
          "state": {
            "_dom_classes": [],
            "_model_module": "@jupyter-widgets/controls",
            "_model_module_version": "1.5.0",
            "_model_name": "HBoxModel",
            "_view_count": null,
            "_view_module": "@jupyter-widgets/controls",
            "_view_module_version": "1.5.0",
            "_view_name": "HBoxView",
            "box_style": "",
            "children": [
              "IPY_MODEL_ac07c481517f48559d22b670fb99ed0c",
              "IPY_MODEL_4dafab0ad0d14c6bacbc2718d127ee26"
            ],
            "layout": "IPY_MODEL_3d8ac82479e74524ae38471aef89576a"
          }
        },
        "ac07c481517f48559d22b670fb99ed0c": {
          "model_module": "@jupyter-widgets/controls",
          "model_name": "FloatProgressModel",
          "state": {
            "_dom_classes": [],
            "_model_module": "@jupyter-widgets/controls",
            "_model_module_version": "1.5.0",
            "_model_name": "FloatProgressModel",
            "_view_count": null,
            "_view_module": "@jupyter-widgets/controls",
            "_view_module_version": "1.5.0",
            "_view_name": "ProgressView",
            "bar_style": "success",
            "description": "Downloading: 100%",
            "description_tooltip": null,
            "layout": "IPY_MODEL_65ec311f38ec47e3a19be97e60ba2f87",
            "max": 213450,
            "min": 0,
            "orientation": "horizontal",
            "style": "IPY_MODEL_dd12d1f891a94c188d5cb935649447a8",
            "value": 213450
          }
        },
        "4dafab0ad0d14c6bacbc2718d127ee26": {
          "model_module": "@jupyter-widgets/controls",
          "model_name": "HTMLModel",
          "state": {
            "_dom_classes": [],
            "_model_module": "@jupyter-widgets/controls",
            "_model_module_version": "1.5.0",
            "_model_name": "HTMLModel",
            "_view_count": null,
            "_view_module": "@jupyter-widgets/controls",
            "_view_module_version": "1.5.0",
            "_view_name": "HTMLView",
            "description": "",
            "description_tooltip": null,
            "layout": "IPY_MODEL_aa9f6a28be5542cc8275386ec64e8f9c",
            "placeholder": "​",
            "style": "IPY_MODEL_0f8fbc6243244ec9a02ad7f176aa3f0e",
            "value": " 213k/213k [06:07&lt;00:00, 580B/s]"
          }
        },
        "3d8ac82479e74524ae38471aef89576a": {
          "model_module": "@jupyter-widgets/base",
          "model_name": "LayoutModel",
          "state": {
            "_model_module": "@jupyter-widgets/base",
            "_model_module_version": "1.2.0",
            "_model_name": "LayoutModel",
            "_view_count": null,
            "_view_module": "@jupyter-widgets/base",
            "_view_module_version": "1.2.0",
            "_view_name": "LayoutView",
            "align_content": null,
            "align_items": null,
            "align_self": null,
            "border": null,
            "bottom": null,
            "display": null,
            "flex": null,
            "flex_flow": null,
            "grid_area": null,
            "grid_auto_columns": null,
            "grid_auto_flow": null,
            "grid_auto_rows": null,
            "grid_column": null,
            "grid_gap": null,
            "grid_row": null,
            "grid_template_areas": null,
            "grid_template_columns": null,
            "grid_template_rows": null,
            "height": null,
            "justify_content": null,
            "justify_items": null,
            "left": null,
            "margin": null,
            "max_height": null,
            "max_width": null,
            "min_height": null,
            "min_width": null,
            "object_fit": null,
            "object_position": null,
            "order": null,
            "overflow": null,
            "overflow_x": null,
            "overflow_y": null,
            "padding": null,
            "right": null,
            "top": null,
            "visibility": null,
            "width": null
          }
        },
        "65ec311f38ec47e3a19be97e60ba2f87": {
          "model_module": "@jupyter-widgets/base",
          "model_name": "LayoutModel",
          "state": {
            "_model_module": "@jupyter-widgets/base",
            "_model_module_version": "1.2.0",
            "_model_name": "LayoutModel",
            "_view_count": null,
            "_view_module": "@jupyter-widgets/base",
            "_view_module_version": "1.2.0",
            "_view_name": "LayoutView",
            "align_content": null,
            "align_items": null,
            "align_self": null,
            "border": null,
            "bottom": null,
            "display": null,
            "flex": null,
            "flex_flow": null,
            "grid_area": null,
            "grid_auto_columns": null,
            "grid_auto_flow": null,
            "grid_auto_rows": null,
            "grid_column": null,
            "grid_gap": null,
            "grid_row": null,
            "grid_template_areas": null,
            "grid_template_columns": null,
            "grid_template_rows": null,
            "height": null,
            "justify_content": null,
            "justify_items": null,
            "left": null,
            "margin": null,
            "max_height": null,
            "max_width": null,
            "min_height": null,
            "min_width": null,
            "object_fit": null,
            "object_position": null,
            "order": null,
            "overflow": null,
            "overflow_x": null,
            "overflow_y": null,
            "padding": null,
            "right": null,
            "top": null,
            "visibility": null,
            "width": null
          }
        },
        "dd12d1f891a94c188d5cb935649447a8": {
          "model_module": "@jupyter-widgets/controls",
          "model_name": "ProgressStyleModel",
          "state": {
            "_model_module": "@jupyter-widgets/controls",
            "_model_module_version": "1.5.0",
            "_model_name": "ProgressStyleModel",
            "_view_count": null,
            "_view_module": "@jupyter-widgets/base",
            "_view_module_version": "1.2.0",
            "_view_name": "StyleView",
            "bar_color": null,
            "description_width": "initial"
          }
        },
        "aa9f6a28be5542cc8275386ec64e8f9c": {
          "model_module": "@jupyter-widgets/base",
          "model_name": "LayoutModel",
          "state": {
            "_model_module": "@jupyter-widgets/base",
            "_model_module_version": "1.2.0",
            "_model_name": "LayoutModel",
            "_view_count": null,
            "_view_module": "@jupyter-widgets/base",
            "_view_module_version": "1.2.0",
            "_view_name": "LayoutView",
            "align_content": null,
            "align_items": null,
            "align_self": null,
            "border": null,
            "bottom": null,
            "display": null,
            "flex": null,
            "flex_flow": null,
            "grid_area": null,
            "grid_auto_columns": null,
            "grid_auto_flow": null,
            "grid_auto_rows": null,
            "grid_column": null,
            "grid_gap": null,
            "grid_row": null,
            "grid_template_areas": null,
            "grid_template_columns": null,
            "grid_template_rows": null,
            "height": null,
            "justify_content": null,
            "justify_items": null,
            "left": null,
            "margin": null,
            "max_height": null,
            "max_width": null,
            "min_height": null,
            "min_width": null,
            "object_fit": null,
            "object_position": null,
            "order": null,
            "overflow": null,
            "overflow_x": null,
            "overflow_y": null,
            "padding": null,
            "right": null,
            "top": null,
            "visibility": null,
            "width": null
          }
        },
        "0f8fbc6243244ec9a02ad7f176aa3f0e": {
          "model_module": "@jupyter-widgets/controls",
          "model_name": "DescriptionStyleModel",
          "state": {
            "_model_module": "@jupyter-widgets/controls",
            "_model_module_version": "1.5.0",
            "_model_name": "DescriptionStyleModel",
            "_view_count": null,
            "_view_module": "@jupyter-widgets/base",
            "_view_module_version": "1.2.0",
            "_view_name": "StyleView",
            "description_width": ""
          }
        },
        "c21c571d95f54a3788b93ddfa688f004": {
          "model_module": "@jupyter-widgets/controls",
          "model_name": "HBoxModel",
          "state": {
            "_dom_classes": [],
            "_model_module": "@jupyter-widgets/controls",
            "_model_module_version": "1.5.0",
            "_model_name": "HBoxModel",
            "_view_count": null,
            "_view_module": "@jupyter-widgets/controls",
            "_view_module_version": "1.5.0",
            "_view_name": "HBoxView",
            "box_style": "",
            "children": [
              "IPY_MODEL_3cb5dbc2c51646bda04a95e6cf75f2f0",
              "IPY_MODEL_21450ebad0de4bf1997d95307a2c250a"
            ],
            "layout": "IPY_MODEL_b988f2de0a624f75be73bff359014ff2"
          }
        },
        "3cb5dbc2c51646bda04a95e6cf75f2f0": {
          "model_module": "@jupyter-widgets/controls",
          "model_name": "FloatProgressModel",
          "state": {
            "_dom_classes": [],
            "_model_module": "@jupyter-widgets/controls",
            "_model_module_version": "1.5.0",
            "_model_name": "FloatProgressModel",
            "_view_count": null,
            "_view_module": "@jupyter-widgets/controls",
            "_view_module_version": "1.5.0",
            "_view_name": "ProgressView",
            "bar_style": "success",
            "description": "Downloading: 100%",
            "description_tooltip": null,
            "layout": "IPY_MODEL_78ea793fff5d48ec8ac896fdba2c7635",
            "max": 435797,
            "min": 0,
            "orientation": "horizontal",
            "style": "IPY_MODEL_6caeb7ae7ff549bcb47dd5777d25fd73",
            "value": 435797
          }
        },
        "21450ebad0de4bf1997d95307a2c250a": {
          "model_module": "@jupyter-widgets/controls",
          "model_name": "HTMLModel",
          "state": {
            "_dom_classes": [],
            "_model_module": "@jupyter-widgets/controls",
            "_model_module_version": "1.5.0",
            "_model_name": "HTMLModel",
            "_view_count": null,
            "_view_module": "@jupyter-widgets/controls",
            "_view_module_version": "1.5.0",
            "_view_name": "HTMLView",
            "description": "",
            "description_tooltip": null,
            "layout": "IPY_MODEL_3e35c1263f524350913777e3d8f168de",
            "placeholder": "​",
            "style": "IPY_MODEL_d428236904f743dfaead41105103d368",
            "value": " 436k/436k [06:05&lt;00:00, 1.19kB/s]"
          }
        },
        "b988f2de0a624f75be73bff359014ff2": {
          "model_module": "@jupyter-widgets/base",
          "model_name": "LayoutModel",
          "state": {
            "_model_module": "@jupyter-widgets/base",
            "_model_module_version": "1.2.0",
            "_model_name": "LayoutModel",
            "_view_count": null,
            "_view_module": "@jupyter-widgets/base",
            "_view_module_version": "1.2.0",
            "_view_name": "LayoutView",
            "align_content": null,
            "align_items": null,
            "align_self": null,
            "border": null,
            "bottom": null,
            "display": null,
            "flex": null,
            "flex_flow": null,
            "grid_area": null,
            "grid_auto_columns": null,
            "grid_auto_flow": null,
            "grid_auto_rows": null,
            "grid_column": null,
            "grid_gap": null,
            "grid_row": null,
            "grid_template_areas": null,
            "grid_template_columns": null,
            "grid_template_rows": null,
            "height": null,
            "justify_content": null,
            "justify_items": null,
            "left": null,
            "margin": null,
            "max_height": null,
            "max_width": null,
            "min_height": null,
            "min_width": null,
            "object_fit": null,
            "object_position": null,
            "order": null,
            "overflow": null,
            "overflow_x": null,
            "overflow_y": null,
            "padding": null,
            "right": null,
            "top": null,
            "visibility": null,
            "width": null
          }
        },
        "78ea793fff5d48ec8ac896fdba2c7635": {
          "model_module": "@jupyter-widgets/base",
          "model_name": "LayoutModel",
          "state": {
            "_model_module": "@jupyter-widgets/base",
            "_model_module_version": "1.2.0",
            "_model_name": "LayoutModel",
            "_view_count": null,
            "_view_module": "@jupyter-widgets/base",
            "_view_module_version": "1.2.0",
            "_view_name": "LayoutView",
            "align_content": null,
            "align_items": null,
            "align_self": null,
            "border": null,
            "bottom": null,
            "display": null,
            "flex": null,
            "flex_flow": null,
            "grid_area": null,
            "grid_auto_columns": null,
            "grid_auto_flow": null,
            "grid_auto_rows": null,
            "grid_column": null,
            "grid_gap": null,
            "grid_row": null,
            "grid_template_areas": null,
            "grid_template_columns": null,
            "grid_template_rows": null,
            "height": null,
            "justify_content": null,
            "justify_items": null,
            "left": null,
            "margin": null,
            "max_height": null,
            "max_width": null,
            "min_height": null,
            "min_width": null,
            "object_fit": null,
            "object_position": null,
            "order": null,
            "overflow": null,
            "overflow_x": null,
            "overflow_y": null,
            "padding": null,
            "right": null,
            "top": null,
            "visibility": null,
            "width": null
          }
        },
        "6caeb7ae7ff549bcb47dd5777d25fd73": {
          "model_module": "@jupyter-widgets/controls",
          "model_name": "ProgressStyleModel",
          "state": {
            "_model_module": "@jupyter-widgets/controls",
            "_model_module_version": "1.5.0",
            "_model_name": "ProgressStyleModel",
            "_view_count": null,
            "_view_module": "@jupyter-widgets/base",
            "_view_module_version": "1.2.0",
            "_view_name": "StyleView",
            "bar_color": null,
            "description_width": "initial"
          }
        },
        "3e35c1263f524350913777e3d8f168de": {
          "model_module": "@jupyter-widgets/base",
          "model_name": "LayoutModel",
          "state": {
            "_model_module": "@jupyter-widgets/base",
            "_model_module_version": "1.2.0",
            "_model_name": "LayoutModel",
            "_view_count": null,
            "_view_module": "@jupyter-widgets/base",
            "_view_module_version": "1.2.0",
            "_view_name": "LayoutView",
            "align_content": null,
            "align_items": null,
            "align_self": null,
            "border": null,
            "bottom": null,
            "display": null,
            "flex": null,
            "flex_flow": null,
            "grid_area": null,
            "grid_auto_columns": null,
            "grid_auto_flow": null,
            "grid_auto_rows": null,
            "grid_column": null,
            "grid_gap": null,
            "grid_row": null,
            "grid_template_areas": null,
            "grid_template_columns": null,
            "grid_template_rows": null,
            "height": null,
            "justify_content": null,
            "justify_items": null,
            "left": null,
            "margin": null,
            "max_height": null,
            "max_width": null,
            "min_height": null,
            "min_width": null,
            "object_fit": null,
            "object_position": null,
            "order": null,
            "overflow": null,
            "overflow_x": null,
            "overflow_y": null,
            "padding": null,
            "right": null,
            "top": null,
            "visibility": null,
            "width": null
          }
        },
        "d428236904f743dfaead41105103d368": {
          "model_module": "@jupyter-widgets/controls",
          "model_name": "DescriptionStyleModel",
          "state": {
            "_model_module": "@jupyter-widgets/controls",
            "_model_module_version": "1.5.0",
            "_model_name": "DescriptionStyleModel",
            "_view_count": null,
            "_view_module": "@jupyter-widgets/base",
            "_view_module_version": "1.2.0",
            "_view_name": "StyleView",
            "description_width": ""
          }
        }
      }
    }
  },
  "cells": [
    {
      "cell_type": "markdown",
      "metadata": {
        "id": "0EwuWEaLJo17"
      },
      "source": [
        "#Mounting Drive"
      ]
    },
    {
      "cell_type": "code",
      "metadata": {
        "id": "ujacUeBEr7Ud"
      },
      "source": [
        "import pandas as pd\n",
        "pd.options.display.max_seq_items = 200000\n",
        "pd.options.display.max_colwidth = 100"
      ],
      "execution_count": 6,
      "outputs": []
    },
    {
      "cell_type": "code",
      "metadata": {
        "colab": {
          "base_uri": "https://localhost:8080/"
        },
        "id": "3xB0tHPsrMAi",
        "outputId": "3c177893-1eed-4a7a-f08f-c2c2b3da4eb5"
      },
      "source": [
        "#mounting this to my drive to access the archive.zip zip file from Kaggle that has the NYTimes dataset\n",
        "\n",
        "from google.colab import drive\n",
        "drive.mount('/content/drive')"
      ],
      "execution_count": 7,
      "outputs": [
        {
          "output_type": "stream",
          "text": [
            "Drive already mounted at /content/drive; to attempt to forcibly remount, call drive.mount(\"/content/drive\", force_remount=True).\n"
          ],
          "name": "stdout"
        }
      ]
    },
    {
      "cell_type": "markdown",
      "metadata": {
        "id": "sdlSn1I7JKHP"
      },
      "source": [
        "# **NYTIMES dataset**\n",
        "\n"
      ]
    },
    {
      "cell_type": "markdown",
      "metadata": {
        "id": "dqDPYQW9JxAI"
      },
      "source": [
        "##Loading the data"
      ]
    },
    {
      "cell_type": "code",
      "metadata": {
        "id": "9asHGlzsrZqh"
      },
      "source": [
        "## Unzip the NYTimes comments files\n",
        "\n",
        "import zipfile\n",
        "\n",
        "zip_ref = zipfile.ZipFile(\"/content/drive/MyDrive/Colab Notebooks/archive.zip\", \"r\")\n",
        "zip_ref.extractall()\n",
        "zip_ref.close()"
      ],
      "execution_count": 8,
      "outputs": []
    },
    {
      "cell_type": "code",
      "metadata": {
        "colab": {
          "base_uri": "https://localhost:8080/",
          "height": 543
        },
        "id": "OoGJuQwq8TrN",
        "outputId": "f5fd4056-3a1f-4f43-d8c5-2d783feebb57"
      },
      "source": [
        "## Read all article + comments files, and combine them in one dataframe for each with pandas\n",
        "import glob\n",
        "import pandas as pd\n",
        "\n",
        "df_allcomments = pd.concat([pd.read_csv(f) for f in glob.glob('/content/Comments*.csv')])\n",
        "\n",
        "df_allarticles = pd.concat([pd.read_csv(f) for f in glob.glob('/content/Articles*.csv')])\n",
        "\n",
        "df_allcomments[:2]"
      ],
      "execution_count": 15,
      "outputs": [
        {
          "output_type": "stream",
          "text": [
            "/usr/local/lib/python3.6/dist-packages/IPython/core/interactiveshell.py:2822: DtypeWarning: Columns (14,15,31,32) have mixed types.Specify dtype option on import or set low_memory=False.\n",
            "  if self.run_code(code, result):\n",
            "/usr/local/lib/python3.6/dist-packages/IPython/core/interactiveshell.py:2822: DtypeWarning: Columns (32) have mixed types.Specify dtype option on import or set low_memory=False.\n",
            "  if self.run_code(code, result):\n",
            "/usr/local/lib/python3.6/dist-packages/IPython/core/interactiveshell.py:2822: DtypeWarning: Columns (14,15,31) have mixed types.Specify dtype option on import or set low_memory=False.\n",
            "  if self.run_code(code, result):\n",
            "/usr/local/lib/python3.6/dist-packages/IPython/core/interactiveshell.py:2822: DtypeWarning: Columns (25,26) have mixed types.Specify dtype option on import or set low_memory=False.\n",
            "  if self.run_code(code, result):\n",
            "/usr/local/lib/python3.6/dist-packages/IPython/core/interactiveshell.py:2822: DtypeWarning: Columns (32,33) have mixed types.Specify dtype option on import or set low_memory=False.\n",
            "  if self.run_code(code, result):\n"
          ],
          "name": "stderr"
        },
        {
          "output_type": "execute_result",
          "data": {
            "text/html": [
              "<div>\n",
              "<style scoped>\n",
              "    .dataframe tbody tr th:only-of-type {\n",
              "        vertical-align: middle;\n",
              "    }\n",
              "\n",
              "    .dataframe tbody tr th {\n",
              "        vertical-align: top;\n",
              "    }\n",
              "\n",
              "    .dataframe thead th {\n",
              "        text-align: right;\n",
              "    }\n",
              "</style>\n",
              "<table border=\"1\" class=\"dataframe\">\n",
              "  <thead>\n",
              "    <tr style=\"text-align: right;\">\n",
              "      <th></th>\n",
              "      <th>approveDate</th>\n",
              "      <th>articleID</th>\n",
              "      <th>articleWordCount</th>\n",
              "      <th>commentBody</th>\n",
              "      <th>commentID</th>\n",
              "      <th>commentSequence</th>\n",
              "      <th>commentTitle</th>\n",
              "      <th>commentType</th>\n",
              "      <th>createDate</th>\n",
              "      <th>depth</th>\n",
              "      <th>editorsSelection</th>\n",
              "      <th>inReplyTo</th>\n",
              "      <th>newDesk</th>\n",
              "      <th>parentID</th>\n",
              "      <th>parentUserDisplayName</th>\n",
              "      <th>permID</th>\n",
              "      <th>picURL</th>\n",
              "      <th>printPage</th>\n",
              "      <th>recommendations</th>\n",
              "      <th>recommendedFlag</th>\n",
              "      <th>replyCount</th>\n",
              "      <th>reportAbuseFlag</th>\n",
              "      <th>sectionName</th>\n",
              "      <th>sharing</th>\n",
              "      <th>status</th>\n",
              "      <th>timespeople</th>\n",
              "      <th>trusted</th>\n",
              "      <th>updateDate</th>\n",
              "      <th>userDisplayName</th>\n",
              "      <th>userID</th>\n",
              "      <th>userLocation</th>\n",
              "      <th>userTitle</th>\n",
              "      <th>userURL</th>\n",
              "      <th>typeOfMaterial</th>\n",
              "    </tr>\n",
              "  </thead>\n",
              "  <tbody>\n",
              "    <tr>\n",
              "      <th>0</th>\n",
              "      <td>1483455908</td>\n",
              "      <td>58691a5795d0e039260788b9</td>\n",
              "      <td>1324.0</td>\n",
              "      <td>For all you Americans out there --- still rejoicing over the majority win of  Republicans over t...</td>\n",
              "      <td>20969730.0</td>\n",
              "      <td>20969730.0</td>\n",
              "      <td>&lt;br/&gt;</td>\n",
              "      <td>comment</td>\n",
              "      <td>1.483426e+09</td>\n",
              "      <td>1.0</td>\n",
              "      <td>0</td>\n",
              "      <td>0.0</td>\n",
              "      <td>National</td>\n",
              "      <td>0.0</td>\n",
              "      <td>NaN</td>\n",
              "      <td>20969730</td>\n",
              "      <td>https://graphics8.nytimes.com/images/apps/timespeople/none.png</td>\n",
              "      <td>1.0</td>\n",
              "      <td>5.0</td>\n",
              "      <td>NaN</td>\n",
              "      <td>0.0</td>\n",
              "      <td>NaN</td>\n",
              "      <td>Politics</td>\n",
              "      <td>0</td>\n",
              "      <td>approved</td>\n",
              "      <td>1.0</td>\n",
              "      <td>0.0</td>\n",
              "      <td>1483455908</td>\n",
              "      <td>N. Smith</td>\n",
              "      <td>64679318.0</td>\n",
              "      <td>New York City</td>\n",
              "      <td>NaN</td>\n",
              "      <td>NaN</td>\n",
              "      <td>News</td>\n",
              "    </tr>\n",
              "    <tr>\n",
              "      <th>1</th>\n",
              "      <td>1483455656</td>\n",
              "      <td>58691a5795d0e039260788b9</td>\n",
              "      <td>1324.0</td>\n",
              "      <td>Obamas policies may prove to be the least of this countrys worries.  The GOP has been emboldened...</td>\n",
              "      <td>20969325.0</td>\n",
              "      <td>20969325.0</td>\n",
              "      <td>&lt;br/&gt;</td>\n",
              "      <td>comment</td>\n",
              "      <td>1.483417e+09</td>\n",
              "      <td>1.0</td>\n",
              "      <td>0</td>\n",
              "      <td>0.0</td>\n",
              "      <td>National</td>\n",
              "      <td>0.0</td>\n",
              "      <td>NaN</td>\n",
              "      <td>20969325</td>\n",
              "      <td>https://graphics8.nytimes.com/images/apps/timespeople/none.png</td>\n",
              "      <td>1.0</td>\n",
              "      <td>3.0</td>\n",
              "      <td>NaN</td>\n",
              "      <td>0.0</td>\n",
              "      <td>NaN</td>\n",
              "      <td>Politics</td>\n",
              "      <td>0</td>\n",
              "      <td>approved</td>\n",
              "      <td>1.0</td>\n",
              "      <td>0.0</td>\n",
              "      <td>1483455656</td>\n",
              "      <td>Kilocharlie</td>\n",
              "      <td>69254188.0</td>\n",
              "      <td>Phoenix</td>\n",
              "      <td>NaN</td>\n",
              "      <td>NaN</td>\n",
              "      <td>News</td>\n",
              "    </tr>\n",
              "  </tbody>\n",
              "</table>\n",
              "</div>"
            ],
            "text/plain": [
              "   approveDate                 articleID  ...  userURL typeOfMaterial\n",
              "0   1483455908  58691a5795d0e039260788b9  ...      NaN           News\n",
              "1   1483455656  58691a5795d0e039260788b9  ...      NaN           News\n",
              "\n",
              "[2 rows x 34 columns]"
            ]
          },
          "metadata": {
            "tags": []
          },
          "execution_count": 15
        }
      ]
    },
    {
      "cell_type": "code",
      "metadata": {
        "colab": {
          "base_uri": "https://localhost:8080/",
          "height": 305
        },
        "id": "PYPLFT45rZuV",
        "outputId": "0473cdd5-ed9a-4d6e-b1e5-f5fced9ab48d"
      },
      "source": [
        "## Open one test file (feb 2018) file with pandas\n",
        "import pandas as pd\n",
        "\n",
        "feb2018article = pd.read_csv(\"/content/ArticlesFeb2018.csv\")\n",
        "feb2018comments = pd.read_csv(\"/content/CommentsFeb2018.csv\")\n",
        "\n",
        "feb2018article[:1]"
      ],
      "execution_count": 9,
      "outputs": [
        {
          "output_type": "stream",
          "text": [
            "/usr/local/lib/python3.6/dist-packages/IPython/core/interactiveshell.py:2718: DtypeWarning: Columns (32) have mixed types.Specify dtype option on import or set low_memory=False.\n",
            "  interactivity=interactivity, compiler=compiler, result=result)\n"
          ],
          "name": "stderr"
        },
        {
          "output_type": "execute_result",
          "data": {
            "text/html": [
              "<div>\n",
              "<style scoped>\n",
              "    .dataframe tbody tr th:only-of-type {\n",
              "        vertical-align: middle;\n",
              "    }\n",
              "\n",
              "    .dataframe tbody tr th {\n",
              "        vertical-align: top;\n",
              "    }\n",
              "\n",
              "    .dataframe thead th {\n",
              "        text-align: right;\n",
              "    }\n",
              "</style>\n",
              "<table border=\"1\" class=\"dataframe\">\n",
              "  <thead>\n",
              "    <tr style=\"text-align: right;\">\n",
              "      <th></th>\n",
              "      <th>articleID</th>\n",
              "      <th>byline</th>\n",
              "      <th>documentType</th>\n",
              "      <th>headline</th>\n",
              "      <th>keywords</th>\n",
              "      <th>multimedia</th>\n",
              "      <th>newDesk</th>\n",
              "      <th>printPage</th>\n",
              "      <th>pubDate</th>\n",
              "      <th>sectionName</th>\n",
              "      <th>snippet</th>\n",
              "      <th>source</th>\n",
              "      <th>typeOfMaterial</th>\n",
              "      <th>webURL</th>\n",
              "      <th>articleWordCount</th>\n",
              "    </tr>\n",
              "  </thead>\n",
              "  <tbody>\n",
              "    <tr>\n",
              "      <th>0</th>\n",
              "      <td>5a7258e410f40f00018bed7d</td>\n",
              "      <td>By NICHOLAS KRISTOF</td>\n",
              "      <td>article</td>\n",
              "      <td>I Stand  With the ‘She-Devils’</td>\n",
              "      <td>['Women and Girls', \"Women's Rights\", 'United States Politics and Government', '#MeToo Movement'...</td>\n",
              "      <td>68</td>\n",
              "      <td>OpEd</td>\n",
              "      <td>23</td>\n",
              "      <td>2018-02-01 00:01:36</td>\n",
              "      <td>Unknown</td>\n",
              "      <td>Progress on women’s rights was stalling, and then Donald Trump came along.</td>\n",
              "      <td>The New York Times</td>\n",
              "      <td>Op-Ed</td>\n",
              "      <td>https://www.nytimes.com/2018/01/31/opinion/courtland-sykes-senate-me-too.html</td>\n",
              "      <td>835</td>\n",
              "    </tr>\n",
              "  </tbody>\n",
              "</table>\n",
              "</div>"
            ],
            "text/plain": [
              "                  articleID  ... articleWordCount\n",
              "0  5a7258e410f40f00018bed7d  ...              835\n",
              "\n",
              "[1 rows x 15 columns]"
            ]
          },
          "metadata": {
            "tags": []
          },
          "execution_count": 9
        }
      ]
    },
    {
      "cell_type": "code",
      "metadata": {
        "colab": {
          "base_uri": "https://localhost:8080/",
          "height": 305
        },
        "id": "faWLm63huEcG",
        "outputId": "fd854f92-e18d-40c4-b142-67c9a873d2a9"
      },
      "source": [
        "## Open one test file (feb 2017) file with pandas\n",
        "import pandas as pd\n",
        "\n",
        "feb2017article = pd.read_csv(\"/content/ArticlesFeb2017.csv\")\n",
        "feb2017comments = pd.read_csv(\"/content/CommentsFeb2017.csv\")\n",
        "\n",
        "feb2017article[:1]"
      ],
      "execution_count": 10,
      "outputs": [
        {
          "output_type": "stream",
          "text": [
            "/usr/local/lib/python3.6/dist-packages/IPython/core/interactiveshell.py:2718: DtypeWarning: Columns (14,15,31,32) have mixed types.Specify dtype option on import or set low_memory=False.\n",
            "  interactivity=interactivity, compiler=compiler, result=result)\n"
          ],
          "name": "stderr"
        },
        {
          "output_type": "execute_result",
          "data": {
            "text/html": [
              "<div>\n",
              "<style scoped>\n",
              "    .dataframe tbody tr th:only-of-type {\n",
              "        vertical-align: middle;\n",
              "    }\n",
              "\n",
              "    .dataframe tbody tr th {\n",
              "        vertical-align: top;\n",
              "    }\n",
              "\n",
              "    .dataframe thead th {\n",
              "        text-align: right;\n",
              "    }\n",
              "</style>\n",
              "<table border=\"1\" class=\"dataframe\">\n",
              "  <thead>\n",
              "    <tr style=\"text-align: right;\">\n",
              "      <th></th>\n",
              "      <th>articleID</th>\n",
              "      <th>abstract</th>\n",
              "      <th>byline</th>\n",
              "      <th>documentType</th>\n",
              "      <th>headline</th>\n",
              "      <th>keywords</th>\n",
              "      <th>multimedia</th>\n",
              "      <th>newDesk</th>\n",
              "      <th>printPage</th>\n",
              "      <th>pubDate</th>\n",
              "      <th>sectionName</th>\n",
              "      <th>snippet</th>\n",
              "      <th>source</th>\n",
              "      <th>typeOfMaterial</th>\n",
              "      <th>webURL</th>\n",
              "      <th>articleWordCount</th>\n",
              "    </tr>\n",
              "  </thead>\n",
              "  <tbody>\n",
              "    <tr>\n",
              "      <th>0</th>\n",
              "      <td>58927e0495d0e0392607e1b3</td>\n",
              "      <td>NaN</td>\n",
              "      <td>By KEN BELSON</td>\n",
              "      <td>article</td>\n",
              "      <td>N.F.L. vs. Politics Has Been Battle All Season Long</td>\n",
              "      <td>['Football', 'Super Bowl', 'National Football League', 'New England Patriots', 'Goodell, Roger',...</td>\n",
              "      <td>1</td>\n",
              "      <td>Sports</td>\n",
              "      <td>12</td>\n",
              "      <td>2017-02-02 00:26:16</td>\n",
              "      <td>Pro Football</td>\n",
              "      <td>Despite the national tumult over immigration spilling over, Commissioner Roger Goodell said, “I’...</td>\n",
              "      <td>The New York Times</td>\n",
              "      <td>News</td>\n",
              "      <td>https://www.nytimes.com/2017/02/01/sports/super-bowl-politics-trump-nfl.html</td>\n",
              "      <td>1129</td>\n",
              "    </tr>\n",
              "  </tbody>\n",
              "</table>\n",
              "</div>"
            ],
            "text/plain": [
              "                  articleID  ... articleWordCount\n",
              "0  58927e0495d0e0392607e1b3  ...             1129\n",
              "\n",
              "[1 rows x 16 columns]"
            ]
          },
          "metadata": {
            "tags": []
          },
          "execution_count": 10
        }
      ]
    },
    {
      "cell_type": "markdown",
      "metadata": {
        "id": "FfWuUmnDQ4el"
      },
      "source": [
        "## Preprocessing the dataset"
      ]
    },
    {
      "cell_type": "code",
      "metadata": {
        "id": "m3gWrRzTrZv-"
      },
      "source": [
        "##Right now, each comment connected to one articleID, with three values per comment in a list: \n",
        "##[[comment_text], [is it recommended by editors (TRUE/FALSE)?], [How many likes for comment?] ]]]\n",
        "\n",
        "def connect_comments(comments, articles, extra_comment_column=None):\n",
        "\n",
        "  if extra_comment_column !=  None:\n",
        "    comments['comment_info'] = comments[['commentBody', 'editorsSelection', 'recommendations', 'commentID', 'articleID', extra_comment_column]].values.tolist() \n",
        "  else: \n",
        "    comments['comment_info'] = comments[['commentBody', 'editorsSelection', 'recommendations', 'commentID', 'articleID']].values.tolist() \n",
        "\n",
        "  groupings = comments.groupby('articleID', as_index=False)\n",
        "\n",
        "  df2 = pd.DataFrame([comments.loc[groupings.groups[n], 'comment_info'].values for n in groupings.groups], \n",
        "                    index=groupings.groups.keys())\n",
        "  \n",
        "  df2.columns = [\"Comment_\" + str(i + 1) for i in df2.columns]\n",
        "  df2.index.name = \"articleID\"\n",
        "\n",
        "  ##CONNECT THE COMMENTS TO THE INFORMATION ABOUT THE ARTICLE\n",
        "  ## Throw away variables that seem less important, but we could add those later if we want.\n",
        "\n",
        "  merged_dataframe = articles[['headline', 'keywords', 'sectionName', 'snippet', 'articleID']].merge(df2, on=\"articleID\")\n",
        "\n",
        "  merged_dataframe[:5]\n",
        "  return merged_dataframe\n",
        "\n"
      ],
      "execution_count": 11,
      "outputs": []
    },
    {
      "cell_type": "code",
      "metadata": {
        "id": "IMIf2Ry22ToF",
        "colab": {
          "base_uri": "https://localhost:8080/",
          "height": 520
        },
        "outputId": "0c329742-dfba-4814-a32f-1ec89f504ff5"
      },
      "source": [
        "connected_comments = connect_comments(feb2018comments, feb2018article)\n",
        "\n",
        "connected_comments[:2]"
      ],
      "execution_count": 12,
      "outputs": [
        {
          "output_type": "execute_result",
          "data": {
            "text/html": [
              "<div>\n",
              "<style scoped>\n",
              "    .dataframe tbody tr th:only-of-type {\n",
              "        vertical-align: middle;\n",
              "    }\n",
              "\n",
              "    .dataframe tbody tr th {\n",
              "        vertical-align: top;\n",
              "    }\n",
              "\n",
              "    .dataframe thead th {\n",
              "        text-align: right;\n",
              "    }\n",
              "</style>\n",
              "<table border=\"1\" class=\"dataframe\">\n",
              "  <thead>\n",
              "    <tr style=\"text-align: right;\">\n",
              "      <th></th>\n",
              "      <th>headline</th>\n",
              "      <th>keywords</th>\n",
              "      <th>sectionName</th>\n",
              "      <th>snippet</th>\n",
              "      <th>articleID</th>\n",
              "      <th>Comment_1</th>\n",
              "      <th>Comment_2</th>\n",
              "      <th>Comment_3</th>\n",
              "      <th>Comment_4</th>\n",
              "      <th>Comment_5</th>\n",
              "      <th>Comment_6</th>\n",
              "      <th>Comment_7</th>\n",
              "      <th>Comment_8</th>\n",
              "      <th>Comment_9</th>\n",
              "      <th>Comment_10</th>\n",
              "      <th>Comment_11</th>\n",
              "      <th>Comment_12</th>\n",
              "      <th>Comment_13</th>\n",
              "      <th>Comment_14</th>\n",
              "      <th>Comment_15</th>\n",
              "      <th>Comment_16</th>\n",
              "      <th>Comment_17</th>\n",
              "      <th>Comment_18</th>\n",
              "      <th>Comment_19</th>\n",
              "      <th>Comment_20</th>\n",
              "      <th>Comment_21</th>\n",
              "      <th>Comment_22</th>\n",
              "      <th>Comment_23</th>\n",
              "      <th>Comment_24</th>\n",
              "      <th>Comment_25</th>\n",
              "      <th>Comment_26</th>\n",
              "      <th>Comment_27</th>\n",
              "      <th>Comment_28</th>\n",
              "      <th>Comment_29</th>\n",
              "      <th>Comment_30</th>\n",
              "      <th>Comment_31</th>\n",
              "      <th>Comment_32</th>\n",
              "      <th>Comment_33</th>\n",
              "      <th>Comment_34</th>\n",
              "      <th>Comment_35</th>\n",
              "      <th>...</th>\n",
              "      <th>Comment_1745</th>\n",
              "      <th>Comment_1746</th>\n",
              "      <th>Comment_1747</th>\n",
              "      <th>Comment_1748</th>\n",
              "      <th>Comment_1749</th>\n",
              "      <th>Comment_1750</th>\n",
              "      <th>Comment_1751</th>\n",
              "      <th>Comment_1752</th>\n",
              "      <th>Comment_1753</th>\n",
              "      <th>Comment_1754</th>\n",
              "      <th>Comment_1755</th>\n",
              "      <th>Comment_1756</th>\n",
              "      <th>Comment_1757</th>\n",
              "      <th>Comment_1758</th>\n",
              "      <th>Comment_1759</th>\n",
              "      <th>Comment_1760</th>\n",
              "      <th>Comment_1761</th>\n",
              "      <th>Comment_1762</th>\n",
              "      <th>Comment_1763</th>\n",
              "      <th>Comment_1764</th>\n",
              "      <th>Comment_1765</th>\n",
              "      <th>Comment_1766</th>\n",
              "      <th>Comment_1767</th>\n",
              "      <th>Comment_1768</th>\n",
              "      <th>Comment_1769</th>\n",
              "      <th>Comment_1770</th>\n",
              "      <th>Comment_1771</th>\n",
              "      <th>Comment_1772</th>\n",
              "      <th>Comment_1773</th>\n",
              "      <th>Comment_1774</th>\n",
              "      <th>Comment_1775</th>\n",
              "      <th>Comment_1776</th>\n",
              "      <th>Comment_1777</th>\n",
              "      <th>Comment_1778</th>\n",
              "      <th>Comment_1779</th>\n",
              "      <th>Comment_1780</th>\n",
              "      <th>Comment_1781</th>\n",
              "      <th>Comment_1782</th>\n",
              "      <th>Comment_1783</th>\n",
              "      <th>Comment_1784</th>\n",
              "    </tr>\n",
              "  </thead>\n",
              "  <tbody>\n",
              "    <tr>\n",
              "      <th>0</th>\n",
              "      <td>I Stand  With the ‘She-Devils’</td>\n",
              "      <td>['Women and Girls', \"Women's Rights\", 'United States Politics and Government', '#MeToo Movement'...</td>\n",
              "      <td>Unknown</td>\n",
              "      <td>Progress on women’s rights was stalling, and then Donald Trump came along.</td>\n",
              "      <td>5a7258e410f40f00018bed7d</td>\n",
              "      <td>[The snake-filled heads comment made me think of Medusa.  &lt;br/&gt;&lt;br/&gt;I hope he loses, so retrogra...</td>\n",
              "      <td>[She-devil reporting for duty!, False, 2, 25795675.0, 5a7258e410f40f00018bed7d]</td>\n",
              "      <td>[XX is the new mark of the devil., False, 1, 25792078.0, 5a7258e410f40f00018bed7d]</td>\n",
              "      <td>[\"Courtland Sykes\" should be writing for The Onion, not running for office. , False, 6, 25791604...</td>\n",
              "      <td>[I happen to descend for a few of them, because we nasty women like to roam in PACs!  Isabella, ...</td>\n",
              "      <td>[I don't care about the details of this troglodyte's oddities. Thing is, in much of America, the...</td>\n",
              "      <td>[As I have grown older, the more I have learned about sexism, the more I want it gone.&lt;br/&gt;&lt;br/&gt;...</td>\n",
              "      <td>[“...a newfound freedom in the Age of Trump to say things that were previously beyond the pale.”...</td>\n",
              "      <td>[\"Many women, and some men, were horrified that a man who boasted of sexual assault could be ele...</td>\n",
              "      <td>[After reading about Sykes, I'm tempted to feel relief that McCaskill will have no problem holdi...</td>\n",
              "      <td>[I hate to say this about someone I love as much as I love you, Nicholas Kristof, but another re...</td>\n",
              "      <td>[Yes!  Yet another reason to hold Mr Kristof in the highest esteem.  The dignity of all humans i...</td>\n",
              "      <td>[Courtland Sykes might do well to heed a cautionary tale from NJ where, last January, Atlantic C...</td>\n",
              "      <td>[I used to joke about being a \"Feminazi\". But I stopped. There's something retrograde about thes...</td>\n",
              "      <td>[\"To be on the right side of history, we should all, men and women alike, stand on the side of t...</td>\n",
              "      <td>[While I see no value in Trump I see something more going on with the West.&lt;br/&gt;Here is what I s...</td>\n",
              "      <td>[What is the source of the statistic that says in 1987, only half of Americans believed wife-bea...</td>\n",
              "      <td>[Good job, sir. I agree one hundred percent. The voice rising from fearful anxious men or their ...</td>\n",
              "      <td>[Some more encouraging news from flyover country (aka Missouri). We aren't all dinosaurs like Sy...</td>\n",
              "      <td>[Men are such delicate and fragile creatures; always needing reassurance of our strength and vir...</td>\n",
              "      <td>[The comments regarding women, from some conservatives, are simply outdated. This is not an era ...</td>\n",
              "      <td>[Nicholas Kristof writes, “Why is a man writing this column? Frankly, because women’s rights are...</td>\n",
              "      <td>[Well it's quite clear Claire McCaskill will have no problem dispatching this anachronistic buff...</td>\n",
              "      <td>[Thank you Mr. Kristoff!  You are right, 'women's rights aren't just a woman's issues any more t...</td>\n",
              "      <td>[If I were Sykes I'd sign up for some cooking classes., False, 12, 25791841.0, 5a7258e410f40f000...</td>\n",
              "      <td>[Blessings on you from an fellow Oregonian!  We admire your continued stands for women's issues....</td>\n",
              "      <td>[A perfect column, Nick! Thank you&lt;br/&gt;very much.&lt;br/&gt;When Hillary Clinton lost the Electoral Co...</td>\n",
              "      <td>[The good news is -- it is much easier to fight against the tyranny of those you can identify. I...</td>\n",
              "      <td>[Hurray for Nasty Women....and She Devils!  The more, the better.&lt;br/&gt;&lt;br/&gt;Here's hoping that po...</td>\n",
              "      <td>[This is clearly a cock (in the sense of a chicken) and wants a hen.  There are lots of people w...</td>\n",
              "      <td>[Just another embarassment for Missouri.  You would have thought that Todd Akin would have been ...</td>\n",
              "      <td>[Sykes's statements are so absurd and so far out of the public mainstream to suggest that he may...</td>\n",
              "      <td>[Yes, we all know of the family-oriented, never straying habits of your liberal heroes in the pr...</td>\n",
              "      <td>[If the choice is either she-devil or servile breeding stock, I wouldn’t hesitate for even one s...</td>\n",
              "      <td>[\"A new Quinnipiac poll finds that 72 percent of Republicans consider Trump a good role model fo...</td>\n",
              "      <td>...</td>\n",
              "      <td>None</td>\n",
              "      <td>None</td>\n",
              "      <td>None</td>\n",
              "      <td>None</td>\n",
              "      <td>None</td>\n",
              "      <td>None</td>\n",
              "      <td>None</td>\n",
              "      <td>None</td>\n",
              "      <td>None</td>\n",
              "      <td>None</td>\n",
              "      <td>None</td>\n",
              "      <td>None</td>\n",
              "      <td>None</td>\n",
              "      <td>None</td>\n",
              "      <td>None</td>\n",
              "      <td>None</td>\n",
              "      <td>None</td>\n",
              "      <td>None</td>\n",
              "      <td>None</td>\n",
              "      <td>None</td>\n",
              "      <td>None</td>\n",
              "      <td>None</td>\n",
              "      <td>None</td>\n",
              "      <td>None</td>\n",
              "      <td>None</td>\n",
              "      <td>None</td>\n",
              "      <td>None</td>\n",
              "      <td>None</td>\n",
              "      <td>None</td>\n",
              "      <td>None</td>\n",
              "      <td>None</td>\n",
              "      <td>None</td>\n",
              "      <td>None</td>\n",
              "      <td>None</td>\n",
              "      <td>None</td>\n",
              "      <td>None</td>\n",
              "      <td>None</td>\n",
              "      <td>None</td>\n",
              "      <td>None</td>\n",
              "      <td>None</td>\n",
              "    </tr>\n",
              "    <tr>\n",
              "      <th>1</th>\n",
              "      <td>Trump’s Birth Control Problems</td>\n",
              "      <td>['Trump, Donald J', 'Clifford, Stephanie (1979- )', 'Birth Control and Family Planning', 'Aborti...</td>\n",
              "      <td>Unknown</td>\n",
              "      <td>Plus: the night the porn star yawned.</td>\n",
              "      <td>5a725f2410f40f00018bed89</td>\n",
              "      <td>[Stormy weather..., False, 1, 25781804.0, 5a725f2410f40f00018bed89]</td>\n",
              "      <td>[Why am I suddenly craving milk?, False, 24, 25796106.0, 5a725f2410f40f00018bed89]</td>\n",
              "      <td>[It wouldn't be a surprise to learn that this simple-minded uninformed lacking in principles man...</td>\n",
              "      <td>[Correction:&lt;br/&gt;I think she got this amount of money because the affair lasted a year, not just...</td>\n",
              "      <td>[So the Republicans don't want women to use birth control, and they don't want women to have abo...</td>\n",
              "      <td>[As a pro life woman, I have every right to protest abortion which is part of my freedom of spee...</td>\n",
              "      <td>[Gail, this concise expose of our Creep-in-Chief would make a wonderful blurb for his Evangelica...</td>\n",
              "      <td>[Looking at Stormy's two big attributes in this photo makes it easier to understand why Melania ...</td>\n",
              "      <td>[52% of white women need to wise up and vote better.  The anti-birth control stance of the GOP i...</td>\n",
              "      <td>[I feel like what no one's bringing up about the Stormy Daniels scandal, as with every one invol...</td>\n",
              "      <td>[The depravity of trump is equalled by the depravity of the Christian Right.&lt;br/&gt;&lt;br/&gt;The latter...</td>\n",
              "      <td>[I guarantee you Trump has paid for numerous abortions.   Oh to get those women to come forward ...</td>\n",
              "      <td>[A political candidate in Indiana said the thing worse than planned parenthood was UNplanned par...</td>\n",
              "      <td>[What, Gayle, you didn't find my post about my Dad bringing HPV home from Vietnam funny?  Neithe...</td>\n",
              "      <td>[Point of fact: My wife's IUD failed., False, 2, 25796278.0, 5a725f2410f40f00018bed89]</td>\n",
              "      <td>[Trump doesn't have birth control problems. He has self control problems.  As does the country a...</td>\n",
              "      <td>[I think the other depravity is that he was being unfaithful to the wife who just gave birth to ...</td>\n",
              "      <td>[Trump neither knows nor cares about birth control for others.  If he had sex without a condom, ...</td>\n",
              "      <td>[How hypocritical are Republicans.  Not too long ago, they wanted to impeach a President for hav...</td>\n",
              "      <td>[So, do we imagine Trump has never paid for an abortion?  Or advised one of his wives, mistresse...</td>\n",
              "      <td>[I never thought I'd say it but I wish Trump's parents had never gotten together.  We might have...</td>\n",
              "      <td>[Trump's birth control problem is that his parents didn't use any., False, 30, 25795882.0, 5a725...</td>\n",
              "      <td>[Why are we even having this discussion? So predictable. Trump does something scummy, outlandish...</td>\n",
              "      <td>[I’m sure every child whose birth came as a surprise to his parents would be surprised to hear t...</td>\n",
              "      <td>[\"...the point is that Trump seems to have had either terrible luck or stupendous ineptitude whe...</td>\n",
              "      <td>[Recently there have been Republicans who are stridently on the public record as being antichoic...</td>\n",
              "      <td>[Trump \"wandered in\" to teenage girl's beauty pageant dressing rooms regularly when he ran such ...</td>\n",
              "      <td>[Yep, life begins at conception, and rights end at birth. , False, 10, 25795734.0, 5a725f2410f40...</td>\n",
              "      <td>[Properly deployed in the hands of a short-fingered vulgarian, a fortune cookie is 100% reliable...</td>\n",
              "      <td>[Wasn't Trump's first reaction to Marla Maples' announcement that she was pregnant his recommend...</td>\n",
              "      <td>[Let's coin a new term.&lt;br/&gt;&lt;br/&gt;How about Pro-Health? In which the total mental and physical he...</td>\n",
              "      <td>[You would think they'd both have been concerned about catching something.  &lt;br/&gt;&lt;br/&gt;Stormy - y...</td>\n",
              "      <td>[Raised Catholic and occasionally have attended Methodist services during the holidays with frie...</td>\n",
              "      <td>[I wonder what this Valerie Huber chick recommends for married couples who either don't want chi...</td>\n",
              "      <td>[It is possible that Trump's choice is very likely his age. As the body slows down so does the s...</td>\n",
              "      <td>...</td>\n",
              "      <td>None</td>\n",
              "      <td>None</td>\n",
              "      <td>None</td>\n",
              "      <td>None</td>\n",
              "      <td>None</td>\n",
              "      <td>None</td>\n",
              "      <td>None</td>\n",
              "      <td>None</td>\n",
              "      <td>None</td>\n",
              "      <td>None</td>\n",
              "      <td>None</td>\n",
              "      <td>None</td>\n",
              "      <td>None</td>\n",
              "      <td>None</td>\n",
              "      <td>None</td>\n",
              "      <td>None</td>\n",
              "      <td>None</td>\n",
              "      <td>None</td>\n",
              "      <td>None</td>\n",
              "      <td>None</td>\n",
              "      <td>None</td>\n",
              "      <td>None</td>\n",
              "      <td>None</td>\n",
              "      <td>None</td>\n",
              "      <td>None</td>\n",
              "      <td>None</td>\n",
              "      <td>None</td>\n",
              "      <td>None</td>\n",
              "      <td>None</td>\n",
              "      <td>None</td>\n",
              "      <td>None</td>\n",
              "      <td>None</td>\n",
              "      <td>None</td>\n",
              "      <td>None</td>\n",
              "      <td>None</td>\n",
              "      <td>None</td>\n",
              "      <td>None</td>\n",
              "      <td>None</td>\n",
              "      <td>None</td>\n",
              "      <td>None</td>\n",
              "    </tr>\n",
              "  </tbody>\n",
              "</table>\n",
              "<p>2 rows × 1789 columns</p>\n",
              "</div>"
            ],
            "text/plain": [
              "                         headline  ... Comment_1784\n",
              "0  I Stand  With the ‘She-Devils’  ...         None\n",
              "1  Trump’s Birth Control Problems  ...         None\n",
              "\n",
              "[2 rows x 1789 columns]"
            ]
          },
          "metadata": {
            "tags": []
          },
          "execution_count": 12
        }
      ]
    },
    {
      "cell_type": "code",
      "metadata": {
        "id": "Oa2jFc6w8bQW"
      },
      "source": [
        "# def clean(data):\n",
        "#   cols = [x for x in data.columns if 'Comment' in x]\n",
        "#   #for col in cols:\n",
        "#   for col in cols:\n",
        "#     row = data[col]\n",
        "#     for y in range(0, len(row)):\n",
        "#       data[col][y] = data[col][y][0].lower()\n",
        "#     print(data[col][y])\n",
        "#     # data[col] = data[col].apply(lambda x: x[0].apply(str))\n",
        "#     #data.apply(lambda x: x.apply(str) if x.dtype == 'object' else x).col[0]\n",
        "#     #.str.replace(\".?!@#$%^></\\\\\\\\\", \"\")\n",
        "#   return data\n",
        "\n",
        "\n",
        "# # def tokenize(data):\n",
        "# #   import spacy\n",
        "# #   nlp = spacy.load('en', disable=['parser', 'tagger', 'ner'])\n",
        "# #   from spacy.lang.en import English\n",
        "\n",
        "# #   data = clean(data)\n",
        "# #   tokenizer = English().Defaults.create_tokenizer(nlp)\n",
        "# #   cols = [x for x in data.columns if 'Comment' in x]\n",
        "# #   for col in cols:\n",
        "# #     data[col] = tokenizer(data[col].apply(lambda y: tokenizer(y)))\n",
        "# #   return data\n",
        "\n",
        "# x = clean(connected_comments)\n",
        "# print(x[\"Comment_1\"])"
      ],
      "execution_count": null,
      "outputs": []
    },
    {
      "cell_type": "code",
      "metadata": {
        "id": "FfIXWqfw97dk"
      },
      "source": [
        "# def clean(data):\n",
        "#   cols = [x for x in data.columns if 'Comment' in x]\n",
        "#   for col in cols:\n",
        "#     data[col] = data[col].astype(str).str.lower()\n",
        "#     data[col] = data[col].astype(str).str.replace(\".?!@#$%^></\\\\\\\\\", \"\")\n",
        "#   return data\n",
        "\n",
        "\n",
        "# def tokenize(data):\n",
        "#   import spacy\n",
        "#   nlp = spacy.load('en', disable=['parser', 'tagger', 'ner'])\n",
        "#   from spacy.lang.en import English\n",
        "\n",
        "#   data = clean(data)\n",
        "#   tokenizer = English().Defaults.create_tokenizer(nlp)\n",
        "#   cols = [x for x in data.columns if 'Comment' in x]\n",
        "#   for col in cols:\n",
        "#     data[col] = tokenizer(data[col][0].apply(lambda y: tokenizer(y.str)))\n",
        "#   return data\n",
        "\n",
        "# print(tokenize(connected_comments))"
      ],
      "execution_count": null,
      "outputs": []
    },
    {
      "cell_type": "markdown",
      "metadata": {
        "id": "flhZ3_wsJ38H"
      },
      "source": [
        "## Data Description"
      ]
    },
    {
      "cell_type": "code",
      "metadata": {
        "colab": {
          "base_uri": "https://localhost:8080/"
        },
        "id": "eYfvOAdreTC9",
        "outputId": "86702b97-55e0-4529-e09b-e70c5360e7df"
      },
      "source": [
        "##Find out some statistics of entir NYtimes comments dataset\n",
        "groupings = df_allcomments.groupby('articleID', as_index=False)\n",
        "comments_count = groupings[\"commentBody\"].count()\n",
        "\n",
        "# print(comments_count)\n",
        "print(\"MEAN = \"+str(comments_count.mean()))\n",
        "print(\"SD = \"+str(comments_count.std()))\n",
        "print(\"ALL ARTICLES = \"+str(comments_count.count()))\n",
        "print(\"ALL COMMENTS: = \"+str(df_allcomments[\"commentID\"].count()))\n",
        "##MEAN = 230 comments per article\n",
        "## SD = 403.4 comments    \n",
        "##9450 articles\n",
        "##And 2.176.364 comments"
      ],
      "execution_count": 16,
      "outputs": [
        {
          "output_type": "stream",
          "text": [
            "MEAN = commentBody    230.303069\n",
            "dtype: float64\n",
            "SD = commentBody    403.40704\n",
            "dtype: float64\n",
            "ALL ARTICLES = articleID      9450\n",
            "commentBody    9450\n",
            "dtype: int64\n",
            "ALL COMMENTS: = 2176364\n"
          ],
          "name": "stdout"
        }
      ]
    },
    {
      "cell_type": "markdown",
      "metadata": {
        "id": "btwGaisga4PJ"
      },
      "source": [
        "## Re-rank comments strategy 1: by user likes"
      ]
    },
    {
      "cell_type": "code",
      "metadata": {
        "id": "3pDuAr3o1hMn"
      },
      "source": [
        "import numpy as np\n",
        "## See if we can re-rank comments by popularity (e.g. likes)\n",
        "def get_liked(comments, articles, N=None):\n",
        "\n",
        "  #Get a like rank\n",
        "  comments['like_rank'] = comments.groupby('articleID')[\"recommendations\"].rank(ascending=False, axis=\"rows\")\n",
        "  liked_comments_per_article = connect_comments(comments, articles, extra_comment_column='like_rank')\n",
        "\n",
        "  #Change the df to a list of lists\n",
        "  cols = [x for x in liked_comments_per_article.columns if 'Comment' in x]\n",
        "  list_of_articles = [x.tolist() for x in liked_comments_per_article[cols].values]\n",
        "\n",
        "  #Filter out non-existent comments\n",
        "  list_of_articles = filter(None, list_of_articles)\n",
        "  str_list = [list(filter(None, lst)) for lst in list_of_articles]\n",
        "\n",
        "  #sort the list by likes (position 2 in the list of list)\n",
        "  sorted_list = [sorted(x, key=lambda x: x[2], reverse=True) for x in str_list]\n",
        "\n",
        "  #get the top N articles\n",
        "  if N != None:\n",
        "      sorted_list = [x[:N] for x in sorted_list]\n",
        "  else:\n",
        "      sorted_list = [x[:] for x in sorted_list]\n",
        "\n",
        "  return sorted_list\n",
        "\n",
        "\n",
        "# all_comments = get_liked(feb2018comments, feb2018article)\n",
        "\n",
        "# #the most liked comments of the first 5 articles\n",
        "# print(\"Top 3 for first 2 articles\")\n",
        "# print(top3_liked_comments[:1])\n",
        "# print(len(top3_liked_comments[:1][0]))\n",
        "# print(\"Top 5 for first 2 articles\")\n",
        "# print(top5_liked_comments[:1])\n",
        "# print(len(top5_liked_comments[:1][0]))\n",
        "# print(\"Top 10 for first 2 articles\")\n",
        "# print(top10_liked_comments[:1])\n",
        "# print(len(top10_liked_comments[:1][0]))\n",
        "\n",
        "# print(\"All comments for first 2 articles\")\n",
        "# print(all_comments[:1])\n"
      ],
      "execution_count": 17,
      "outputs": []
    },
    {
      "cell_type": "markdown",
      "metadata": {
        "id": "8cg0Sp4dRPeV"
      },
      "source": [
        "## Re-rank comments strategy 2: selected by NYTimes editors\n",
        "\n",
        "\n",
        "\n"
      ]
    },
    {
      "cell_type": "code",
      "metadata": {
        "id": "Ond1tZ3_2CuY"
      },
      "source": [
        "## re-rank comments by whether or not recommended by NYTimes\n",
        "pd.options.mode.chained_assignment = None \n",
        "\n",
        "def get_selected(comments, articles, N=None):\n",
        "  selected_comments = comments.loc[comments[\"editorsSelection\"] == True]\n",
        "\n",
        "  selected_comments_per_article = connect_comments(selected_comments, articles)\n",
        "\n",
        "  #Change the df to a list of lists\n",
        "  cols = [x for x in selected_comments_per_article.columns if 'Comment' in x]\n",
        "  list_of_articles = [x.tolist() for x in selected_comments_per_article[cols].values]\n",
        "\n",
        "  # #Filter out non-existent comments\n",
        "  #list_of_articles = filter(None, list_of_articles)\n",
        "  str_list = [list(filter(None, lst)) for lst in list_of_articles]\n",
        "\n",
        "  if N != None:\n",
        "    str_list = [x[:N] for x in str_list]\n",
        "  else:\n",
        "    str_list = [x[:] for x in str_list]\n",
        "  \n",
        "  return str_list\n",
        "\n",
        "# selected_comments = get_selected(feb2018comments, feb2018article)\n",
        "\n",
        "# selected_comments[0]\n",
        "# print(len(selected_comments[0]))\n",
        "# ##11 comments are selected in article 1\n",
        "\n",
        "# selected_comments[1]\n",
        "# print(len(selected_comments[1]))\n",
        "# ##10 comments are selected in article 2\n",
        "\n",
        "# selected_comments[2]\n",
        "# print(len(selected_comments[2]))\n",
        "# ##9 comments are selected in article 2\n",
        "\n",
        "# top3_selected_comments = get_selected(feb2018comments, feb2018article, N=3)\n",
        "# top5_selected_comments = get_selected(feb2018comments, feb2018article, N=5)\n",
        "# top10_selected_comments = get_selected(feb2018comments, feb2018article, N=10)\n",
        "\n",
        "# #the most liked comments of the first 5 articles\n",
        "# print(\"Top 3 for first 2 articles\")\n",
        "# print(top3_selected_comments[:1])\n",
        "# print(len(top3_selected_comments[:1][0]))\n",
        "# print(\"Top 5 for first 2 articles\")\n",
        "# print(top5_selected_comments[:1])\n",
        "# print(len(top5_selected_comments[:1][0]))\n",
        "# print(\"Top 10 for first 2 articles\")\n",
        "# print(top10_selected_comments[:1])\n",
        "# print(len(top10_selected_comments[:1][0]))\n"
      ],
      "execution_count": 18,
      "outputs": []
    },
    {
      "cell_type": "code",
      "metadata": {
        "colab": {
          "base_uri": "https://localhost:8080/"
        },
        "id": "DV-RMvEz6MAt",
        "outputId": "7cda6ff2-7909-4b61-8daf-36ac8e37c5db"
      },
      "source": [
        "##Find out some statistics of entir NYtimes comments dataset, only selected comments\n",
        "# groupings = selected_comments.groupby('articleID', as_index=False)\n",
        "import numpy as np\n",
        "import scipy\n",
        "\n",
        "selected_comments = get_selected(df_allcomments, df_allarticles)\n",
        "\n",
        "selected_count = [len(x) for x in selected_comments]\n",
        "\n",
        "# print(selected_count)\n",
        "print(\"MEAN = \"+str(np.mean(selected_count)))\n",
        "print(\"MODE = \"+str(max(set(selected_count), key=selected_count.count)))\n",
        "print(\"SD = \"+str(np.std(selected_count)))\n",
        "print(\"ALL ARTICLES = \"+str(len(selected_count)))\n",
        "# print(\"ALL COMMENTS: = \"+str(df_allcomments[\"commentID\"].count()))\n",
        "##MEAN = 13 selected comments per article (SD = 11)\n",
        "##3646 selected in total\n"
      ],
      "execution_count": 26,
      "outputs": [
        {
          "output_type": "stream",
          "text": [
            "MEAN = 13.064781773263794\n",
            "MODE = 1\n",
            "SD = 11.337299962374988\n",
            "ALL ARTICLES = 3643\n"
          ],
          "name": "stdout"
        }
      ]
    },
    {
      "cell_type": "markdown",
      "metadata": {
        "id": "0HuNvHeZbE-K"
      },
      "source": [
        "## Re-rank comments strategy 3: diversity (max intra-list diversity)"
      ]
    },
    {
      "cell_type": "code",
      "metadata": {
        "id": "csF0oyHPnBhP"
      },
      "source": [
        "# !pip install transformers\n",
        "# !pip install gensim"
      ],
      "execution_count": null,
      "outputs": []
    },
    {
      "cell_type": "code",
      "metadata": {
        "id": "2CjLADp5L61B"
      },
      "source": [
        "# !brew install wget\n",
        "\n",
        "# !wget -c \"https://s3.amazonaws.com/dl4j-distribution/GoogleNews-vectors-negative300.bin.gz\""
      ],
      "execution_count": null,
      "outputs": []
    },
    {
      "cell_type": "code",
      "metadata": {
        "id": "w-2w135_i60I"
      },
      "source": [
        "  ##For each comment;\n",
        "  ##Change to a word vector;\n",
        "  ##Then, maximize distance within word vector? Average word vector?\n",
        "  #Using BERT?\n",
        "  #over: author(s), tags, sections, and word embeddings. (As in Graus 2020?)\n",
        "\n",
        "  #probably: re-using metric from Liu & Graus (2020), who use a more click-based and less normative idea of diversity.\n",
        "\n",
        "  ##Using GoogleNews Vectors "
      ],
      "execution_count": null,
      "outputs": []
    },
    {
      "cell_type": "code",
      "metadata": {
        "id": "UGSmuuHfNlRQ"
      },
      "source": [
        "\n",
        "def vectorize_comments(comments, article):\n",
        "  connected_comments = connect_comments(comments, articles)\n",
        "\n",
        "  return vectorized_comments\n",
        "\n",
        "\n",
        "def intra_list_div(comments, articles, N=None):\n",
        "  from sklearn.metrics.pairwise import cosine_similarity\n",
        "\n",
        "  vectorized_comments = vectorize_comments(comments, articles)\n",
        "\n",
        "  list_div = [1 - cosine_similarity(x, y) for x, y in zip(comments, comments[1:])] \n",
        "  \n",
        "  diversity = list_div / (N * (N-1)/2) \n",
        "\n",
        "  return diversity\n",
        "\n"
      ],
      "execution_count": null,
      "outputs": []
    },
    {
      "cell_type": "code",
      "metadata": {
        "id": "k9ZIftgxPEax"
      },
      "source": [
        "# tokenize and pad every document \n",
        "# from keras.preprocessing.text import Tokenizer\n",
        "# from keras.preprocessing.sequence import pad_sequences\n",
        "\n",
        "# cols = [x for x in connected_comments.columns if 'Comment' in x]\n",
        "\n",
        "# tokenizer=Tokenizer()\n",
        "\n",
        "# tokenizer.fit_on_texts([connected_comments[x] for x in cols])\n",
        "# tokenized_documents=tokenizer.texts_to_sequences([x[0] for x in connected_comments[cols]])\n",
        "# tokenized_paded_documents=pad_sequences(tokenized_documents,maxlen=64,padding='post')\n",
        "# vocab_size=len(tokenizer.word_index)+1\n",
        "# print (tokenized_paded_documents[0])"
      ],
      "execution_count": null,
      "outputs": []
    },
    {
      "cell_type": "code",
      "metadata": {
        "id": "nqg2hV90kxBB"
      },
      "source": [
        "### GOOGLE VECTORS (from 2013, so older)\n",
        "import gensim    \n",
        "from gensim import models\n",
        "from gensim.models import Word2Vec\n",
        "\n",
        "#Downloaded from: https://s3.amazonaws.com/dl4j-distribution/GoogleNews-vectors-negative300.bin.gz\n",
        "\n",
        "##Open Vectors\n",
        "import gzip\n",
        "\n",
        "f = gzip.open('/content/Vectors.bin.gz', 'rb')\n",
        "file_content = f.read()\n",
        "f.close()\n"
      ],
      "execution_count": null,
      "outputs": []
    },
    {
      "cell_type": "code",
      "metadata": {
        "colab": {
          "base_uri": "https://localhost:8080/"
        },
        "id": "KEXK0pRmN8dx",
        "outputId": "409440bd-f4ad-416d-832b-addbce02bce0"
      },
      "source": [
        "model = gensim.models.KeyedVectors.load_word2vec_format('/content/Vectors.bin.gz', binary=True)\n",
        "dog = model['dog']\n",
        "print(dog.shape)"
      ],
      "execution_count": null,
      "outputs": [
        {
          "output_type": "stream",
          "text": [
            "(300,)\n"
          ],
          "name": "stdout"
        }
      ]
    },
    {
      "cell_type": "code",
      "metadata": {
        "id": "qS32QQ-KmDX-"
      },
      "source": [
        ""
      ],
      "execution_count": null,
      "outputs": []
    },
    {
      "cell_type": "code",
      "metadata": {
        "id": "icXPiAyRmDm9"
      },
      "source": [
        ""
      ],
      "execution_count": null,
      "outputs": []
    },
    {
      "cell_type": "code",
      "metadata": {
        "colab": {
          "base_uri": "https://localhost:8080/",
          "height": 201,
          "referenced_widgets": [
            "cfe4dd61b7394220807b2a2e70c9a1d4",
            "bcb850b194784b20b55ea9dfeb19c788",
            "0cbab36eb040426ba73c3878b00767a1",
            "96bf91d421a54f878f650a76063156fc",
            "6e2d2b94293542b8bb1b89f2a86b2145",
            "399501a812a945c1ba3019785a6a385f",
            "edbed31b733840a9831e0885d75ac579",
            "b536720b07814dbd84f5e43df6310aaf",
            "6ff7588be1064f2fa2a3640217b9706c",
            "ac07c481517f48559d22b670fb99ed0c",
            "4dafab0ad0d14c6bacbc2718d127ee26",
            "3d8ac82479e74524ae38471aef89576a",
            "65ec311f38ec47e3a19be97e60ba2f87",
            "dd12d1f891a94c188d5cb935649447a8",
            "aa9f6a28be5542cc8275386ec64e8f9c",
            "0f8fbc6243244ec9a02ad7f176aa3f0e",
            "c21c571d95f54a3788b93ddfa688f004",
            "3cb5dbc2c51646bda04a95e6cf75f2f0",
            "21450ebad0de4bf1997d95307a2c250a",
            "b988f2de0a624f75be73bff359014ff2",
            "78ea793fff5d48ec8ac896fdba2c7635",
            "6caeb7ae7ff549bcb47dd5777d25fd73",
            "3e35c1263f524350913777e3d8f168de",
            "d428236904f743dfaead41105103d368"
          ]
        },
        "id": "_sN9NfdMk1Rh",
        "outputId": "673a65a3-ad81-44ec-b522-bde7d5045326"
      },
      "source": [
        "##Using BERT\n",
        "from transformers import AutoTokenizer\n",
        "tokenizer = AutoTokenizer.from_pretrained('bert-base-cased')\n",
        "\n",
        "encoded_input = tokenizer(\"Hello, I'm a single sentence!\")\n",
        "print(encoded_input)"
      ],
      "execution_count": null,
      "outputs": [
        {
          "output_type": "display_data",
          "data": {
            "application/vnd.jupyter.widget-view+json": {
              "model_id": "cfe4dd61b7394220807b2a2e70c9a1d4",
              "version_major": 2,
              "version_minor": 0
            },
            "text/plain": [
              "HBox(children=(FloatProgress(value=0.0, description='Downloading', max=433.0, style=ProgressStyle(description_…"
            ]
          },
          "metadata": {
            "tags": []
          }
        },
        {
          "output_type": "stream",
          "text": [
            "\n"
          ],
          "name": "stdout"
        },
        {
          "output_type": "display_data",
          "data": {
            "application/vnd.jupyter.widget-view+json": {
              "model_id": "6ff7588be1064f2fa2a3640217b9706c",
              "version_major": 2,
              "version_minor": 0
            },
            "text/plain": [
              "HBox(children=(FloatProgress(value=0.0, description='Downloading', max=213450.0, style=ProgressStyle(descripti…"
            ]
          },
          "metadata": {
            "tags": []
          }
        },
        {
          "output_type": "stream",
          "text": [
            "\n"
          ],
          "name": "stdout"
        },
        {
          "output_type": "display_data",
          "data": {
            "application/vnd.jupyter.widget-view+json": {
              "model_id": "c21c571d95f54a3788b93ddfa688f004",
              "version_major": 2,
              "version_minor": 0
            },
            "text/plain": [
              "HBox(children=(FloatProgress(value=0.0, description='Downloading', max=435797.0, style=ProgressStyle(descripti…"
            ]
          },
          "metadata": {
            "tags": []
          }
        },
        {
          "output_type": "stream",
          "text": [
            "\n",
            "{'input_ids': [101, 8667, 117, 146, 112, 182, 170, 1423, 5650, 106, 102], 'token_type_ids': [0, 0, 0, 0, 0, 0, 0, 0, 0, 0, 0], 'attention_mask': [1, 1, 1, 1, 1, 1, 1, 1, 1, 1, 1]}\n"
          ],
          "name": "stdout"
        }
      ]
    },
    {
      "cell_type": "markdown",
      "metadata": {
        "id": "F4dVKuhJe1kf"
      },
      "source": [
        "##Theory-based diversity metrics"
      ]
    },
    {
      "cell_type": "markdown",
      "metadata": {
        "id": "98wvorIRYPD6"
      },
      "source": [
        "###Activation metric"
      ]
    },
    {
      "cell_type": "code",
      "metadata": {
        "colab": {
          "base_uri": "https://localhost:8080/"
        },
        "id": "5PhEZ1z3mfMT",
        "outputId": "8ac0a418-f19e-404e-fa6c-263324afb864"
      },
      "source": [
        "!pip install vaderSentiment"
      ],
      "execution_count": 37,
      "outputs": [
        {
          "output_type": "stream",
          "text": [
            "Collecting vaderSentiment\n",
            "\u001b[?25l  Downloading https://files.pythonhosted.org/packages/76/fc/310e16254683c1ed35eeb97386986d6c00bc29df17ce280aed64d55537e9/vaderSentiment-3.3.2-py2.py3-none-any.whl (125kB)\n",
            "\r\u001b[K     |██▋                             | 10kB 21.2MB/s eta 0:00:01\r\u001b[K     |█████▏                          | 20kB 25.3MB/s eta 0:00:01\r\u001b[K     |███████▉                        | 30kB 11.5MB/s eta 0:00:01\r\u001b[K     |██████████▍                     | 40kB 9.4MB/s eta 0:00:01\r\u001b[K     |█████████████                   | 51kB 7.6MB/s eta 0:00:01\r\u001b[K     |███████████████▋                | 61kB 8.2MB/s eta 0:00:01\r\u001b[K     |██████████████████▏             | 71kB 8.4MB/s eta 0:00:01\r\u001b[K     |████████████████████▉           | 81kB 8.2MB/s eta 0:00:01\r\u001b[K     |███████████████████████▍        | 92kB 7.9MB/s eta 0:00:01\r\u001b[K     |██████████████████████████      | 102kB 8.5MB/s eta 0:00:01\r\u001b[K     |████████████████████████████▋   | 112kB 8.5MB/s eta 0:00:01\r\u001b[K     |███████████████████████████████▏| 122kB 8.5MB/s eta 0:00:01\r\u001b[K     |████████████████████████████████| 133kB 8.5MB/s \n",
            "\u001b[?25hRequirement already satisfied: requests in /usr/local/lib/python3.6/dist-packages (from vaderSentiment) (2.23.0)\n",
            "Requirement already satisfied: chardet<4,>=3.0.2 in /usr/local/lib/python3.6/dist-packages (from requests->vaderSentiment) (3.0.4)\n",
            "Requirement already satisfied: idna<3,>=2.5 in /usr/local/lib/python3.6/dist-packages (from requests->vaderSentiment) (2.10)\n",
            "Requirement already satisfied: certifi>=2017.4.17 in /usr/local/lib/python3.6/dist-packages (from requests->vaderSentiment) (2020.12.5)\n",
            "Requirement already satisfied: urllib3!=1.25.0,!=1.25.1,<1.26,>=1.21.1 in /usr/local/lib/python3.6/dist-packages (from requests->vaderSentiment) (1.24.3)\n",
            "Installing collected packages: vaderSentiment\n",
            "Successfully installed vaderSentiment-3.3.2\n"
          ],
          "name": "stdout"
        }
      ]
    },
    {
      "cell_type": "code",
      "metadata": {
        "id": "eTYuk8tFe_cW"
      },
      "source": [
        "def polarity(comment_list, articles=None):\n",
        "  from vaderSentiment.vaderSentiment import SentimentIntensityAnalyzer\n",
        "  from statistics import mean\n",
        "\n",
        "  analyser = SentimentIntensityAnalyzer()\n",
        "  #comments_nr = []\n",
        "\n",
        "  #For every article\n",
        "  for y in range(0, len(comment_list)):\n",
        "    #print(\"NEW ARTICLE\")\n",
        "    article_list = []\n",
        "    text_list = []\n",
        "    #print(\"nr of comments:\")\n",
        "    #comments_nr.append(comment_list[y])\n",
        "    #print(len(comment_list[y]))\n",
        "    for x in comment_list[y]:\n",
        "      #score of every comment\n",
        "      article_list.append(analyser.polarity_scores(str(x[0]))['compound'])\n",
        "      text_list.append(str(x[0]))\n",
        "    # #Mean of every article\n",
        "    #print(\"EVERY COMMENT SCORE IN RECOMMENDATION LIST\")\n",
        "    #print(article_list)\n",
        "    #print(text_list)\n",
        "    comment_list[y] = abs(mean(article_list))\n",
        "    \n",
        "    #print(\"MEAN ABSOLUTE SCORE OF RECOMMENDATION LIST\")\n",
        "    #print(abs(mean(article_list)))\n",
        "\n",
        "  if articles != None:\n",
        "    for y in range(0, len(articles)):\n",
        "      #print(\"NEW ARTICLE\")\n",
        "      article_list = []\n",
        "      text_list = []\n",
        "      #print(\"nr of comments:\")\n",
        "      #comments_nr.append(comment_list[y])\n",
        "      #print(len(comment_list[y]))\n",
        "      for x in comment_list[y]:\n",
        "        #score of every comment\n",
        "        article_list.append(analyser.polarity_scores(str(x[0]))['compound'])\n",
        "        text_list.append(str(x[0]))\n",
        "      #print(\"EVERY COMMENT SCORE IN RECOMMENDATION LIST\")\n",
        "      #print(article_list)\n",
        "      #print(text_list)\n",
        "      comment_list[y] = abs(mean(article_list))\n",
        "     # print(\"MEAN ABSOLUTE SCORE OF RECOMMENDATION LIST\")\n",
        "     # print(abs(mean(article_list)))\n",
        "\n",
        "  #print(\"MEAN NR COMMENTS\")\n",
        "  #print(mean(comments_nr))\n",
        "  #print(std(comments_nr))\n",
        "  return comment_list\n",
        "\n",
        "def activation_metric(possible_comments, recommended_comments, articles=None):\n",
        "  from statistics import mean\n",
        "\n",
        "  # print(\"POSSIBLE\")\n",
        "  possible_score = polarity(possible_comments, articles=articles)\n",
        "\n",
        "  # print(\"RECOMMENDED\")\n",
        "  recommended_score = polarity(recommended_comments, articles=articles)\n",
        "  \n",
        "  #print(\"mean absolute sentiment score of ALL recommendation lists\")\n",
        "  score = (abs(mean(possible_score)) - abs(mean(recommended_score)))/2 \n",
        "  #print(\"score = absolute_mean_possible_comments - absolute_mean_recommended_comments\")\n",
        "  #print(str(score)+\" = \"+str(abs(mean(possible_score))) +\" - \"+str(abs(mean(recommended_score)))+\"/2\" )\n",
        "  # print(str(score)+\"=\"+str(abs(possible_score))+(\" - \")+str(mean(recommended_score))))\n",
        "  return score"
      ],
      "execution_count": 27,
      "outputs": []
    },
    {
      "cell_type": "markdown",
      "metadata": {
        "id": "Iq23UOMMEL8s"
      },
      "source": [
        "####Data: Liked comments"
      ]
    },
    {
      "cell_type": "code",
      "metadata": {
        "id": "Z97GVOYzEZve"
      },
      "source": [
        "top3_liked_comments = get_liked(feb2017comments, feb2017article, N=3)"
      ],
      "execution_count": 28,
      "outputs": []
    },
    {
      "cell_type": "code",
      "metadata": {
        "id": "ht0U2NGlEaGl"
      },
      "source": [
        "top5_liked_comments = get_liked(feb2017comments, feb2017article, N=5)"
      ],
      "execution_count": 29,
      "outputs": []
    },
    {
      "cell_type": "code",
      "metadata": {
        "id": "m-qujkHIEaXA"
      },
      "source": [
        "top10_liked_comments = get_liked(feb2017comments, feb2017article, N=10)"
      ],
      "execution_count": 30,
      "outputs": []
    },
    {
      "cell_type": "code",
      "metadata": {
        "id": "a_pK7xQYE6IN"
      },
      "source": [
        "all_comments = get_liked(feb2017comments, feb2017article)"
      ],
      "execution_count": 31,
      "outputs": []
    },
    {
      "cell_type": "markdown",
      "metadata": {
        "id": "pR3zbsFyEXCj"
      },
      "source": [
        "####Data: Selected Comments"
      ]
    },
    {
      "cell_type": "code",
      "metadata": {
        "id": "hyk0GR1cESNz"
      },
      "source": [
        "top3_selected_comments = get_selected(feb2017comments, feb2017article, N=3)"
      ],
      "execution_count": 32,
      "outputs": []
    },
    {
      "cell_type": "code",
      "metadata": {
        "id": "1Ic9OeDOFEsr"
      },
      "source": [
        "top5_selected_comments = get_selected(feb2017comments, feb2017article, N=5)"
      ],
      "execution_count": 33,
      "outputs": []
    },
    {
      "cell_type": "code",
      "metadata": {
        "id": "rjJtUFLTFE-6"
      },
      "source": [
        "top10_selected_comments = get_selected(feb2017comments, feb2017article, N=10)"
      ],
      "execution_count": 34,
      "outputs": []
    },
    {
      "cell_type": "code",
      "metadata": {
        "id": "OIDEXA5rFFWN"
      },
      "source": [
        "selected_comments = get_selected(feb2017comments, feb2017article)"
      ],
      "execution_count": 35,
      "outputs": []
    },
    {
      "cell_type": "markdown",
      "metadata": {
        "id": "HAMVEKQEFnPA"
      },
      "source": [
        "####Activation Test: Liked"
      ]
    },
    {
      "cell_type": "code",
      "metadata": {
        "colab": {
          "base_uri": "https://localhost:8080/"
        },
        "id": "ieIGDM71F5nn",
        "outputId": "ad7bf087-da45-4082-ad48-b84fdd6dfea4"
      },
      "source": [
        "##Top3 Liked\n",
        "print(activation_metric(all_comments, top3_liked_comments))"
      ],
      "execution_count": 38,
      "outputs": [
        {
          "output_type": "stream",
          "text": [
            "-0.07852364129171946\n"
          ],
          "name": "stdout"
        }
      ]
    },
    {
      "cell_type": "code",
      "metadata": {
        "colab": {
          "base_uri": "https://localhost:8080/"
        },
        "id": "Zi37-jdNF59t",
        "outputId": "cf951461-8b5a-4a63-fef8-455cdc34b761"
      },
      "source": [
        "##Top5 Liked\n",
        "print(activation_metric(all_comments, top5_liked_comments))"
      ],
      "execution_count": null,
      "outputs": [
        {
          "output_type": "stream",
          "text": [
            "-0.052061708146710045\n"
          ],
          "name": "stdout"
        }
      ]
    },
    {
      "cell_type": "code",
      "metadata": {
        "colab": {
          "base_uri": "https://localhost:8080/"
        },
        "id": "GLHywhIZF6Ns",
        "outputId": "24e48169-1579-4f30-968c-34fb2b4a2068"
      },
      "source": [
        "##Top10 Liked\n",
        "print(activation_metric(all_comments, top10_liked_comments))"
      ],
      "execution_count": null,
      "outputs": [
        {
          "output_type": "stream",
          "text": [
            "-0.034534571118640806\n"
          ],
          "name": "stdout"
        }
      ]
    },
    {
      "cell_type": "markdown",
      "metadata": {
        "id": "-lnhLYlDFuEm"
      },
      "source": [
        "#### Activation Test: Selected"
      ]
    },
    {
      "cell_type": "code",
      "metadata": {
        "colab": {
          "base_uri": "https://localhost:8080/"
        },
        "id": "qwoz0u8sF7Ei",
        "outputId": "1e976c6e-2051-48e0-c920-816d6153bf6a"
      },
      "source": [
        "##Top3 selected\n",
        "print(activation_metric(all_comments, top3_selected_comments))"
      ],
      "execution_count": null,
      "outputs": [
        {
          "output_type": "stream",
          "text": [
            "-0.06716668272298124\n"
          ],
          "name": "stdout"
        }
      ]
    },
    {
      "cell_type": "code",
      "metadata": {
        "colab": {
          "base_uri": "https://localhost:8080/"
        },
        "id": "kHC1hwNBF7SG",
        "outputId": "9b1edcee-9d3b-4746-a670-6a858e07ae10"
      },
      "source": [
        "##Top5 selected\n",
        "print(activation_metric(all_comments, top5_selected_comments))"
      ],
      "execution_count": null,
      "outputs": [
        {
          "output_type": "stream",
          "text": [
            "-0.0381701083789579\n"
          ],
          "name": "stdout"
        }
      ]
    },
    {
      "cell_type": "code",
      "metadata": {
        "colab": {
          "base_uri": "https://localhost:8080/"
        },
        "id": "XRAEpaT8F7hh",
        "outputId": "d6eb9bf8-3ba2-408f-ddf0-14a895ea8a75"
      },
      "source": [
        "##Top10 selected\n",
        "print(activation_metric(all_comments, top10_selected_comments))"
      ],
      "execution_count": null,
      "outputs": [
        {
          "output_type": "stream",
          "text": [
            "-0.020918482031139857\n"
          ],
          "name": "stdout"
        }
      ]
    },
    {
      "cell_type": "code",
      "metadata": {
        "colab": {
          "base_uri": "https://localhost:8080/"
        },
        "id": "QIuPN5JIF7yi",
        "outputId": "10e41731-3731-4a26-e930-62419068002b"
      },
      "source": [
        "##SELECTED VS NON\n",
        "print(activation_metric(all_comments, selected_comments))"
      ],
      "execution_count": null,
      "outputs": [
        {
          "output_type": "stream",
          "text": [
            "-0.012693080528571876\n"
          ],
          "name": "stdout"
        }
      ]
    },
    {
      "cell_type": "markdown",
      "metadata": {
        "id": "C1uq5mQnF2Fy"
      },
      "source": [
        "###Test_print"
      ]
    },
    {
      "cell_type": "code",
      "metadata": {
        "colab": {
          "base_uri": "https://localhost:8080/"
        },
        "id": "g9e80J6XqwtI",
        "outputId": "09c04de0-c6bf-43b1-ca7e-05ce38018b43"
      },
      "source": [
        "# #top3 recommended for article 1 (recommended)\n",
        "# top3_liked_comments = get_liked(feb2018comments, feb2018article, N=3)\n",
        "\n",
        "# print(top3_liked_comments[0:2]) \n",
        "\n",
        "# print(len(top3_liked_comments[0]))\n",
        "\n",
        "# # all for article 1 (possible)\n",
        "# all_comments = get_liked(feb2018comments, feb2018article)\n",
        "\n",
        "# print(all_comments[0:2])\n",
        "\n",
        "# print(len(all_comments[0:2]))\n"
      ],
      "execution_count": null,
      "outputs": [
        {
          "output_type": "stream",
          "text": [
            "[[[\"For all of my 43-years I've heard men try to tell women, and sometimes specifically me, how be: not too shrill, not too ambitious, not too muscular, not too foul-mouthed, well-dressed, HWP, good at making dinner by 6pm, and take care not to be a know-it-all (read: question your male colleagues).<br/><br/>Sykes is the kind of guy that is all-too-willing to continue that trend, even though we are now living in an age when it is perfectly OK to question this kind of patriarchical condescension, and to laugh at it, as women. Men like him were very confusing when I was a young woman, because no one was writing columns like this. No one was questioning the fact that, maybe, women and girls didn't want to be put neatly into categories. <br/><br/>I am so grateful to be living in a time when I can openly thumb my nose, and worse, at guys like him. And I'm grateful for men like Nicholas Kristof who will back us up! The future looks bright for everyone, regardless of gender. \", True, 543, 25781720.0, '5a7258e410f40f00018bed7d', 1.0], ['\"A new Quinnipiac poll finds that 72 percent of Republicans consider Trump a good role model for children.\"<br/><br/>And that, ladies and gentlemen, probably says it all.', False, 460, 25781777.0, '5a7258e410f40f00018bed7d', 2.0], ['I\\'m a 65 year old American male who grew up in a racist, misogynistic Midwest region not unlike the region Courtland Sykes hails from. Evidently his programming reflects my own: women are to be treated with respect but not taken seriously, their primary role is as wife and mother, men should always maintain a superior role, and therefore of course God has ordained that the man should be the head of the household. <br/><br/>Unlike Mr. Sykes, I\\'ve learned that much of my programming was in error. Over the years I have learned a great deal from the women in my life, and I am now beginning to understand just how little I actually know and how much I still need to learn. Nevertheless, the programming is still there, buried deep within, and I have spent decades in an effort to observe and correct vestigial traces of that programming. That battle will no doubt continue as long as I am alive. <br/><br/>The problem in America today, it seems, is that many of us - men and women alike - refuse to acknowledge this programming, and therefore find complete justification in shutting down any attempts to correct it. <br/><br/>We all know the phrase, \"The first step in solving a problem is admitting that you have a problem.\" And that is precisely why we must all work so hard to eradicate this cancerous imbalance from our culture - because there remain far too many Americans who adamantly refuse to take that first step.<br/><br/>And sadly, many hold positions of inordinate power over our laws and our culture. ', True, 316, 25784680.0, '5a7258e410f40f00018bed7d', 3.0]], [[\"It is astounding that Stormy Daniels was the introductory part of this oped.  Can you imagine if President Obama or Clinton had been thought to have bought the silence of a porn star over their extramarital relations?  Safe to say, we would have heard of nothing else from the GOP.  Yet barely a nod from the Christian Right over Trump, save a copout generality that the nation has a sin problem.<br/>The level of depravity from Trump elicits barely a whimper from the same group who claim the mantle of judging everyone else's morality.\", True, 2839, 25782260.0, '5a725f2410f40f00018bed89', 1.0], ['The misnamed “pro-life” movement has never been about “babies”. It has always been about misogyny, the prudish fear of sex, and the inability to come to terms with the fact that one’s existence depends on a woman’s whim. Conservatives simply cannot abide the self-evident notion that each one of them is alive only because one day a woman decided to have a child. But what if she had decided otherwise? This fear of female autonomy and agency drives the crusade against abortion and contraception. I make no distinction between the two as they are on the same spectrum: abortion is a second line of defense against an unwanted pregnancy if contraception fails, as it apparently has done with depressing regularity in Trump’s various marriages. This column is not as funny as some of Collins’ other efforts are but this is because the subject is so serious. Without contraception and abortion, women are incapable of being equal and productive members of society. If you cannot control your own body, you cannot control anything else in your life. And this is precisely what conservatives want.', True, 2200, 25781786.0, '5a725f2410f40f00018bed89', 2.0], [\"Heck, just being this clueless doofus should be the best birth control known to man.  But apparently the scent of money is an aphrodisiac that some women simply can't resist.<br/><br/>Our president is a randy fellow who may be an ignorant waste of protoplasm, but he’s got the manipulative sociopathic aura of a low-level mob boss that some women find attractive.  He could have easily had a career stiffing laborers or setting up fraudulent real estate “universities.”  We’re so lucky that he chose to be our president.<br/><br/>The Stormy Daniels affair (in every sense of the word) is the sort of thing that would normally bring down a president.  Just consider Gary Hart.  A picture of him with a starlet sitting on his lap derailed his run for president in 1988.  But our president was accused of sexual misconduct by a slew of women, and confessed on tape to the unwanted groping of starlet crotches.<br/><br/>Yet this guy not only won the presidency, he won the evangelical vote as well.  Teflon bows and slinks away in embarrassment, unable to compete with whatever he’s coated with.  It may be slimy, but nothing sticks.<br/><br/>There is no Stormy Daniels, no porn queen payouts, no ignorant utterance, no racist vulgarity, no neo-Nazi sympathy, no catalog of lies or incompetence that can do him in.  It’s as though people were starving for rotten meat after the refined, tasteful sustenance provided by President Obama.<br/><br/>Personally, he makes me gag.\", False, 2003, 25781942.0, '5a725f2410f40f00018bed89', 3.0]]]\n",
            "3\n",
            "[[[\"For all of my 43-years I've heard men try to tell women, and sometimes specifically me, how be: not too shrill, not too ambitious, not too muscular, not too foul-mouthed, well-dressed, HWP, good at making dinner by 6pm, and take care not to be a know-it-all (read: question your male colleagues).<br/><br/>Sykes is the kind of guy that is all-too-willing to continue that trend, even though we are now living in an age when it is perfectly OK to question this kind of patriarchical condescension, and to laugh at it, as women. Men like him were very confusing when I was a young woman, because no one was writing columns like this. No one was questioning the fact that, maybe, women and girls didn't want to be put neatly into categories. <br/><br/>I am so grateful to be living in a time when I can openly thumb my nose, and worse, at guys like him. And I'm grateful for men like Nicholas Kristof who will back us up! The future looks bright for everyone, regardless of gender. \", True, 543, 25781720.0, '5a7258e410f40f00018bed7d', 1.0], ['\"A new Quinnipiac poll finds that 72 percent of Republicans consider Trump a good role model for children.\"<br/><br/>And that, ladies and gentlemen, probably says it all.', False, 460, 25781777.0, '5a7258e410f40f00018bed7d', 2.0], ['I\\'m a 65 year old American male who grew up in a racist, misogynistic Midwest region not unlike the region Courtland Sykes hails from. Evidently his programming reflects my own: women are to be treated with respect but not taken seriously, their primary role is as wife and mother, men should always maintain a superior role, and therefore of course God has ordained that the man should be the head of the household. <br/><br/>Unlike Mr. Sykes, I\\'ve learned that much of my programming was in error. Over the years I have learned a great deal from the women in my life, and I am now beginning to understand just how little I actually know and how much I still need to learn. Nevertheless, the programming is still there, buried deep within, and I have spent decades in an effort to observe and correct vestigial traces of that programming. That battle will no doubt continue as long as I am alive. <br/><br/>The problem in America today, it seems, is that many of us - men and women alike - refuse to acknowledge this programming, and therefore find complete justification in shutting down any attempts to correct it. <br/><br/>We all know the phrase, \"The first step in solving a problem is admitting that you have a problem.\" And that is precisely why we must all work so hard to eradicate this cancerous imbalance from our culture - because there remain far too many Americans who adamantly refuse to take that first step.<br/><br/>And sadly, many hold positions of inordinate power over our laws and our culture. ', True, 316, 25784680.0, '5a7258e410f40f00018bed7d', 3.0], ['Men cannot be free if women are not free. Let the white male patriarchy die, let all people of all genders and colors know real freedom and equality.', False, 311, 25781981.0, '5a7258e410f40f00018bed7d', 4.0], ['Thank you, Nick Kristof, for writing not only this piece but for your coverage of human (including women\\'s) rights issues over the years. Though it\\'s disheartening to read about the Courtland Sykeses who endure in our country, your message that men need to step up to the plate is spot on! We need more \"he-devils\" like you!', False, 258, 25781834.0, '5a7258e410f40f00018bed7d', 5.0], ['Excellent article. There are some who still believe that women have a place in the kitchen, in bed, or doing her husband\\'s bidding or any bidding but her own. I was fortunate. I grew up with a father who was a professor in a high ranking medical school, my mother was a nurse, and my stepmother was also a doctor in the medical school.<br/><br/>I assumed my life would follow a similar pattern. Never mind that my stepmother described staff meetings as \"bull pens\" and that she was fortunate to have a man [my father] to \"stand by her,\" in case anybody thought she \"might not be as qualified as a man.\" <br/><br/>In my life as a journalist, there were times three decades ago when a guy I was interviewing said I should be \\'home with the kids,\\' \\'home making dinner for hubby,\\' or anything but what I was doing -- getting more front page stories than most of the other staffers.<br/><br/>Progress. But many steps more to march.  <br/><br/>Signed,<br/><br/>She devil and proud of it', False, 243, 25782128.0, '5a7258e410f40f00018bed7d', 6.0], ['I have never had a sister or a daughter but I know if we do not turn back those who believe they can tell a woman how to live her life, there will be far too many generations of pain.  If an elected official cannot understand this, we have a duty to remove them from power. I am a father and a husband and my sons know this.', False, 237, 25782939.0, '5a7258e410f40f00018bed7d', 7.0], ['Thank you Mr. Kristof for always elevating women either in this country or in other cultures.The support for \"she-devils\" is growing exponentially in this country and now even in Muslim countries.The New York Times had an article just days ago about three women graduates of the Naval Academy who are running for Congress this year.They cleared the hurdle for entry to the Academy and active duty and now will be \"she-devils\" serving us in Congress.Women have so many admirable role models today.For someone who grew up in the era of \"dinner on the table by five\" it is very inspiring.', False, 203, 25783047.0, '5a7258e410f40f00018bed7d', 8.0], [\"Feminism is simply a belief that men and women should be equal and aren't stuck in pre-conceived roles. If Courtland Sykes' fiancée wants to have a hot dinner waiting for her man when he strolls through the door after a long day of work, more power to her. It's not about hating men, it's about having the power to choose and being supported in said choice.<br/><br/>The problem is when men assume all women have been put on this earth to serve them and then get offended when some of them would rather do something else. Suddenly, those women are man-eating harpies, evil shrews, and ready to do away with men the moment they find a way to procreate on their own. Basically, these men don't take rejection well.<br/><br/>I always appreciate Mr. Kristof's point of view because he's been fighting for women's rights and equality since before it was en vogue or a hashtag. For every man like Courtland Sykes or Donald Trump, there are an increasing number of men like Mr. Kristof and my husband, who happily shares the housework with me despite the far more lucrative job, and would make a wonderful stay-at-home dad should the opportunity arise. \", True, 199, 25787027.0, '5a7258e410f40f00018bed7d', 9.0], [\"Thank you as always for supporting women. We cannot do this alone. The good men out there need to stand with us or there will not be meaningful and long lasting change. Why aren't more of the good men speaking out and stepping up? \", False, 152, 25782039.0, '5a7258e410f40f00018bed7d', 10.0], ['Since Mr Sykes is now free to say what he thinks, others are free to answer him instead of talking around the issue, and no one can plausibly claim that people like him exist only in the overheated imaginations of feminists.  A mixture of rage and mockery seem indicated.  ', False, 143, 25784219.0, '5a7258e410f40f00018bed7d', 11.0], [\"Three cheers for this well crafted rant, Nick! I was very fortunate to have grown up in a household with a father who also expected his woman to have dinner waiting on the table at 6, and with a mother who quickly cleared up that guy's misunderstandings. Fair and balanced, with deep respect for each person was the norm for every decision, task, and responsibility in my house, as it should be in all relationships throughout our society. I also work in a field (conservation science) that was once dominated by males, but that is increasingly the domain of dynamic women. The university classes I teach on this topic are also almost completely filled with very attentive and dedicated women students, and each term this trend gives me more confidence that we can have a future with a habitable earth. \", False, 142, 25781898.0, '5a7258e410f40f00018bed7d', 12.0], [\"Thank you for this! I grew up with a Scandinavian mother who didn't believe in taking a back seat to any man. Her mother was a dressmaker who contributed to the family finances at a time when few women did so. Because of their role models I never felt like I should fade into the background around men. It's a battle that I have fought my entire life, and continue to fight. I am happy to see younger women taking a stand. It's easy to become complacent when someone else has done the fighting. \", False, 132, 25782085.0, '5a7258e410f40f00018bed7d', 13.0], ['I stand with the She-devils!<br/><br/>From 72 year old Seattleite married with 6 grandchildren and pretty centrist leaning.', False, 123, 25781802.0, '5a7258e410f40f00018bed7d', 14.0], [\"I too stand with the 'She-Devils'  Crass backward rhetoric out of Sykes.  Sad and pathetic stuff.  <br/><br/>The thing that concerns me about Skyes and his like, is that in these Trump times, the spectrum of what is Ok to say out loud, never mind as a US Senate candidate, is being expanded so that even if Sykes doesn't get elected, the point of what is acceptable is pushed further to the extreme, thus normalizing what would have, only a couple years ago, be considered shameful and derogatory.  <br/><br/>Is this really where people's hearts are at these days?  I just cannot understand this hard liner republican approach, and what they hope to gain in the long term.  Kitchen and the bedroom?  Ugh.<br/><br/>Women deserve better.  The country deserves better.   We need to make some changes and with the elections coming later in the year, I hope it comes soon!   \", False, 117, 25781776.0, '5a7258e410f40f00018bed7d', 15.0], [\"Too bad I don't work in a place where people value women in management as much as men. Off to go work in support of my supervisor, who lacks two thirds of my credentials (his BA to my MPA and JD) and out-earns me by a significant amount. He'll happily go on taking credit for my work, without ever acknowledging it's my work, not his, and I'll count the days until retirement.\", True, 116, 25784879.0, '5a7258e410f40f00018bed7d', 16.0], ['Many years ago I had a boss tell me - when I complained about being passed over for a promotion for the THIRD time, that I should be married and home taking care of my kids. Now mind you I was single and supporting myself so his comment blew me away. There were no laws then that I could have used to sue and in the end I\\'m grateful that I didn\\'t leave. He was fired shortly after - turned out he wasn\\'t doing such a good job after all - I got a new boss, who turned out to be a great mentor for me and I ended up with my old boss\\'s job.  When I think back on those supposed \"good old days\", I shudder to think that there are still men around like Courtland Sykes who proudly call women who stand up for themselves \"she-devils\" and think they can run for the US Senate and win. Of course isn\\'t the governor of Missouri being accused of blackmailing his mistress?  And isn\\'t it also the place where the last guy who ran as a Republican was the one who claimed that women who were raped couldn\\'t get pregnant?  Must be something in the water in Missouri!', True, 111, 25786952.0, '5a7258e410f40f00018bed7d', 17.0], [\"I feel for Sykes' daughters, if he currently has any &amp; pray that he never has more. It seems that like Trump the man has low self esteem and major insecurity. Clearly he is threatened by those of us who happen to have two X chromosomes... \", False, 102, 25785630.0, '5a7258e410f40f00018bed7d', 18.0], ['If Courtland Sykes ever has daughters and they want to be career obsessed, what does he plan to do, disown them?', False, 100, 25782187.0, '5a7258e410f40f00018bed7d', 19.0], [\"I think you've missed the real story here.  Clearly, Courtland Sykes is not a real candidate, but the first A/I bot to run for office.  His published statements sound just like the pseudo-random political gibberish of a Twitter bot, and his campaign posters and slogans? Inspirobot could do a better job.  Even his name (and his fiance's name, for that matter) sound like something made up by Baby Name Genie.  \", False, 91, 25784689.0, '5a7258e410f40f00018bed7d', 20.0], [\"390 is good? There should be more than 535 women running. I'd say less than 1070 is too few.\", False, 69, 25781849.0, '5a7258e410f40f00018bed7d', 21.0], ['“confronting the general tendency to defer to male self-confidence rather than female expertise. ”<br/><br/>Thank you!  <br/><br/>This is the core of the what women face every day*<br/><br/>* exemplified by the election of Trump, whose campaign policy statements amounted to, “I know more about ISIS than the generals” and “you’re going to like it, believe me” over a policy wonk woman who presented detailed proposals<br/><a href=\"https://www.hillaryclinton.com/issues/\" title=\"https://www.hillaryclinton.com/issues/\" target=\"_blank\">https://www.hillaryclinton.com/issues/</a><br/>that were ignored as if they were irrelevant to being “Presidential”', False, 68, 25786157.0, '5a7258e410f40f00018bed7d', 22.0], ['Thank you.', False, 62, 25781789.0, '5a7258e410f40f00018bed7d', 23.0], [\"Thank you for sharing your perspective on the backlash.  I have noticed a trend for some young women that want take their husband's names, be taken care of and told how to make decisions.  This saddens me and makes me fear a reverse in forward progress on women's rights.  Dano50 is right on!  Men cannot be free if women aren't liberated.  The future generations will determine the value of women. I feel a change will be coming.  \", False, 55, 25782896.0, '5a7258e410f40f00018bed7d', 24.0], ['I stand with the \"she-devils\" too.  Over and over, through court cases and media stories, women receive the message: there is no protection for you, and no justice.  <br/><br/>If you are alone in a room with a man, he can effectively do anything he wants, because who\\'s to say you didn\\'t consent.  If you take a taxi home because you\\'ve had too much to drink, and the cab driver sexually assaults you (as happened in Halifax), too bad, because who\\'s to say you didn\\'t consent.  <br/><br/>Our criminal justice system seems great at going after the \"man jumping out of the bushes\" kind of attack.  Unfortunately most women already know their attacker.<br/><br/>In the West, we may snicker at Islamic law, which says there must be 4 adult male witnesses to a rape to result in a conviction.  But in practice is it that much different here?<br/><br/>And as for harassment, if it takes place in an institutional setting, and the harasser is a powerful or valued executive, those employed by the institution are extremely motivated to protect the institution (and by extension, the valued executive).  Similarly, if the harassed woman works in a restaurant or hotel and is harassed by a customer, her employer(s) have every motivation to not alienate the customer. <br/><br/>No protection, no justice.', True, 50, 25788001.0, '5a7258e410f40f00018bed7d', 25.0], [\"My father had a job which caused him to leave at dawn to get to the can plant where he managed the warehouse; my mother kept dinner warmed for him when he came home late; I made desserts which he ate and said were swell.  My mother, grandmother and aunts went movies in town, and to plays in SF; my grandfather came to like going to plays in the City.  I don't remember any conversations about women or their rights; the women in my family had all the rights they wanted.  It was a tolerant family; I came home and lectured every one about the war in Vietnam and voters' rights; the family listened; my father said that he would rather have me doing those normal things when I was young and passionate, than have me become cynical.  Perhaps the fact that both sides of the family had Irish antecedents made them more tolerant of protest.  Perhaps it is wise to let young people follow their passions without critiques; it is the last time they are truly free to shout out and march, no jobs or kids.  If they continue to march later in life, good on them.\", False, 45, 25782301.0, '5a7258e410f40f00018bed7d', 26.0], [\"I'll take a she-devil any day.  Why are some men so scared of strong women?<br/>I guess they figure they can't compete without their traditional advantages.  Sad!\", True, 43, 25783379.0, '5a7258e410f40f00018bed7d', 27.0], ['I am a radical feminist because I, like all women, am a human being and a citizen. As for what to make about all the many Aziz Ansaris of the world, whom every woman has had to endure--we are determined that the price of male pleasure is not female physical and emotional pain and trauma. ', True, 33, 25783943.0, '5a7258e410f40f00018bed7d', 28.0], ['I don\\'t understand how people can criticize another person\\'s identity as \"made up.\"  Isn\\'t that the whole point is that we create our own identities? One woman doesn\\'t even get to decide what \"being a woman\" means for another woman. It\\'s not just obnoxious sexism, its like they can\\'t even grasp the idea of flexibility within an identity group. Literally campaigning on a platform revealing intellectual inferiority; that\\'s where we are.<br/><br/>And calling him an acolyte of Trump is skipping over the MO governor that is probably the missing link between the two.  ', False, 30, 25782815.0, '5a7258e410f40f00018bed7d', 29.0], ['Amen, Mr. Kristoff. I\\'ve been a feminist since my first girlfriend in high school showed me she was smarter, tougher, funnier and wiser than any of my male friends. My mom was the same when it came to the men in the household, as were many of my friends\\' moms. My mother-in-law is one of the most awesome people you\\'d ever want to meet. She taught about the history of the struggle for women\\'s rights. I\\'m a lucky and richer man for \"getting it\", that women are 1/2 the equation for the best for humankind. I mean, really, who\\'s kidding who? Trump is a man who doesn\\'t know or care to know about anything other than how to get what he wants - money, fame, and power - whatever the price. In other words, he\\'s like a lot of guys who see how well a patriarchy works for men who want to get ahead and know how to exploit their social advantages. Keep up the hreat work.', False, 21, 25786997.0, '5a7258e410f40f00018bed7d', 30.0], ['The comments regarding women, from some conservatives, are simply outdated. This is not an era when the only possibility to work for them is as school teachers. Women are very smart thinkers. They helped put John Glenn in space, to mention just one case.<br/><br/>In addition when a father dies and the orphans need education and support, the best suited is usually their mother. You can see in many photographs of the war in Syria, that many babies or children are being protected by their mothers.<br/><br/>During its war against the Triple Alliance, Paraguay lost almost all its territory. Women were in charge of impeding the total collapse of their country because almost all men died. And they succeeded. Paraguay still exists thanks to its precious women.<br/><br/>Women can do anything. Marie Curry conducted pioneering research on radioactivity. Golda Meir was, by far, better than Netanyahu. Just read history and compare.<br/><br/>Long live women!', True, 20, 25792295.0, '5a7258e410f40f00018bed7d', 31.5], [\"How is Hillary Clinton's life a wreck?<br/><br/>She was a successful lawyer.  She married a President and worked along side him.  She was a Senator and a secretary of state.  She was within a breath of the Presidency.  She is many times a millionaire.  She has the attention of the world, and anytime she wants to speak, the media will run towards her, at a wave of her wrist.  She has a successful foundation doing her bidding.  She has met or has had friendships with thousands of the worlds most interesting people.  She has a daughter who appears to share love with her.<br/><br/>If hers is a failed life because she did not achieve everything to which she aspired, I doubt if there any successful ones.\", False, 20, 25782500.0, '5a7258e410f40f00018bed7d', 31.5], ['Mr. Sykes, 1850 called. They want you back.', False, 18, 25784907.0, '5a7258e410f40f00018bed7d', 33.5], ['Whenever people ask me how can I be a feminist I respond how can I not and have any self-respect? I also have 3 daughters and 2 sons and 2 young granddaughters and 1 grandson. People like Sykes would have me count only my 2 sons and one grandson as people, while being content for the least rights and opportunities for my daughters and granddaughters. Perhaps I am supposed to hope they meet good \"owners?\" Sykes belongs in the trashheap of history along with slaveholders.', False, 18, 25787257.0, '5a7258e410f40f00018bed7d', 33.5], [\"As HRC said women's right are human rights.   Some men like to cook and enjoy parenting, some women are great in business. You need to be smart and fair  to understand gender equality is good for everyone.\", False, 17, 25787725.0, '5a7258e410f40f00018bed7d', 35.0], ['\"Of course there will be disagreemetns about policies or about where to draw lines -- about what to make of Aziz Ansari and how to distinguish between the Harvey Weinsteins and the Al Frankens. But those controversies are secondary.\"<br/><br/>Secondary? Not for me. I support any mechanism, including quotas, that will help more power achieve more positions of power, which, in the long run, is what will sort of lot of these problems out. However, I will never forget how many of my college-educated liberal female friends brushed aside our central societal lynchpin of due process. Lives and careers could be ruined overnight merely by collective judgment in the court of public opinion. My childhood experiences led to me to despise two things: bullies (in pants or skirts) and false accusations. So, while I will continue to fully support women\\'s rights, I will not be standing with any she-devils.', True, 16, 25787569.0, '5a7258e410f40f00018bed7d', 36.0], [\"Courtland Sykes might do well to heed a cautionary tale from NJ where, last January, Atlantic County Freeholder John Carman shared on his Facebook page the following meme:  “Will the women’s protest end in time for them to cook dinner?”  His constituent, Ashley Bennett, took unkindly to Carman's belittling roughly half the people he purported to represent, so she ran for his seat... which is now hers.\", False, 15, 25791207.0, '5a7258e410f40f00018bed7d', 37.0], [\"Personally, I stand with the she-devils.<br/><br/>They create really good, and funny, protest march signs.<br/><br/>Remember, a she-devil's place is in the House.<br/>And in the Senate.\", False, 14, 25786402.0, '5a7258e410f40f00018bed7d', 39.0], [\"I am a 73 year old woman.  I married in the 1960's.  We sacrificed more money for me to be a stay-at-home mom.  My suggestion to men, if they want a wife to be stay-at-home, dinner at 5, then they have to earn more money.  Families cannot survive on one income unless they are in the top 10% of society.  If women have to work, then pay wages that give families the option of having one of the spouses stay at home.<br/><br/>I worked all of my life until retirement except those 5 years I stayed at home with my son.  I never earned as much money as my husband, although he was a factory worker, and I was a Nurse (RN).\", False, 14, 25787611.0, '5a7258e410f40f00018bed7d', 39.0], ['The key phrase here is \"backlash.\" \"a window into the backlash against #MeToo\"<br/><br/>This clown Sykes would no doubt have had the same loony opinions regardless. However, it would have made him a freak at the margins until we got into \"backlash.\"<br/><br/>Politics works like a pendulum. The further it swings, the further it swings back.<br/><br/>It is a great thing to make a lot of progress all in one rush. However, if the ground taken cannot be held, then over-reach produces less progress than taking less in the first place, but holding that ground once taken. <br/><br/>That is the danger now. It is those who risked excess, as in taking down Al Franken, not those who took down the worst cases like Harvey Weinstein. It costs far more than the guy like Franken, it costs the backlash against doing it.<br/><br/>It is exactly because this movement is right and important that caution should be exercised not to mess it up by going too far too fast.', False, 14, 25786523.0, '5a7258e410f40f00018bed7d', 39.0], [\"Well it's quite clear Claire McCaskill will have no problem dispatching this anachronistic buffoon.  I'd also hint to the fiancee she could do a lot better an not much worse at present (hint: Wake up!).<br/>Trouble is Mr Kristof, when the tables are turned, it doesn't look different.  I spent my last 7 working years under a program manager who hired her 'friends' even though they were minimally qualified and not recommended by committees of her own appointing.  The sword of discrimination cuts both ways, and it was painful to see older, much more qualified candidates bypassed so she could select her running partner in one case.  Two wrongs will never make it right.  \", True, 13, 25791862.0, '5a7258e410f40f00018bed7d', 42.0], ['Thank you for your clarity...let’s keep up the political pressure and continue to focus on actions that are intersectional and progressive.', False, 13, 25786874.0, '5a7258e410f40f00018bed7d', 42.0], ['\"As recently as 1987, only half of Americans said that it was always wrong for a man to beat his wife with a belt or stick.\"<br/><br/>Reference please.  <br/><br/>Kristof has never written about a man murdered by his wife/partner, unless of course he can ascribe the murder to the man and completely exonerate the woman. Nor has he written about the wholesale condemnation of men under so-called \\'domestic violence\\' laws (the vast majority of which involve no violence whatsoever) that leaves leaves them homeless, without their children and, in many instances, jailed.<br/><br/> Sykes is correct about the insidious effects of feminism on individuals and society. Thankfully, the promoters of \\'she-devils\\' have had their run and more and more people are telling them to take a hike. ', False, 13, 25781322.0, '5a7258e410f40f00018bed7d', 42.0], [\"If I were Sykes I'd sign up for some cooking classes.\", False, 12, 25791841.0, '5a7258e410f40f00018bed7d', 44.5], ['Sorry, Mr. Sykes, but if your \"manhood\" is dependent upon being fed promptly at a particular time of day by a particular person, with no agency of your own, it sounds like you\\'re the one who looks down on men, not the feminists who haunt your nightmares by asking to be treated like people (The horror! The horror!) Children and pets can adapt to irregular feeding times and take basic steps to get that food into their faces, so surely a Big Strong Man™ can make his own sandwich.', False, 12, 25788705.0, '5a7258e410f40f00018bed7d', 44.5], [\"Men are such delicate and fragile creatures; always needing reassurance of our strength and virility and place in the world.<br/>And I am sick and tired of it.<br/>I realize that my wife and I do not see many things in exactly the same way; sometimes I celebrate those differences and sometimes I am just completely baffled.  I can live with that.<br/>I may believe that my ways are best but I hope I am wise enough to leave room for doubts about that.<br/>I hope I also am wise enough to leave room for the idea that maybe her ways are really better.  Let's wait for results so we can see.<br/>Men have had the reins of civilization, economy, and politics for most of the history of humankind.  We have brought the existence of humankind right to the brink with planet degradation and nuclear winter possibilities.  I think it far past time to let our hands be guided by the Mother as well as the Father.\", False, 11, 25791740.0, '5a7258e410f40f00018bed7d', 47.0], ['And how many white women will vote for this Neanderthal ?<br/><br/>The majority of white women voted for Trump, Roy Moore, and for Ed Gillespie.<br/><br/>Dear White Women,<br/><br/>Free your mind and the rest will follow.<br/><br/>Peace,<br/>The Resistance', False, 11, 25787608.0, '5a7258e410f40f00018bed7d', 47.0], [\"If Mr Sykes wants to come home to dinner on the table by 6pm then he should pay someone to do that. He seems to have confused the concept of a partner in a relationship with unpaid, hired help. If he has found someone who wants to take on that role for him, that's fine for him but he must not expect all women to live according to his plan. Since he has not figured it out yet: Women are people just like men, they want to do what they want to do. The problem seems to be less about manophobic she-devils and more about hysterophobe dinosaurs like Sykes. The she-devils of Missouri will put this bumbling dinosaur out to pasture.\", False, 11, 25784331.0, '5a7258e410f40f00018bed7d', 47.0], [\"I hate to say this about someone I love as much as I love you, Nicholas Kristof, but another reason you are writing this column is that, as a white, straight man, you had a way better shot at the career path you have had to a top spot at the New York Times than might have otherwise been the case.  You are talented, you are committed, you are hard-working...and you are privileged.  I'm only mentioning it because you raised the question about why you are saying this (as opposed to a woman, I suppose), but missed the most obvious answer.  You are saying it because you have enjoyed a lifelong societal privilege that has won you an incredible platform, along with the serious credibility that men get when they are experts, rather than being labeled hysterics or hyenas or whatever.  I'm not saying you don't deserve to be where you are, and I'm glad you're there.  But since you are, it would be useful to unpack this reality for all the men who are completely blind to it.  Since you raised the question.  \", False, 10, 25795612.0, '5a7258e410f40f00018bed7d', 49.5], [\"Hurray for Nasty Women....and She Devils!  The more, the better.<br/><br/>Here's hoping that poor unfortunate woman who is apparently slated to marry Sykes learns to be a very Nasty Woman too.\", False, 10, 25790012.0, '5a7258e410f40f00018bed7d', 49.5], [\"Some more encouraging news from flyover country (aka Missouri). We aren't all dinosaurs like Sykes and his predecessor Todd Akin.   Last weekend I was one of the speakers at a all-day training event for progressive women candidates for elected office.  Over 80 women from across the state were in attendance - up from about 18 at a comparable event 2 years ago.  I'd call that progress!\", False, 9, 25792373.0, '5a7258e410f40f00018bed7d', 52.5], [\"I can barely think because the snakes in my head keep writhing.  But here goes:  Women are done.  We are over the crazy misogynist meanderings of Courtland Sykes and his ilk.  We are over being told to get back in the kitchen.  You, Mr. Sykes, my poor deluded fool, best learn to operate the microwave so you don't starve in the future.  And get some meal delivery service numbers in your cellphone, if you are okay using such advanced technology.  Because I guarantee that your imaginary future daughters are going to serve you a dish best served cold.\", False, 9, 25787939.0, '5a7258e410f40f00018bed7d', 52.5], ['The \"wreckage\" of Hilary Clinton\\'s personal life? She\\'s still married to her first husband, has an accomplished daughter and a sweet grandchild. Doesn\\'t look like wreckage to me. <br/><br/>Sure, she\\'s had to weather some storms, but her husband\\'s infidelities are not a reflection on her feminism.', False, 9, 25789815.0, '5a7258e410f40f00018bed7d', 52.5], ['These crazy diatribes tribes are the product of the Republican base’s celebration of misogyny and anti-political correctness— really just a thinly disguised way to endorse cultural meanness. Normal civility keeps getting further and further away, in the rear view mirror...', False, 9, 25782218.0, '5a7258e410f40f00018bed7d', 52.5], ['\"Many women, and some men, were horrified that a man who boasted of sexual assault could be elected president.\" As a man, I was horrified but 53% of white women were not and voted for him anyway. That\\'s the battle that has to be fought and the segment that Sykes is tapping into.', False, 8, 25795138.0, '5a7258e410f40f00018bed7d', 59.0], ['A perfect column, Nick! Thank you<br/>very much.<br/>When Hillary Clinton lost the Electoral College to a washed-up<br/>celebrity I despaired. But the<br/>Women’s March brought<br/>me back to hopefulness and I’ve<br/>been working ever since to elect<br/>more women to public office.<br/>This year’s march in Oakland had<br/>so many men marching with us<br/>it seemed that a tidal wave of<br/>love and support washed over all<br/>of us. I really don’t believe that many men support Mr. Cortland’s<br/>extreme worldview.<br/>By the way, years ago in an Illinois<br/>gubernatorial election I voted for<br/>the moderate GOP woman—Judy<br/>Baar Topinka over the Democrat<br/>Rod Blagoyavich. She was eminently qualified because she<br/>had been the state comptroller for<br/>20 years and we needed a governor who could straighten out<br/>the state’s finances. The GOP boys<br/>didn’t give her much support and<br/>the media made fun of her hair.<br/>She lost, Illinois lost, and Rod<br/>Blagoyavich is still serving time in<br/>a federal prison.<br/>Women and men of good will who<br/>yearn to serve our republic—step<br/>right up—you’ve got a big crowd<br/>behind you!', False, 8, 25791866.0, '5a7258e410f40f00018bed7d', 59.0], ['If the choice is either she-devil or servile breeding stock, I wouldn’t hesitate for even one second to choose to be a she-devil.<br/><br/>It’s both sad and angering that some men are so perversely stuck in their demands for virtual sex slaves who serve dinner.', False, 8, 25789649.0, '5a7258e410f40f00018bed7d', 59.0], ['The sad reality may be that as much as racism is alive in America, sexism may be even livelier. What does it say that it was easier to elect a black man as president—running against an experienced legislator and war hero—than a white woman—a white woman running against an incompetent amateur and draft dodger.  #sad.  ', False, 8, 25782381.0, '5a7258e410f40f00018bed7d', 59.0], [\"It's hard to analyze the insane ramblings of this guy. What kind of an upbringing did he have where he thinks its ok to treat women like his personal slaves?  At least wife #3 of the serial adulterer gets the trappings of wealth. \", False, 8, 25786226.0, '5a7258e410f40f00018bed7d', 59.0], ['I want a tee shirt that says \"I\\'m with she-devil.\"  It should be red.', False, 8, 25787931.0, '5a7258e410f40f00018bed7d', 59.0], ['Democracy is not protected and promoted by \"standing\" (or \"feeling\", \"resisting,\" or following a herd).<br/>It is nurtured and defended by education, independent thinking, knowledge of one\\'s country and government, and a good understanding how legal reform actually works.', False, 8, 25787282.0, '5a7258e410f40f00018bed7d', 59.0], ['Seven paragraphs seems like a lot of space to devote to a candidate who \"has not been endorsed by Donald Trump and who seems unlikely to be elected.\" And there is a later reference to \"Men like Sykes\".<br/><br/>Perhaps it is because Mr Sykes\\' views are so strikingly unpalatable. But the argument of the article might be stronger if the author had chosen a target who is less of a straw man and more obviously representative of those whom he wishes to criticize. Of course, a sample of one is still not all that compelling. ', False, 8, 25782154.0, '5a7258e410f40f00018bed7d', 59.0], ['Respect for differences seems to have largely vanished in today’s hyperpartisan USA. Extremists vilify opponents and only listen to their left-wing or right-wing echo chambers and respective think-tanks. Moderates everywhere may want to consider others as “different, not less.”', False, 8, 25781935.0, '5a7258e410f40f00018bed7d', 59.0], ['Nicholas Kristof writes, “Why is a man writing this column? Frankly, because women’s rights aren’t ‘just a woman’s issue,’ any more than civil rights were ‘just a black issue.’ We all have an interest in a more fair society — and if only women speak up for gender equity, they may be dismissed as shrill ‘hyenas.’”<br/><br/>However, there many differences between the civil rights and the women’s rights struggles, and one major one is this: While the fight for the rights of African-Americans was being waged, there was no question that they were not faring as well as whites in nearly every area, and this certainly included black children (vs. white children); and such is still the case. But it is not the case for women today, especially where boys and girls – who are men and women to be -- are concerned. As Kristof himself noted in a 2010 Times piece, “The Boys Have Fallen Behind,\" “In the United States and other Western countries alike, it is mostly boys who are faltering in school. The latest surveys show that American girls on average have roughly achieved parity with boys in math. Meanwhile, girls are well ahead of boys in verbal skills, and they just seem to try harder.” <br/><br/>Among other data, he noted that young men comprised only 43% of college undergraduates.<br/><br/>Sadly, things have not improved for boys or young men. It’s no backlash to be concerned about this kind of disparity, one which has gone on unabated for well over 20 years.', False, 7, 25791382.0, '5a7258e410f40f00018bed7d', 67.5], ['Just another embarassment for Missouri.  You would have thought that Todd Akin would have been lesson enough.', False, 7, 25788358.0, '5a7258e410f40f00018bed7d', 67.5], ['Men like Sykes are scared, very scared. And they should be.  <br/><br/>Competent women and people of color everywhere are using modern, laser-guided missiles to pulverize the millenia of detrius put in their path by mediocre white guys. <br/><br/>Equality is coming. There’s no going back. ', False, 7, 25787402.0, '5a7258e410f40f00018bed7d', 67.5], ['Sykes is clearly mad as a hatter, and despite his colorful language, no master of English. \"Manophobic\"? I believe, if that were a word, it would mean something like \"suffering from an irrational fear of hands,\" or possibly of magic...<br/><br/>Either way, his comments, however offensive and ignorant, should be relegated to the dust-bin of herstory. My word, Mr. Sykes! ', False, 7, 25789317.0, '5a7258e410f40f00018bed7d', 67.5], ['Sounds like Sykes has a bad case of what I once heard a good man call \"testosterone poisoning.\"', False, 7, 25784649.0, '5a7258e410f40f00018bed7d', 67.5], ['I’ve always liked snakes. I also think being a she-devil is a lot better than being a doormat, so here’s to snakes and she-devils!', False, 7, 25784033.0, '5a7258e410f40f00018bed7d', 67.5], ['What is it with Missouri and crackpot Republican candidates for Senate seats?  Last time around we got Todd Akin and his \"victims of legitimate rape rarely get pregnant\" assertion.<br/><br/>Do people really believe this stuff?', False, 7, 25785143.0, '5a7258e410f40f00018bed7d', 67.5], ['Most men support women\\'s rights. Unfortunately, there are those that want to keep women \"barefoot and pregnant.\" This is another reason to support more women running for office.<br/><br/>We won\\'t have true equality until we have at least as many women as men serving as elected officials. Vote progressive in all local, state &amp; national elections.', False, 7, 25784808.0, '5a7258e410f40f00018bed7d', 67.5], ['\"Courtland Sykes\" should be writing for The Onion, not running for office. ', False, 6, 25791604.0, '5a7258e410f40f00018bed7d', 78.0], [\"I don't care about the details of this troglodyte's oddities. Thing is, in much of America, they are normal and not odd. And they are let loose upon us by the deplorable example of Trump. Now, zoom out a little, and see that he, as he said and as Sarah Sanders said, is remaking the judiciary. Back up a little more and see that this is possible because McConnell and Ryan and their spineless juntas are also deplorable. Now ask Hailey, DeVos, MIller, and Virginia Foxx, why??? Ask the Catholic women who helped to empower Trump, why?? I know: religion and tribalism, but it surely is not the religion of Christ.\", False, 6, 25791607.0, '5a7258e410f40f00018bed7d', 78.0], ['I used to joke about being a \"Feminazi\". But I stopped. There\\'s something retrograde about these pejoratives, even when they\\'re satirical.<br/><br/>I\\'ve always watched the national, political abortion discourse with a mild sense of nausea, because I\\'m looking at a stage full of men both liberal and conservative talking AT me. They all say \"what these young women need...\", presuming that the WHOLE burden of reproductive health and freedom is a purely one-dimensional problem that they alone have figured out and solved. While they do... NOTHING.<br/><br/>Kristoff is right. Equality is a society-wide concern. But I\\'m not a she-devil even jokingly. I\\'m a proponent of freedom and equality, fairness and intellectual discourse. I\\'m a human being. I\\'m a patriotic American exercising my rights.<br/><br/>If Sykes wants to speak in that way, and if people want to be okay with that kind of reprehensible language (just because they saw Trump do it, so it might just work)... Well then they need to be shut down only one way. By losing the election. Know this though: we, the progressive, will not make a dent by satirizing this unspeakably offensive language.', False, 6, 25791938.0, '5a7258e410f40f00018bed7d', 78.0], [\"Blessings on you from an fellow Oregonian!  We admire your continued stands for women's issues. Clearly we need more men to be involved and supportive of family planning issues as well as our other rights, and thanks for pointing that out.<br/><br/>And having just also read Gail Collins today regarding these issues, it always puzzles me how issues like birth control and family planning can even considered just the concern of women....there is ALWAYS male involvement at some stage in the process, and also the outcome. So why wouldn't they care as much as the women involved? And if nothing else, it often becomes a pocketbook issue for them down the road.  And  that seems to always be their number one issue on which they base all their decisions - will it cost me more money?\", False, 6, 25793293.0, '5a7258e410f40f00018bed7d', 78.0], [\"Sykes's statements are so absurd and so far out of the public mainstream to suggest that he may be a liberal plant designed to sully the entire conservative man population.  But, when put in the context of the public lives of a Trump, a Ryan, a McConnell - it may only be that he simply that stupid.  Another man child.  Must be an Evangelical.\", False, 6, 25785939.0, '5a7258e410f40f00018bed7d', 78.0], ['It\\'s interesting that Mr. Sykes, who expects his future daughters to become \"traditional homemakers and family wives\", hasn\\'t quite gotten around to marrying the woman who dutifully fixes his dinner and shares his bed.', False, 6, 25790242.0, '5a7258e410f40f00018bed7d', 78.0], ['Why stop at \"more women on boards\"?<br/><br/>Have you done the math on the split between the number of male and female Op-Ed columnists at the New York Times?<br/><br/>Perhaps that would be be a good place to start with the \"empowerment of women\", since it is, after all, \"the most important trend in the world\", and everything.', False, 6, 25783308.0, '5a7258e410f40f00018bed7d', 78.0], ['It always cracks me up to see \"childcare\" framed as a women\\'s issue.  Men have children too, and are probably equally concerned about who will take care of them while they are at work.  It just shows how ingrained gender inequality really is, when even our defenders don\\'t recognize their bias.  Otherwise, I appreciate the intention of the piece.', False, 6, 25784817.0, '5a7258e410f40f00018bed7d', 78.0], ['History is on your (our) side, Mr. Kristof.  Please continue to use your voice that touches so many to inspire our Fight at the local and state level .', False, 6, 25782750.0, '5a7258e410f40f00018bed7d', 78.0], ['Thanks for the article. Please note however that progress has not been “enormous” in the matter of our elected representatives’ gender compared to most other countries. It has been abysmal. ', False, 6, 25787158.0, '5a7258e410f40f00018bed7d', 78.0], ['As a Filipino I have watched with deep sadness as the United States, a country I considered to be one of the world\\'s leaders in issues of human rights and equality, elected Donald Trump. (Having elected our own misogynistic war-mongering would-be dictator, Duterte, we can relate.) It\\'s good to know that at least this one good thing is coming out of the Trump presidency: the continuing growth, evolution, and acceptance of feminism not as a \"radical\" ideology, but as the sane, humane norm. ', False, 6, 25784375.0, '5a7258e410f40f00018bed7d', 78.0], ['Frederick Douglass, the great 19th century abolitionist, also spoke up for woman suffrage. Asked why, he said something to the effect (relying on memory here), \"What I do for my race, I do for my self. What I do for women has some nobility in it.\" So glad to have Kristof speaking up for women in 2018. And 390 women running for Congress? November 2018 will be a game changer!!!!', False, 6, 25784499.0, '5a7258e410f40f00018bed7d', 78.0], ['OK we get it. The MSN/DNC have decided gender is their winning issue for the mid terms. You can also hope for an economic downturn.   ', False, 6, 25782149.0, '5a7258e410f40f00018bed7d', 78.0], ['The snake-filled heads comment made me think of Medusa.  <br/><br/>I hope he loses, so retrograde.', False, 5, 25791250.0, '5a7258e410f40f00018bed7d', 91.5], ['As I have grown older, the more I have learned about sexism, the more I want it gone.<br/><br/>I think \"I Stand With The She-Devils\" would make an excellent t-shirt.', False, 5, 25794684.0, '5a7258e410f40f00018bed7d', 91.5], ['“...a newfound freedom in the Age of Trump to say things that were previously beyond the pale.”<br/><br/>Hoo wee. You can say that again. ', False, 5, 25791082.0, '5a7258e410f40f00018bed7d', 91.5], [\"The good news is -- it is much easier to fight against the tyranny of those you can identify. I've been shocked by comments of male friends: 'But women have made such huge progress'; and, 'Corporation boards only want to hire women' (while 3 out of 4 open seats go to men). Why is getting to 50:50 so threatening? As Kristof points out we will all be better off if women's equal contributions were equally valued -- it is not a zero-sum game (if I win, you lose) it is the reality of rising tide lifting all boats. <br/><br/>I'm glad we (women, and some men) have gotten angry, perhaps angry enough not to 'take' inequity any longer. The huge progress some claim that women have made? There is a high water mark at 20%. In spite of women being better educated than men ... for 30 years (more BA and master degrees since 1987) women's participation in our economy has been stuck at 20% or less: Congress (20%), Fortune 500 board directors (20%); professional chefs (19%); Corporate C-suite (18%), nominated for last six Grammy ceremonies (9.3%); CEO's (6%). In addition to getting paid 20% less for the same work on average, and much much less in male-dominated professions.<br/><br/>More than time to make the dictionary's definition of feminism a reality: that women have political, social, and economic equality with men. I wish that people would stop messing with the definition. It is not a campaign against men, it is a campaign for equal opportunity. \", False, 5, 25792117.0, '5a7258e410f40f00018bed7d', 91.5], ['I live with \"she-devils\"! Courtland Sykes clearly doesn\\'t know what he\\'s missing!!', False, 5, 25787273.0, '5a7258e410f40f00018bed7d', 91.5], [\" Right up there with 'she was warned but she persisted.'  May she-devils always persist.\", False, 5, 25782662.0, '5a7258e410f40f00018bed7d', 91.5], [\"Sykes' photo is hilarious--the hair, the scowl, the beefy (running to chubby?) shoulders. He looks like the guy that tried to sell me a timeshare. He's one of the guys that makes politics fun. I love these jokers from nowhere who come on the scene, cause a commotion with their outrageous and ridiculous ideas and then disappear, and then usually reemerge a few years later after an arrest for something embarrassing. What is it about politics that attracts these characters?\", False, 5, 25787495.0, '5a7258e410f40f00018bed7d', 91.5], ['Mr. Sykes, for the first time in my life I wish I lived in Missouri, so I could vote for Ms. McCaskill.', False, 5, 25790457.0, '5a7258e410f40f00018bed7d', 91.5], ['If Sykes were a real man, he would have been on horseback, shirtless in his campaign photo.  A Trump endorsement would be immediately forthcoming.', False, 5, 25787716.0, '5a7258e410f40f00018bed7d', 91.5], ['Spent some time watching the news this morning with my wife, who\\'s generally pretty progressive (I am most certainly not) when yet another #MeToo story came on.  I knew the backlash was coming when she turned to me and said, \"this is getting WAYYYYY out of hand - there\\'s no nuance or subtlety to it and it\\'s going to hurt women in the long run\".  <br/><br/>If I could\\'ve \"dropped the mic\" I\\'d have done so.  <br/><br/>Keep feeding the anger folks - see where it gets you in the long run.', False, 5, 25786250.0, '5a7258e410f40f00018bed7d', 91.5], [\"This is the most misogynistic administration in my lifetime.  Defund Planned Parenthood, destroy mandatory insurance coverage for contraception, free health care providers to deny treatment they don't agree with and defund community health centers.  Now this yahoo says what Republican men believe, keep women barefoot and pregnant, home cooking dinner.  Marches are good, votes against Republicans are necessary, not optional.  And there's another way to make the point - a women's sex strike on all Republican men.  Start now before it's too late.\", False, 5, 25787805.0, '5a7258e410f40f00018bed7d', 91.5], ['I\\'m delighted that this column referenced concern over distinguishing between Al Franken\\'s behavior and Weinstein\\'s (a concern I share) as \"secondary.\" Too much of the media seizes on such criticism as opposition rather than arguments to appropriately focus the #MeToo movement, and to maintain its credibility. Of course, major trouble within the ranks makes for more exciting news than a discussion of an organization\\'s real mission.', False, 5, 25787462.0, '5a7258e410f40f00018bed7d', 91.5], ['Conducting oneself with resolve and integrity, despite danger and defamation, until equal rights are achieved.  To me, there was always a double meaning to Women’s Suffrage.', False, 5, 25783875.0, '5a7258e410f40f00018bed7d', 91.5], [\"Please take a look at photos of the crowds in attendance at women's rights marches-they are NOT entirely young women, in fact, they are a mix of young, middle age, older and include plenty of husbands, fathers and sons. Nobody is marching because it's their last chance to do so w/o being criticized, rather we are marching to ensure the equal rights of all, and sadly today that doesn't include women, but if we keep working and marching and forcing change, it will. In your families case, the caged bird sings but we protestors want to sing in the trees and skies too.\", False, 5, 25787652.0, '5a7258e410f40f00018bed7d', 91.5], [\"After reading about Sykes, I'm tempted to feel relief that McCaskill will have no problem holding on to her Senate seat. But, then I remember how much Republicans like tarnished candidates these days. The more tarnished, the better, it seems. After all, look who is president. \", False, 4, 25796019.0, '5a7258e410f40f00018bed7d', 103.5], ['I was going to comment on this but could not spell the sound hat emerged when I read it.', False, 4, 25784589.0, '5a7258e410f40f00018bed7d', 103.5], ['I don’t know what deal was made with Melania so that she would show up at the State of the Union, but I have a feeling that we will not be seeing a lot of her in future months.  Melania is not stupid, and that white pantsuit sent an intentional message. I think she’s done with Donald. <br/><br/>I hope that Melania and her son dump the jerk and move forward with their lives.  Her marriage was always transactional, but public humiliation was not part of her deal. ', False, 4, 25785909.0, '5a7258e410f40f00018bed7d', 103.5], [\"Sykes is not even married and he expects dinner cooked at 6.Does his fiancee have a job or is  she his mistress? Could she love and live with a woman hater? What kind of woman would vote for him or even Trump?<br/>Hillary has been the world's most admired woman for a decade, Trump is probably the most hated man.<br/>I read somewhere Melania had a prenup stating that the Donald could have affairs only with women older than her.<br/>Women's lives matter and name calling is harassment.\", False, 4, 25784433.0, '5a7258e410f40f00018bed7d', 103.5], ['Nicholas, please don\\'t use this nut job as a representative of the \"backlash\" to the #MeToo movement. <br/><br/>As a father of a teenage son and two teenage daughters, I want them all to be treated equally. But just as I would never want anyone to sexually harass my daughters, I also don\\'t want someone to accuse my son without evidence of a sexual assault and ruin his life out of vengeance or on a whim. <br/><br/>It\\'s wonderful that these century-old issues are being taken so seriously, but I fear too many on the #MeToo side are a little too comfortable with a climate where an accusation is a conviction. Using Mr. Sykes as a straw man for your argument, serves no useful purpose.', False, 4, 25787692.0, '5a7258e410f40f00018bed7d', 103.5], ['I hope the script writers for The Handmaid’s Tale are reading this article. They need material for Season 2. ', False, 4, 25787128.0, '5a7258e410f40f00018bed7d', 103.5], ['Amen!  This is not a zero sum game.  Men are more if women are more.  Culture and societal norms are all enriched if women are more.  The future of the human race and of the planet are made more secure if women are more.', False, 4, 25785850.0, '5a7258e410f40f00018bed7d', 103.5], ['I hope that Courtland Sykes loses to Senator McCaskill.<br/><br/>And then I hope that Mr. Sykes gets married, has daughters and that those daughters grow up to be strong, independent women who straighten out their Neanderthal Dad.', False, 4, 25787507.0, '5a7258e410f40f00018bed7d', 103.5], ['You might feel differently if you had been the victim of a sexual assault and nothing were done about it.  Yes you might be VERY VERY angry if you were told that \"that\\'s just the way it is\" and you should just get over it.', False, 4, 25790002.0, '5a7258e410f40f00018bed7d', 103.5], ['What?!?!?!  Sykes lives with a woman to whom is not legally married?  Tar &amp; feathers at once!!!', False, 4, 25795105.0, '5a7258e410f40f00018bed7d', 103.5], [\"Thank you Mr. Kristoff!  You are right, 'women's rights aren't just a woman's issues any more than civil rights were just a black issue'. We should all be equal in the eyes of the law and no gender or color or creed should be demonized.<br/><br/>Sykes is either 'drinking the Kool-aid' or simply looking for his 15 minutes of fame by being outrageous like his role model in the WH. Or, even scarier, he actually believes the claptrap he is selling! Another GOP anachronism who wants to come home to the plantation. He is about 150 years too late.<br/><br/>Trump is a role model for children, NOT having any.\", False, 3, 25791918.0, '5a7258e410f40f00018bed7d', 119.0], ['\"A new Quinnipiac poll finds that 72 percent of Republicans consider Trump a good role model for children.\"<br/><br/>This should be no surprise as the GOP is all about white, male domence and making money at any and all costs. Doesn\\'t that point to our dear leader, trump? ', False, 3, 25784524.0, '5a7258e410f40f00018bed7d', 119.0], [\"Can't wait for our current president to award the presidential medal of freedom to Phyllis Schlafly, Ayn Rand, and Ruth Bell Graham.  Sarah Palin.  Jeanne Kirkpatrick.  \", False, 3, 25784587.0, '5a7258e410f40f00018bed7d', 119.0], [\"Slithering around here on the Left Coast, sidling along the seashore, then crawling across the water-logged fields, it is hard to fathom or comprehend or understand the thinking patterns of some who are so woefully out of date. Does this man know he can order his dinner delivered on time every night, right to his doorstep, or he can pre-order a week's worth of food, store it in the freezer, and choose something new each night. To think it is the duty of a wife to stay at home, in the kitchen, preparing the food, setting the table, finding his slippers, when she could be out and about, having fun, perhaps<br/>pursuing he own career....well. it is all too much. Will slither over to my<br/>underground cave, blow out the candle and ponder. What is to become of all this? Cheers.\", False, 3, 25783554.0, '5a7258e410f40f00018bed7d', 119.0], [\"Excellent column, but I have to say that I love the snake filled heads bit. I'd like for every man I encounter to think I have a head full of snakes that I could unleash on them if I am disrespected!\", False, 3, 25787099.0, '5a7258e410f40f00018bed7d', 119.0], ['What a fabulous gift Mr. Sykes is to Claire McCaskill! ', False, 3, 25789922.0, '5a7258e410f40f00018bed7d', 119.0], [\"Actually what we really need are both women and men who possess integrity. It's in such short supply here because most people (regardless of gender) worship power and money.\", False, 3, 25789520.0, '5a7258e410f40f00018bed7d', 119.0], ['I stand with the women. While I get the idea of triumphantly appropriating the sex-baiter\\'s term \"she-devils\", I\\'d rather not.<br/><br/>America needs far more of women\\'s influence in public office and in other positions of leadership, and all through society, because -- on the whole -- women operate at a higher level of maturity than the boys\\' club that has been dominant up to now. Bombast and bellicosity are for the boys.<br/><br/>Living to see women break into the existing club and proceed to outdo its male members in retrograde behavior and speech would be depressing. I\\'d rather go for broke and hope that I live to see society imbued with women\\'s maturity, sanity, and people-based sense of values.<br/><br/><a href=\"http://thefamilyproperty.blogspot.jp/2018/01/the-voyage-to-restoration.html\" title=\"http://thefamilyproperty.blogspot.jp/2018/01/the-voyage-to-restoration.html\" target=\"_blank\">http://thefamilyproperty.blogspot.jp/2018/01/the-voyage-to-restoration.html</a>', False, 3, 25785948.0, '5a7258e410f40f00018bed7d', 119.0], ['“… tendency to defer to male self-confidence rather than female expertise.“  This resonates strongly with me as a female physician.   I  encourage all of us to push the limits of our comfort zones and speak up for young women entering male-dominated professions.  I sometimes find myself advising talented middle school girls:  “Never work for anyone dumber than yourself.”', False, 3, 25782953.0, '5a7258e410f40f00018bed7d', 119.0], [\"Trump a role model for children? Let's start a list of traits: Lying, ends justify the means, predation, attack all attackers regardless of merit, accept credit but never blame...what kind of parents are these?\", False, 3, 25786788.0, '5a7258e410f40f00018bed7d', 119.0], [\"Cortland Sykes had a pretty transparent gameplan when he decided to run against Claire McCaskill.<br/>How can I draw the attention and hopefully support of the President of the United States?<br/>'I know.  I will articulate the most laughably draconian remarks imaginable about women. That will get his attention and support'.<br/>He probably thought about running as a reformed pedophile, in an effort to gain the President's support,  but saw that hand recently played without success.\", False, 3, 25786396.0, '5a7258e410f40f00018bed7d', 119.0], [\"A man who views women's equality as man-hating is saying far more about his own sense of self worth than the worth of women.\", False, 3, 25788703.0, '5a7258e410f40f00018bed7d', 119.0], ['Nicholas, I disagree with your statement (that to know) \"how to distinguish between the Harvey Weinsteins and the Al Frankens (is important). But those controversies are secondary.\"<br/><br/>Feminism IS the multifaceted face of the war between the sexes. I agree that ex is but one aspect, but seduction is the free-form art that sets the stage for all prejudices and misunderstandings between men and women. It is only when a man or a woman or both do not coincide on that playing field of sexual interplay that trouble arises. Whether the aggressor is a man or a woman makes no difference.<br/><br/>All issues arise from how two people feel about each other sexually. Attraction or repulsion is the background of all human relations. Only when participants set aside the reptilian mind reactions to each other is advance possible in all other fields of interaction between them. <br/><br/>The \"war between the sexes\" might be redefined by \"setting aside attraction or repulsion,\" removing emotion from the search for equality in politics, the work arena and religion. Sex, Politics and Religion are the domains of conflict and strife. Conflict is here to stay. We are human. This war can only be modified, not solved.<br/><br/>Feminism seeks modification. This should not destroy the rush of attraction, but instead, recognize AND ACCEPT its difference from unwanted aggression.', False, 3, 25785511.0, '5a7258e410f40f00018bed7d', 119.0], [\"Another great article, Mr. Kristof. I want to address one thing. In this article, you indirectly take issue with the dehumanizing language mysongists are using to reference to feminists. Thank you! However, you also dehumanize (in a less harsh way) Melania Trump by referring to her as Betrayed Wife No. 3. She's been reduced to her treatment and relationship to a man. As a feminist who struggles with Melania's life choices, I believe that if we are going to achieve the promise of feminism  (equality for all humans), we have to also be outraged when any acts of dehumanization are used - even towards people we disagree with or don't like. And we certainly must work to not engage in this practice ourselves.\", False, 3, 25785659.0, '5a7258e410f40f00018bed7d', 119.0], ['You ask, \"Why is a man writing this column?\" While I agree with you that \"women’s rights aren’t \\'just a woman’s issue,\\' any more than civil rights were “just a black issue\\'\" and support and appreciate your using the space you\\'ve been given to write movingly and convincingly on the topic, I think there\\'s more to it. A man is also writing this column in part because, well, men simply get more chances to write columns than do women (or, for that matter, non-binary people). The question then becomes, what\\'s the best way to solve this problem? How *do* we tear down patriarchy?', False, 3, 25783240.0, '5a7258e410f40f00018bed7d', 119.0], ['\"An astonishing 390 women are now running for Congress.\" This will be the test. In view of the rancor and political blindness now being exhibited by the Republicans in Congress, I hope the 390 represent a positive turn around. We need it badly.', False, 3, 25786049.0, '5a7258e410f40f00018bed7d', 119.0], ['\"72 percent of Republicans consider Trump a good role model for children.\"<br/><br/>There has never been better proof that it is time for the GOP to go the way of the Whigs- the party they replaced, back when they represented America\\'s left wing and were truly the party of Lincoln. <br/><br/>There comes a point where the compromise of decency and truth in the pursuit of power within a democracy crosses a line.  Obviously Trump crossed that line long before he became president, now the GOP has crossed it with their unwavering support of this monster- forgiving everything he does and turning on any institution that may try to reign him in, regardless of facts. <br/><br/>Impeach the GOP!', False, 3, 25784610.0, '5a7258e410f40f00018bed7d', 119.0], ['Women need the support of men at home, at the workplace and everywhere else they live their lives. Women can not win the fight for fairness and equality by themselves. I believe if more men were like Mr. Kristof we would not even be having this discussion. One of the goals of right wing Republicans seems to be the marginalizing, minimalizing and outright demonizing of their female opponents. This only adds to an already hostile environment felt by most women today. ', False, 3, 25783585.0, '5a7258e410f40f00018bed7d', 119.0], ['The unfortunate reality is that there is a Mr. Sykes around every corner of our social, political and economical aspect of our society. All those \"Sykes\" live in our universe and not in a parallel one. Time has come to catapult them away to where they belong.', False, 3, 25784534.0, '5a7258e410f40f00018bed7d', 119.0], [\"There is no legitimate right for women that restricts the legitimate rights of men.  You will never fix the problems faced by men until you fix the problems faced by women.  I'm going to stand with the she-devils as the he-devils have had their way long enough.  \", False, 3, 25787367.0, '5a7258e410f40f00018bed7d', 119.0], ['Lots of info on the internet for you to research for yourself, Joe.<br/><br/>\"the insidious effects of feminism on individuals and society.\" I looked that up, too. I found many interesting articles, and read some of the really conservative ones. They simply point to the fact that women have babies and the Bible says Adam came first. Pretty weak tea.<br/><br/>Perhaps you believe that men just somehow must be in control of everything, every detail of everything in every corner of this planet. Can\\'t you let women control just one thing?? Their own personal bodies. Is that just sooooo unacceptable that it constitutes battle-worthy shreiking about devils, snakes and deceit? <br/><br/>Men aren\\'t such weaklings, are they? They can stand just a little pushback on the playground, right? LEAVE ME ALONE is all we\\'re saying. ', False, 3, 25787591.0, '5a7258e410f40f00018bed7d', 119.0], ['She-devil reporting for duty!', False, 2, 25795675.0, '5a7258e410f40f00018bed7d', 145.5], ['I happen to descend for a few of them, because we nasty women like to roam in PACs!  Isabella, Margaret and Eleanore...you must Court our Love or expect to be banished!  OK, Isabella just married into the family, but we call her one of US!', False, 2, 25795241.0, '5a7258e410f40f00018bed7d', 145.5], ['While I see no value in Trump I see something more going on with the West.<br/>Here is what I see in the ad hominem attacks on anyone that disagrees with you.   Pure ideology that cannot stand the very existence of its opponent.<br/>Social media is the perfect tool for the advent of a new fascisim whether born of the right or the left.<br/>Think like a progressive or else!  Think like a conservative or else!.<br/>Think like us or die is not far down the road.<br/>Today its a social stoning, tomorrow it will be elimination. ', False, 2, 25794960.0, '5a7258e410f40f00018bed7d', 145.5], ['Good job, sir. I agree one hundred percent. The voice rising from fearful anxious men or their female collaborators cannot put the genie back in the bottle.  Women have found their free voice.  Now let us see what we can do to make htis country and this world  more equitable, charitable and healthy.', False, 2, 25791111.0, '5a7258e410f40f00018bed7d', 145.5], ['Yes, we all know of the family-oriented, never straying habits of your liberal heroes in the press, academia and hollywood.  Like, the ones who got famous making sex tapes.  Like, every Kennedy male and their successor from Hope.  Like, NYT reporters whose reported treatment of women is covered up by hypocrite cronies -- perhaps even by the likes of you.  Like these wonderful stroy-tellers Allen &amp; Polanski, or the scions of slave holders like Affleck and Al Gore.  All these paragons of liberal ethics.  So blind they have no idea how motivated we are to bury them, election after election.  ', False, 2, 25785758.0, '5a7258e410f40f00018bed7d', 145.5], ['Why is a man writing this column? Hm, what sprang to my mind was not your feminism but the preponderance of men among the NYT opinion writers. ', False, 2, 25789245.0, '5a7258e410f40f00018bed7d', 145.5], [\"Of course Sykes is abhorrent.  No one with any sense would support him.  But look who Missouri has as governor nowadays?  Greitens has an affair, threatens the woman to keep her quiet (at least Trump paid her off!), and he and his staff use text applications that delete the messages, leaving no trace of what transpired.<br/>On the other hand, McCaskill jumped on Franken and didn't even allow the necessary investigation of accusations made by partisan women.<br/><br/>Don't know if there is anyone I can vote FOR anymore.  Kind of like 2016, I'll go to the polls this fall with a clothespin on my nose.\", False, 2, 25789882.0, '5a7258e410f40f00018bed7d', 145.5], [\"I stand with the she-devils too. The sisters' day is coming. \", False, 2, 25784673.0, '5a7258e410f40f00018bed7d', 145.5], ['\"Backlashes go way back.\" Yep. Read Mary Beard\\'s \"Women in Power,\" which notes that this sort of language goes all the way back to the Greeks: Women were to be silenced and if they were not, they were termed Medusas (snake-filled heads) and Banshees (screaming). It\\'s utterly disheartening that, for some men, this is still the attitude.', False, 2, 25786761.0, '5a7258e410f40f00018bed7d', 145.5], [\"The survival of our species is absolutely dependent on greater involvement in decision-making on all levels of our society by women.  It can't happen soon enough as our male-dominated approach has already brought us to the edge of self-destruction.\", False, 2, 25789525.0, '5a7258e410f40f00018bed7d', 145.5], [\"Wait.  What was that Mr. Sykes said?<br/><br/>Someone ought to inform old Mr. Sykes that if he wants a cook, or a house custodian, that it is cheaper and more efficacious to hire one than to try to marry to get one.<br/><br/>He has a fiancée?  I suspect that unless he is holding a shotgun against her, she ain't going down the aisle with that man.  Or she would be wise not to.\", False, 2, 25789263.0, '5a7258e410f40f00018bed7d', 145.5], [\"This is just another random dude who's not even going to be elected. He doesn't deserve this kind of publicity.\", False, 2, 25789604.0, '5a7258e410f40f00018bed7d', 145.5], ['We welcome you, Nick. Your Wife is a very intelligent and lucky Woman.', False, 2, 25782297.0, '5a7258e410f40f00018bed7d', 145.5], ['Kristof writes eloquently about the empowerment of women, and firmly believes in in. Yet does not think prostitution and the sex industry should be legalized. Kind of a contradiction there, no???', False, 2, 25783110.0, '5a7258e410f40f00018bed7d', 145.5], [\"Why are so many men like Courtland Sykes so afraid of women?  Real men don't need to be surrounded by weakness to feel strong.  Thanks Mr. Kristof for once again displaying the best traits of masculinity.\", False, 2, 25783726.0, '5a7258e410f40f00018bed7d', 145.5], [\"Thank you for writing this.  We've come along way since the days when women were expected to be married right out of high-school.  We now have more options than housewife, teacher, secretary, nurse, or nun.  But there will always be those men who wish that the womens rights movement never happened.  Equality can never be taken for granted, it's something that must be worked for at for all our sakes.\", False, 2, 25788551.0, '5a7258e410f40f00018bed7d', 145.5], ['Nicholas Kristof seems to support the MeToo movement which has been shaming men in the media for alleged cases of sexual harassment.  Yes, women should be protected from sexual violence, but men should also be protected from false accusations, from having their lives destroyed by media which are quick to judge before the facts have been fully ascertained.<br/><br/>The MeToo movement also neglects a serious problem in American society.  If men of power do sometimes abuse women, it is also the case that there are millions of poor men without jobs who die early of cancer because they cannot afford cancer screenings.<br/><br/>There are also women dying because they cannot afford health care.  Becoming homeless is often a two-step process.  First one loses a house and lives in a camper, then one loses even that.  The intermediate step is described in \"Nomandland\" a recent book by Jessica Bruder.<br/><br/>While women complain about discrimination in the workplace, the camper people are discriminated by upstanding Democrats as well as Republicans.<br/><br/>In my community it is illegal to park a camper anywhere (so far as I can tell) except on your own property.  This keeps those becoming homeless invisible.  They build communities out in the desert.<br/><br/>While wealthy movie stars complain that some producer hit on them, the homeless lose their teeth because of lack of dental care.<br/><br/>Liberals have forgotten the truly poor, many of whom wind up in prison.  The US has 14 times the incarceration rate of Japan.', False, 2, 25785466.0, '5a7258e410f40f00018bed7d', 145.5], ['His views about women are obviously detestable. But I\\'m equally disgusted by his slogan, visible in the picture: \"Missouri is the Real America\". This pernicious rhetoric has been around for a long time; I recall that Sarah Palin made a lot of use of it in small Midwestern towns in 2008. It should be resisted and contradicted whenever it occurs. All of us, whatever our ethnicity, class, gender, sexual orientation or any other demographic -- including the state and the size of the town we live in -- are equally \"real\" Americans.', False, 2, 25785480.0, '5a7258e410f40f00018bed7d', 145.5], ['And, yet, this mouth breather has a fiancee. A woman, born in our modern time, is  perfectly willing to live within the constraints Sykes defines. ', False, 2, 25786720.0, '5a7258e410f40f00018bed7d', 145.5], ['\"Many women, and some men, were horrified that a man who boasted of sexual assault could be elected president\"<br/><br/>Before we get too carried away with a female revolt and uprising, remember that 54% of the white female vote went to Trump. And this was well after revelations about his beliefs, attitudes and past behavior. It is a fact that, unfortunately, the large white female voting block is a Trump strength and will need to somehow be overcome next election.', False, 2, 25785208.0, '5a7258e410f40f00018bed7d', 145.5], ['Travel around rural MO &amp; judge for yourself.  This is why the state is RED.', False, 2, 25790015.0, '5a7258e410f40f00018bed7d', 145.5], ['Thank you for your candid admission and for trying every day to be a better person.', False, 2, 25788787.0, '5a7258e410f40f00018bed7d', 145.5], ['Someone should tell Mr. Sykes\\' fiancee the old saw that women told each other back in Mr. Sykes\\' \"good old days\" (and, yes, my mother told me this as if it was God\\'s own truth): \"the man won\\'t buy the cow if he gets the milk for free.\"  <br/><br/>So she should definitely NOT be sleeping with this MCP, and she should NOT be making his dinner every night precisely at 6.  He\\'ll never marry her if he doesn\\'t have to--what if someone younger, cuter or a better cook comes along?  Or what if he sees her before she puts on her make-up and does her hair?  He doesn\\'t want to be tied down to the wrong ball and chain.  So she will waste all this time she\\'s putting into him if he decides he can do better elsewhere.  It won\\'t be so easy to catch a nice Republican legislator if she\\'s ten years older and not so hot as she was before.  <br/><br/>Honestly, I didn\\'t think there were still dinosaurs among us walking around wearing skin.  All the ones I\\'ve seen are just wired-together bones on display in museums.  ', False, 2, 25788392.0, '5a7258e410f40f00018bed7d', 145.5], [\"My feeling is that to someone like Sykes, no matter what a woman accomplishes, no matter how smart, wealthy, or powerful she is, an unfaithful husband equates to failure and wreckage. For a man with his viewpoints, a woman's professional accomplishments are always secondary to marital ones.\", False, 2, 25790370.0, '5a7258e410f40f00018bed7d', 145.5], ['Many men do not take care of women.  Women often are irrelevant except when it comes to their alleged need to defer.  My mother stayed with my father out of fear of social judgment.  Of 4 sisters, all capable of self sufficiency, 1 is still married.  Of the children of those sisters, 2 of 8 are still married.  The breakup of the families is largely that the men do not take care of their wives or children.  They have very little interest in the aspirations of women.  I, too find it sad. I think how can a father have so little concern for his children.', False, 2, 25787617.0, '5a7258e410f40f00018bed7d', 145.5], [\"My takeaway is that your parents shared the work it takes to raise a family, a point that often gets lost in using a man's demand for a hot dinner on the table when he steps in the door as a metaphor for a man who wants to define his wife's contribution to the family's welfare.\", False, 2, 25787681.0, '5a7258e410f40f00018bed7d', 145.5], [\"Wow, thank you. I grew up in an Irish household that was a complete matriarchy.  It was tough being male but ultimately it worked pretty well, assuming guys knew their place.<br/>     This can't be a singular experience. Where are the voices telling this side of the story?\", False, 2, 25789721.0, '5a7258e410f40f00018bed7d', 145.5], [\"When economic equality becomes a reality for women you may have a point.  If women aren't getting their share then a strong economy may only motivate them further.  And, as you may have heard, now they have the vote.\", False, 2, 25787134.0, '5a7258e410f40f00018bed7d', 145.5], ['Nellie,<br/>We are, and still we endure the tongue lashings, along with the slings and arrows accusing us of misogyny, to prove it.<br/>Now about the fact that Trump won white women over HRC...?!<br/><a href=\"https://womenintheworld.com/2016/11/10/more-white-women-voted-for-donald-trump-than-for-hillary-clinton/?refresh\" title=\"https://womenintheworld.com/2016/11/10/more-white-women-voted-for-donald-trump-than-for-hillary-clinton/?refresh\" target=\"_blank\">https://womenintheworld.com/2016/11/10/more-white-women-voted-for-donald...</a><br/><a href=\"https://www.nytimes.com/2016/11/13/upshot/why-women-did-not-unite-to-vote-against-donald-trump.html\" title=\"https://www.nytimes.com/2016/11/13/upshot/why-women-did-not-unite-to-vote-against-donald-trump.html\" target=\"_blank\">https://www.nytimes.com/2016/11/13/upshot/why-women-did-not-unite-to-vot...</a>', False, 2, 25784923.0, '5a7258e410f40f00018bed7d', 145.5], ['Your voices and actions count much more than you think. The number of men at the recent Womens Marches was encouraging and inspiring to us.  We cannot change things without you.  ', False, 2, 25791353.0, '5a7258e410f40f00018bed7d', 145.5], [\"I really don't understand how anyone can Trump as good role-model for children. If I produced a child with Trump's morals, I'd feel compelled to commit Sepeku to atone for my shame.\", False, 2, 25784109.0, '5a7258e410f40f00018bed7d', 145.5], [\"Sykes is the GOP candidate. How did he get to be the GOP candidate? Most likely because there was enough support for him. Support that likes what he has to say. He is not running as an independent. He is the Anointed One. The pick of the GOP.<br/><br/>That's why this is worth 7 paragraphs.\", False, 2, 25786173.0, '5a7258e410f40f00018bed7d', 145.5], ['XX is the new mark of the devil.', False, 1, 25792078.0, '5a7258e410f40f00018bed7d', 181.0], ['Yes!  Yet another reason to hold Mr Kristof in the highest esteem.  The dignity of all humans is at stake! ', False, 1, 25794000.0, '5a7258e410f40f00018bed7d', 181.0], ['\"To be on the right side of history, we should all, men and women alike, stand on the side of the she-devils.\"<br/><br/>Amen and Awomen, Mr. Kristof.  Thank you.', False, 1, 25795751.0, '5a7258e410f40f00018bed7d', 181.0], ['What is the source of the statistic that says in 1987, only half of Americans believed wife-beating was wrong? I am deeply troubled by this statistic and would like to read further. ', False, 1, 25795951.0, '5a7258e410f40f00018bed7d', 181.0], ['Really?  Way to grab a straw man and make him the issue.  The thing is... #metoo is real.  But it isn’t about lunatics like this guy who spout mad men theology on the corner.  It is about the Clintons, Kennedy’s, Trumps of the world who treat young women like desk accessories.  Make it real.  Out them all.  ', False, 1, 25783222.0, '5a7258e410f40f00018bed7d', 181.0], ['I also would like a hot meal on the table when I come home from work. Who wouldn’t?', False, 1, 25790707.0, '5a7258e410f40f00018bed7d', 181.0], ['Men the world over have had centuries of war and strife. When you provide aid to the poor, there is a better chance that the aid will benefit the children if the aid is given to the mother. Many marriages suffer because men have been raised to feel superior and belittle women. We have a marvelous planet and this is the \"house\" that women can work to put in order. Everyone can have a seat at the table.', False, 1, 25790377.0, '5a7258e410f40f00018bed7d', 181.0], ['Twenty-five comments and almost all nauseating in their sanctimony. At this rate, Trump will be re-elected. I despair.', False, 1, 25784442.0, '5a7258e410f40f00018bed7d', 181.0], ['How does Sykes fiancee manage to slap a home-cooked meal on the table for old he-man Courtie when they live in separate states? We await his answer!', False, 1, 25784967.0, '5a7258e410f40f00018bed7d', 181.0], ['It will be sweet, sweet irony when all those pink hats flood the polls on Nov 6 and start the process that will ultimately result in Trump being chased out of the White House. ', False, 1, 25790066.0, '5a7258e410f40f00018bed7d', 181.0], [\"I'm still not certain that Sykes isn't some kind of parody candidate. That Bob Forehead shot from his website doesn't help. Are we sure this isn't from an indie movie's marketing?<br/>That, or Poe's Law finally extends to election rhetoric.\", False, 1, 25789845.0, '5a7258e410f40f00018bed7d', 181.0], [\"There are two in-groups in the US, each trying to demonize the other.  That is reason that Congress has become dysfunctional.<br/><br/>Liberals like Nicholas Kristof have forgotten the poor and now try to demonize men.  They forget that many of the poor are men as well as women, many that have no jobs are men, many who die early of cancer because they have no health care which covers cancer screenings are men.<br/><br/>Kristof seems to admit that Weinstein is different that Franken.  But why then did Al Franken lose his Senate seat without due process?  Have liberals forgotten that they once fought for innocence until proven guilty, due process instead of lynching by the media?<br/><br/>Men have no choice now but to vote for Republicans and Trump.<br/><br/>Otherwise they are at risk of losing their job on the accusation of a woman.  Bump into a woman in an elevator, or disagree with a woman at work, and she can accuse you of sexual harassment.<br/><br/>There is no trial, no investigation, just public shaming in the media.<br/><br/>Where is the recognition that men are also just people, fallible like women, making mistakes like women, but worthy of a trial when they are accused, not summary judgment, ending their careers.<br/><br/>Don't liberals realize that the MeToo movement will cause men to vote for Trump in droves, for the simple purpose of self-preservation?<br/><br/>Yes, Trump uses coarse language.  But he represents people who are poor, whose lives are coarse, who die early of poverty.<br/><br/>Liberals like Kristof have abandoned them.\", False, 1, 25783129.0, '5a7258e410f40f00018bed7d', 181.0], ['Six years ago, conservative Democrat Claire McCaskill was rescued when her rightwing opponent jabbered about \"legitimate rape.\" Maybe the GOP will rescue her yet again by nominating this guy, with his wacky ideas about feminism and women. Missouri has Mark Twain in its favor, but, apart from that, I just don\\'t know what to say about that state. ', False, 1, 25782963.0, '5a7258e410f40f00018bed7d', 181.0], ['\"A new Quinnipiac poll finds that 72 percent of Republicans consider Trump a good role model for children.\"<br/><br/>My late father--a lifelong, loyal, politically active Republican evangelical--is turning over in his grave.', False, 1, 25783566.0, '5a7258e410f40f00018bed7d', 181.0], ['Well done, Mr. Kristof, today I am proud to acknowledge you as a fellow Oregonian.', False, 1, 25787426.0, '5a7258e410f40f00018bed7d', 181.0], ['Thank you for speaking out on behalf of our shared humanity.', False, 1, 25785997.0, '5a7258e410f40f00018bed7d', 181.0], ['Thank you for this timely message Nick.<br/><br/>I just made donations to Claire McCaskill, Maria Cantrell, and Elizabeth Warren.', False, 1, 25782620.0, '5a7258e410f40f00018bed7d', 181.0], ['Not sure you read the article Mattie.', False, 1, 25791378.0, '5a7258e410f40f00018bed7d', 181.0], [\"Jake, you should have gotten a NYT Pick.  Everyone here gets on board with a point of view and because they don't challenge themselves with contrasting opinions, they assume theirs will fly with the general population.  Feminists, liberals, this paper......all need to ask themselves, what is the fly in the ointment?  What are our most vulnerable judgments?  Is there anything we might be a tad hypocritical about?  It's important to dig deeper than just singing to the choir, cause what's blind-spotted can cost an election.\", False, 1, 25790739.0, '5a7258e410f40f00018bed7d', 181.0], [\"Don't forget who that war hero put next in line for the presidency.  All women are not equally qualified.\", False, 1, 25789985.0, '5a7258e410f40f00018bed7d', 181.0], [\"I do.  At least it's NOT Kansas.\", False, 1, 25789276.0, '5a7258e410f40f00018bed7d', 181.0], [\"Good for you!<br/><br/>I find I still struggle this way with racism.  It is also deeply programmed into us, and I grew up with non-racist parents too.  I can't imagine how hard it must be for people who grow up with racism.\", False, 1, 25791339.0, '5a7258e410f40f00018bed7d', 181.0], ['Insightful and gutsy. Thanks.', False, 1, 25791631.0, '5a7258e410f40f00018bed7d', 181.0], [\"Only a total moron would want women barefoot and pregnant. It's been decades since I have heard anyone say or propose this with any seriousness. Why is this ancient straw woman being trotted out again?<br/>     Equality is a worthy (and nearly achieved) goal.  Last night I watch PBS news: female anchor, all female reporters, all female talking heads and two female experts at the end to suss it all out. Not a male in the entire production. Looked like 1955 in exact reverse.\", False, 1, 25789444.0, '5a7258e410f40f00018bed7d', 181.0], [\"This SOUNDS like a principaled stance, but I'm not entirely sure it is. You say you will support anything that helps women achieve positions of power except a movement where, in the effort to expose the thousands and thousands of instances where women's lives and careers have been unfairly destroyed by men, that movement is unfair to a single man. <br/><br/>I agree that both Franken and Ansari were railroaded unfairly, and I think, as with anything, this effort to expose sexual harrassment and assault as a constant in women's lives needs to be more careful. But you are effectively saying that nothing is worth the possibility of a rush to judgement, even though women have been effectively silenced for years and years and years by rushes to judgement. That's a pretty high bar to set so that you will be on board with the exposure of a serious problem in our society. <br/><br/>Maybe you should consider rethinking. I think you can speak up about going too far within the context of supporting the basic premise of the movement. \", False, 1, 25790559.0, '5a7258e410f40f00018bed7d', 181.0], [\"Due process is a court proceeding, not applicable to daily lives.  And reputation has always been important and affected by our actions, not subject to due process but merely to the opinions of our fellow citizens.  Indeed, many women's lives and work have been ruined by a reputation for being loud or shrill or difficult.  \", False, 1, 25791655.0, '5a7258e410f40f00018bed7d', 181.0], [\"Don't forget the millions of live her foundation has saved in Africa, that may be her greatest success of all.\", False, 1, 25791591.0, '5a7258e410f40f00018bed7d', 181.0], [\"The other way to approach a movement that is right and important is to go even faster and overwhelm the backlash.  I won't tell anyone whose rights are being violated that they should go more slowly.  If we're afraid of mistakes being made along the way then we should just help society get it right faster.\", False, 1, 25786881.0, '5a7258e410f40f00018bed7d', 181.0], [\"There were women like that in my peer group.  They stayed home with their kids and kept house.<br/>- 2 had husbands (pillars of the church) who lost in one case a family business and in the other a case professional career.  Both due to fraud.  Both husbands claimed they committed the fraud because their family needed more money.  One couple divorced, the other is still together but the wife had to work throughout chemo treatments.<br/>- Another had a husband who died young.<br/>- Another had a husband who developed a chronic illness and couldn't work.<br/>- 3 others were divorced for a variety of personal reasons.<br/><br/>Each of these women had to go back to work after over a decade of not working.  Their credentials and work experience was out of date so they had to start at the bottom.  No good outcomes for any of them.\", False, 1, 25790573.0, '5a7258e410f40f00018bed7d', 181.0], ['\"Shouldn\\'t forward movement for women mean that they should have the right to make their own decisions ...\"<br/><br/>Yes, but they should do so fully aware that they may not be able to rely on him for their entire life.  All women should make sure they have some earning potential just in case something happens to him or he just decides to leave.', False, 1, 25791181.0, '5a7258e410f40f00018bed7d', 181.0], ['Patriarchy is not confined to white males. Let it die everywhere.', False, 1, 25783608.0, '5a7258e410f40f00018bed7d', 181.0], ['Well, there\\'s a problem that needs to be fixed. I guess that makes it a \\'winning issue\\'. <br/><br/>It\\'s funny that you even equate the DNC with how Democrats like me vote. Here, what if I said this: \"FOX/RNC have decided fear is their winning issue for the mid terms.\" <br/><br/>Just dumb and insulting. Now, if there is an economic downturn coming, you\\'ll be able to say it\\'s because the MSN/DNC made it happen?? You folks make no sense, and your comments seem to be nothing more than sneering insults against other Americans. <br/><br/>We, 99.9% of citizens around the nation, don\\'t control policy any more than you do, Brian. Try to focus some of your blame at the men actually writing, planning and executing the policies. ', False, 1, 25787397.0, '5a7258e410f40f00018bed7d', 181.0], ['Wait and watch.', False, 1, 25787453.0, '5a7258e410f40f00018bed7d', 181.0], ['Please understand that so many of us are so used to being mistreated by men, whether intentionally or not, that we have grown cynical and mistrustful. I am a 60 year old senior partner at a large law firm and I am still often confronted with overt bias and/or  inherent bias on an hourly basis. That being said, women have the responsibility to work with and encourage men and not attack them simply for being men.<br/>As to why so many white women voted for Trump- apparently we can be our own worst, willfully ignorant  enemies.   ', False, 1, 25791312.0, '5a7258e410f40f00018bed7d', 181.0], ['That 11 people recommended your neandrethalic comment is deeply disturbing.  ', False, 1, 25787492.0, '5a7258e410f40f00018bed7d', 181.0], ['Yeah, but would they let their kids do a sleep over at his house for a birthday party?  I will bet dollars to doughnuts that 72% of them would not.<br/>I would not let my kids, were they still small, to trick or treat on his block.<br/>Let alone his house.', False, 1, 25791767.0, '5a7258e410f40f00018bed7d', 181.0], [\"Odds are, they'd disown him first.\", False, 1, 25786584.0, '5a7258e410f40f00018bed7d', 181.0], [\"Keith, it sounds like you had a great family. I did too. I am referencing a minority of men, mostly insecure, but who had an outsized influence on my formative years due to my attendance of a rural, backward parochial high school. I had no idea at the time that I could have just told these problematic guys to take a hike, because I was worried about fitting in and oblivious to the wide, wonderful world of feminism I would later discover. <br/><br/>What I'm truly happy about, is that other young women and girls in a similar closed-minded, insular environment might see articles like this and learn this lesson earlier. <br/><br/>Cheers\", False, 1, 25792141.0, '5a7258e410f40f00018bed7d', 181.0], ['Interesting that you should mention conservation science. My cousin picked up an M.A. in conservation science from Columbia University before heading to the University of Idaho for her Ph.D. and in between her undergrad and her M.A. she got an internship with an orangutan conservation group in Borneo. My kid sister was also lucky enough to be the primate intern at the Indianapolis zoo in the summer of 2016, so she got take care of orangutans, including a baby. Somehow the orangutans seem more evolved than either Courtland Sykes or the current president.', False, 1, 25794225.0, '5a7258e410f40f00018bed7d', 181.0], ['This is clearly a cock (in the sense of a chicken) and wants a hen.  There are lots of people who think like him.  And lots of hens out there to accomodate him.  The voters will decide if they want a rooster or a brooding hen.', False, 0, 25787293.0, '5a7258e410f40f00018bed7d', 224.0], [\"Nick,<br/><br/>I understand you have a coloum to write, but why give the guy the free publicity?  Haven't you learned your lesson w/ Trump?\", False, 0, 25786473.0, '5a7258e410f40f00018bed7d', 224.0], [\"Bhagawad Geeta the holy book of Hindu says ''Yatra naryastu pujyante ramante tatra Devata''.<br/>The meaning is something like'' wherever women are given their due respect, even the deities like to reside there''.<br/>In this sense, you are absolutely right. But the winds are blowing somewhat in opposite directions these days. One after another cases of women sexual abuse, harassment cases are coming forward and it seems like if you could  bypass them you will be a hero.<br/>These books that supports women empowerment were written in prehistoric times in India, but the subsequent rulers Raja, Maharaj, Mugal all used women as tools for amusement only  and the consequences are in front of the whole world.<br/>Wherever women are suppressed look at those countries. Where are they?  \", False, 0, 25789565.0, '5a7258e410f40f00018bed7d', 224.0], ['\"The fundamental fault line today is between those working toward broader opportunity and those yearning for a mythic past before feminists developed “nasty, snake-filled heads.”<br/><br/>You are just adding to the polarisation, and acting just like the extreme you denounce, by using this extreme politician who even you admit has little chance of getting elected, as representative of \"the other side\".<br/><br/>There are crazies at both end of the spectrum, making the debate one between the extremes drowns out the moderate middle and is leading the US to civil war.', False, 0, 25789832.0, '5a7258e410f40f00018bed7d', 224.0], ['Policies are important and so are facts. Unfortunately men like Coutland Sykes never let facts get in the way of their conclusions. <br/><br/>While this isn\\'t exclusively a Republican trait, it has taken on a special life in the hands of the current occupant of the White House.<br/><br/>While Sykes may not want his daughters to grow up to be \"career obsessed\" if he looks around his great state he\\'d discover that without career obsessed women the economy of Missouri and most other states would collapse without women in the paid workforce.<br/><br/>When household wages are measured they show that for the last thirty years no only have wages for most Americans have been flat, they would have been in negative territory but for the working wife.<br/><br/>By \\'working wife.\\' I mean women who in addition to doing most of the housework and child care also work a paid job outside of the home.<br/><br/>College graduates are now past the 50% female mark and college enrollment is approaching 60%. Women are properly seeking careers and in doing so have become indispensable elements in our national economy. In fact the only thing that has kept the middle class from economic collapse has been the working wife.<br/><br/>So candidate Sykes not only wants to turn the clock back on women\\'s rights, he wants to ignore economic reality.  ', False, 0, 25790342.0, '5a7258e410f40f00018bed7d', 224.0], ['Bravo! And thank you, Mr. Kristof. ', False, 0, 25790596.0, '5a7258e410f40f00018bed7d', 224.0], ['EEEE Gads, as the actor William Powell exclaims in the wonderful film, \"Life With Father\".  His wife played by Irene Dunne has charged a figurine and explains that it really does not cost him anything....such fun.  I think this young man needs to stop listening to other misogenistic people and enjoy this film.   He probably won\\'t have time to read autobiographies of Hillary Clinton\\'s life stages or those of Eleanor Roosevelt and so on.', False, 0, 25787125.0, '5a7258e410f40f00018bed7d', 224.0], ['This is great, but I’m sure the she-devils would say you don’t go far enough and are too easy on the patriarchy. ', False, 0, 25786558.0, '5a7258e410f40f00018bed7d', 224.0], [\"The fundamental fault line today is between those who see Bonny Tyler’s “I need a Hero” as an ode to soon-to-be-extinct unabashed-sexuality and those who’re yearning for an asexual future. The rest is just Mr. Kristof taking easy shots at a Missouri deplorable atavist while basically ignoring the equally deplorable New York’s “male organ is a weapon of mass female destruction” shaming-mob.<br/><br/>“Devil woman” used to be a nickname for a witching temptress – the scourge of the routine sanctity of the wedding-bed, the Helens of Troy (before the “abducted” interpretation of Homer’s classic).  They’ll be soon gone along with their testosterone-addicted captive males and with them the future of the sultry sex-scenes in American movies.   Hoping to escape the screening of the Editors’ Committee on pro-Sex activities this time around, I seal it with a kiss and the doomed lines:<br/>“I need a hero<br/>I'm holding out for a hero 'til the end of the night<br/>He's gotta be strong<br/>And he's gotta be fast<br/>And he's gotta be fresh from the fight”\", False, 0, 25784546.0, '5a7258e410f40f00018bed7d', 224.0], ['Some poeple in Missouri think this Sykes character is running just to make Josh Hawley look normal.  ', False, 0, 25790338.0, '5a7258e410f40f00018bed7d', 224.0], ['This is, once again, a class conflict masquerading as \"moral\" issue -- as perpetrated by both Sykes and Kristof.<br/><br/>How about standing with the \"she-devils\" who want society-wide income distribution, a $15 minimum wage, Medicare-for-All and free college tuition?, And aren\\'t interested in endlessly placating the right-wing fringe because it makes good op-ed kumbaya copy?', False, 0, 25790111.0, '5a7258e410f40f00018bed7d', 224.0], [\"Sykes and his foolishness would be funny if it weren't so pathetic.<br/><br/>Do the Republicans and their supporters who spew and  buy into this nonsense understand exactly how howlingly ridiculous they make themselves?<br/><br/>Mr. Kristof is right; they are on the wrong side of history. Not only are women increasingly able to define themselves without benefit of their judgments, more and more men like Mr. Kristof are not only unthreatened by that, they support it.<br/><br/>Republicans, stop this foolishness and join the 21st century.\", False, 0, 25782748.0, '5a7258e410f40f00018bed7d', 224.0], ['Wonderful reflection of the infamous Cathy Newman interview of Jordan Petersen, where she continually rephrased his statements, applying some sort of \"alt-right\" meaning to them. <br/><br/>She repeatedly said \"So you\\'re saying...\" followed by some neo-Marxist restatement of his words, which were consistently misrepresentations of his (rather exactly) stated positions.<br/><br/>Kristof takes Sykes statements, which apparently said nothing at all about Trump, and rephrased it.   \"So you\\'re saying that Trump is your example of a feminist!\", followed by lots of neo-Marxist tripe about an \"oppressed\" category of humanity.<br/><br/>Beautiful.', False, 0, 25784102.0, '5a7258e410f40f00018bed7d', 224.0], ['Somebody needs to turn this \"She Devil\" thing into a meme.<br/><br/>It\\'s got to be one of the funniest two word combinations in the English language.', False, 0, 25786526.0, '5a7258e410f40f00018bed7d', 224.0], [\"   Excellent arguments in defense of women, the better half of humanity by far; why do you think, otherwise, that some of us men behave so stupidly, repressed sexually and feeling 'diminished' by the outstanding qualities of women's prudence and down-to-earth survival kit and the maternal instinct to raise us well so to become contributing people to society's well-being,? Ideally, our rigid individualism in this still 'macho' world, ought to be blended  as  harmonious man-woman binomial opposites that are fully complementary, by mutual consultation and respect, and not requiring any one of them to be 'the nasty boss'. This, no matter what the job is, so we all may service and fill the needs at present and as best we can, directions given by whoever has the training, and title, for it, so equality and fairness are at work. And the nasty Courtland Sykes/Donald Trump's of this world need not apply, as they belong only to the fringes of a forthcoming enlightened society of equals. Trump's assault of everything noble in our souls, and the encouragement of like-beasts to run for office, is an outrage. We all are 'She-Devils' now, for good measure.\", False, 0, 25788334.0, '5a7258e410f40f00018bed7d', 224.0], [\"Feminism today, like so many large groups, is a starling murmuration?<br/><br/>Feminism today like virtually every other large and human group gathering, appears to be organization at a low level of mental/behavioral complexity. Higher human organization seems to depend on higher intelligence and flexibility of behavior as seen in superior sports teams, the best music groups, the must successful businesses, government projects such as NASA.<br/><br/>But feminism today appears to parallel so many other collective organizations not to mention the two major political parties by enforcing a tightness of behavior and thought--that thought has correspondence in the body and vice-versa (complete repudiation of Cartesian duality, separation between body and mind)--which of course adds up to conformity and still more conformity.<br/><br/>This cannot help but combine and clash with other collective movements which themselves follow the same pattern. The entire effect looking over the large group clashes in America today is as if witnessing starling murmuration, groups smashing into each other, separating, recombining, but still always at rather low level of complexity with respect to thought and behavior. <br/><br/>It just doesn't seem to bode well if we consider American democracy a project toward higher overall complexity and higher relationship between individual body and mind. Of course there is no going backward, but it would be nice if we get a much more clear science of human social systems development. \", False, 0, 25784407.0, '5a7258e410f40f00018bed7d', 224.0], ['Having grown up in a family where the women had huge personalities and the men were relatively passive, I find the narrative of a demure and obeisant female \"race\" dating back to antiquity to be more of a modern myth than a sociological reality.<br/><br/>I am sure that brash, bold, intellectually self-possessed women have existed since the beginning of the human species, and have very often found ways to make their social settings work for them.<br/><br/>The ones who really are strong and powerful don\\'t need a lot of help asserting themselves.  The ones who need a lot of help asserting themselves maybe just aren\\'t ready.<br/><br/>If I have a daughter, I don\\'t think I will teach her that women have always been oppressed and only now, after hundreds of thousands of years, are they starting to have a chance to be heard.  That ideology is a curse and a lie.  I would teach her that women have always found a way to speak meaningfully, in different ways depending on their own personal strengths.', False, 0, 25782256.0, '5a7258e410f40f00018bed7d', 224.0], ['Mr. Kristof. What do you think those 72% of republicans who think that denigrating Don is a good role model for children think of your column (if they ever read it)?', False, 0, 25784312.0, '5a7258e410f40f00018bed7d', 224.0], [\"Heck, MO is the population center of the country, now, in that we are all moving to Cali as slowly as it is moving northward.  I think Sam Clemmen's home is a fine one from which to roam.\", False, 0, 25795303.0, '5a7258e410f40f00018bed7d', 224.0], ['According to Pew women already make the majority of family, financial and household decisions....particularly for big family matters and big ticket items... by almost 2 to 1. As for outside the home 52% of white women, who possess a lot of the entitlement and privilege in our society, voted for Trump. So while feminist myths shall persist perhaps the trouble with our species is that women already have too much influence. Sexist remarks that men are to blame is nothing more than chauvinism.', False, 0, 25791328.0, '5a7258e410f40f00018bed7d', 224.0], ['Nope, nothing in the water. Just slimy opportunists taking advantage of the moment to grab for power. <br/><br/>It\\'s disheartening that Missouri gets more than its share of wingnuts. The horrors of Ferguson, the idiocy of Todd Akin, the hubris and hypocrisy of \"conservative Navy Seal\" Greitens, etc. make me wish to move to some other state. One where equality rules, black lives matter, elected representatives reflect their constituents, working for their improved lives and nothing bad ever happens.<br/><br/>Where was that state again? ', False, 0, 25790488.0, '5a7258e410f40f00018bed7d', 224.0], [\"As a Missouri progressive - yes, there is such a thing - actually a lot of us -- I'm delighted to see the right-wing running candidates like Sykes, making the opposing choices crystal clear.  Would love to see him win the primary, although his likely opponent, our AG Josh Hawley, just put his foot in his mouth about human trafficking too.  Go Claire!\", False, 0, 25792491.0, '5a7258e410f40f00018bed7d', 224.0], ['Which part of \"education, independent thinking, knowledge of one\\'s country and government, and a good understanding how legal reform actually works\" does Trump the Executive Order Machine do?', False, 0, 25788625.0, '5a7258e410f40f00018bed7d', 224.0], ['About the same as the spineless Democratic party, Mike: zero, generally, except that Trump more frequently makes large strides into negative territory.<br/><br/>By the way, I wonder which part of a slavish devotion to the decrepit and corrupt two party duopoly you imagine is doing anything at all to help America? <br/><br/>Democrats who refuse to lift a finger against Trump\\'s emoluments, tax returns and conflicts of interest, because they are so busy instead feeling so PC and so good at \"standing up\" and accomplishing nothing tangible except being door mats for the GOP?', False, 0, 25790259.0, '5a7258e410f40f00018bed7d', 224.0], ['Liz, thanks.  I, too, have had \"struggles with Melania\\'s life choices\", but I\\'ve become much more sympathetic toward her in recent weeks--how much can one poor woman be made to pay for some bad decisions?  One hopes she can raise her son to be better than his cruel slob of a father.  She\\'s going to need a strong real man in her life.', False, 0, 25788519.0, '5a7258e410f40f00018bed7d', 224.0], ['Many women also have self confidence problems. Not all. But, when it rears it’s ugly head (as men’s lack does) we demand that terms used for females be respectful, less honest, &amp; required. Letting us use our ‘I am less than’ please help me, don’t say any woman has made choices less than optimum. Like, being an illegal alien, you hook onto a rich man, who is a pig, which gets you an easy citizenship &amp; no fear of deportation. But, being married to a male like this is no fun. So to make you feel better, everyone must pander to your lack of confidence, never saying she is Betrayed Wife #3 (which she is, he’s had 2 others, slept around on all his wives). It’s the same as saying he’s president of the USA. A title. He is reduced to nothing but a title (for which his actions makes him unintitled to). But, that’s ok, he’s a man. Women must still be coddled.<br/>I’m 65, disabled, &amp; female. I’ve spent too long doing things I should let others do for me, because I am FEMALE HEAR ME ROAR! Then when I can’t do it, I must demean myself &amp; ask for help that had been offered first, that I had spurned. Why? Because I am a woman. Hubby broke his ankle badly years ago. He had no trouble asking for the help he needed. So why should I? Because feminists have been screaming, ‘DO IT YOURSELF, DON’T BE A WEAKLING’ in my ears for decades. I have come to hope loud feminists all should break a leg at some point &amp; have to totally take care of themselves. No help allowed. Then go back to yelling, or not. ', False, 0, 25789654.0, '5a7258e410f40f00018bed7d', 224.0], ['Some men can’t cook, but, when their wives become disabled through illness or accident, have to learn. That &amp; many other ‘women only’ chores. Mine did. Came back from our honeymoon on crutches. Hubby could burn water. Toast was almost beyond him. I would write a receipe down for him, telling him they were like directions in products that must be put together, he was always good at those things. He’d still come in, each time he used a receipe &amp; ask me for help. How many times do you have to explain: put 1/2 chicken in pan, with a little butter on top, put in oven at 350 for one hour. Now I am permenantly disabled &amp; he is a great cook. Though every once in a while he has an attack of lack of confidence. I yell from where I am, often writing here, ‘YOU CAN DO IT, I HAVE CONFIDENCE IN YOU’!', False, 0, 25789790.0, '5a7258e410f40f00018bed7d', 224.0], ['Perhaps not, but you’ve just accepted someone else’s definition for everyone of your gender/sex.', False, 0, 25788786.0, '5a7258e410f40f00018bed7d', 224.0], ['Last night I watch PBS news: female anchor, all female reporters, all female talking heads and two female experts at the end to suss it all out. Not a male in the entire production. Looked like 1955 in exact reverse.<br/>     I kept looking for the patriarchy to tear down, but my efforts are frustrated by these experiences.', False, 0, 25789536.0, '5a7258e410f40f00018bed7d', 224.0], [\"Oh, there's plenty of patriarchy to tear down. Men are decidedly over-represented in media, this obvious exception notwithstanding, and in any number of other areas. Women are over-represented in a number of areas as well (for example, teaching and nursing, once the only two career paths readily available to women - a mark both of progress made and progress yet to be made). Part of seeking equity is seeking to understand why that is so, and how to shift the underlying cultural attitudes.\", False, 0, 25792224.0, '5a7258e410f40f00018bed7d', 224.0], ['Mine has been gone almost 30 years. He started to be worried about the direction of the Republican Party well before that. Told me not to register as any party, not to ever vote a straight ticket (shows you haven’t done your own necessary research, so much easier now with computers than back then), &amp; to use my own brain. I have one. He said so. He died before he could put a finger on what was bothering him, he’d promised to let me know when he did. But, like Houdini, he hasn’t come through. Unless my own squidgy feeling in my stomach when I think about politicians is the answer.<br/>Before you say your’s Is turning over in his grave, tell me: did he read newspapers on all sides of the political spectrum, did he watch both conventions (back in those days they were on all of the few channels), listening to all the speeches, did he research candidates, reading everything they wrote or was written about them, or just let his pastor tell him who to vote for? Did he hold down either a local elected position or a volunteer one in local government? It all boils down to, was he an active or passive American? ', False, 0, 25790115.0, '5a7258e410f40f00018bed7d', 224.0], ['I sincerely hope a large percentage are not republican (&amp; therefore have a large chance of having a male standing behind them telling them what to believe, say, &amp; do).', False, 0, 25790286.0, '5a7258e410f40f00018bed7d', 224.0], [\"What you describe sounds frustrating indeed. Devil's advocate: What is preventing you from taking those credentials and getting a new job somewhere that has its act together and with a supervisor/department worthy of your talent?\", False, 0, 25787712.0, '5a7258e410f40f00018bed7d', 224.0], [\"You should join my industry. My sister, who's failed in two departments doing the same thing I do makes 30% more than I do, and I've never failed in any department. She's also a lesbian, so they get two diversity points for giving her a raise and and encouraging her to stay. If she were black, they'd get three points, but she isn't. <br/><br/>I work in tech, in a 'soft' part of the industry. The design engineering and heavy-duty programming are still dominated by men, so they balance the books by raising the women in the other departments. \", False, 0, 25787907.0, '5a7258e410f40f00018bed7d', 224.0], ['And this is how a great country wastes fully half of its intelligence.  Think of what we could accomplish if we even used half of that half!', False, 0, 25788740.0, '5a7258e410f40f00018bed7d', 224.0], ['Stan -- That is right, if you can. Then again, everyone would like to avoid backlash in every case. That is not always the political reality.', False, 0, 25787890.0, '5a7258e410f40f00018bed7d', 224.0], [\"You know what? This isn't a joking matter.  <br/><br/>Would you think it was jokeworthy if a candidate for public office spewed the same degree of vicious RACISM? <br/><br/>But no, it's just gross misogyny, so it has its amusing aspects. Right?\", False, 0, 25794104.0, '5a7258e410f40f00018bed7d', 224.0], ['What would happen if their kid strolled up and said, \"Mom, can I grab your . . .\"   Something tells me that kid would get a whuppin\\' -- despite just copying his role model.', False, 0, 25795295.0, '5a7258e410f40f00018bed7d', 224.0], ['Actually, Mr Sykes is not the GOP nominee. He is a candidate for that nomination along with several others. He is not the favorite and has received widespread criticism.<br/><br/>Perhaps if he were to become the GOP nominee, he would be worth several paragraphs.', False, 0, 25790054.0, '5a7258e410f40f00018bed7d', 224.0], ['\"Sykes . . . is not the favorite and has received widespread criticism.\"  Hmmm. . .who does this remind you of?', False, 0, 25795255.0, '5a7258e410f40f00018bed7d', 224.0], ['So this is kind of the problem.  Some dope calls women \"she-devils\" and then women, as a way to neutralize the epithet, take on the name as a an attempt at positive identification (as if simply being labeled \"a woman\" isn\\'t positive enough).  Pretty soon there are buttons (\"She-Devil and Proud Of It!\"), hats, placards at rallies, the meme takes off and nobody really has any idea what it means and it become yet one more shallow attempt at branding.  <br/><br/>Then the other side starts in with the \"We Hate She-Devils!\" buttons, banners and so forth pretty soon people are having heated arguments about rhetoric.  <br/><br/>Maybe it feels good but nothing of substance gets done.   <br/><br/>Those of us who support women\\'s rights must resist the urge to take the bait every time someone says something stupid which these days is every hour or so.  Sober, intelligent, persistent pressure is what works, not knocking down every unimportant know-nothing who says something dumb.  <br/><br/>Go up to someone on the other side of the political divide and tell them \"I\"m a she-devil!\"  Or have a kind, intelligent conversation with them instead.  See which works better.', False, 0, 25787685.0, '5a7258e410f40f00018bed7d', 224.0], [\"Nah, he'll remove any funding and tell them that they're on their own.<br/><br/>Full scholarships are tough to get if your family isn't well-endowed, and you haven't been pushing for this by school performance for a very long time. Simply put, there are others with less opportunity. \", False, 0, 25783905.0, '5a7258e410f40f00018bed7d', 224.0], ['Who knows?  That is similar to the reason more Republicans, even Conservative ones, are dropping their opposition to gay rights.  When their own son or daughter comes out, suddenly many can no longer demonize \"those people.\"  Some still do, and disown their family members, but many soften their stance instead.  I can only hope that if Mr. Sykes has any daughters they will end up educating him.', False, 0, 25792805.0, '5a7258e410f40f00018bed7d', 224.0], [\"Blackmamba, I certainly would not tell any other woman what to do, but I'm thinking if women of all ages, colors, and backgrounds will help each other out, AND help each other VOTE, perhaps a rising tide will lift all boats? White women do have a long way to go as far as inclusion and intersection are concerned. I for one am trying to listen and learn. We need each other. \", False, 0, 25792185.0, '5a7258e410f40f00018bed7d', 224.0], [\"For all my 66 years, I've had women tell me the same things. I could thumb my nose at them, but then I'd be branded a sexist pig.\", False, 0, 25794169.0, '5a7258e410f40f00018bed7d', 224.0], [\"Hi, Was your father the provider of money, your mother the nuturered of the children?<br/>My father was that and yet the man was the big thing in the family.  The mother was more so because she took care of the kids.<br/>She kept our faults away from the father because the belt would come out.  Just because that happened din't make him a bad man.  He thought that was how we would learn.  No POP.<br/>Thankfully we had a mother that taught us how to make our beds, put laundry in the basket and taught us how to cook for the betterment of the food we injest, even today.<br/>She was the my best mother and also he was my best father.\", False, 0, 25782615.0, '5a7258e410f40f00018bed7d', 224.0], ['\"I won\\'t tell anyone whose rights are being violated that they should go more slowly.\"<br/>Right on! There are people, mostly men, being denied due process every day.  The sooner this horror stops, the better. Move faster!', False, 0, 25789635.0, '5a7258e410f40f00018bed7d', 224.0]], [[\"It is astounding that Stormy Daniels was the introductory part of this oped.  Can you imagine if President Obama or Clinton had been thought to have bought the silence of a porn star over their extramarital relations?  Safe to say, we would have heard of nothing else from the GOP.  Yet barely a nod from the Christian Right over Trump, save a copout generality that the nation has a sin problem.<br/>The level of depravity from Trump elicits barely a whimper from the same group who claim the mantle of judging everyone else's morality.\", True, 2839, 25782260.0, '5a725f2410f40f00018bed89', 1.0], ['The misnamed “pro-life” movement has never been about “babies”. It has always been about misogyny, the prudish fear of sex, and the inability to come to terms with the fact that one’s existence depends on a woman’s whim. Conservatives simply cannot abide the self-evident notion that each one of them is alive only because one day a woman decided to have a child. But what if she had decided otherwise? This fear of female autonomy and agency drives the crusade against abortion and contraception. I make no distinction between the two as they are on the same spectrum: abortion is a second line of defense against an unwanted pregnancy if contraception fails, as it apparently has done with depressing regularity in Trump’s various marriages. This column is not as funny as some of Collins’ other efforts are but this is because the subject is so serious. Without contraception and abortion, women are incapable of being equal and productive members of society. If you cannot control your own body, you cannot control anything else in your life. And this is precisely what conservatives want.', True, 2200, 25781786.0, '5a725f2410f40f00018bed89', 2.0], [\"Heck, just being this clueless doofus should be the best birth control known to man.  But apparently the scent of money is an aphrodisiac that some women simply can't resist.<br/><br/>Our president is a randy fellow who may be an ignorant waste of protoplasm, but he’s got the manipulative sociopathic aura of a low-level mob boss that some women find attractive.  He could have easily had a career stiffing laborers or setting up fraudulent real estate “universities.”  We’re so lucky that he chose to be our president.<br/><br/>The Stormy Daniels affair (in every sense of the word) is the sort of thing that would normally bring down a president.  Just consider Gary Hart.  A picture of him with a starlet sitting on his lap derailed his run for president in 1988.  But our president was accused of sexual misconduct by a slew of women, and confessed on tape to the unwanted groping of starlet crotches.<br/><br/>Yet this guy not only won the presidency, he won the evangelical vote as well.  Teflon bows and slinks away in embarrassment, unable to compete with whatever he’s coated with.  It may be slimy, but nothing sticks.<br/><br/>There is no Stormy Daniels, no porn queen payouts, no ignorant utterance, no racist vulgarity, no neo-Nazi sympathy, no catalog of lies or incompetence that can do him in.  It’s as though people were starving for rotten meat after the refined, tasteful sustenance provided by President Obama.<br/><br/>Personally, he makes me gag.\", False, 2003, 25781942.0, '5a725f2410f40f00018bed89', 3.0], [\"Alas, there is a very good reason why the rightwing is excusing Trump's sexual libertinism and betrayals of his wives at the same time that they push for punitive policies against women's reproductive rights.<br/><br/>It's called patriarchy. As long as men are the decision-makers, it is fine to permit sexual escapades for powerful men while imposing sexual restrictions on ordinary women.\", False, 1484, 25782296.0, '5a725f2410f40f00018bed89', 4.0], [\"If Trump would have unprotected sex with an adult film star he barely knew, then the purported recording of him with Russian prostitutes really doesn't seem far-fetched.  So much for him claiming to be too much of a germophone for such indiscretions...\", False, 1203, 25782299.0, '5a725f2410f40f00018bed89', 5.0], [\"I'm so confused, Gail.  Someone named Stormy had sex with a climate denier?  \", False, 1071, 25781924.0, '5a725f2410f40f00018bed89', 6.0], ['That was a lovely account of Donald\\'s insemination history.<br/><br/>\"I have great respect for women. Nobody has more respect for women than I do.\" - Donald in Oct 2016 commenting on his \"Access Hollywood\" vagina-grabbing video<br/><br/>\"I respect women more than I respect men... I have great respect, admiration, and I cherish women.\" - Donald in 2015 after making fun of Carly Fiorina\\'s appearance<br/><br/>\"My mother was one of the great people of the world. Maybe the greatest, ever, my mother.\" - Donald babbling in 2015<br/><br/>After the NYT reported in 2016 on women who Donald groped, Donald said: \"I was so furious at that story, because there\\'s nobody that respects women more than I do...I treat women with respect.\"<br/><br/>\"I will say this, and I think — I think a lot of people will confirm it. Nobody has more respect for women than I do — that I can tell you. Nobody.\" - Donald babbling to Sean Hannity in 2016<br/><br/>\"Stormy...here\\'s $130,000 to shut up about fornicating with Donald\" - Team Trump 2016<br/><br/>\"Enjoy your forced pregnancies, poor women of the world\" - Donald sentiments when he signed the Global Gag Order on January 23, 2017 which curtailed US funding to women\\'s health centers<br/><br/>\"No really, enjoy your forced pregnancies, poor women\" - Donald\\'s sentiments when he cut US funding to the UN Population Fund to 150 countries worldwide in April 2017.<br/><br/>Trump Translation: Male ejaculation is a woman\\'s problem.<br/><br/>Donald (and the Grand Old Perverts) have tremendous respect for forced pregnancies.... and their own semen.', False, 985, 25782096.0, '5a725f2410f40f00018bed89', 7.0], ['I\\'d like to have a chat with Stormy. First thing I\\'d say is \"Girlfriend, only $130,000?\"', False, 799, 25782917.0, '5a725f2410f40f00018bed89', 8.0], [\"Sharks, poison, germs, immigrants - they're all the same to Donnie. He is stuck in the cooties phase of his childhood, and it informs all of his policies, from fornication to immigration. There's not really much more to it, that I can tell you.\", False, 636, 25782053.0, '5a725f2410f40f00018bed89', 9.0], ['To men like Donald Trump women are a cross between a fashion accessory and a toy. They aren’t real people deserving of respect or true affection. That’s why he’s able to so casually discard one wife for a new one or pay a fling to shut her up, and it’s why he can thoughtlessly embrace the position of anti-abortion or anti-contraception advocates just to get their votes when his entire history suggests he couldn’t care less about the merits of the case.', True, 624, 25783208.0, '5a725f2410f40f00018bed89', 10.0], ['In the Trump era, the definition of birth control is to just deny that the sex ever happened. ', False, 567, 25781910.0, '5a725f2410f40f00018bed89', 11.0], [\"I thought this an appropriate place to mention a bill that's been on the congressional docket for some time now. The Life Begins At Conception Act has been gaining co-signatories in Congress, including one Democrat, since before Trump's selection and warrants attention from the public. Mustn't forget that Trump himself told Chris Matthews he believed there should be 'some punishment' for women who choose abortion. Yeah, 'some punishment', like the death penalty or prison? Just how many more times will the public be gobsmacked by the next brazen Republican crackdown on human rights? Republicans: pro-life, until they're not. \", True, 549, 25784940.0, '5a725f2410f40f00018bed89', 12.0], [\"Thanks for the Images, Gail.  I'll need brain bleach.  Bigly.\", False, 509, 25782243.0, '5a725f2410f40f00018bed89', 13.0], ['No one I ever knew considered me a prude, but tRumps sex life I find just disgusting.<br/>I see someone what has to continue proving to himself that he has some sort of male existence. <br/><br/>We are not talking about passionate affairs here no matter how short, his sexual escapades are nothing more than masturbation. Self gratification, no emotional connection  between him and his chosen sex object. What a sad state of affairs not to be able really enjoy sex. But we know he is a narcissist and a sociopath, devoid of joyful emotions, a personality resembling that of a cabbage, and that might be an insult to cabbages.<br/><br/>Someone should write a book, \"The Love Life of Cabbages,\" the central character would be an overweight orange haired vegetable.', False, 494, 25782886.0, '5a725f2410f40f00018bed89', 14.0], [\"Trump (and the Evangelicals) don't want to encourage unmarried sex, except for DJT.  They also are against unwanted pregnancies; apparently they are God's gift.  But should a fertile embryo be created, they are staunchly pro-life.  Then, when a child is born, they are adamantly against welfare, child support, (and if they told the truth, C.H.I.P).<br/>   Suffer the little children unto me, indeed.\", False, 478, 25781741.0, '5a725f2410f40f00018bed89', 15.0], ['Trump\\'s alleged \"partying\" with Stormy makes you wonder whether he had indeed also been \"partying\" with those Russian ladies in that Moscow hotel room, as salaciously revealed in the infamous Dossier. The Fake President\\'s rebuttal to that scandalous foreign allegation was that he was a noted \"germaphobe\". Trump\\'s condomless liaison with the porn star Stormy calls that concerted concern, over his personal health, seriously into question.', False, 423, 25782130.0, '5a725f2410f40f00018bed89', 16.0], [\"Remember how The Donald had some of Bill Clinton's former accusers sit in the audience during one of the debates with Hillary?  So why didn't one of our Democratic legislators return the favor by extending an invitation to Stormy to join him/her at the State of the Union? \", False, 391, 25783467.0, '5a725f2410f40f00018bed89', 17.0], [\"Trump doesn't seem to know all that much about birth control and he doesn't seem to know a lot about much of anything. For instance, he's an admitted mysophobe ( a person with an excessive fear of germs,) yet he's promiscuous and a serial adulterer. What better way to catch a venereal disease or other STD than by fooling around with people other than your wife, or in Trump's case, wives? He's endangering not only himself but all his sex partners, including his wife. Is promiscuity worth potentially giving  his wife cervical cancer? It makes me wonder if Trump is capable of caring about anybody.\", False, 383, 25782113.0, '5a725f2410f40f00018bed89', 18.0], [\"Too bad she didn't save her dress.<br/><br/>Some questions:<br/>Why do Evangelicals hate women and sex?<br/>Why do we have to agree with Evangelicals to call it religious freedom?<br/>Isn't denying one religious group the right to control our lives the real issue given the conditions in Europe at the time of the Revolution?\", False, 359, 25781855.0, '5a725f2410f40f00018bed89', 19.0], [\"It would be great if your coverage of the Trump administration opposition to funding for contraception, it would be combined with the fact that widespread access to and availability of affordable contraception is the #1 way to reduce abortion. If they really care about abortion (and not just controlling women's choices) they would be promoting access to all methods of contraception (free). Instead, they have delayed refunding the vital network of 4,000+ Title X Family Planning service providers who provide this key function. This is a travesty and we should all be outraged! \", True, 356, 25787658.0, '5a725f2410f40f00018bed89', 20.0], [\"Self-centered as ever is Don<br/>At lovemaking he's the only one,<br/>The Woman is there,<br/>So is his fake hair,<br/>And he's having all of the fun.\", False, 347, 25781750.0, '5a725f2410f40f00018bed89', 21.0], ['Has anyone offered Stormy $130.001 to break her nondisclosure agreement?', False, 310, 25782124.0, '5a725f2410f40f00018bed89', 22.0], [\"Gee, Gail I'm pretty sure that Trump doesn't really understand the birds &amp; and the bees very well, and I know he doesn't understand anything about haploid gametes. He thinks they're homunculi of Trumps like in the Russian Dolls.<br/><br/>So why would he use a condom? He would have to be sued over illegitimate children and the other party would have to sign a non-disclosure agreement. Like his taxes, they're staying unseen. And of course a condom is just a nuisance since he's survived his own personal Vietnam already. I doubt that Trump takes responsibility for anything. <br/><br/>I'm amused to see Daniels cashing in on it again though. Trump gets burned by a woman twice! So much for the Great Negotiator! \", False, 288, 25781844.0, '5a725f2410f40f00018bed89', 23.0], ['\"sexual risk avoidance\"<br/><br/>Tried it once. Doesn\\'t work, just ask son number three. ', False, 263, 25782289.0, '5a725f2410f40f00018bed89', 24.0], [\"I've never understood why any of these people, are against birth control and giving assistance financially to those who need it. I don't understand companies who want to prevent their health insurance providers from covering birth control either! It makes no logical sense. It makes no economic sense. In the long run providing birth control to employees cuts down on absentee at work, better health care, fewer unwanted pregnancies. Isn't that better for a company? I do understand an employer who is against abortion, for religious reasons and their own conscience not wanting to contribute to that. I'm not personally in support of abortion. But being against birth control broadly seems in the extreme. In those terms in my opinion, an employer is imposing their conscience onto their female employee. That's totally dictating another person's life and conscience. It just doesn't compute to me!\", False, 255, 25781978.0, '5a725f2410f40f00018bed89', 25.0], [\"One of the best kept state secrets of this White House barely broke public notice: Planned Parenthood noted the White House issued a negative Kemp-Kasten Amendment determination on the United Nations Population Fund (UNFPA), paving the way to cut U.S. funding to the vital UN agency. The Amendment prevents coercive reproductive practices, but Trump used it to eliminate U.S. funding to UNFPA and undermine women's access to voluntary family planning and maternal health globally. He has cut the State Dept. budget for family planning and women's health. Overall, the cuts exceed $2.2 billion for women's health/reproductive care/HIV-AIDS care and prevention globally, esp. in the poorest countries. He has extended the global gag rule (no funds for abortion) to all women's health funding, even when organizations use other funds.<br/><br/>By the scattered statistics of the balance sheet, Trump uses a favorite GOP trick. Hide death and disruption, weaken health and distablize communities one virus at a time. Beside life is a liberal cause; security and a billion dollar wall of imaginary fears is more important. Trump's politics of grief and blame doesn't include Gold Star families or women's lives or their children.\", False, 238, 25784082.0, '5a725f2410f40f00018bed89', 26.0], [\"Do women in the US care about access to contraception as a matter of priority? Their voting patterns and Republican dominance in the presidency, congress, and state governorships and legislatures don't seem to indicate that they do\", True, 221, 25783120.0, '5a725f2410f40f00018bed89', 27.0], ['Who knew sex was so complicated!', False, 207, 25782241.0, '5a725f2410f40f00018bed89', 28.0], [\"The most flagrant way America hates women, we're 2nd class citizens you all, just so you know, god forbid we make our own health care decisions!\", False, 195, 25782036.0, '5a725f2410f40f00018bed89', 29.0], ['Honestly speaking, Trump is a form of contraception for two reasons.  After the sexy, fit, savvy, intelligent Barack Obama, Trump the man is such a turn-off.  What woman needs contraception?  Then there is the depressed state any intelligent woman finds herself in once she realized what was done to the best and the brightest of her kind in the 2016 election.  Truly a mood killer.<br/><br/>Perhaps Mr. Trump is actually concerned about the dramatically declining birth rate?  Not a chance.  That would require his entertaining a thought.', False, 182, 25782156.0, '5a725f2410f40f00018bed89', 30.0], ['So, where is the Moral Majority, the Christian Right, the GOP, rightwing conservatives, and the rhythm method birth-control advocates as well as the just say no groups and organizations?  Or how about the conservative PA representative that urged his victim to get an abortion?  How come not one conservative is speaking out and condemning this immoral, illicit and repugnant behavior? Oh, I forgot. The rules don\\'t apply to them and their party because they\\'re busy breaking the rules. Rules only apply to progressives and left wingers. Especially birth control and abortion rules.<br/>The next election will provide a \"Stormy\" session for conservatives.  Wait, I almost forgot, conservatives have Jeff Session(s).  ', True, 171, 25788164.0, '5a725f2410f40f00018bed89', 31.0], ['The religious right always implies that the only users of birth control are unmarried women who want to have a lot of sex. The reality, of course, is that married couples use birth control, along with unmarried couples who aren\\'t some kind of sex fiends. Not that I have a problem with unmarried women wanting to have a lot of sex. I just have a problem with the whole false idea that birth control is some kind of \"specialized\" product, rather than something virtually every American needs during the years of fertility to be a productive, healthy, and economically viable citizen.   ', True, 170, 25791801.0, '5a725f2410f40f00018bed89', 32.0], ['A) \"It is a capital mistake to ascribe to malice what can be perfectly explained by stupidity.\"<br/>B) \"Against stupidity, the gods themselves labor in vain.\" ', False, 164, 25781977.0, '5a725f2410f40f00018bed89', 33.0], ['\"Cruel and stupid\" describes anyone who says their votes are morality based  because they\\'re \\'pro-life\\', and yet voted for 45. ', False, 149, 25781949.0, '5a725f2410f40f00018bed89', 34.0], [\"The part, 'avoid unwanted pregnancies', has to become the rallying cry of the pro-choice movement. Educating women (which leads to later and fewer pregnancies), sex education and access to contraception has helped bring down the number of abortions more than any abstinence programs or laws outlawing them. Yes, let us avoid unwanted pregnancies; we all agree on that. Let's focus and talk about THAT. That is pro-life. \", False, 143, 25784647.0, '5a725f2410f40f00018bed89', 35.0], ['This should be big (and scary) news to those millions of women of child-bearing age, who are counting on methods of birth control that have been available for many years.   A “sexual abstinence” proponent as head of the office dealing with this??  Another of Trump’s chickens guarding the hen houses—in Interior, Enviornment and so forth.  Except that in this case, it is women who can’t get birth control who will suffer.  Oh, it’s just women . . . ', False, 115, 25781761.0, '5a725f2410f40f00018bed89', 36.0], ['Remember.  Condoms are not only for birth control.  George W. Bush understands that quite well.  If Mrs. Trump was unhappy before, she should be  outraged by now. ', False, 114, 25782264.0, '5a725f2410f40f00018bed89', 37.0], ['Mommy issues?', False, 111, 25781985.0, '5a725f2410f40f00018bed89', 38.0], [\"Pretty soon, women will start coming forward with evidence of their bearing Trump's illegitimate children.<br/><br/>How sad, destructive and embarrassing all of this is, for all of us.\", False, 108, 25781823.0, '5a725f2410f40f00018bed89', 39.0], [\"Again I must ask: If every woman in the world had access to decent birth control, including abortion if she had to make that difficult decision, where would generals get armies and corporations get cheap labor? Certain groups of people try to make it about religion, because that's easier than beating all women into submission, but this is about control of national resources, that is women's bodies. It's about showing women who's boss. No surprise that Trump is allied with the current GOP on this. When I was younger I think the GOP was fiscally conservative but socially more liberal. Now they are seemingly defined by their will towards out-of-control patriarchy.\", True, 107, 25792904.0, '5a725f2410f40f00018bed89', 40.0], ['I know this story is important for the potential illegality of the hush payment to Stormy Daniels, but the images conjured by all this talk of Trump in the act are disgusting to the point of vomitous. ', False, 98, 25782195.0, '5a725f2410f40f00018bed89', 41.0], ['Way too much information about the Donald!!!', False, 97, 25782072.0, '5a725f2410f40f00018bed89', 42.0], [\"Contraception is a men's issue, too.  Can we all try to remember that?\", True, 86, 25791541.0, '5a725f2410f40f00018bed89', 43.0], [\"Our president doesn't seem to know much about many, many, so many issues.... except, of course, the issue of Himself.  It's been suggested he is an idiot savant. No, I'm sure not.... but didn't  H. L. Mencken make a prediction fourscore and seven or so years ago?\", False, 79, 25782170.0, '5a725f2410f40f00018bed89', 44.0], [\"Wonderful article, thank you so much. I am looking forward to reading more from you in the future, hopefully with better news as the subject matter.<br/>Like you, I am appalled at the lack of personal responsibility, common sense, and above all, lack of empathy for others detailed in your article. It honestly makes me amazed anyone could have ever believed, or believes now, those shortcomings should exist in any person who takes on a leadership role. They're not virtues, we are detailing massive liabilities in leadership shortcomings which are hate based and going to cause each and every one of us personal pain and disappointment for the benefit of a tiny fraction of a percentage of us. The big question is when will it end? We're seeing the how, but when?\", False, 75, 25784335.0, '5a725f2410f40f00018bed89', 45.0], [\"My guess is that without abortion rights (or, the equivalent access to abortion that has always been afforded to the wealthy), Mr Trump's family would be a great deal larger.<br/>Perhaps, his current animus towards such rights, is regret that his family isn't bigger.\", False, 65, 25782088.0, '5a725f2410f40f00018bed89', 46.0], ['Trump, if he is a populist, should probably understand that unwanted pregnancies keep the poverty-stricken stuck in poverty. It then carries on to the next generation. ', False, 62, 25782025.0, '5a725f2410f40f00018bed89', 47.0], [\"One cannot help but wonder how many women the Donald has impregnated over the years, and who likely had abortions. Does anyone honestly believe Stormy was the only prostitute in DT's life?  I don't have any doubt that the information in Steele's dossier is accurate.  I also believe that Putin has something on Trump, or many things, which would help explain why Trump, who never met anyone he didn't like to insult, never has an unkind thing to say about Putin.\", False, 57, 25787104.0, '5a725f2410f40f00018bed89', 48.0], ['Though you giggle at Teresa Manning, Trump\\'s appointee, now departed, to over see the administration\\'s contraception program for saying that \"contraception doesn\\'t work,\" you apparently forgot that you also giggled at Ivana Trump\\'s trifecta of failed IUDs that gave the nation Ivanka, Eric and Donald Jr.  Who knows? Maybe Manning was on to something, or the Trump family is inept when it comes to applied birth control.', False, 55, 25781721.0, '5a725f2410f40f00018bed89', 49.0], [\"Let's not forget the president's epic struggle while others were fighting in Viet Nam--he was struggling mightily to avoid the scourge of venereal disease.  His bone spurs didn't seem to impede his outside-of-marriage sex life.  <br/><br/>Mrs. Trump is wise to have separate bedrooms in the White House.  She has to protect herself from all of the diseases his one-night stands would bring to her marriage.  Am I the only one totally fatigued by the endless sewer of low class behavior this president displays?  I say we make America Great Again by bringing back the Obamas.\", False, 46, 25788123.0, '5a725f2410f40f00018bed89', 50.0], [\"Correction:<br/>I think she got this amount of money because the affair lasted a year, not just one night.  Donnie gave Melania a week to get her pre-pregnancy body back, according to Howard Stern.  And he doesn't use condoms because they don't make them small enough.\", False, 42, 25796453.0, '5a725f2410f40f00018bed89', 51.5], ['The pitiful amount ($130,000) that Stormy got for her silence is another indication that Trump is nowhere near as rich as he claims to be. My guess is that the Trump Foundation or the Trump campaign wrote the check. ', False, 42, 25787113.0, '5a725f2410f40f00018bed89', 51.5], ['If you want to fix this mess, vote Democrat in November. Any other action, or inaction, will leave Trump and the Republicans in control, and things will only get worse.', False, 41, 25793982.0, '5a725f2410f40f00018bed89', 53.0], ['I think the other depravity is that he was being unfaithful to the wife who just gave birth to his child.  No wonder he is so popular with Newt who was unfaithful while his wife was getting cancer treatment.  Talk about supportive husbands and family values.  ', False, 37, 25794343.0, '5a725f2410f40f00018bed89', 55.0], ['Hmmmm......maybe that\\'s why Trump doesn\\'t want his taxes revealed.....too many \"child support\" entries ........hmmmmmmm.', False, 37, 25792116.0, '5a725f2410f40f00018bed89', 55.0], ['Family planning and health planning are the same thing, because family planning is a preventative health service, just like vaccines, clean water and public sanitation. One must understand that everyone is now here and alive due to sexual reproduction. This is an integral part of life, and promoting safe and healthy sexuality should be as important as any other public health measure. Measures which support sexual health include mental health services, safe and well paid employment (with benefits), and medical services which include family planning. The GOP poster boys for an \"Unhealthy America\",  Ryan, McConnell and Trump, seem conflicted about their own morality,  which they then project as health policy. Or is it all about money and tax breaks for the rich? They love to cut family planning services, but then also prenatal services, and then, in a final blow, services for women and children. The Christian Right equates health with rigid morality, but then fails to apply those moral standards to any elected official from the GOP. Let those who profess great faith question the morality of those who oppose health care for the many. That is a real birth control problem.   ', False, 37, 25784482.0, '5a725f2410f40f00018bed89', 55.0], ['Pregnancy is a medical condition that can end in death or disability. Forcing a woman to continue a pregnancy is involuntary servitude or slavery. That is outlawed by the Constitution.<br/>This really is the 21st century not the 16th.', False, 36, 25787295.0, '5a725f2410f40f00018bed89', 57.0], ['Better access to birth control helps to prevent abortions by decreasing the need for them.  People who interfere with access to birth control should have to explain to the rest of us why they want more abortions.', False, 35, 25793992.0, '5a725f2410f40f00018bed89', 58.5], ['Given how trump views and treats women as objects for his personal gratification why would he think of their health and wellbeing. A self centered person rarely thinks of others except how he can use them in the moment.', False, 35, 25790536.0, '5a725f2410f40f00018bed89', 58.5], [\"So the Republicans don't want women to use birth control, and they don't want women to have abortions.  And then they want those babies to grow up poor, because they won't raise the minimum wage, uneducated because the Education Dept is letting more $$ go to religious schools or because the same department is allowing bogus online universities to bilk people,  ignorant because they deny scientific truths such as education and climate change, unhealthy because pollution is allowed to flow into air and water unregulated, and continually ill because they've gutted Medicaid and affordable medical care.  And then the people produced by these policies are supposed to Make America Great Again and then keep it great.  Man, I want some of that Kool-Aid \", False, 34, 25796124.0, '5a725f2410f40f00018bed89', 60.0], [\"Trump doesn't have birth control problems. He has self control problems.  As does the country as a result of his being in the White House.\", False, 32, 25796194.0, '5a725f2410f40f00018bed89', 61.5], ['Why would Republicans do anything that could possibly help or save the lives of women? Until they realize that abortion isn’t some “flippant” choice most women make when dealing with an unwanted pregnancy, they will continue to find ways to punish women who dare to think that they are in control of their own bodies. ', False, 32, 25787004.0, '5a725f2410f40f00018bed89', 61.5], ['I\\'m with the main character in the movie Lady Bird who, after hearing a \"pro life\" representative relate that her mother chose not to abort her says, \"If you had been aborted, we wouldn\\'t have had to listen to this lecture.\" It\\'s disgusting to be lectured to by people who support Trump.', False, 31, 25793740.0, '5a725f2410f40f00018bed89', 63.5], ['But he was not playing the birth control card, of which the religious right would disapprove (he needs them).  He was playing the Bible card for them (\"Be fruitful and multiply.\")', False, 31, 25782027.0, '5a725f2410f40f00018bed89', 63.5], [\"Trump's birth control problem is that his parents didn't use any.\", False, 30, 25795882.0, '5a725f2410f40f00018bed89', 67.0], ['Not surprising that TD hooks up with strippers and doesn\\'t use a condom. It\\'s her problem. There is a quote in Gloria Steinem\\'s book \"My Life on the Road\" from an Irish-American woman cab driver in NY City that says it all: \"If men could get pregnant, abortion would be a sacrament.\" Time is up for men attempting to control and suppress women and their bodies. ', False, 30, 25787393.0, '5a725f2410f40f00018bed89', 67.0], ['If, as it seems, the current administration is determined to cut access to birth control and also determined that every baby that is conceived in the US is born, then the current administration needs to step up and do the honorable thing and make sure that all those babies have adequate food, education and medical care until they are 18. <br/><br/>Oh, wait. That would mean expanding Medicaid and SNAP and giving more money to public schools. Oh, the horror. <br/><br/>The connection between unwanted births (which could be prevented by better birth control access and better sex education in schools), and the growth of, to use their own term, entitlement programs seems lost on this administration. ', False, 30, 25787069.0, '5a725f2410f40f00018bed89', 67.0], ['How out of step are Trump and the GOP with Americans\\' attitudes about women\\'s reproductive rights?<br/><br/>75% of women in a 2010 CBS poll said they had used birth control pills.<br/><br/>89% of Americans in a 2015 Gallup poll said birth control is \"morally acceptable.\"<br/><br/>Results from a March 15, 2017 Kaiser Family poll:<br/>71% supported the mandate that employers offer copay-free insurance for birth control. <br/><br/>82% said women “should be able to get birth control coverage through their health insurance even if their bosses morally oppose contraception.\" <br/><br/>Only 15% said women would be positively affected President Trump &amp; GOP\\'s policies on women\\'s reproductive rights.<br/><br/>75% said federal Medicaid payment should continue to Planned Parenthood, including a majority of Republican women and men; only 22% said the federal payments should be stopped.<br/><br/>\"Among those who think all federal Medicaid payments to Planned Parenthood should be stopped, about one-third ... changed their mind after hearing that this would make it difficult for many lower-income women to access certain health services, including treatment for sexually transmitted infections, cancer screenings, and birth control.”<br/><br/>7 out of 10 Americans support Roe v. Wade--the highest it’s ever been--saying they believe a woman should have the right to safe, legal abortion.<br/><br/><a href=\"https://www.kff.org/health-costs/poll-finding/kaiser-health-tracking-poll-aca-replacement-plans-womens-health/\" title=\"https://www.kff.org/health-costs/poll-finding/kaiser-health-tracking-poll-aca-replacement-plans-womens-health/\" target=\"_blank\">https://www.kff.org/health-costs/poll-finding/kaiser-health-tracking-pol...</a><br/><br/>GOP: Wrong, arrogant &amp; dangerous!', False, 30, 25782214.0, '5a725f2410f40f00018bed89', 67.0], ['We see the results of Dr\\'s prodigy other than his youngest, who does not deserve to be subjected to judgement until he becomes an adult and chooses to follow suit with his adult siblings, we should be so lucky that he would show any propensity to be responsible enough not to have children by using birth control. It goes without saying that he has no concern for anyone else\\'s real need or right to have it available if it buys him a block of hypocritical and ignorant \"Christian\" votes...', False, 30, 25781929.0, '5a725f2410f40f00018bed89', 67.0], ['While Collins does a great job of exposing the hypocrisy of Trump et al around sex, contraception and abortion, the thing she mentions in passing that should be the most politically consequential is the payment to Stormy during the campaign. The thought of our president having Stormy sex might be cringe worthy enough to distract a professional chess player, but it shouldn’t distract us from the real corruption of paying Stormy $130k to keep quiet. Where did the money come from? Who handled the transaction?  Why was she treated differently than all those others who accused him of sexual misconduct?  Someone, or some organization, with enough money to spare a few dollars, should make it worthwhile for Stormy to break her non-disclosure and tell the whole story. My guess, and it’s purely speculation, is people will be a lot more upset if the money came from campaign funds than by the thought of our president rolling around with a porn star.<br/>Also it should be noted that the sexual double standard is alive and well, actually thriving, especially in the Republican leadership and evangelical community. It’s always the woman’s fault for a man’s behavior. After all, it’s not wrong for a real man to have sex with a porn star.  Remember, a porn star is already a sinner. The man is just doing what comes naturally. Ask any of the numerous, recently exposed, sexual predators. They know that if it wasn’t for women, they wouldn’t have misbehaved.', False, 29, 25786850.0, '5a725f2410f40f00018bed89', 70.0], [\"Trumps remark that women who get an abortion should be punished as a criminal left out any mention of the man who started the pregnancy-certainly no innocent bystander. Many religious also stress punishment for sinners, but again, it's the woman in a desperate situation who suffers. It's easy to judge others harshly, but rationalize our own mistakes. If anyone thinks men's behavior towards wanting sex outside of marriage will change by punishing women who get pregnant, they better come up with a better idea. Our society would be much improved if women could get all the help they need and stop laying the blame on them.  \", False, 28, 25791795.0, '5a725f2410f40f00018bed89', 72.0], ['As one other commenter wrote, I would like to add that I, too, am Catholic.  And, yes, I am pro-choice as well as being pro-life, however, the latter placed with a different perspective. A lot of my rigid views changed when I became an RN and worked in a hospital.  There we were constantly fighting for life, an infant fed Comet cleanser by an unhinged mother who later died, many young cancer victims with most of their lives ahead of them only to be stolen by an incurable disease.  Or the mother of 5 hemophiliac children, two already with amputated legs, who was \"Catholic\" and did not believe in birth control.<br/><br/>When it comes to religion or false prophets like Trump dictating our private sexual lives, they cross a line.  Religions are man-made, and often, not only metaphorically but also literally.  They are arbitrary.  If there is a God, and I hope there is one (especially in light of our present political debacle), She is probably a just one who understands our needs and above all does not judge.', False, 28, 25791006.0, '5a725f2410f40f00018bed89', 72.0], ['I agree 100% with Mor from California.  What conservatives fear above all else is women with agency.', False, 28, 25787294.0, '5a725f2410f40f00018bed89', 72.0], [\"I stopped shopping at Hobby Lobby several years ago, when they refused to cover their women employees birth control due to their religious beliefs. This is a large corporation that relies heavily on a female demographic to buy their products. The hypocrisy wasn't lost on me. I decided to vote with my hard earned cash. I haven't been back since and I haven't missed it. I also passed along the information to other women friends too. If a majority of women did the same, Hobby Lobby might be forced to revisit their policies. That's what is needed because when you have influence over the bottom line you're heard.\", False, 27, 25792655.0, '5a725f2410f40f00018bed89', 74.5], ['Thank you, Gail, for your humorous perspective on what appears to be just one more in a series of allegations of philandering that have been made about the current occupant of the White House.<br/>But for all the smiles your column evoked, it is no surprise that he \"doesn\\'t seem to know all that much about birth control.\"  It\\'s just another piece of evidence of his chauvinist misogyny.  Why should the man have to worry about the outcome of such dalliances?  It\\'s obvious that he does not see this responsibility as anything other than the woman\\'s.  (Note: He married Marla Maples two months after Tiffany was born - well after the media circus that preceded his infidelity to Ivana by several years.)<br/>Nevertheless, the incredible support from evangelicals/pro-life factions that he enjoys is truly beyond the pale.  If such revelations were made about Ford, the Bushes or Reagan, there would be an ear-splitting uproar from the these same people.  I seem to remember that Reagan\\'s divorce and remarriage was a factor that negatively affected his initial runs for president.<br/>It is not only DJT who lacks any principles - it is the entire evangelical/pro-life movement.  They care not one whit about his personal life - but see him as the easiest pathway to impose and enforce their religious/philosophical beliefs through legislation and regulation.  So much for the old Conservative/GOP stated position of not allowing government to intrude on our personal lives!  Their hypocrisy knows no bounds.', False, 27, 25785692.0, '5a725f2410f40f00018bed89', 74.5], ['What an insufferably selfish \"john\" to refuse to protect a partner, thinking only of his pleasure.  Sounds like a president I know.', False, 26, 25783334.0, '5a725f2410f40f00018bed89', 76.5], [\"According to Steve Bannon, Trump had about 100 women he needed to pay off in the months before the election. Steve was Trump's campaign manager, so I guess he would know.\", False, 26, 25788126.0, '5a725f2410f40f00018bed89', 76.5], [\"I'm no longer able to get pregnant but I'm on birth control pills to prevent a condition that forced me to have surgery a few years ago, surgery and a week off from work to recuperate.<br/><br/>Those birth control pills are cheaper for my insurance company than expensive surgery and they keep me at my desk which is better for my employer.<br/><br/>Why in the name of all that's out there would any employer choose a more expensive alternative that would make an employee less productive?\", False, 25, 25792128.0, '5a725f2410f40f00018bed89', 79.0], ['The un-united states of america is rushing headlong back into the dark ages in so many ways.  I really worry about the future for our children and grandchildren.', False, 25, 25786818.0, '5a725f2410f40f00018bed89', 79.0], ['Being Pro-Life is not necessarily anti-contraception.  In fact, most rational people realize the best way to reduce the number of abortions in this country is to prevent the pregnancies in the first place.  That means making birth control free, widely-available, and humiliation-free, coupled with comprehensive, fact-based, age-appropriate sex education for all students, including those in religious-based schools.  Give people the information they need to make good decisions.<br/><br/>Unfortunately, the evangelical Christian wing of the Republican party has coupled abortion to birth control, despite being morally, ethically, and medically separate issues.  No one has been able to convince them that the message should be: \"Premarital sex is a sin.  But if you\\'re going to sin, at least be smart about it.  Use birth control.\"  They view it as an endorsement of premarital sex.  Somehow that same logic doesn\\'t work for concealed carry gun laws and gun violence.', False, 25, 25787021.0, '5a725f2410f40f00018bed89', 79.0], ['Why am I suddenly craving milk?', False, 24, 25796106.0, '5a725f2410f40f00018bed89', 82.0], [\"Looking at Stormy's two big attributes in this photo makes it easier to understand why Melania ditched Donnie and Davos for spa time at Mar-A-Lago. However, her time away from her small-handed husband would have been better spent hiring a good lawyer who could file for a divorce that allows her to grab as much cash as she can (perhaps all the good lawyers are too busy defending Trump against Mueller). I cannot fathom how she can explain this photo of Ms. Daniels to Barron. It says buckets about Melania's values that getting a spray-on tan and a massage at the spa is more important than removing her young son from the fetid, polluted, corrupt environment created by her husband. \", False, 24, 25796390.0, '5a725f2410f40f00018bed89', 82.0], [\"Young women need to band together and march in the streets! Oh right, they ARE doing that. Well, you better do more than march. Get democrats elected to every possible office you can. I'm an old man. Nobody is trying to take control of my body and my reproductive choices. YOUNG WOMEN UNITE!\", False, 24, 25791499.0, '5a725f2410f40f00018bed89', 82.0], ['You would think it would be enough that women accept the health risks and suffer the side effects of the various contraception methods available in order to protect not only themselves but the men from unwanted pregnancy and 18 years of financial responsibility for a child. But no, we are also made to pay for them without insurance coverage and continually fight for our right to get them at all. ', False, 23, 25792425.0, '5a725f2410f40f00018bed89', 84.5], ['Follow Up Questions<br/><br/>What I would like to know is how they settled on $130,000 in hush money.<br/><br/>What? ... Did they start with $150,000, Stormy was forced to negotiate, and they settled on $130,000? It seems like such a strange number.<br/><br/>Omigod, if Stormy had only known of some of settlements of Bill O\\'Reilly ($32 million in one case) and Roger Ailes (more than a few in the millions of dollars). That will teach her to crawl into the sack with a second rate businessman instead of a famous tv personality ... or even a famous athlete. I think Isaiah Thomas paid $11.6 million to settle a case and Kobe Bryant once shelled out more than $2.5 million in not-quite hush money.<br/><br/>Those \"settlement\" are just convenient ways for rich guys to stay out of jail.<br/><br/>But poor Stormy, she wasn\\'t thinking on either end of her deal.', False, 23, 25787973.0, '5a725f2410f40f00018bed89', 84.5], [\"Why are we even having this discussion? So predictable. Trump does something scummy, outlandish, possibly illegal and definitely immoral, and then liberals get all exercised and republicans continue their America-hating, woman-hating, pretty much everyone else-hating antics and nothing changes.  I'm bored with outrage because nothing changes. We need to channel our energy and our money into electoral change, voter registration and just stop talking about trump and his antics.  He is who he is. Nobody should claim to be surprised. He was a low-class twit, dishonest in the extreme, abusive and self-absorbed, treating everyone outside his orbit (and many within) with utter disdain. All his life he's been this way! Let's stop venting and start taking our country back. \", False, 22, 25794435.0, '5a725f2410f40f00018bed89', 87.0], ['It is almost impossible to imagine Trump supporting any policy that liberates women from the abuses and oppression of men.<br/><br/>Misogynists, fake Christians, and other Republicans are terrified of independent women.<br/><br/>Contraception almost certainly is the most liberating discovery for women ever made.<br/><br/>Fear of women is why religious fundamentalists, orthodox Catholics and Jews, and almost all Republicans want to outlaw not just abortion, but also contraception.<br/><br/>Women who vote Republican are authoritarian submissives who want to be slaves.  Men who vote Republican are simply swine.', False, 22, 25787247.0, '5a725f2410f40f00018bed89', 87.0], ['In all of this, we should not forget that birth control pills also address serious health issues such as ectopic pregnancy and endometriosis.', False, 22, 25787424.0, '5a725f2410f40f00018bed89', 87.0], [\"I've never heard of an evangelical complaining about IVF, freezing eggs or embryos, surrogate mothers, or depositing sperm.  All of those things would violate many of their 'rules'.  Just more proof that evangelicals are hypocrites.\", False, 21, 25791161.0, '5a725f2410f40f00018bed89', 90.5], [\"I actually pity Melania Trump. I'm sure she was blindsided by all these allegations, and certainly humiliated beyond redemption. I believe we'll be seeing even less of her now. But then again, Melania supported Donald's Obama birther witch hunt, which yielded zero evidence of foreign birth. Dear Mrs. T, what goes around...........\", False, 21, 25790009.0, '5a725f2410f40f00018bed89', 90.5], [\"I am beginning to think that all conservative men hate women, starting with their own mothers.  What is it about us that intimidates so many men so much that they would rather see us barefoot and constantly pregnant, with no right to vote, drive, or even go out in public, essentially.  They want to treat us as chattel, preferably not seen or heard.  It's time for this hatred to stop, gentlemen.  Get hold of yourselves and recognize the fact that if it wasn't for women, the human race would have been extinct a long time ago, and I'm not talking just about pregnancy.  I'm talking about world wars, nuclear bombs, bump stocks, assault weapons, flying jet airplanes into buildings, suicide bombers - what is it with war and guns and bombs that fascinates you all so much, anyway?\", False, 21, 25790343.0, '5a725f2410f40f00018bed89', 90.5], [\"Ah, but think of Trump's expectations of his base and his policies.   He wants them to make a lot more little trump supporters, indoctrinated by government approved home schooling and in charter schools,  raised on a steady diet of belief and Fox News.  \", False, 21, 25786217.0, '5a725f2410f40f00018bed89', 90.5], ['So, do we imagine Trump has never paid for an abortion?  Or advised one of his wives, mistresses, or daughters to have one? Really?', False, 20, 25795296.0, '5a725f2410f40f00018bed89', 94.5], ['the idea that a thinking person would be opposed to birth control is ridiculous. No, i do not respect religious objections, as they are simply absurd and groundless.  ', False, 20, 25793123.0, '5a725f2410f40f00018bed89', 94.5], ['\"so, like, careful\"!!!<br/><br/>Donnie is not \"so, like carefuil\"? And his supporters, while rabid about fetuses, don\\'t care much for families and children once the unwanted baby is born, they wash their hands of any kind of support for that.<br/><br/>Forgiveness? Only for serial adulterers who happen to be Republican legislators, and other high-rollers takng widow\\'s mites for profit.<br/><br/>Monty Python has a lesson about all this. The precious emissions of these important men (including rape and incest) must be protected:<br/><a href=\"https://www.youtube.com/watch?v=fUspLVStPbk\" title=\"https://www.youtube.com/watch?v=fUspLVStPbk\" target=\"_blank\">https://www.youtube.com/watch?v=fUspLVStPbk</a>', False, 20, 25786106.0, '5a725f2410f40f00018bed89', 94.5], [\"From the State of the Union: <br/><br/>“Tonight, I call on the Congress to empower every Cabinet secretary with the authority to reward good workers—and to remove federal employees who undermine the public trust or fail the American people.”<br/><br/>Trump is asking carte blanche to enforce only the laws he wants to enforce, and employees better like it or else.  Wherever Congress has entrusted the Executive branch to enforce a law, from the judiciary to the EPA to Title X, the President wants to choose.  We can see that Trump did just that when he chose to ignore the law imposed by Congress to impose additional Russia sanctions.  What are they going to do about it? <br/><br/>Trump will get rid of the governing structures he doesn't like, not only related to birth control, State Dept., and EPA, but related to public health, public housing, social security, IRS, and census.  By the time he is done remaking the executive branch, we will have a police state.  \", False, 20, 25785174.0, '5a725f2410f40f00018bed89', 94.5], ['I guarantee you Trump has paid for numerous abortions.   Oh to get those women to come forward and expose his hypocrisy!', False, 19, 25796122.0, '5a725f2410f40f00018bed89', 98.0], [\"It's probably only a matter of time before someone reveals she has had Trump-sponsored abortion or been coerced into having one.  With Trump, it's a never ending stream of sordid details of a selfish, profligate life, and that he was always either very cautious or very lucky seems unlikely and totally out of character for him.\", False, 19, 25792608.0, '5a725f2410f40f00018bed89', 98.0], [\"Donald Trump married a supermodel, but that wasn't enough for him. To his list of conquests, he had to have a porn star, while his wife was at home with the new baby. Jeez. Maybe in the next presidential debate in the 2020 campaign, Stormy should be seated in the crowd. I hope the Dems are working towards that. It would be satisfying to make the point, even though it will do nothing to change the minds of the Republican Stepford Wives that support Trump. It was Hillary's fault that she did not leave Bill, but somehow it will not be Melania's fault if she does not leave Donald, and it somehow will not be his fault either.\", False, 19, 25789202.0, '5a725f2410f40f00018bed89', 98.0], [\"What I dislike about the republicans is that they first want to save the fetus, then once the fetus is born, run the other direction, and claim it should pull itself up by it's boot straps.   The idea is so anti-christ like for them to on the one hand laud Christian values then, just seconds later Throw those same values out the door.   God is not pleased with them,  They might take note what Jesus warned of some that when it was time to get their reward, would be told He did not know them.  Just claiming his name, is not enough, love is an Action verb, You have to love your enemies.  As God loved the world which was his enemy, as John 3:16 mentions.   <br/><br/>As to Trump, He is a shill for the money grubbers.  They don't care about the people.\", False, 18, 25792640.0, '5a725f2410f40f00018bed89', 101.5], ['Who is providing the names of these extremist administration members like Manning and Huber?  Who’s running these side shows?  Someone is. We know that Trump, while certainly acquiescent, isn’t coming up with these names.  So who has stepped into the great Trump vacuum to staff and control key positions in the government that impact the lives of millions of Americans?  we have a right to know who these extremists are.  ', False, 18, 25785249.0, '5a725f2410f40f00018bed89', 101.5], ['I really struggle with people who are both Anti abortion and Anti contraceptives... <br/><br/>People, from teenagers to married couples, having been having without necessarily wanting children since the dawn of time and will continue to do so. Therefore the best way to reduce abortions is to make access to contraceptives easy. <br/><br/>Anyone who cannot accept that fact is so out of touch with reality that their opinion should just be ignored. ', False, 18, 25784778.0, '5a725f2410f40f00018bed89', 101.5], ['One of the core issues among the current crop of Evangelicals and the anti-choice movement in general is rooted in a very primitive kind of sexism. To them, the notion of sex outside of marriage without a consequence is simply wrong. To them a single woman\\'s pregnancy is simply a kind of biblical justice. That child born out of wedlock is a punishment for that woman\\'s failure to be, in their eyes \"moral\". We keep trying to argue that we can minimize unwanted pregnancies with birth control, but to a large number of conservatives that loss of a consequence is simply wrong.  It\\'s a frighteningly primitive belief system and also explains why they\\'re perfectly happy letting both mother and child suffer after she\\'s forced to give birth. To them, that child and all the years taken to raise it, are simply living examples of the consequences of \"sin\".  I suspect that the male partner in this equation is seen as the victim of a temptress (like Adam tempted by Eve) and he gets a pass.', False, 18, 25785022.0, '5a725f2410f40f00018bed89', 101.5], [\"It wouldn't be a surprise to learn that this simple-minded uninformed lacking in principles man doesn't even know how conception happens. \", False, 17, 25796366.0, '5a725f2410f40f00018bed89', 106.5], [\"52% of white women need to wise up and vote better.  The anti-birth control stance of the GOP is all about keeping women down.  As long as women are subject to unexpected pregnancies, employers can justify paying them less or not hiring them to begin with.  After all, it's too risky.  And some of these GOP voter derive a sick, if unconscious, satisfaction at the idea of denying poor women the pleasure of sex.\", False, 17, 25796129.0, '5a725f2410f40f00018bed89', 106.5], [\"I never thought I'd say it but I wish Trump's parents had never gotten together.  We might have been spared this entire spectacle of a presidency.  \", False, 17, 25795969.0, '5a725f2410f40f00018bed89', 106.5], [\"It bears repeating, apparently, that 53% of white women voted for trump. So I suspect those women either have access to abortion, regardless of their political and religious ideology, or they believe the stork is somehow involved.<br/><br/>Don't worry. Black women are lining up to run for public office. They'll right this listing ship.\", False, 17, 25790989.0, '5a725f2410f40f00018bed89', 106.5], [\"It is way too early in the morning for anyone to contemplate Hair Duce's sexual habits. But it never too early to say to Melania Trump:he has humiliated you on the world stage with the revelation of this latest escapade, which would make any pre-nup niull and void. Take your son and get out of Dodge. You both deserve better. And come to think of it , we ALL deserve better.\", False, 17, 25784998.0, '5a725f2410f40f00018bed89', 106.5], [\"Trump's positions and actions don't torpedo critical programs that help just women avoid unwanted pregnancy, they also torpedo programs that help women, men and families avoid unwanted pregnancies and nurture healthy ones.<br/>Put another way, he'd like to make it very difficult for loving partners to enjoy their intimacy, plan for cherished children and get very important care that insures reproductive wellness.<br/>There is something bitter in his resentment and contempt for family planning and healthy enjoyment of physical/emotional bonding, and it's sad to imagine the profoundly lonely place that springs from, yet it's very understandable. \", False, 17, 25782818.0, '5a725f2410f40f00018bed89', 106.5], ['A political candidate in Indiana said the thing worse than planned parenthood was UNplanned parenthood.    He was right.    To prevent abortions, one needs to prevent pregnancy.    ', False, 16, 25796173.0, '5a725f2410f40f00018bed89', 112.0], ['How hypocritical are Republicans.  Not too long ago, they wanted to impeach a President for having an affair with an intern.  But guess whose in the White House now? The current sitting president has made no excuse about being a philanderer and egotist. He want to build a physical southern border wall to control illegal immigration.  (Why not a wall along the Canadian border?)  What is stopping all the illegal drugs that being mailed to the US, that no physical wall will stop?  Or missiles?  Instead of jousting at  birth control funding or a wall, address the BIG picture - affordable health care (including planned parenthood) and immigration. ', False, 16, 25794334.0, '5a725f2410f40f00018bed89', 112.0], [\"Ironically those same people who oppose contraception and abortion also oppose government assistance to those very same people on the grounds that they don't want to pay for welfare.  It seems that they are having it both ways and getting away with it.  \", False, 16, 25793294.0, '5a725f2410f40f00018bed89', 112.0], ['Chris Matthews: Do you believe in punishment for abortion, yes or no as a principle?<br/><br/>Donald Trump: The answer is that there has to be some form of punishment.<br/><br/>Grand Old Punishment <br/><br/>\"Love the sperm donor; hate the sperm recipient\"<br/><br/>Nice GOPeople.  ', False, 16, 25792963.0, '5a725f2410f40f00018bed89', 112.0], ['Question.  <br/><br/>If, after Trump\\'s one night stand with a pron star - sans condoms - she had gotten pregnant?<br/><br/>How much would he and his groupies have paid her to get an abortion, rather than have the spectacle of a pregnant porn star bearing his \"sex\" child, and then having to support the little tyke for the rest of it\\'s life, haunting him at every turn?  Reminding the world and his wife of his scorn for his vows and his sexual proclivities for many years.<br/><br/>$130,000 would be a pittance.  ', False, 16, 25785085.0, '5a725f2410f40f00018bed89', 112.0], ['I think I know a way to cut unplanned pregnancies in half: force the biological father to pay the same child support he would be required to pay if the couple were married and then divorced.  <br/><br/>In order to receive public assistance of any kind, the mother would be required to name the biological father.  With today’s technology, it would then become incumbent on the fellow to prove he’s NOT the biological father.  If he fails the test, he is required to pay court-determined child support for the standard time duration in his jurisdiction.  Enforcement would include the right of the state to garnish his wages.<br/><br/>Think about it.  A careless fling with someone he barely knows could cut a man’s take-home wages a good 20%-25% for the next 20 years.  If he’s named multiple times he’s financial toast. This would greatly sober up some of the hound dogs out there and ensure true personal accountability.<br/><br/>This is a serious issue, folks.  Forty percent of babies born in America today are born to unwed mothers, approximately half of whom end up on public aid of some sort.  This proposal may sound extreme to some, but I can’t in good faith ask responsible taxpayers, many with modest incomes, to pay for the abject carelessness of others.', False, 15, 25795900.0, '5a725f2410f40f00018bed89', 117.0], ['The GOP gets some perverse pleasure in sabotaging pregnancy prevention, which is odd since unwanted pregnancies often result in the birth of poor, non-white babies they loathe. \"Pro-life until birth\" is not just a slogan. Was also happy to see the boycott Hobby Lobby comment. Not only does Hobby Lobby deny workers birth control coverage, but it is committed to promoting the teaching of creationism on an equal footing with evolution in schools. This will be life as we know it after the GOP puts an end to the Mueller investigation. Get used to it folks.', False, 15, 25793741.0, '5a725f2410f40f00018bed89', 117.0], [\"I'd like to point out that birth control is very important for men, too. Lots of loving men and women in stable relationships still want to plan when to become parents and to how many kids\", False, 15, 25793392.0, '5a725f2410f40f00018bed89', 117.0], ['Trump told Howard Stern that avoiding STDs was his “personal Vietnam”.  Judging by his failure to use a condom with Stormy casts doubt on whether he managed to dodge even that bullet.<br/><br/>Why would we expect Trump to be any different with his sex life?  He has been irresponsible, selfish, narcissistic and cruel as a businessman and as a president.   You would think that Stormy, of all people, would know that there is no payoff worth the risk to her and her family’s health.<br/><br/>If nothing else, I hope that Melania’s humiliation inspires her to have her son vaccinated against HPV.    There’s got to be one responsible adult in that family.', False, 15, 25787337.0, '5a725f2410f40f00018bed89', 117.0], ['It\\'s astounding that Trump takes the money from 65% of the US population, which wants choice for women and just stays, \"no we are not spending the money on that, but on religious ideals...', False, 15, 25787226.0, '5a725f2410f40f00018bed89', 117.0], ['Trump \"wandered in\" to teenage girl\\'s beauty pageant dressing rooms regularly when he ran such things, but HRC running a child sex ring out of a pizza parlor got more coverage from Faux News and generated more hysteria among the evangelical right. Just more reason to despise them both.', False, 14, 25794799.0, '5a725f2410f40f00018bed89', 122.5], ['I wondering when Melania files for divorce, before or after the Trump term ends, and how long will it be before Trump illegitimate children start popping up from previous illicit liaisons.', False, 14, 25787174.0, '5a725f2410f40f00018bed89', 122.5], [\"I cannot believe he did not use a condom with Ms. Daniels.  I cannot believe she didn't insist on using a condom.  I mean, this despicable man bragged to Stern that he didn't go to Viet Nam but he fought his own war - staying away from venereal diseases as he bedded supposedly one woman after another.  If he didn't use a condom he sure was letting himself hang out there without protection.  Pretty stupid soldier in THAT war!<br/><br/>I can understand a person's religious belief that says abortion is murder.  I don't agree but I can understand.  But I do not understand the stance against birth control except that denying it is a way to control women.  And that's really the main point of it for Republicans:  to control women.<br/><br/>VOTE THEM ALL OUT!!  Cast them out upon their biblical waters and set them out to sea never to be seen again!\", False, 14, 25784997.0, '5a725f2410f40f00018bed89', 122.5], ['With the GOP, the right to life ends at birth.', False, 14, 25785043.0, '5a725f2410f40f00018bed89', 122.5], [\"First of all, I think that getting women pregnant while they're on birth control is a story Trump can tell that demonstrates virility, something he seems desperately afraid we won't see so he has to keep talking about it.<br/><br/>Second, as Gail says being against abortion in particular, and women's health in general, is simply table stakes for a Republican.  Trump could care less about that stuff, except that it keeps his 38%.  <br/><br/>But, basically, they're unrelated.\", False, 14, 25785683.0, '5a725f2410f40f00018bed89', 122.5], ['I have never received a coherent answer to why the Catholic Church is against birth control.  What on earth is wrong with parents trying to control the size of their family to suit their desires and situation?  No wonder studies have shown that otherwise committed Catholics largely ignore the rule.  Some women take the pill because of unrelated medical problems.  In addition, condums reduce the likelihood spreading disease.  Some Catholics have told me it is related to preventing God’s Will.  In that case, why wear seat belts when driving?  I am not Catholic,  but I would like to know the basis for this seemingly irrational rule.', False, 14, 25783731.0, '5a725f2410f40f00018bed89', 122.5], [\"The depravity of trump is equalled by the depravity of the Christian Right.<br/><br/>The latter has made its bargain with Lucifer. <br/><br/>Perhaps it's time to throw the Christian Right out of the Temple. \", False, 13, 25796354.0, '5a725f2410f40f00018bed89', 130.0], ['Raised Catholic and occasionally have attended Methodist services during the holidays with friends and family.  My parents came from Catholic families with 8 brothers and sisters.  How does one account for the fact that these days the pews are no longer filled with families of 8, 10, 12 or more children?  Abstinence? ', False, 13, 25795097.0, '5a725f2410f40f00018bed89', 130.0], ['\". . .our president doesn\\'t seem to know all that much about birth control.:  What does he know about?  The stupidity and cruelty of this administration is all cruelty - they\\'re all just playing dumb (except Trump, who is as illiterate and dumb as an adult can be and still function - like a large number of his supporters) in order to appear less duplicitous.  But it\\'s all a mean, nasty act - typical of fascists to do that when pandering to people who are easily duped.  These people are evil. . .but if we the American people can get our act together we.re going to burn them up.  Ferociously. ', False, 13, 25790610.0, '5a725f2410f40f00018bed89', 130.0], [\"Utterly absurd ... the presidency no longer seems legitimate - rather instead, the stuff of reality television - and bad television at that. Trump's presidency makes a mockery of the entire American political institution, with no help from Congress or the media. We're all spectators, trying to come to turns that we elected this guy who acts like a cross between a petulant child and frat-boy bro. We cannot be naive about the culture in which we live - one that has clearly condoned this man's actions, and we honestly cannot be surprised any longer with various histories that surface from the past. We must question why we give it any kind of attention. \", False, 13, 25787300.0, '5a725f2410f40f00018bed89', 130.0], [\"Best birth control ever -- go to bed and think about the Donald. That'll do it fer shur.\", False, 13, 25783858.0, '5a725f2410f40f00018bed89', 130.0], [\"He's a narcissist and the modern republicans are a party of narcissists.<br/><br/>How many abortions do you think The Donald has paid for? How many girlfriends, wives, and daughters of congressional republicans have had abortions? <br/><br/>If a rich girl gets pregnant, it's a mistake that shouldn't be allowed to ruin her life; if a poor girl gets pregnant, she made a series of bad lifestyle decisions and she should live with the consequences.<br/><br/>One set of standards for me, a completely different set of standards for thee.\", False, 13, 25784686.0, '5a725f2410f40f00018bed89', 130.0], [\"Trump's pre-,peri- and post-marital escapades provided much of the material for his appearances on Howard Stern's radio show. It was as much a part of the Trump image as tastelessly flaunting his wealth. Now we're supposed to believe it was all fake news. Give me a break. \", False, 13, 25783653.0, '5a725f2410f40f00018bed89', 130.0], ['Actually, it may be only a matter of time before women come forward who have had post-Trump affair abortions. It will be fascinating to see how the evangelicals and Republican leaders deflect that one.', False, 13, 25782877.0, '5a725f2410f40f00018bed89', 130.0], ['Yep. Hopefully one of Melanie\\'s friends will turn her on to <a href=\"http://www.chumplady.com\" title=\"www.chumplady.com\" target=\"_blank\">www.chumplady.com</a>', False, 13, 25784076.0, '5a725f2410f40f00018bed89', 130.0], [\"Wasn't Trump's first reaction to Marla Maples' announcement that she was pregnant his recommendation that she get an abortion?\", False, 12, 25795320.0, '5a725f2410f40f00018bed89', 140.0], [\"I can't believe that we're still arguing about contraception in 2018.  Specifically female contraception, of course.  The Trump Admin and his Evangelical Sycophants don't place any constraints on the ability of an unmarried man to obtain Viagra using federal funds or private insurance.\", False, 12, 25795560.0, '5a725f2410f40f00018bed89', 140.0], ['Seems like Ivana had a premonition of things to come. Obviously her three pregnancies just happened. She either was not ready or did not want the pregnancies or pregnant by the man who was her husband. Or may be she was just clairvoyant about her kids. She may have seen aghast at what her two sons, Eric Trump and Trump Jr. turn out to be. Also, she might have seen her beautiful daughter become completely wrought between two two corrupt men - her father and her husband. And reading this op-ed today about their mother must be a solid punch to their solar plexus. As for Tiffany Trump - her tragedy seems never-ending.', False, 12, 25792822.0, '5a725f2410f40f00018bed89', 140.0], [\"I don't care what his doctors say. Trump doesn't actually have a brain. If Mike Pence drops in, he borrows Pence's brain and becomes Pence for a day, a puritanical patriarchal sex-a-phobe. If Kelly pops in, he assumes Kelly's brain, a ruthlessly über-patriotic nuke-first-ask-questions later warrior. Ditto for the rest of the cabinet that his baby-sitters have provided him with. If you have access, you can inhabit his skull. \", False, 12, 25783757.0, '5a725f2410f40f00018bed89', 140.0], ['Poor Donald, I\\'m sure he\\'s so very angry with himself now that he knows he would have won the election without forking over $130,000 of that hard-earned campaign contribution cash (two criminal complaints allege), plus the fees for setting up the phony payoff company, etc.  Yes, he must be thinking \"I\\'m such a loser and how can I sue Stormy to get that money back\".<br/><br/>And while public policy birth control was being destroyed, the Idiot in charge of undocumented immigrants who are in detention centres was wanting to force a teenager to undergo a non-approved procedure to reverse the abortion a Court said she could, and did, have.  ', False, 12, 25784662.0, '5a725f2410f40f00018bed89', 140.0], [\"It's not only Roe v Wade that America's Christian zealots have been seeking to overturn. It's the Griswald case, in which the Supreme Court overturned the state of Connecticut's strictures against the use of contraceptives in the privacy of a married couple's home. That has been their Christian Sharia goal all along.\", False, 12, 25785093.0, '5a725f2410f40f00018bed89', 140.0], ['No one believes me when I say I subscribe to the NYT for the articles.', False, 12, 25785436.0, '5a725f2410f40f00018bed89', 140.0], [\"Trump is pro - choice. He has the freedom to choose whatever suits him at any given moment. Women only interest him when he can take advantage of them. Ergo, he cheats on Ivana, cheats on Marla, cheats on Melania. And the holy evangelicals like Tony Perkins give him  a Mulligan.<br/>The real Trump was revealed on the Access Hollywood tape. The real Trump was revealed in his one night stand with Stormy. So far all it has cost him is $ 130, 000. The old boys network- Paul Ryan,  Tony Perkins, Billy Graham' s son , the President of Liberty University , Roy Moore remain solidly in his corner. No Condom nation from them.\", False, 12, 25786840.0, '5a725f2410f40f00018bed89', 140.0], [\"So no new grants to help women get contraception and a strong anti abortion stance in this administration. Seems like there's going to be a lot of babies coming. And I don't see very many programs being introduced to help poor, and sometimes very young mothers raise and educate these children.<br/>And guess what Mr. Trump, many of them are black and brown and American citizens.\", False, 12, 25785387.0, '5a725f2410f40f00018bed89', 140.0], ['Puritanical Perverted Punishment: GOP 2018', False, 12, 25792881.0, '5a725f2410f40f00018bed89', 140.0], [\"I disagree.  I live in a very conservative county.  Most people I know are against birth control and against abortions.  To me, that makes no sense.  Work the problem, not the political polemics.  To reduce unwanted pregnancies make birth control available to everyone for free.  Then you can sidestep the need for most abortions.<br/><br/>But here, where I live, it is about something different.  People want to control how other people behave.  It's about control.\", False, 12, 25786116.0, '5a725f2410f40f00018bed89', 140.0], ['For me one of the great puzzles of life is the conservative view on abortion and what causes babies.  If we had better birth control and better sex education we would have fewer births. Also once the baby is a person, conservative resent every penny of tax money that goes to their benefit.', False, 11, 25794486.0, '5a725f2410f40f00018bed89', 151.5], ['One-hundred thirty grand for a one-night stand seems a little steep unless maybe there was another little complication with the birth control method used?!', False, 11, 25792247.0, '5a725f2410f40f00018bed89', 151.5], ['$130k + an NDA.<br/>Would love to know what the cost of breaking the NDA is. Because if it\\'s only the return of the $, she would handily make that back and then some with a GoFundMe: \"Spilling The DNA by Breaking My NDA\".<br/>Outside of that, Miss Daniels has certainly been taking the adult club scene by Storm: commanding as much as $75k/night in Las Vegas for a performance. This must be the JOBS creating economy 45 has touted. ', False, 11, 25792741.0, '5a725f2410f40f00018bed89', 151.5], [\"I would like to know what Trump's monthly hush money...uh, sorry, child support payments...costs are.\", False, 11, 25787497.0, '5a725f2410f40f00018bed89', 151.5], ['Fortune cookies, stupendous ineptitude, and sharks.  That about says it all for the man who would be king.  How can we possibly survive another three years of this tragic comic book character?', False, 11, 25787299.0, '5a725f2410f40f00018bed89', 151.5], ['Gail, I believe trump carried on and off with Stormy for at least a year, so it wasn\\'t a one-night stand. Don\\'t add to trump\\'s ability to yell \"fake news.\"', False, 11, 25786892.0, '5a725f2410f40f00018bed89', 151.5], [\"I just... I can't even imagine. <br/><br/>This man is a germaphobe. He won't even shake hands with people and you're telling me he has sex? It's a messy business. Lots of fluids get exchanged. You touch things... <br/><br/>I'm sorry. I just don't believe it. I've even considered he might have used a turkey baster and a test tube to conceive his children. <br/><br/>Something here just does not add up. \", False, 11, 25782540.0, '5a725f2410f40f00018bed89', 151.5], [\"Oh Gail, didn't you read that the evangelicals gave Trump a mulligan for his sexual indiscretions.  \", False, 11, 25786966.0, '5a725f2410f40f00018bed89', 151.5], [\"Trump has no morals, or scruples. He is a known racist, sexual predator and adulterer.  Trump's unbridled support by Evangelists is proof-positive that they are far more interested in political power than the word of the Bible.  Their hypocrisy is overwhelming.\", False, 11, 25782405.0, '5a725f2410f40f00018bed89', 151.5], ['No wonder the hard right wants to stop people having sex. Sex makes people happy, and happy people are more likely to be liberal, and to care about society and their fellow human beings.', False, 11, 25786637.0, '5a725f2410f40f00018bed89', 151.5], ['I wonder if Ivanka has any half-siblings she’s not yet met?  ', False, 11, 25782324.0, '5a725f2410f40f00018bed89', 151.5], ['\"The difference between genius and stupidity is that genius has its limits.\"<br/><br/>A. Einstein', False, 11, 25782571.0, '5a725f2410f40f00018bed89', 151.5], [\"Trump neither knows nor cares about birth control for others.  If he had sex without a condom, it simply underlines the fact that he's probably suffering from the early stages of dementia.  That would explain a lot.\", False, 10, 25795668.0, '5a725f2410f40f00018bed89', 165.0], ['Yep, life begins at conception, and rights end at birth. ', False, 10, 25795734.0, '5a725f2410f40f00018bed89', 165.0], [\"You would think they'd both have been concerned about catching something.  <br/><br/>Stormy - you can do better, girl.  \", False, 10, 25795505.0, '5a725f2410f40f00018bed89', 165.0], ['Examples of his hypocrisy are as plentiful as the number of breaths he takes per day.  <br/><br/>He calls himself \\'pro-life\\' as well, even though he\\'s appointed people to key environmental posts whose undisguised aims are to destroy all environmental protection.<br/><br/>A chief executive with Exxon Mobile once said \"I don\\'t care about the planet.  I care about people.\"  This asinine comment is typical for Trump as well.  He cares about nothing--certainly not his own reputation for credibility.', False, 10, 25793241.0, '5a725f2410f40f00018bed89', 165.0], [\"I don't really think Mr Trump is very different than most of our gender when it comes to sex among other things.<br/><br/>Wear a condom? How about my boots and a raincoat too? <br/><br/>Pregnant? Should'a been born a guy.<br/><br/>Most of us want what we want when we want it. <br/><br/>Delayed gratifica .......... say what?<br/><br/>Birth control is always a woman's problem until men in Congress took it upon themselves to weigh in and address this concern which was opened with prayer to their male god, who clearly inspired them to limit abortion to the first twenty weeks regardless the pregnant woman's thought. Divine inspiration. How else?<br/><br/>How could any woman possibly know more about the life growing inside her body or how to take care of that life for the next couple of decades than her male legislator?<br/><br/>Every man grows older and some even grow wiser. \", False, 10, 25792130.0, '5a725f2410f40f00018bed89', 165.0], [\"IS there a reporter out there who would push Trump on his position on sexual risk avoidance ??  Might it be that he's (not) enjoying a period of abstinence and taking his ire out on the country?<br/><br/>The Republicans have ceded any balance in the party to their most extreme religious right. They are pushing a punitive agenda on those working poor who are dependent on Medicaid and Food Stamps. They mock those who cannot support their children; but here they mock those who wish to control their own reproduction.  NONE of these moves will strengthen families, or the country.  They don;t save much in the way of expenditures in the short term, and the policies can  cost - again - individuals and families, and then, collectively, the nation, much more long term. Some of this has been a very old fight; Trump just adds a particularly cynical twist in his support of regressive policies\", False, 10, 25792419.0, '5a725f2410f40f00018bed89', 165.0], ['Stormy has been signing denials and making the TV rounds of late. Problem is, it seems to all be in jest. Lest we make fun of a very troubling issue here (Gail, good job) but seriously after reading some very smart and thoughtful comments here, this is an important topic that must be discussed beyond here.', False, 10, 25791004.0, '5a725f2410f40f00018bed89', 165.0], [\"How many other women are receiving hush money from Donald Trump? If the<br/>Reckless sexual behavior by an American president endangers our national security.<br/><br/>If Trump's sexcapades made him subject to blackmail, America's national security is in danger.<br/><br/>More people than porn stars may be involved. One allegation of particular concern is that Trump cavorted with prostitutes in a Moscow hotel room while the KGB surrepitiously filmed the fun.  Is Putin using the tape to blackmail Trump into lifting sanctions against Russia's oligarchs?\", False, 10, 25789909.0, '5a725f2410f40f00018bed89', 165.0], ['That photo reminds me of Brando\\'s line to the well-endowed young girl in \"Last Tango in Paris,\" which was something like<br/>\"You\\'re laughing now, but some day you\\'ll be playing soccer with those things.\"', False, 10, 25787166.0, '5a725f2410f40f00018bed89', 165.0], ['The Right ignores the sex crimes Trump has been alleged to have committed, all showing a pattern consistent with Trump\\'s own admission of simply grabbing women by their genitalia.   So its only natural the Right now apparently respects Trump\\'s payout to Ms. Daniels.  What\\'s next? The causa belli is the horrendous FBI entrapment of Trump and his minions. But of course, those opportunistic FBI agents in alliance with the Democrats AND Russians concocted this sinister scheme.   Republicans apparently cannot define the word, \"responsibility.\"', False, 10, 25787109.0, '5a725f2410f40f00018bed89', 165.0], ['I read the affair lasted many months, but who wants to research that? So this country elected a man who was having unprotected sex with a porn star while married, and probably putting his unwitting wife at risk. The Republican Congress seems absolutely smitten with him though. They smile and stare with stars in their eyes. They would follow him anywhere.', False, 10, 25783629.0, '5a725f2410f40f00018bed89', 165.0], ['This makes sense.<br/>Without unwanted, uneducated children Wal-Mart and Koch Industries would crumble.', False, 10, 25786431.0, '5a725f2410f40f00018bed89', 165.0], [\"And Mike Pence won't even eat lunch with a woman who's not his wife ... yet stands by and praises Donald's every move.<br/><br/>Just one more example proving the moral majority is neither.\", False, 10, 25785504.0, '5a725f2410f40f00018bed89', 165.0], ['One of the many mysteries of the anti-abortion movement is why they do not seem to feel that a woman failing to make her best effort to ensure that as many of her viable eggs are fertilized as possible is preventing  \"human beings\" from existing. After all, they  claim personhood begins at conception. Thus, abstinence is murder!', False, 10, 25786020.0, '5a725f2410f40f00018bed89', 165.0], ['Socrates.  You missed the Presidents personal Vietnam', False, 10, 25784583.0, '5a725f2410f40f00018bed89', 165.0], ['Recently there have been Republicans who are stridently on the public record as being antichoice.  Yet their mistresses have gotten abortions. Republicans are consistent in one way though. They dont care about poor people,  and well off people will always be able to get contraception, especially if you are the lover of a rich man ', False, 9, 25794535.0, '5a725f2410f40f00018bed89', 179.5], [\"Unfortunately Trump is under the assumption that family planning is a woman's problem and job, and like most misogynists believe if you don't want to get pregnant, then don't have sex.  So easy for some conservative males who will never get pregnant to say when they can have sex unprotected or not and not have to worry about the consequences.  But these same men do not want to pay child support, or fund programs that prevent pregnancy.  I am so tired of fighting for our rights, and for reasonable, fact based family planning.  But 50 years later we are still fighting for our healthcare and autonomy over OUR bodies.\", False, 9, 25795462.0, '5a725f2410f40f00018bed89', 179.5], [\"Here's my firmly held moral beliefs about contraception: all people having sexual intercourse should use birth control unless they have made a decision to have a child. To not use birth control is immoral.<br/>This is based on my Catholic values of avoiding the need for an induced abortion and practicing stewardship of the earth.<br/>Okay, now can I compel my employees obtain birth control because of my religious beliefs?<br/>Among the many problems with the moves to restrict birth control is the breath-taking contempt for the moral values of the woman. She is the one with moral agency in regard to birth control, not her employer!\", False, 9, 25795739.0, '5a725f2410f40f00018bed89', 179.5], ['the economics story nyt an dems needs to cover. MSNBC today. Richard Trumka. President, AFL-CIO reality check on Trump claims. Please pass on.', False, 9, 25794179.0, '5a725f2410f40f00018bed89', 179.5], ['\"Text book generic\" is what Stormy Daniels is claimed to have said about sex with Donald. Am curious about which text book.', False, 9, 25788296.0, '5a725f2410f40f00018bed89', 179.5], ['The POTUS may be suffering from VD.', False, 9, 25782434.0, '5a725f2410f40f00018bed89', 179.5], ['I find it hard to believe that he has fertilized only five eggs from three women.', False, 9, 25782876.0, '5a725f2410f40f00018bed89', 179.5], ['Too bad that Donald Trump was not man enough to use a condom nor to get tube snipped nor gelded nor hormone treated so that he could not inflict his spawn on humanity. ', False, 9, 25786164.0, '5a725f2410f40f00018bed89', 179.5], ['For the Donald, it\\'s all about HIS button.  I wonder how much he paid Marla to say, \"best sex I ever had.\"  Or, was that gem leaked to the press by his so-called publicist.  How low are we going to sink?  He slimes every person he comes in contact with, and now that includes the American people.  What a ghastly role-model for our children.', False, 9, 25782707.0, '5a725f2410f40f00018bed89', 179.5], [\"I don't believe Donald Trump is against family planning.  In private, I bet he would own up to family planning saving his neck a few times.<br/><br/>I'll go a step further, and say that I don't think most Republicans in Congress are against family planning or abortion.  I bet their necks, or those of dear friends, or family members, have been saved in almost every instance.  It is a fact of modern life, just as is substance abuse, and same sex attraction.<br/><br/>Republican positions on social issues are among the most bizarre manifestations of the unreality we live within.  <br/><br/>They neither represent themselves nor their constituents.  Its just a lot of noise and confusion meant to give themselves control of women and the world.<br/><br/> Brilliant, bravissimo!\", False, 9, 25782705.0, '5a725f2410f40f00018bed89', 179.5], ['We just have to make it a law that ALL fertile Christian males need to have their genitals locked up until marriage. Then only unlocked for procreation.  24 - 7. <br/><br/>The other option is to require that all fertile males have pregnancy insurance. One million dollars minimum coverage, higher as you have more children.<br/><br/>Men are the most responsible make them be responsible.', False, 9, 25784402.0, '5a725f2410f40f00018bed89', 179.5], [\"Yet we continue to hear crickets\\u200b from the evangelicals who lecture about family values and would eviscerate a Democrat for the same behavior.  At least they have been revealed for the hypocrites that they are.<br/><br/>The best way to prevent abortions is to make sure that birth control is affordable and easily accessible.  But the patriarchal religious right can't accept that women enjoy sex outside of marriage and don't always want to be barefoot and pregnant.  <br/><br/>I so hope that we can go the remainder of this presidency without discussing Trump's sex life.  That's a mental image I could so do without.  Our president is a randy pervert, yay America, how great we are.\", False, 9, 25782794.0, '5a725f2410f40f00018bed89', 179.5], ['If Hobby Lobby’s religious beliefs get then out of providing healthcare including contraception, how come Quakers have to pay taxes to buy weapons of war? ', False, 9, 25782321.0, '5a725f2410f40f00018bed89', 179.5], ['First, the GOP is all about protecting a fetus and the egg and sperm it comes from. The SAD, VERY SAD!! reality is that once that fetus turns into a free standing person they could care less about its health, education, living arrangements, financial health and only really like the ones that turn out as white males. <br/><br/>Second, after living through a year of hearing and reading one story after another showing how really low our present president can go I really long for the days of having a decent, family minded person as president in the form of President Obama and his gracious family. Its SAD, VERY SAD!! that as a country we have so quickly lost our way.', False, 9, 25784470.0, '5a725f2410f40f00018bed89', 179.5], ['Gail, this concise expose of our Creep-in-Chief would make a wonderful blurb for his Evangelical Christian followers to present him as their hero and role model at church this Sunday.<br/>Preachers far and wide will be thanking you Bigly, plus the \"show and tell\" photo is precious as an added prop. ', False, 8, 25796063.0, '5a725f2410f40f00018bed89', 198.5], [\"What, Gayle, you didn't find my post about my Dad bringing HPV home from Vietnam funny?  Neither did we kids.  Most of Dad's squadron's wives' club survived, but they got their hysterectomies in time.<br/><br/>Donald Trump is worse than a louse, he left his wife's life up to a pro.\", False, 8, 25796144.0, '5a725f2410f40f00018bed89', 198.5], [\"I wonder what this Valerie Huber chick recommends for married couples who either don't want children or don't want any MORE children.  Sexual risk avoidance?  I think there are lot of these conservative types who cannot comprehend the fact that not all married couples want to be awash with unplanned children.  For pete's sake, approximately 60 percent of women who have abortions already have children.  Only approximately 7 percent of abortions are provided to minors.  Does this Huber person think that mature adults, particularly those in stable relationships, are going to become abstinent if there is no contraception available?  Not in human nature.\", False, 8, 25795491.0, '5a725f2410f40f00018bed89', 198.5], ['Ms Collins proves again, no REAL reason behind GOP\\'s rhyme.  This Republican strategy is to woke the morality in the color-adverse voters.  \"Anti-contraceptive\" will be just another pledge of allegiance for Trumpers; and, it matters not, that it\\'s a nonsensical ax to grind at the REAL objects of their ire: welfare mothers and their kids.<br/><br/>WHAT IF Republicans REALLY cared about an anti-contraceptive agenda?  First, the GOP would have to morph into \"The Party of Charitable Words for Single Unwed Mothers\".  Making Rush speechless - that would be the gift that keeps on giving.<br/><br/>Next?  Their Herculean task to care about and contribute to the well-being for unwanted, underprivileged children.  More taxes?  No, for the righteously Right, the crisis of morality begins and ends with \"those people\".<br/><br/>It\\'s easy to understand why the GOP\\'s evangelic base CARES NOT that it nominated a porn star\\'s boring, run-of-the-mill, sugar daddy.  The victory in securing a conservative SC Justice was, exactly, the RIGHT AMOUNT of morality to fill that stolen-from-Obama-for-the-right-reason nomination.', False, 8, 25792656.0, '5a725f2410f40f00018bed89', 198.5], ['President Kennedy gave us his \"New Frontier.\" President Trump leads us into a whole new realm of previously unknown presidential exploration, the lightweight (in thought, maturity and political theory) though buxom porn \"star\" Stormy Daniels. Trump leads us ever downward, below the belt and otherwise.', False, 8, 25792707.0, '5a725f2410f40f00018bed89', 198.5], ['Great writing, Gail.  A couple of movies come to mind (why movies?  Trump is a character)<br/><br/>One is the rôle of the great Richard Libertini as General Garcia in the hilarious, \"The In-Laws\".  Peter Falk reminds Alan Arkin not to say anything about Gen. Garcie\\'s paintings.  I can see a Trump staff member warning a visitor, \"Don\\'t say anything about sharks...\"<br/><br/>The other movie is the classic \"Dr. Strangelove\" with the truly great Stirling Hayden as General Jack D. Ripper.  He reveals to us that in his encounters with women that he had denied them his essence.  That could explain Trump\\'s behavior to us.<br/><br/>Now, on to denying women access to health care in the name of Right Wing Christianity...', False, 8, 25791342.0, '5a725f2410f40f00018bed89', 198.5], [\"$130000?  Now that's what I call a bonus. Kind of makes those checks for $1000 Trump keeps boasting about seem a little on the cheap side. \", False, 8, 25782813.0, '5a725f2410f40f00018bed89', 198.5], ['Evangelicals claim their beliefs are based on a literal and infallible Bible. However, they seem not to believe in the Creation story. Adam was not a living soul until God gave him the breath of life. (Gen. 2:7) Moses ordered Hebrew warriors to kill everyone who wasn\\'t useful as a slave. Neither pregnant women nor their fetuses were spared. (Numbers 31)<br/><br/>Ecclesiastes 6:3 declared that unless a man has a good life and proper burial, abortion is better. The prophet Hosea prayed for God to punish wayward Israelites with abortion. (Hosea 9:14) If a man accidentally caused a woman to abort a fetus, then he had to pay the father for the loss of his property. However, if there were injury to the mother then it was eye for eye, hand for hand. If a man lies with his uncle’s wife or his brother’s wife, “they shall “be childless.” (Leviticus 20: 20, 21) Wouldn’t abortion be required? (Gen. 38), Judah impregnates Tamar, his daughter-in-law. When told that she is pregnant, he wants her executed on the spot, not allowing her to give birth before execution.<br/>When God commands Moses to take a census, pregnant women weren\\'t counted twice and God didn\\'t want children counted until they are a month old. (Numbers 5). The Apostle Paul wrote, \"First came the physical and then the spiritual. (I Cor. 15:46)', False, 8, 25782547.0, '5a725f2410f40f00018bed89', 198.5], ['\"I hope all the sharks die.\"<br/><br/>Well, there goes the shark vote.', False, 8, 25782840.0, '5a725f2410f40f00018bed89', 198.5], ['How far backwards we\\'ve slid.<br/>25 years ago, Clinton extolled the benefits of birth control as a common ground: \"abortion should be safe, legal, and rare.\"', False, 8, 25785956.0, '5a725f2410f40f00018bed89', 198.5], ['There is nobody who disgusts me more than any woman who continues to vote for these men. ', False, 8, 25784949.0, '5a725f2410f40f00018bed89', 198.5], ['america is a country of entertainment junkies.  take away some health care rights.  who cares.  take away some immigration rights.  who cares.  take away some retirement funds.  who cares.  take away television sets....now we\\'re getting into some serious territory that warrants caring.  \"stormy and trump.\"<br/>now that\\'s a show that would keep donald in the office for at least another 7 years.  we\\'re still the flinstones.  we just refuse to evolve.', False, 8, 25785764.0, '5a725f2410f40f00018bed89', 198.5], ['Stormy Daniels can learn something from Donald.  He is notorious for breaking signed agreements.  Contracts are to be litigated, not honored.  Stormy can do a lot better than $130K for her nondisclosure.  It\\'s time for her to cash in and declare \"Me too!\"  You go girl!       <br/><br/>Meanwhile, Melania is rereading her own prenup, while Bill Clinton must be wondering, \"Where are Newt Gingrich and Kenneth Starr now?\"  The rest of us are wondering, \"How can we endure three more years of this madness?\"        ', False, 8, 25783426.0, '5a725f2410f40f00018bed89', 198.5], [\"I so far as Trump voters are concerned what I find most disturbing is the hypocrisy. The moralistic Christian right could not wait to crucify Bill Clinton getting their congressional toadies to impeach him.  The hatred was so great, I'm convinced they held Hillary responsible for Bill's actions 19 years before.  Hatred has a long memory.  The acceptance of Trump for his escapades gets a free pass.  It's hard to be encouraged by the actions of the American electorate.\", False, 8, 25785517.0, '5a725f2410f40f00018bed89', 198.5], ['Even thinking about Donald Trump in connection with sex is disgusting and difficult, actually.  <br/><br/>But let’s put it this way.  Cécile Richards, the long time  Director of Planned Parenthood, just resigned, retired, whatever.  She led the way for years, trying to assure women of safe healthcare, reproductive, and otherwise.  She is to be commended.  Who could be expected to try to make sense of this endeavor while trying to combat the mind, or lack thereof, of Donald Trump and his crew?   <br/><br/>Anyone would be exhausted, Cécile.  And many of us women and men, say, “Thank you for your service.”<br/><br/>As far as Stormy, I cannot help but feel very sorry for young Barron Trump.  ', False, 8, 25784746.0, '5a725f2410f40f00018bed89', 198.5], ['I suspect that for Stormy Daniels the real issue in the use or nonuse of condoms is not contraception, but the avoidance of sexually transmitted diseases. I expect that one with her lifestyle would rely on something like the pill or an IUD to protect against pregnancy.', False, 8, 25783645.0, '5a725f2410f40f00018bed89', 198.5], ['Two questions: <br/><br/>1. Donald Trump has a history of arranging abortions for women. Have any anti-abortion activists called him on this?<br/><br/>2. As all of his books were written by ghostwriters, why would anyone assume that Trump has ever read any of the books that bear his name?', False, 8, 25785766.0, '5a725f2410f40f00018bed89', 198.5], [\"The most upsetting thing about Gail's essay is its tone. Lifeless, exhausted, as though she's writing in a state of increasing depression. This is increasingly true of most people's essays on Trump. There's a feeling that it just doesn't matter what anyone says or does--we're doomed, everything is terrible, and there's nothing to be done about it. It's certainly how I and everyone I know feels, so maybe it's me, not Gail. But I don't think so.\", False, 8, 25783752.0, '5a725f2410f40f00018bed89', 198.5], ['OMG, thank you, Gail. I was in hysterics by the time I got to the part about the flood of donations to pro-shark charities.', False, 8, 25784712.0, '5a725f2410f40f00018bed89', 198.5], ['Health insurance should not be required to pay for birth control or abortions. <br/><br/>Why? <br/><br/>Because a large number of voters are opposed to it and we need their support to get universal insurance implemented, to reduce out of pocket, to make sure preexisting conditions are fully covered, etc.', False, 8, 25783750.0, '5a725f2410f40f00018bed89', 198.5], [\"Do you really think he would pay anyone child support? He's notorious for not paying people what he owes them. \", False, 8, 25794882.0, '5a725f2410f40f00018bed89', 198.5], [\"I think that's what they meant when they named the organization Planned Parenthood.  That doesn't make a dent in the anti-choice crowd.\", False, 8, 25785454.0, '5a725f2410f40f00018bed89', 198.5], ['I hope it’s because our people still have some shred of decency, (lie down with dogs, get up with fleas...). But I take your very valid point anyway.', False, 8, 25787707.0, '5a725f2410f40f00018bed89', 198.5], ['They are against birth control because it gives women the freedom to, gasp!..have sex just because they want to without resulting in pregnancy. That cannot be tolerated in the patriarchal view of the world. ', False, 8, 25787778.0, '5a725f2410f40f00018bed89', 198.5], [\"Properly deployed in the hands of a short-fingered vulgarian, a fortune cookie is 100% reliable.  I've been told.  \", False, 7, 25795468.0, '5a725f2410f40f00018bed89', 226.0], [\"Let's coin a new term.<br/><br/>How about Pro-Health? In which the total mental and physical health needs of both the mother and the fetus are considered, with the needs of the fully realized adult woman taking primacy over that of the potentiality of the fetus?<br/><br/>Or Pro-Love? In which the most merciful and loving action is taken, with the suffering of the fully realized adult woman taking primacy over that of the potentiality of the fetus?\", False, 7, 25795370.0, '5a725f2410f40f00018bed89', 226.0], [\"Who cares about Trump's birth control problems.<br/>We're wholly more frustrated about Trump's parents' birth control problem.\", False, 7, 25795279.0, '5a725f2410f40f00018bed89', 226.0], ['I suppose I understand why Jimmy Kimmel or The View would book Stormy Daniels.  It contributes to the degradation of our culture, but after all, our sponsors....  <br/><br/>But Micheal Wolff told Bill Maher this story of presidential philandering is not altogether in the past tense.  Donald keeps his lawyers busy.', False, 7, 25790831.0, '5a725f2410f40f00018bed89', 226.0], ['I think it more than likely that Trump has had other problems with birth control and that those might have been expensive to cure. No condoms bad news. No birth control pill insurance support worse problem. Sexual predators should not vote for pro-life. Risky business.', False, 7, 25791646.0, '5a725f2410f40f00018bed89', 226.0], ['The Secret Service should be fully equipped with condoms to provide Trump with  the \"protection\" he needs.  Agents should be trained in their proper use and should stand ready to assist the President in putting them on (and taking them off) since that is where most of the \"use effectiveness\" problems occur with these methods. Planned Parenthood could be called upon to do in-service training for both the Secret Service and for the White House Staff.  Donald Trump has more than enough children.  What he needs is information, motivation and commodities to benefit from the family planning services that he has cut from the federal budget. ', False, 7, 25791629.0, '5a725f2410f40f00018bed89', 226.0], ['Personally, I thought the ‘tighty whities’ thing was the most memorable part. Unfortunately. ', False, 7, 25787033.0, '5a725f2410f40f00018bed89', 226.0], ['I wish there was more comedy/humor to be found in the Republican success of imposing their minority religious viewpoint on reproductive health care policy for US citizens and for aid programs world wide.  Unfortunately the statistics for the outcomes of the Republican policies are not funny.  The unnecessary deaths in childbirth and the unnecessary deaths of infants who live only minutes or hours are tragic.  Denying education and the tools for  birth control by imposing \"abstinence\" only policies is cruel.  Denying the funds for care and food for expecting mothers and for infant children is bad policy.<br/><br/>After Trump and the Republican Congress are gone there will be new policies which respect women and their rights in making decisions about their own reproductive health just as men do.', False, 7, 25787013.0, '5a725f2410f40f00018bed89', 226.0], ['Gosh, the plump playboy even lies to a one-night stand. He confides in her that he hates sharks. Fast forward. Now he wonders aloud \"Where is my Roy Cohn?\"<br/>And he expects anyone to believe him about anything?  Give me a break!', False, 7, 25787066.0, '5a725f2410f40f00018bed89', 226.0], ['Why doesnt the press ever quiz these right wing yahoos about the female anatomy and contraception they are so keen on controlling?? Get their answers out there.<br/><br/>Every year some GOP numbskull says something that lets the public know that they do NOT know what they are talking about- they describe a microscopic phenomena routinely as a full grown baby - the image of a youngster wearing diapers and in a stroller.<br/><br/> So YES, more follow-up questions for all of these guys, Trump especially- the guy who said his \"personal Viet Nam\" was avoiding VD back in the day.', False, 7, 25783076.0, '5a725f2410f40f00018bed89', 226.0], ['\"The Presidents doesn\\'t seem to know all that much about birth control\".<br/> I only wish that his mother had.', False, 7, 25782902.0, '5a725f2410f40f00018bed89', 226.0], ['In the picture dictionary, there is a photo of the orange-face, withered paradigm of hypocrisy with the Cheshire Cat grin. The question is whether he’s listed under hypocrite or corruption.', False, 7, 25786411.0, '5a725f2410f40f00018bed89', 226.0], ['If I had the opportunity to publicly ask President Trump a question, I\\'d ask, Mr. President, have you ever, at any time, paid for a woman\\'s abortion?\"', False, 7, 25783394.0, '5a725f2410f40f00018bed89', 226.0], [\"Now, perhaps, can we get an explanation for how Mr Pence, who is so against birth control, only has three children?  I calculated that he ought to have at least six kids, unless he's not telling us the something....  \", False, 7, 25785120.0, '5a725f2410f40f00018bed89', 226.0], ['The GOP position is and always has been:  life begins at conception and ends at birth.', False, 7, 25786216.0, '5a725f2410f40f00018bed89', 226.0], ['I think it\\'s pretty clear that Trump family birth control failures had nothing to do with birth control and everything to do with a disagreement between partners about their desire for children.  The wives wanted them, Trump didn\\'t want his girl-toys sullied by pregnancy and subsequent adult responsibilities.  Does Trump seem like a guy who wants to share the attentions of his woman?  Trump enjoys porn stars, prostitutes, etc. because it\\'s \"no strings attached\" carnality.  What\\'s a wife to do?  Birth control \"failures\".  How are all those Trump loving \"Christians\" able to square Trump\\'s disgusting example of betrayal and unbridled lust with their so-called values.  <br/><br/>As usual, lacking all understanding of the issues related to family planning domestically and internationally, he seeks to undermine the programs he doesn\\'t grasp.  If his base doesn\\'t like something he\\'ll get rid of it.  Anything to keep the rallies rolling.  ', False, 7, 25786100.0, '5a725f2410f40f00018bed89', 226.0], ['I wonder how many of these \"pro-life\" bible-thumping hypocrites and/or congressmen have adopted unwanted or seriously handicapped children into their homes?  Raise your hands please. Hmmmm. I thought so.', False, 7, 25786305.0, '5a725f2410f40f00018bed89', 226.0], ['Thank  you, Gail this all makes perfect sense: A black US President cannot be a Muslim, but a white US President can pay hush money to his lover during his campaign.                                                                                                                                   <br/><br/>Now we know why Trump did not want to release his taxes; he probably claimed Ms. Stormy as an entertainment expense. ', False, 7, 25784119.0, '5a725f2410f40f00018bed89', 226.0], ['Where do we even start? We have people who believe that available birth control is the reason that people have loose sexual morals, and want to assure that women are the ones held responsible for reducing sexual encounters by putting them in peril or pregnancy by making safe and effective birth control harder to get. <br/><br/>So they elect a libertine as their front man. <br/><br/>Then they sit back and excoriate people - mostly women, mostly single women - who have  children and cannot afford day care or healthcare or rent, for having had more children than they can afford. It\\'s the old \"you made your bed now lie on it.\"  Children as moral punishment... that\\'ll serve society well. <br/><br/>Birth control is probably the easiest conversation we can have. Help fund the tools to give women agency over their lives, to help them plan their lives, at a low cost to the national coffers. <br/><br/>People who think that God wants to punish women (and not men, never men) for their sexual drive have a very limited and unforgiving God. They will never rethink that they have misinterpreted their supreme being. Maybe we can finally shake loose and let them interpret His nature privately, while we publicly do what is sensible for the nation.', False, 7, 25784851.0, '5a725f2410f40f00018bed89', 226.0], [\"And yet .. women voted for this horror. If I live to be a hundred, I'll never get it. \", False, 7, 25785311.0, '5a725f2410f40f00018bed89', 226.0], ['\"Torpedoing critical programs that help women to avoid unwanted pregnancy in the first place\" will obviously increase the abortion rate. This is the kind of thing that proves that these people don\\'t actually care about decreasing abortion. It\\'s hard to understand just what they believe, unless it\\'s just that women should just shut up and put out.', False, 7, 25785371.0, '5a725f2410f40f00018bed89', 226.0], [\"This braggart in his State of the Union show said that his Administration had gotten rid of more burdensome federal regulations than any President in history.<br/><br/>Yet he is enthusiastically okay with the government and Congress going after women, particularly the right of women to control their bodies (from among others, predators like Trump himself). As Gail's column today proves, when it comes to sexual encounters, our President gets a teflon-coated mulligan every time he needs one.\", False, 7, 25785417.0, '5a725f2410f40f00018bed89', 226.0], ['NDAs - non disclosure agreements should be made broadly illegal. Exceptions for patents and technical specifications are obvious.<br/>Also obvious is that any and all illegal activity cannot be protected by cloak of such an agreement. Immoral activity may fall into a grey area that better legal minds can flesh out. ', False, 7, 25782758.0, '5a725f2410f40f00018bed89', 226.0], ['If Obama had paid Stormy Daniels $130,000, would you be complaining about the Times’s coverage? ', False, 7, 25790085.0, '5a725f2410f40f00018bed89', 226.0], ['@Midway: Antonin Scalia once said on 60 Minutes that he and his wife had a large family because they played \"Vatican roulette.\" In other words, they used the rhythm method and it failed. I wonder how his kids feel about that.', False, 7, 25787952.0, '5a725f2410f40f00018bed89', 226.0], ['Yep, she collected her first downpayment, then she carefully chose her moment to call in the rest. DT could learn a thing or two from her on \"negotiating.\"', False, 7, 25784839.0, '5a725f2410f40f00018bed89', 226.0], ['The more Trump denies a trait, the more likely it is that he exemplifies that trait.<br/>\"I am the least racist person ever!\" - Translation:  He\\'s an unabashed racist.', False, 7, 25783348.0, '5a725f2410f40f00018bed89', 226.0], ['There are, sadly, always women who will go for the money.  It is not the least unusual to see a very young woman with and older extremely unattractive man.  While it is always possible that the man is a fascinating intellectual, I tend to doubt that it is anything other than the thickness of his wallet that is the attraction.  ', False, 7, 25783108.0, '5a725f2410f40f00018bed89', 226.0], [\"@Anthony: He doesn't care.<br/><br/>That's why it's so easy for Republican politicians (including Mitt Romney) to completely change their position on abortion. For them, it's an issue of no consequence. So they give the right-wing extremists what they want in exchange for votes.\", False, 7, 25784422.0, '5a725f2410f40f00018bed89', 226.0], [\"that's what he wants. more for him and his rich buddies\", False, 7, 25785469.0, '5a725f2410f40f00018bed89', 226.0], ['It seems the the people Trump says he \"loves\" the most and says are the \"greatest\" people are the ones that are evidence of those he really hates the most. Projection.', False, 7, 25786412.0, '5a725f2410f40f00018bed89', 226.0], ['Dear Gail, Anyone who tries to sort out \"The Donald\\'s\" sexual behavior, might as well jump into a bag full of cats. To deny women the right to obtain: advise, treatment and assistance at their choice is not just cruel and stupid, it goes against any moral,medical and ethical standard I know of. By the way I have nothing against cats. If I could, I would throw \"The Donald\" into a large vat of cats and see who comes out a loser. RAW', False, 6, 25790513.0, '5a725f2410f40f00018bed89', 253.5], [\"If only Trump's parents had practiced the ancient art of birth control.\", False, 6, 25785876.0, '5a725f2410f40f00018bed89', 253.5], [\"I have always wondered why rightist men want women to be anxious about having sex.<br/>Makes no sense to me but then again I like and respect women.<br/>I wonder why rightists don't.\", False, 6, 25786348.0, '5a725f2410f40f00018bed89', 253.5], ['Health insurance should be required to pay for any type of birth control or abortion that the woman wants--because she\\'s paying for it and because every woman incurs absolute, unlimited physical liability for pregnancy and childbirth, up to permanent mutilation and death, every time she has sex with a man or a man uses her for sex. <br/><br/>The responsibility for preventing unwanted pregnancies is thus entirely that of men, whose penii do not jump into women. If they are opposed to either birth control or abortion, they should simply never have any sort of sex, except with themselves or other men. (This includes heterosexual porn.) <br/><br/>If women are opposed to abortion or birth control, they need not avail themselves of them.<br/><br/>But the liberty and dignity of an individual woman is not up for other people to \"debate.\" ', False, 6, 25783881.0, '5a725f2410f40f00018bed89', 253.5], [\"OK, Ms Daniels got 130k in 'hush' money and good for her. My question is, how much she was paid for the actual encounter. What with Mr. Trump being a would-be-stud in his own mind and Ms. Daniels having a well established field to play.<br/>Just asking...\", False, 6, 25782651.0, '5a725f2410f40f00018bed89', 253.5], [\"And it's time to play the Republicans' favorite hit game show.  Ladies and gentlemen, <br/><br/>           WHAT IF THIS WAS OBAMA?\", False, 6, 25782559.0, '5a725f2410f40f00018bed89', 253.5], ['The Republican Congress.  The first time in US history that a train wreck has had a train wreck.  <br/><br/>Should we thus say that this administration is a train wreck squared?<br/><br/>Just asking.', False, 6, 25786028.0, '5a725f2410f40f00018bed89', 253.5], [\"If course he doesn't know anything about both control- he expects the woman to take care of all that . And children? They may as well be sharks.\", False, 6, 25784952.0, '5a725f2410f40f00018bed89', 253.5], [\"Trump's birth control problems started with his parents: they didn't use any.\", False, 6, 25785176.0, '5a725f2410f40f00018bed89', 253.5], [\"The rule, otherwise known as the Mexico City policy, requires NGOs to certify that they will not perform or promote abortions anywhere in the world as a condition for receiving US family planning funds. Every Republican president since 1985 has implemented it. If I'm not mistaken this often includes any family planning at all.<br/><br/>By 2060, the population of sub-Sahara Africa could be as large as 2.7 billion people. Compare this demographic shift to Europe's projection of a declining population—from 738 million people in 2010 to 702 million in 2060. ... Until recently, on average a woman in sub-Sahara Africa had 6.5 children over her lifetime.<br/><br/>Know what this means? Starvation, mass migration, and worse.\", False, 6, 25785746.0, '5a725f2410f40f00018bed89', 253.5], ['\"...a former playboy, our president doesn’t seem to know all that much about birth control.\"<br/><br/>Don\\'t you understand, Ms. Collins? Playboys and \"real men\" don\\'t worry about birth control. That\\'s the woman\\'s problem. Everything is \"her problem\" once the guy gets the momentary event around which his life is oriented. These attitudes did not die out in the 1950s nor with the passing the of patron saint of endlessly coupling men, Hugh Hefner. They persist. As long as some men can get away with it, they live on and on.<br/><br/>As for the larger social issue, the irony is that the same people who oppose all abortions also oppose most forms of birth control. Duh? One, birth control, helps to prevent what they say they detest, abortion.<br/><br/>At base, the anti-abortion movement is motivated by a desire to repress human sexuality (thus, abstinence!). The goal is to re-attach consequences to something we humans find so engrossing and to, at long last, make people behave. That human history has shown this to be a  hopeless task is no discouragement because it means the battle can be carrying on and on, never ending.', False, 6, 25785712.0, '5a725f2410f40f00018bed89', 253.5], [\"Trump's 'conversion' to anti-birth control smells like fish.  Or more accurately, a combination of old age and Mike Pence.<br/><br/>Pence avoids the unwanted pregnancy problem by making sure there's a chaperone when he's around a woman he's not married to.  Trump historically made any lurking chaperone to wait outside and guard the door, but face it.  The guy is in his 70's, is in awful physical shape, and there's ample evidence he's found new activities to amuse himself in his midnight hours.<br/><br/>What this boils down to is that dried up old men supported  by crowds of other dried up old men are the wrong people to be considering women's reproductive rights.  Especially when they have lots of money and have never lived the hand-to-mouth life of an ordinary working American. \", False, 6, 25785084.0, '5a725f2410f40f00018bed89', 253.5], ['As that famous statement made in the Watergate movie, follow the money\", where did the $130,000 come from?  So it applies here.  Campaign funds?  And how was the figure of $130,000 decided?  There is more here if a curious reporter wanted to ask the questions.  Unfortunately, for many more important reasons, there are more serious issues that need reporting.', False, 6, 25786068.0, '5a725f2410f40f00018bed89', 253.5], ['Report on \"Preventivmedel\" I make no comparisons, simply report that after reading Gail\\'s column I typed 1177.se and was instantly at a national website where I can find medical information in Swedish and sometimes other languages.<br/><br/>I typed \"preventivmedel\" (means of preventing pregnancy).<br/><br/>All females 21 years of age or younger can obtain advice and a variety of methods for preventing pregnancy - FREE. In some areas even up to age 25. That is to say if you are female in Sweden.<br/><br/>All the information at this website is also available in one other language, Thai. If you wonder why, I think I can explain in a reply.<br/><br/><a href=\"http://Only-NeverInSweden.blogspot.com\" title=\"Only-NeverInSweden.blogspot.com\" target=\"_blank\">Only-NeverInSweden.blogspot.com</a><br/>Dual citizen US Se', False, 6, 25784103.0, '5a725f2410f40f00018bed89', 253.5], [\"It's man's responsibility, too; it's a woman's final say because HELLO it's her body.\", False, 6, 25795755.0, '5a725f2410f40f00018bed89', 253.5], ['Menstruation envy.', False, 6, 25791240.0, '5a725f2410f40f00018bed89', 253.5], [\"In fairness, you're right: it's also because of wacko religious fanaticism on the Right.\", False, 6, 25790235.0, '5a725f2410f40f00018bed89', 253.5], ['Are you confusing an \"Opinion\" piece with reporting the news?  There is a huge difference, you know?  Or don\\'t you know?', False, 6, 25788530.0, '5a725f2410f40f00018bed89', 253.5], [\"Oh Rich, don't be such a bad sport.  Women have just as much right to be disgusting and revolting as men do.  It's called equality.\", False, 6, 25789709.0, '5a725f2410f40f00018bed89', 253.5], ['Is there a way to move this to the top of the comments? This says it all - ', False, 6, 25787822.0, '5a725f2410f40f00018bed89', 253.5], ['\"And none of this would have happened if Democrats hadn\\'t removed abortion from democratic control.\"<br/><br/>Oh. I see.<br/><br/>I didn\\'t realize that civil rights and health care were under \"democratic control.\" I thought they were part of those unalienable rights . . . . ', False, 6, 25786260.0, '5a725f2410f40f00018bed89', 253.5], [\"@John Grillo: I had the same thought.<br/><br/>Some infectious disease specialists have suggested that Trump's obvious cognitive deterioration over the years could be the result of undiagnosed brain syphilis. Just saying.\", False, 6, 25784431.0, '5a725f2410f40f00018bed89', 253.5], ['\"Too bad she didn\\'t save her dress.\"  Haha, that\\'s a good one, Craig. I suspect that Stormy, once it was over, vigorously scrubbed off every last trace of Trump from herself and her clothing that she could.  I know I would.', False, 6, 25783734.0, '5a725f2410f40f00018bed89', 253.5], [\"Terri, I think you misunderstood.  The statement means that some women can't resist very wealthy men.  Nowhere does it suggest that women shouldn't make as much money as possible in their careers.\", False, 6, 25792760.0, '5a725f2410f40f00018bed89', 253.5], [\"Some benefactor needs to make it worthwhile for Stormy to come forward with details, then let's see what Teflon Trump does.  What a great example for Barron.\", False, 5, 25794739.0, '5a725f2410f40f00018bed89', 277.5], [\"While this article exposes some strange inconvenient truths, it may be unnecessarily hurtful to Trump's children.  None of them was wanted, at least by their father.  Wow!\", False, 5, 25794136.0, '5a725f2410f40f00018bed89', 277.5], ['There comes a moment when decent people go do something else rather than watch humiliation and degradation.<br/><br/>But then reality TV is all about exactly that ... it\\'s the reason people watch it.  A working definition of \"deplorable\" might well be \"do you watch reality TV?\" <br/><br/>And so there\\'s a beautiful but louche schadenfreude in Stormy\\'s 15 minutes of fame.  <br/><br/>\"Hey Donnie, I saw Stormy on TV last night (wink wink).  Was it good, man?  How\\'s things with Melania these days?\"', False, 5, 25792326.0, '5a725f2410f40f00018bed89', 277.5], [\"With Stormy Daniels in the front end of this piece I became instantly nauseated. What new low have we reached?. This must be it...but...can we go lower? How? To fully appreciated the depravity of this whole discussion just consider her body of work. The add in Trump's. We are in uncharted waters for sure.  \", False, 5, 25792625.0, '5a725f2410f40f00018bed89', 277.5], ['Donald Trump clearly lacks common sense. Every man knows that when you have sex outside of marriage, especially with a woman you do not know, use a condom. <br/><br/>Or at least, all men who respect women have this common sense.', False, 5, 25783106.0, '5a725f2410f40f00018bed89', 277.5], [\"So, tell us more about Valerie Huber.  Does she have more children that the Duggars?  Does her husband think sex is dirty or only for procreation and they already have enough children?  Or is she in a same sex relationship where birth control doesn't matter?  Or is she never married wearing sexy clothes with a big cross like Ann Coulter and Laura Ingraham while pretending to be oh so pure?\", False, 5, 25783053.0, '5a725f2410f40f00018bed89', 277.5], [\"Gail, I'm glad this came after we watched fake-president speak last night because the image of him without clothes is disgusting. Yuck!\", False, 5, 25783446.0, '5a725f2410f40f00018bed89', 277.5], ['Dear women,<br/>What did you do to republican men to have them treat you with such blatant disrespect?', False, 5, 25786572.0, '5a725f2410f40f00018bed89', 277.5], ['Huber is a long time advocate of \"sexual abstinence\"? Oh, Ms Collins, this is rich! The Philanderer-in-Chief, who impregnated one wife out of wed-lock and has had how-many affairs while married to all three wives, appointed this broad? And let\\'s see...Trump has had 5 kids, does not like using condoms, but clearly enjoys sex with good looking, bosomy, women. <br/><br/>This would make for wonderful tabloid entertainment if it were just Trump who was affected. The sad truth is that, as with everything in his orbit of exploitation, he is getting off Scott-free, and you, me, our daughters, nieces, and friends are the ones who have to worry and fret on how to feed another mouth. So this \"Christian, St Donald\" is saying, \"In your face. No abortion for you. No contraceptive pills either. You can\\'t afford more kids? Tough luck, I can.\"', False, 5, 25782763.0, '5a725f2410f40f00018bed89', 277.5], ['Gail Collins: Why call him \"a former playboy\"? Do we know for sure that his playboy days are behind him?  Just saying....', False, 5, 25782649.0, '5a725f2410f40f00018bed89', 277.5], [\"Our president doesn't know much about anything...this administration is not only governance by minority, it's presidency by committee...\", False, 5, 25784711.0, '5a725f2410f40f00018bed89', 277.5], ['The fact that more Trumpanzees might be conceived and brought into the world is horrifying!', False, 5, 25786791.0, '5a725f2410f40f00018bed89', 277.5], ['It is oddly comforting to note that the publicly macho Donald has to privately pay for sex.<br/><br/>The Failing Trump experiment is a fraud in so many ways.', False, 5, 25783405.0, '5a725f2410f40f00018bed89', 277.5], [\"Birth control we need more of. But for some reason, the blood in the brains of those about to copulate rushes to the genitals and unprotected sex happens once again. <br/><br/>This isn't necessarily a problem if a child is born and loved and raised. Sadly,however,over a million humankind are destroyed every year by a mother whose privacy has been invaded decides she doesn't want the baby in her womb<br/><br/>For those who think the human fetus isn't human, go back and read your Biology textbook again. Tell us all when that pivotal moment of of humanity happens and the fetus has a right to life.<br/><br/>Birth control makes great sense.....BEFORE the fetus is conceived. \", False, 5, 25786273.0, '5a725f2410f40f00018bed89', 277.5], ['Once again, Gail has given me a phrase I\\'ll cherish to my last breath.  (I still love her \"sub-verbal\" from back in the Palin-and-Family days.)  Today, it\\'s \"went out of his way to be incoherent.\"<br/><br/>Actually putting an effort into it; testing every word before uttering; watching your audience for signs of understanding; rapid-fire editing and lightning-speed comma and/or slash insertion.  Reaching for the heights of incoherence.<br/><br/>Thanks, Gail.', False, 5, 25786005.0, '5a725f2410f40f00018bed89', 277.5], ['Being pregnant can kill you.  The US has the highest maternal mortality rate of any developed nation, and rising now that so many rural hospitals have closed due to lack of funding.  This is intolerable.', False, 5, 25785114.0, '5a725f2410f40f00018bed89', 277.5], ['Question. If Stormy violates the hush money agreement will Trump take her to court and demand his money back plus money for pain and suffering ?', False, 5, 25786300.0, '5a725f2410f40f00018bed89', 277.5], [\"The administration's other contraception problem? How about reducing the budget for family planning assistance in foreign countries down to zero? These are countries with huge unmet contraception needs where the miserable lives of women is one of being constantly pregnant or nursing --<br/> unless they die in childbirth, which is common. These are countries whose populations are doubling every 20-30 years and which are destabilizing before our very eyes from the combination of population explosion, exhausted natural resources, and climate change. But yeah, who needs family planning?\", False, 5, 25785105.0, '5a725f2410f40f00018bed89', 277.5], ['Were you old enough to read when Bill Clinton was president?  The NYT reported on the Lewinsky scandal and all the tawdry details nearly daily for months on end, as did plenty of other papers and news shows.  Remember Gary Hart?  John Edwards??  Both got tons of coverage, as have many others. This is a man thing, not a political party thing. ', False, 5, 25788631.0, '5a725f2410f40f00018bed89', 277.5], ['Going with prostitutes is not about joyful sex, it is about power.  <br/><br/>Ms. Daniels revealed as much when she called her experience with Trump as \"textbook generic sex\". Another way of saying pathetic. ', False, 5, 25790973.0, '5a725f2410f40f00018bed89', 277.5], ['Charlesbalpha,<br/><br/>Why should abortion even be a political issue?  Surely it should be between a woman and her doctor and the father who is involved.  Why should the government be involved?  I thought Republicans believed in a minimal government that did not intrude into private lives of its citizens.  <br/><br/>Or is it all about control?', False, 5, 25786189.0, '5a725f2410f40f00018bed89', 277.5], ['Best comment of the day.', False, 5, 25784504.0, '5a725f2410f40f00018bed89', 277.5], [\"I'm surprised that no one has yet come forward saying that Trump got her pregnant and paid for her abortion. I have a hunch that that must have happened at some point in this unfaithful, sexist, promiscuous, hypocritical, selfish man's life.\", False, 5, 25782970.0, '5a725f2410f40f00018bed89', 277.5], ['Somebody out there, perhaps more than one, could confess to aborting his kid. Remember, when asked if this had ever happened, his response: \"That\\'s an interesting question. What\\'s your next question?\"', False, 5, 25783256.0, '5a725f2410f40f00018bed89', 277.5], ['As a pro life woman, I have every right to protest abortion which is part of my freedom of speech and freedom of expression.  You may not agree with my actions, but as long as it is done in a peaceful and civil manner it is allowed.  It is guaranteed under the constitution of the United States.', False, 4, 25796484.0, '5a725f2410f40f00018bed89', 311.5], [\"It is possible that Trump's choice is very likely his age. As the body slows down so does the sexual reaction sometimes to nothing. So he may be a angry that his time has come and it's much slower to for him these days and from now on. with a pill it works just fine but since he is against contraception he would never take a pill. It's not natural. And everything about him is so natural - from his orange hair to fake sincere whispering voice during his speeches. \", False, 4, 25794430.0, '5a725f2410f40f00018bed89', 311.5], ['“Who said I’m pro-choice?” he once demanded, perhaps forgetting it was him, in one of his books.)<br/><br/>Why not say which book has that claim?<br/><br/>Imagine how convincing you’d be telling a trump supporter that you know he was once claimed to be pro choice in one of his books “because NYT columnist Gail Collins said so.<br/><br/>This is not a trivial matter. I enjoy Gail’s humorous analyses of events, but she seems to think we should trust her and Times editors completely. That’s the only conclusion I can draw when she won’t even provide a book’s title, and rarely provides links about the obscure anecdotes she relates so we can verify the information or learn more about it.', False, 4, 25792433.0, '5a725f2410f40f00018bed89', 311.5], [\"Please stop posting photos of this woman's body.  Not going to asset to the claim that all work is good work for women.   Very sad that this is her venue for self advancement.  Please, someone have that talk with this woman. #hertoo\", False, 4, 25785563.0, '5a725f2410f40f00018bed89', 311.5], ['$139k for a one night stand?<br/>She must have charged extra for the \"No Condom Option\".', False, 4, 25786420.0, '5a725f2410f40f00018bed89', 311.5], ['oh my that pic of Stormy D. is so classy.', False, 4, 25782753.0, '5a725f2410f40f00018bed89', 311.5], ['The one night stand - \"boring\"?<br/><br/>I heard he whispered dirty things to her in Russian!', False, 4, 25783367.0, '5a725f2410f40f00018bed89', 311.5], [\"Sex? Donald Trump? Gag. Your column covers the important topic of women's reproductive rights being curtailed, but the lead-in made me ill.\", False, 4, 25784694.0, '5a725f2410f40f00018bed89', 311.5], ['\" we’ll have to spend a minute discussing the president’s sex life, and Stormy Daniels, the porn star.\"<br/><br/>How about spending a minute instead PROMOTING contraception?<br/><br/>Contraceptives should be freely supplied to everyone over 18. <br/><br/>THAT is more important than hauling Trump over the coals.  Especially since \"reportedly was paid hush money\" is not actually a fact but merely a plausible conjecture.  Plausible?  Yes.  Known?  No.<br/><br/>Trump is not important. Contraception is.', False, 4, 25785426.0, '5a725f2410f40f00018bed89', 311.5], [\"Please, I'm eating dinner...\", False, 4, 25782468.0, '5a725f2410f40f00018bed89', 311.5], ['I like Chelsea Handler’s theory about Trump. He has syphilis and that’s why he acts insane. It’s looking like an even more solid possibility, given that he isn’t using condoms and is sleeping around....', False, 4, 25784120.0, '5a725f2410f40f00018bed89', 311.5], ['Trump is obviously an atheist pretending to be a Christian just so he can get the Evangelical vote. The Evangelicals have lost all moral authority, however, and their undying support of Trump is quite disgusting. Patriarchy has Christians by the throat, and it is obvious that all they care about is keeping women in their place and men in charge. Please vote against all candidates who do not want to allow women to make their own health decisions.', False, 4, 25785239.0, '5a725f2410f40f00018bed89', 311.5], ['Sounds like Stormy Daniels is a shoo-in to be Times Person of the Year for 2018', False, 4, 25784420.0, '5a725f2410f40f00018bed89', 311.5], [\"Okay.  I get it.  Stormy can't talk because of the stipulations she agreed to in the $130K settlement.  Probably a big financial penalty attached.  But, wait!  What if we crowdfunded her to pay the penalty?  Chances are really good (I mean 60+ million voters good!) that she get way more $$$ than what the penalty would cost. Just sayin'.\", False, 4, 25786313.0, '5a725f2410f40f00018bed89', 311.5], ['The Washington Post is rerunnning \"classical\" Doonesbury. This week is from 1990 and features Donald Trump and Marla Maples. Check out these remarkably prescient cartoons <a href=\"http://doonesbury.washingtonpost.com/\" title=\"http://doonesbury.washingtonpost.com/\" target=\"_blank\">http://doonesbury.washingtonpost.com/</a>', False, 4, 25784881.0, '5a725f2410f40f00018bed89', 311.5], [\"If Trump's dalliance with Daniels had resulted in another Trump child, the Evangelicals would have probably supported him anyway by saying he is pro life!\", False, 4, 25782959.0, '5a725f2410f40f00018bed89', 311.5], ['Trump reminds me of the song, What I would do for love.He is the epitome of a hypocrite,as are the Evangelicals that support him. The master groper isn’t fooling anyone. The entire world knows where those little hands have been, but a vote is a vote. ', False, 4, 25786409.0, '5a725f2410f40f00018bed89', 311.5], ['Curious that so many \"America First\" people sound like English is their second language and they haven\\'t quite conquered it. ', False, 4, 25785632.0, '5a725f2410f40f00018bed89', 311.5], [\"Yes birth control is a sin because we need more white babies in this country so the population doesn't become more black and brown.  C'mon women,  hit the sack.  It's your patriotic duty.   Forget about your career and your ability to afford another child.  Forget about the fact you won't be able to afford health care for that child.  Forget about the fact you won't be able to afford college for that child.  Ignore the fact that children born to poor Americans and poor women across the globe will not get enough to eat, have a poor education, and be more likely to turn to drugs and crime. And you will get woefully inadequate prenatal care Your country is calling.  Better do it now before those tax cuts expire and your man's job is eliminated by automation.  Who knew that sex was such a higher calling?  \", False, 4, 25784645.0, '5a725f2410f40f00018bed89', 311.5], [\"I'd put money on the fact that, sooner or later, a woman or many will come forward who had abortions paid for by ex-future-daddy Donald J. Trump. In his long and busy playboy life, he has undoubtedly funded an abortion for at least one girlfriend, and maybe for a wife or two. \", False, 4, 25782386.0, '5a725f2410f40f00018bed89', 311.5], ['\"Because of the flood of donations to pro-shark charities\"<br/><br/>lol. I want to send a donation!', False, 4, 25784569.0, '5a725f2410f40f00018bed89', 311.5], [\"Hard to know where to begin:   The republicans hate the thought of lots of brown and black people running around and, possibly, voting.  So why would they support a system in which the access to birth control depends on financial means.  Don't they understand that this will lead to lots of kids of all colors running around.  And since having kids for a large segment of the population will be not a matter of choice but a result of unaffordable birth control, are the republicans OK with allowing these kids to be malnourished and uneducated?  Where is that in the evangelical bible? At a minimum, they will have to double down on voter suppression efforts which they are clearly willing to do.  But as this country descends into banana republicanism, they might consider the humane alternative:  making birth control affordable and acceptable so that all children  are wanted and loved.  I know, I know, a foreign concept but one worth striving for.\", False, 4, 25786500.0, '5a725f2410f40f00018bed89', 311.5], ['There is another explanation for those Trump pregnancies Gail. He is the healthiest, strongest person ever so no birth control is a match for his nuclear button.', False, 4, 25783186.0, '5a725f2410f40f00018bed89', 311.5], ['Marla and Ivana:  What!  She got $130,000 for one night?!  We needed better lawyers.', False, 4, 25782673.0, '5a725f2410f40f00018bed89', 311.5], ['Well, in 2002 I was on the same honorary committee with him in support of the UN Population Fund which he obviously supported then but now has defunded.  And all UNFPA does is make sure mothers around the world survive childbirth and have access to family planning NOT ABORTION!  Please look up <a href=\"http://www.34millionfriends.org\" title=\"www.34millionfriends.org\" target=\"_blank\">www.34millionfriends.org</a> of UNFPA and take a stand. We started in 2002 when Bush defunded and we\\'re still going. You can take a stand for the women of the world. ', False, 4, 25783356.0, '5a725f2410f40f00018bed89', 311.5], ['Actually, I don\\'t think Trump cares one way or the other about birth control. His current position is just a sop to evangelicals and whomever else he counts as his \"base.\" It is cynical and calculated. But then, so is everything else he does. We certainly have learned not to believe anything Trump says he espouses. ', False, 4, 25782497.0, '5a725f2410f40f00018bed89', 311.5], ['Americans\\' hallowed history of sexual puritanism (the other side of the sexual guilt and obsession coin) has kept our policies on sexual health trapped in those moral dark ages. Every conversation about reproductive health care is twisted away from health to sexual behavior and from sexual behavior to guilt, shame, and Christian redemption if possible - most often by politicians who know little or nothing about sexual health and far too much about guilt and redemption.  Now, our national reproductive health program has been kidnapped by these medieval moralists, tied to the same stake as access to safe and legal abortion. We have to call it as it is: \"We have a right to high quality health care, including sexual health care, without religious interference.\" The bishops and all of their ilk can limit themselves to persuasion and keep their regulations and phony \"religious freedom\" for themselves. ', False, 4, 25785217.0, '5a725f2410f40f00018bed89', 311.5], ['There was a dramatic drop in abortion rates in the US under Obama.  The pro-life movement claims it has been because of closing abortion clinics and passing laws to make getting abortion harder.  The pro-choice says that the drop in abortion rates were due to greater access to birth control and reproductive health.<br/><br/>Trump is giving us a chance to test these claims.  If the abortion rate continues to go down, then maybe the pro-life people are right.  If it goes back up again, then they are probably wrong.  Interesting.  I will be waiting for the result with interest.', False, 4, 25783694.0, '5a725f2410f40f00018bed89', 311.5], ['Its also a way to get women out of the workforce and to silence them. They not only are \"taking\" worthy  \"mens\" jobs they are also now getting \"uppity because they are not so depend on others )men and husbands) for their financial well being. This is a common blue collar red state white male view as they have or are losing their \"head of household\" status as they lose their blue collar uneducated predominately white male only high paying coal mining, steel, oil rigging, etc jobs and it is increasingly the woman\\'s income that is supporting the household. This is something Trump is 100% capitalizing on and inflaming. Its no surprise hating Hillary Clinton is such an easily manipulation by so many on the right. ', False, 4, 25787062.0, '5a725f2410f40f00018bed89', 311.5], [\"I agree. Trump doesn't seem to have any core values except self-promotion and aggrandizement.  His most lasting policies seem to be bullying and lying.\", False, 4, 25788286.0, '5a725f2410f40f00018bed89', 311.5], ['G.W. Bush should come out of his painting studio and speak up, directly to Trump, about HIV/AIDS care and prevention, because Bush, and his daughters, have touted his administrations action on AIDS as one of the major accomplishments of his administration. Bush should move to protect his legacy from the wreckage being wrought by Trump and the Trumpsters. Or, has he gone completely into hibernation?', False, 4, 25785452.0, '5a725f2410f40f00018bed89', 311.5], ['What a great idea! Have all of the dozen or so women who claim Trump violated be accompanied by children (maybe adult children) all shouting out at the SOTU address, \"There\\'s daddy!\"', False, 4, 25788906.0, '5a725f2410f40f00018bed89', 311.5], ['Why? It doesn’t seem to make any difference to those who voted for him. I’d wager that some of those deplorables are quite impressed with Donald’s “coup”.<br/><br/>Note: Could we all just stop with the terms “porn star” and “adult films”? This woman is employed (by men, I’d wager) to engage in sexual activity that is some men’s weird fantasy of the ideal sexual encounter with a woman. You needn’t be a prude to find it twisted. She is not a “star” and there is nothing “adult” about any of it.', False, 4, 25787579.0, '5a725f2410f40f00018bed89', 311.5], ['Ivanka issues, according to Ms. Stormy.', False, 4, 25785954.0, '5a725f2410f40f00018bed89', 311.5], ['I might have to poke out my mind’s eye. ', False, 4, 25782521.0, '5a725f2410f40f00018bed89', 311.5], ['And we used to complain about Seamus....', False, 4, 25783036.0, '5a725f2410f40f00018bed89', 311.5], ['You do have the franchise now, which you should consider exercising in November. ', False, 4, 25783127.0, '5a725f2410f40f00018bed89', 311.5], ['Burt Chabot wrote : \"Who knew sex was so complicated!\".<br/>as anyone who\\'s 1/2 intact and has not practiced \" sexual risk avoidance\" knows that actually, sex is not complicated at all. just go out in nature and observe the sexual practices of primates &amp; other creatures and you\\'ll be reminded of how au natural sex really is. but when it comes to politicians ( not only American), sex remains an enigma. as something they can\\'t seem to manage, make peace with or simply practice it as most intact creatures do. normally, like any other basic need.<br/>it seems that the reason for that is socio- cultural. but that\\'s waay beyond Gail\\'s<br/>original intentions in writing this briliant piece. JFK, Clinton, and other presidents had their sexual liaisones,( that those we got to know about). the present concern however, is, that with trump, the sexual dysfunctions ( yes, with the S at the end) are only a small part of his fulminating pathologies. the REAL concern is, that now that Muller is on his way to relieve us from him, the Republicans are ready to sacrifice pressing national security issues on the alter of saving trump.<br/>THAT - IS THE REAL CONCERN.', False, 4, 25784030.0, '5a725f2410f40f00018bed89', 311.5], ['“As democracy is perfected, the office of president represents, more and more closely, the inner soul of the people. On some great and glorious day the plain folks of the land will reach their hearts desire at last and the White House will be adorned by a downright moron.”—Henry Louis Mencken (1920)', False, 4, 25782729.0, '5a725f2410f40f00018bed89', 311.5], ['There has never been any indication that Trump has any characteristics of a savant.  Please. ', False, 4, 25784960.0, '5a725f2410f40f00018bed89', 311.5], ['I wish I could give this 100 recommends. I suspect Trump becomes a \"germaphobe\" when it is convenient.', False, 4, 25783390.0, '5a725f2410f40f00018bed89', 311.5], [\"I'm not sure about that. Dotard seems averse to children. He has said that he didn't bond with his father, or he with his older sons until they apprenticed in the family business. \", False, 4, 25782774.0, '5a725f2410f40f00018bed89', 311.5], ['\"Deplorable\" also remains apt.qq', False, 4, 25785360.0, '5a725f2410f40f00018bed89', 311.5], ['Only himself, only himself.', False, 4, 25783512.0, '5a725f2410f40f00018bed89', 311.5], ['I feel like what no one\\'s bringing up about the Stormy Daniels scandal, as with every one involving a person of power in a relationship with an adult entertainer, is the way our society still treats as taboo the nearly $100 billion industry of pornography. Even the usage of Daniels\\' name in reporting is always weighted with \"porn star\" or \"comma the porn star.\" Not adult film star, not pornographic actress, but porn star.<br/><br/>Putting aside Daniels\\' gross late-night and tabloid cash-in on Trump (Billy Bush is the charlatan Highlander) and the Christian right\\'s rapturous hypocrisy toward all things DJT, would the sitting American president engaging in an extramarital affair have the same clout if I couldn\\'t easily call up compromising photographs and videos of the woman in question? (Marilyn Monroe is Mother Teresa in comparison.)<br/><br/>Society allows certain men to enact unlimited fantasies of wealth and dominance, but the unspoken intimacy of embedding oneself into the (now digital) daydream of their teenage unmentionables seems to remain the final frontier of Western repute.', False, 3, 25796522.0, '5a725f2410f40f00018bed89', 357.0], [\"In the times of sexual Mac Carthysm  the US is living, President Trump is almost needed, just to remind you, my American friends who have elected him, that lust is why we are all here.<br/>No lust, no life!  Sorry, we ain't no unicellulars....\", False, 3, 25792349.0, '5a725f2410f40f00018bed89', 357.0], [\"Perhaps it would be best to view Stormy as a sort of gravitational field about which all other issues orbit.     One could, after all, guage any position Mitt Romney ever took by assessing it's relationship to Seamus' epic journey.   Stormy could well be a kind of weather vane for how the economy might turn, how women can find respect and potential for advancement in the workplace, and how immigrants from nations full of blonde people can find rewarding, lucrative careers in the land of the free.   Ms. Collins, you've opened a window onto the Donald's soul.       \", False, 3, 25791644.0, '5a725f2410f40f00018bed89', 357.0], [\"One should watch more porn!<br/><br/>Jesting aside, the irony is that the holier-than-thou Republican reactionaries tend to have greater aversion to people's liberty except their own. Instead of some honest to goodness sex education, they have been opting for the just-say-no oppression of what is natural for adolescent coming-of-age. Alas, the consequently, some people tend up seeking out porn on internet as a model of the sexuality.<br/><br/>To be fair, there are good porn, bad porn and sick porn. But it is really a sad thing a repressed society tend to have a black and white attitude categorically. Without any discussion and openness, this further exacerbates the situation. A genuine education is so important.\", False, 3, 25788430.0, '5a725f2410f40f00018bed89', 357.0], ['There has been no mention that Ms. Daniels is a commercial sex worker that practices unsafe sex in a country where it highly illegal and considered base, and immoral. I read her account that said she hoped he would not give her money for the sex at the time. But happily extorted him for 130K shortly thereafter. I imagine her revenues are down from her prime time. Her behavior and continued behavior is gross, disgusting and unpatriotic. She should be embarrassed to show her face. I would like to hear the feminists on this. Or is anything OK and good if it is done by a female?', False, 3, 25783562.0, '5a725f2410f40f00018bed89', 357.0], ['So exactly where is Jerry Falwell Jr. hiding his face these days?', False, 3, 25785098.0, '5a725f2410f40f00018bed89', 357.0], [\"Trump cheated on his first two wives. Then he cheated with Stormy while Melania was pregnant. Stormy was paid to keep quiet, but only after she'd already blabbed to the tabloids. Now Melania is mad. Looks like Trump would have been better off practicing Valerie Huber's “sexual risk avoidance.”\", False, 3, 25786602.0, '5a725f2410f40f00018bed89', 357.0], ['I, too, am shocked--shocked--that the Stormy Daniels story doesn\\'t draw an investigation from the GOP and the evangelicals. <br/><br/>After all, their outrage was on full display when Juanita Broaddrick claimed Bill Clinton raped her; when Hillary supposedly killed Vince Foster; during the Monica Lewinski affair; when they claimed Hillary was having all kinds of lesbian affairs; when members of the GOP accused that D.C. pizza guy of holding kids hostage in his basement; and when Mexican rapists were allegedly roaming the countryside.<br/><br/>The GOP and its evangelical minions are very experienced in \"investigating\" all kinds of real and imagined wrongdoing. Why not here?<br/><br/>That\\'s obviously a rhetorical question. Clearly, they will do anything they can to help Trump weather this Stormy. And they are stubborn like a Mueller.', False, 3, 25783065.0, '5a725f2410f40f00018bed89', 357.0], ['The subject of sex lives of presidents is a bore at best...except that it tends to bring out a hilariously illustrative amount of sanctimonious hypocrisy from the commenting readership. At least I never had to pay 150K for one night of meh sex.<br/>So... I got THAT off my chest. If I brought up the subject at work tomorrow I’d stand a good chance of being fired by the end of the week,', False, 3, 25783004.0, '5a725f2410f40f00018bed89', 357.0], [\"Now be nice, people. You're looking at the next head of the CDC.\", False, 3, 25784117.0, '5a725f2410f40f00018bed89', 357.0], ['The Trump branded chastity belt coming soon to a store or online retailer near you. These are the air bags of the industry when it comes to safety and protection! The patented device has a a mobile app and RFID chip so you can locate it anwhere. <br/><br/>The valentine package includes Mar-Lago Chocolate cake. Come one, come all and wear your protection in Presidential style! ', False, 3, 25784965.0, '5a725f2410f40f00018bed89', 357.0], [\"The Donald's personal Vietnam war that even phantom bone spurs couldn't help him avoid.\", False, 3, 25784564.0, '5a725f2410f40f00018bed89', 357.0], [\"It is passing strange to consider men who objectify women in their youth often depend on them as (mostly female) nurses and nurse's aides in later illness and infirmity.<br/><br/>Perhaps the #MeToo movement will lead to more nurses choosing work in maternity and child care leaving the Trumps of the world to the ice floes on which they deserve to float into oblivion.\", False, 3, 25785180.0, '5a725f2410f40f00018bed89', 357.0], ['Gail, this stuff makes me cry I feel so helpless.  ', False, 3, 25782636.0, '5a725f2410f40f00018bed89', 357.0], ['Clinton was impeached for adultery, inappropriate sex, and lying about it to cover it up. For Trump, having those same transgressions revealed seems like an excellent occasion for resigning the job he did really want to begin with, and his wife certainly never wanted at all, and spending more time with his family.', False, 3, 25785666.0, '5a725f2410f40f00018bed89', 357.0], [\"Perhaps the best evidence we have that DJT is now impotent.  Why worry about birth control when it isn't necessary?\", False, 3, 25784531.0, '5a725f2410f40f00018bed89', 357.0], [\"Given Trump's history of aggressive sexuality, his lack of loyalty in his marriages, and his hatred of condoms, it would not be a stretch to think he may very well have gotten someone pregnant and pushed her to having an abortion.  Not saying it happened, but given the realities of sexuality,  I'd be surprised if it didn't.<br/><br/>Were it true and to surface. would the right to life movement turn against him or turn into a right to hypocrisy movement.\", False, 3, 25782779.0, '5a725f2410f40f00018bed89', 357.0], ['Trump may not know much about birth control. But from other reporting it appears both he and Trump, Jr. know all about adoptions.', False, 3, 25784591.0, '5a725f2410f40f00018bed89', 357.0], [\"GET out of my BEDROOM. Unless the government wants to regulate MALE sexuality - other than to provide them Viagra - they should be allowing FEMALES to control their body which includes their reproductive health. There are just too many possible situations that this should be something well served by blanket legislation. The story of Trump's affairs show what a double standard he adheres to.\", False, 3, 25784489.0, '5a725f2410f40f00018bed89', 357.0], [\"The bigger existential mystery is how Trump got any women to consent to have sex with him.<br/><br/>After all, he's been married thrice, and apparently has had at least several other affairs or liaisons.   (I'm only counting the presumably consensual contacts here, not the many nonconsensual ones that have come to light.)<br/><br/>I am at a loss to determine what these women thought they were getting out of Trump.   Money?  Reflected fame?   Introductions to further their careers?<br/><br/>Either there's simply no accounting for taste, or there are some women who are willing to put up with all that comes with the Donald (pun intended) in exchange for something else they want . . .\", False, 3, 25786232.0, '5a725f2410f40f00018bed89', 357.0], ['The photo of Ms Daniels is quite an eye-opener at 5 am.<br/>I do wish that the parents of most of the worthies in the Trump administration had practiced SRA. Sadly, we have to suffer their progeny.', False, 3, 25785014.0, '5a725f2410f40f00018bed89', 357.0], ['The \"pro-life\" movement is just going to hurt a lot of men who might accidentally impregnate a woman while \\'sowing their oats\\' as teenage young men. There are few men who are willing to wait till their wedding night! Also few women! These men are going to then be on the hook, so to speak for 18-21 years of child support. I have young sons and have warned them to never have unprotected sex. That\\'s right, I am advocating for young men who might slip up over a moment\\'s passion.  I also have a family member who ended up in that situation in his early 20s, he was not planning on having a child, that choice was taken from him, he should have used protection but did not.<br/>Men, if you do not pay court ordered child support there are serious consequences, the courts can take away your professional license, your driver\\'s license, etc. I am surprised that President Trump, a man who was no stranger to lots of pre-marital sex and post-marital infidelities would advocate for any of this. In my opinion we should be giving out free birth control for all who want it. I don\\'t believe in bringing children into the world if you can\\'t afford to have them or are not mature enough to have children.<br/>In the end it\\'s the children who suffer if their young parents can\\'t afford to support them they will be supported by the taxpayers.<br/>We are not going to stop teenagers and college aged people from having sex by withholding or restricting birth control. It will never happen. ', False, 3, 25784240.0, '5a725f2410f40f00018bed89', 357.0], [\"As far as I'm concerned, becoming pregnant before you're 23 or 24 is a good way of staying or becoming poor. IUDs should be given to all girls beginning around age 12. <br/><br/>Either that, or all young men should be given vasectomies beginning at age 12. They can have them reversed around age 26 or 27. Or later. <br/><br/>Why these ages? Why not? By then, most people are grown up enough to have finished their schooling and gotten jobs and found partners with whom they believe, at least for now, they can raise families with. Or, at least, they'll have found jobs that would allow them to think about having a child and supporting him without government assistance. <br/><br/>And certainly, if Viagra is covered by insurance, birth control should be. The so-called pro-life movement believes a man's sperm is God Himself. A little weird. \", False, 3, 25786112.0, '5a725f2410f40f00018bed89', 357.0], ['A wonderful article!Tthank you and keep up the good work.', False, 3, 25784398.0, '5a725f2410f40f00018bed89', 357.0], ['The evangelicals took very little interest in politics until liberals, trying to protect Roe vs Wade,  announced that \"religious issues\" violated the First Amendment, implying that people with strong religious beliefs were second-class voters .  (The announcement had no legal validity;  it was a propaganda trick  made to make opposition to abortion look illegitimate).   I\\'m hoping that evangelicals will lose interest in politics once Trump\\'s judges overturn Roe vs Wade.    Until then we\\'re stuck with all of their obsessions, like opposition to birth control.', False, 3, 25785456.0, '5a725f2410f40f00018bed89', 357.0], ['What abut disease transmission? My father never forgave himself for giving my mother cervical cancer.', False, 3, 25795895.0, '5a725f2410f40f00018bed89', 357.0], ['I googled your quote and there is a youtube clip of Donald on Aug 19, 2015 saying he is pro-choice. I imagine the book is listed as well.', False, 3, 25794951.0, '5a725f2410f40f00018bed89', 357.0], ['If you want to up the level of your disgust google the Hollywood Access tape of trump bragging to Billy Bush of his abuse of  women and girls.  That should do it.', False, 3, 25790526.0, '5a725f2410f40f00018bed89', 357.0], [\"If he loses the evangelical vote, he's done for.  He'll no longer be the most important person in the world. That's all that matters to him.\", False, 3, 25788910.0, '5a725f2410f40f00018bed89', 357.0], ['Oh Paul, don\\'t be such a bad sport.  Women have just as much right to make horrible decisions as men do.  It\\'s called \"equality.\"', False, 3, 25789833.0, '5a725f2410f40f00018bed89', 357.0], ['Not enough money to support GOP campaigns.', False, 3, 25787153.0, '5a725f2410f40f00018bed89', 357.0], ['Existential mystery, Glenn?  Allow me to solve that one for you:  M-O-N-E-Y. The Green Poultice. The most potent pheromone known to humankind.', False, 3, 25786959.0, '5a725f2410f40f00018bed89', 357.0], [\"Be thankful that the bill before congress isn't 'Life begins when your partner rolls over and goes to sleep.'\", False, 3, 25788647.0, '5a725f2410f40f00018bed89', 357.0], ['Life Begins At Conception Act in Congress? What about the rights of tissue in cell culture media? They are alive, and if born in the USA, has rights of citizenship. Right now, tissue living in culture media have the same voting rights as citizens living in the U.S. Virgin Islands and Puerto Rico. <br/><br/>Fetal rights should extend to tissue rights; if the whole has a right, then a part of that whole must have the right also.', False, 3, 25789132.0, '5a725f2410f40f00018bed89', 357.0], [\"Exactly. And the brilliance of this is that is reveals the right's true objections to contraceptive and abortion access: making sure women only have sex for procreation, period. \", False, 3, 25785983.0, '5a725f2410f40f00018bed89', 357.0], [\"You've never read Gail Collins?  Well, I'm so glad you finally found her.  She's the best.\", False, 3, 25785037.0, '5a725f2410f40f00018bed89', 357.0], [\"While you're at it, let's eliminate any medical care for gun shot wounds since most Americans want common sense gun control.<br/>Your statement doesn't pass the logic test.<br/>While you're at it- let's eliminate coverage of treatment for heart disease or stroke for any overweight person or any person who smoked. Ditto for lung cancer for any person who smoked.<br/>Yes, any thinking person wants universal health insurance but we cannot allow the rabid right to dictate who gets coverage under what circumstances based on their ideology. \", False, 3, 25796420.0, '5a725f2410f40f00018bed89', 357.0], ['One would think a germophobe would insist on condoms.', False, 3, 25784434.0, '5a725f2410f40f00018bed89', 357.0], ['It only works for males.', False, 3, 25782385.0, '5a725f2410f40f00018bed89', 357.0], [\"Midway - I pay the price.  My health insurance is part of my employee compensation package and I've earned it.  <br/><br/>I'm no longer able to get pregnant but I rely on contraception to treat health issues that could force me to have expensive surgery and miss time off from work.<br/><br/>Contraception is affordable, reliable medical care that saves both me and my employer money.\", False, 3, 25791919.0, '5a725f2410f40f00018bed89', 357.0], [\"The notion of women having sex just for fun and without fear of the natural consequences - just like men! - sets these hair on fire.  That's the basis of opposition to contraception.  And they want to impose their fundamentalist views on everyone else. \", False, 3, 25790792.0, '5a725f2410f40f00018bed89', 357.0], ['Seriously. How about some right-thinking millionaire back her with some real legal dough so  she can talk?', False, 3, 25782852.0, '5a725f2410f40f00018bed89', 357.0], ['Best idea ever!', False, 3, 25782887.0, '5a725f2410f40f00018bed89', 357.0], ['WPLMMT: And how many of these unwanted babies have you or your like-minded fellow travelers adopted?  How many organizations to help women unable to afford these children have you and your fellow travelers donated to?  Did you also vote against Obamacare when you voted for a Republican?  What about a necessary abortion for medical reasons?  Do you think a woman should carry a baby with no chance of survival to term?', False, 3, 25793936.0, '5a725f2410f40f00018bed89', 357.0], [\"Midway - I'm curious.  How did you come to be the spokesperson for all married people?\", False, 3, 25791843.0, '5a725f2410f40f00018bed89', 357.0], ['“Every sperm is sacred.”', False, 3, 25782951.0, '5a725f2410f40f00018bed89', 357.0], ['I completely agree with you.  Trump makes me gag and watching and listening to him makes me ache for reasonable policy, proper usage of the English language, and any sense of intellectual life whatsoever.', False, 3, 25795358.0, '5a725f2410f40f00018bed89', 357.0], [\"Point of fact: My wife's IUD failed.\", False, 2, 25796278.0, '5a725f2410f40f00018bed89', 407.0], ['I’m sure every child whose birth came as a surprise to his parents would be surprised to hear that he was “unwanted.”', False, 2, 25794552.0, '5a725f2410f40f00018bed89', 407.0], [\"   The lovely Stormy is smart enough to cash in on this society's non stop fascination  in the naughty behaviour,hypocrisy,and the sensational antics of our commander and chief.   I say hurrah for this woman,and now may we pay some attention to matters more age appropriate to a smarter set\", False, 2, 25791273.0, '5a725f2410f40f00018bed89', 407.0], ['Trump most likely views this as his duty to the preservation and advancement of mankind to strengthen the gene pool with as many Trumplike creatures as possible. Just one more item to add to the list of gifts he has given us.', False, 2, 25790191.0, '5a725f2410f40f00018bed89', 407.0], ['Stormy did not come over well in her interview with Jimmy Kimmel. In fact, it was a non-interview. Is there actually absolute proof of her stand with the Trumpster?<br/><br/>I do not know what to believe and at some point I would so I could further amp up my disgust level for our faux \"leader.\"', False, 2, 25787485.0, '5a725f2410f40f00018bed89', 407.0], ['It\\'s time to switch my NYT subscription to Pravda. The reporting is somewhat more objective, somewhat less partisan. The NYT is not fake news, simply hyper partisan news from cover to cover.<br/>When the paper chooses to report about ALL of President Trump\\'s embarrassing issues, but rarely, and I do mean RARELY, report prominent Democrats\\' issues, always a free pass for Democrats whenever possible, it\\'s the new normal.<br/>The NYT has sold its soul to \"progressive\" politics, believing that the golden goose of business can forever lay more and more golden eggs for politicians, no matter the regulatory abuse imposed by Democrat politicians or worldwide competition. President Trump knows better. The NYT does not. ', False, 2, 25784027.0, '5a725f2410f40f00018bed89', 407.0], ['Could Trump be engaging in fake sex, practicing this as a legal birth control not requiring health insurance coverage?  Otherwise, why not use a condom?  Great column, Ms. Collins.', False, 2, 25786947.0, '5a725f2410f40f00018bed89', 407.0], [\"WSJ ran this story to quell the brewing mutiny in the newsroom over Murdoch's direction of the editorial page in its unscrupulous support of Trump and derision of Mueller.\", False, 2, 25784348.0, '5a725f2410f40f00018bed89', 407.0], [\"she's trolling america and making tons off talk shows, first she denies it, then she says it happened, then she denies it..who wouldn't pay this nut pocket change to leave them alone?\", False, 2, 25783035.0, '5a725f2410f40f00018bed89', 407.0], ['My choice is A.', False, 2, 25784571.0, '5a725f2410f40f00018bed89', 407.0], [\"Isn't this something Ivanka was supposed to prevent?  Why does she have an office in the WH anyway?\", False, 2, 25784417.0, '5a725f2410f40f00018bed89', 407.0], [\"Wake up, Gail. Birth control problems don't belong to Trump. It's the one million humankind aborted every year. How much longer can this tragedy go on?\", False, 2, 25786521.0, '5a725f2410f40f00018bed89', 407.0], ['Tell me this is not about a  Sinclair Lewis-like character, Elmer Gantry now surrounded by political pimps in Washington DC, in Congress , the Cabinet and  the TV and print media. SAD', False, 2, 25784705.0, '5a725f2410f40f00018bed89', 407.0], ['Back to the 50s....the USA is sliding  backward ...all the wonderful advances made by science, medicine and technology are being ignored in favor of profits for corporations....oh yeah, they\\'re \"people\" too....I forgot. ', False, 2, 25784590.0, '5a725f2410f40f00018bed89', 407.0], ['Can we please stop calling \"Stormy\"  a star and start using the correct term: pornographic film performer? By using the glamorized term \"star\" , we are whitewashing another ugly aspect of our culture that erodes women\\'s dignity: the pornographic material industry, where women are nothing more than receptacles of men\\'s genitalia or secretions. ', False, 2, 25785041.0, '5a725f2410f40f00018bed89', 407.0], ['Refusing to use a condom strengthens Trump’s claim that he is authentically pro life.  He is a purist, always open to new life.', False, 2, 25785623.0, '5a725f2410f40f00018bed89', 407.0], [\"Why isn't she afraid for her life?\", False, 2, 25783225.0, '5a725f2410f40f00018bed89', 407.0], ['I appreciate your willingness to cut Junior some slack for his miserable childhood.  That said, today I am grateful for the failure of failed birth control, which spared us all the need to muster compassion for the love child of The Donald and Stormy Daniels.', False, 2, 25786129.0, '5a725f2410f40f00018bed89', 407.0], [\"I'm sorry, but you're either pro-choice or you're no-choice. <br/><br/>The latter is what the strident anti-contraceptive, anti-abortion politicians (and their blind followers) really are.\", False, 2, 25785351.0, '5a725f2410f40f00018bed89', 407.0], ['And here we thought that Donald Trump was devoid of goodwill towards his fellow human beings. His cavalier attitude toward birth control as reported by Ms. Daniels and others, proves that he is in fact just trying to pass on those “excellent genes” for the benefit of future generations. <br/><br/>Donald Trump “the Altruist” - Who knew?!', False, 2, 25784216.0, '5a725f2410f40f00018bed89', 407.0], ['Trump is a user of people. Nothing more complicated.', False, 2, 25782548.0, '5a725f2410f40f00018bed89', 407.0], [\"I'm probably too far into the psychiatry of it all.  It's fascinating, really.  But it's a good opportunity to talk frankly about sex, something lacking in normal discourse.  Suppression of this subject has caused it to become about power and the brokering of power.  Somehow, Stormy has taken the edge off her victory in this game.  It's hard to consider this prostitution when she seems so light-hearted.  However, knowing how the Koch publishing empire works, it's nearly certain we will be getting mail about her private breakdown and conversion to Christianity in a few months.  \", False, 2, 25784150.0, '5a725f2410f40f00018bed89', 407.0], [\"Former playboy? I don't understand where that came from.  Former? That doesn't seem to fit the facts unless the author knows something we don't. \", False, 2, 25786334.0, '5a725f2410f40f00018bed89', 407.0], [\"One of the understated elements of the war on women's reproductive rights is the fear that whites are becoming a minority in this country.  If you prevent white women from getting access to birth control, then you increase the chances of more births of white babies. <br/><br/>But they can't say that.  So they go after access to reproductive services, broadly speaking, knowing that it will at least keep white births on par with non-white births.  \", False, 2, 25783325.0, '5a725f2410f40f00018bed89', 407.0], ['I am sure that a man with now self control and limited executive function has impregnated many women who did not want to keep the baby, or whom he did not want to keep the baby. In other words his anti-family planning posture is like most of his postures, just for political expedience and to cement his popularity with the lowest common denominator. <br/><br/>I surfed over to the pornography sites to see Ms Daniels in action.  Very very odd implant movement.  Very very odd look, for a very very odd president. ', False, 2, 25785192.0, '5a725f2410f40f00018bed89', 407.0], ['Gail, as always, a great column. Based on the information you have provided I have a new hypothesis for why Mr. Trump’s behavior seems so erratic: paresis. ', False, 2, 25784825.0, '5a725f2410f40f00018bed89', 407.0], ['So let me get this straight—the billionaire playboy who said dodging venereal disease as a single guy in the 1960s and \\'70s was his \"personal Vietnam\" put the U.S. family planning budget in the hands of a woman whose position on the sex lives of poor married couples is \"just say no\"?<br/><br/>The forgotten man indeed.', False, 2, 25784094.0, '5a725f2410f40f00018bed89', 407.0], [\"So let me get this straight, according to our president, if you sincerely are against something, you don't have to pay for it?<br/><br/>Thanks. I'm sincerely, religiously opposed to the obscene amount of money the US pays for armaments. Can I deduct my share from my taxes?\", False, 2, 25783114.0, '5a725f2410f40f00018bed89', 407.0], ['Ignorance about basic biology is nothing new. But Trump and his supporters have refined it into precise art. If it allows women and couples to regulate and improve and enhance their sex lives and relationships, it must be opposed. Of course, the President should then be exempted from any responsibility at all. Who is the actual father of all his children? Perhaps a surrogate? ', False, 2, 25783719.0, '5a725f2410f40f00018bed89', 407.0], ['The only unusual part was that she said Trump did not use a condom: “And I was really kind of upset about it because I am so, like, careful.”<br/><br/>After reading this quote, I would combine the offices of Secretary of Education and Surgeon General and nominate Stormy Daniels.', False, 2, 25785386.0, '5a725f2410f40f00018bed89', 407.0], [\"Knowing how quickly our Tweeter in Chief changes opinions for facts, confuses them is a better term, I just plan to wait for the end of his term to listen to the disclaimers on his disclaimers on prime time cable tv. Perhaps that will finally be the moment of truth, and we all know that the truth shall make us free, don't we? Well, actually all don't, some do know. \", False, 2, 25783504.0, '5a725f2410f40f00018bed89', 407.0], ['Especially the men...', False, 2, 25794302.0, '5a725f2410f40f00018bed89', 407.0], [\"CGR   If you saw Stormy on Jimmy Kimmel's program--she denied signing the letter of denial sent out to the media. She said it was not her signature and she didn't know who sent it.<br/>In 2011 she said Trump did not use a condemn which bothered her.\", False, 2, 25792558.0, '5a725f2410f40f00018bed89', 407.0], ['Good point. <br/><br/>Conflating contraception, abortion to safeguard the life and health of the mother, and elective abortion past quickening as a method of birth control has been in my view a chief cause in the tribal polarization of American politics. Both the left and the right do it. <br/><br/>You might add that outlawing elective abortion as a means of birth control at some point in the pregnancy provides an additional argument for parental leave laws, additional resources to provide for the health of mothers and children, and the like. Those arguments work with me, for one. <br/><br/>On the left, when people add claims that the only reason people oppose any sort of abortion is to control women’s bodies, and that men have never been asked to take on sacrificial burdens reserved for men as responsibilities to family and community (this is not a straw man argument no one ever makes), it’s as if they were asking people to vote for Trump. Because these claims are clearly not the case. <br/><br/>Far better to make the point as you do.', False, 2, 25789569.0, '5a725f2410f40f00018bed89', 407.0], ['Well put.  The christian right have made deals with the devil when it comes to Trump.  ', False, 2, 25795502.0, '5a725f2410f40f00018bed89', 407.0], [\"Steve -  That says it all.  If having birth control available is an endorsement of premarital sex, then I guess having guns available is an endorsement of murder by firearms.  Funny they don't use the same logic for both.\", False, 2, 25793961.0, '5a725f2410f40f00018bed89', 407.0], ['What a disgusting president, political party, and policy platform.', False, 2, 25794735.0, '5a725f2410f40f00018bed89', 407.0], [\"We didn't do anything to them.  The problem is that they all have a damaged gene. That gene forces them to make horrible choices when confronting a ballot box and similarly when the confronting a woman (they seem to see ballot boxes as females, you see.)\", False, 2, 25790110.0, '5a725f2410f40f00018bed89', 407.0], ['And you think he’d give you a truthful answer?', False, 2, 25787211.0, '5a725f2410f40f00018bed89', 407.0], ['This will be the group of very poor uneducated, starving Americans that will take the place of undocumented workers who do the lowest of the low jobs in America that have little pay, are very dangerous and have no security or benefits.', False, 2, 25787127.0, '5a725f2410f40f00018bed89', 407.0], ['No. Abortion should always be legal. Women are not breeding slaves.', False, 2, 25787448.0, '5a725f2410f40f00018bed89', 407.0], ['They care about pro life, but they seem to care less if the baby has proper       prenatal care,shelter, a healthy mother, food, cloths, parents that love them. After they are born they are throw a ways. No education to better their lives, because they are poor and do not deserve it. JESUS would be very proud of the fine loving right', False, 2, 25795749.0, '5a725f2410f40f00018bed89', 407.0], ['Why more people are not terrified of this evil man and his republican enablers baffles me. We are talking destruction to our Constitutional foundations.', False, 2, 25791079.0, '5a725f2410f40f00018bed89', 407.0], [\"Midway, you've got it all wrong....still.  But at this point there's no earthly reason to try to straighten you out....or any unearthly reason, either.\", False, 2, 25791116.0, '5a725f2410f40f00018bed89', 407.0], [\"Since my mom works at a Catholic hospital, I dutifully paid $10 per month for the pill for 3 years before I got an IUD. I'm happy to because I am able. This is quite expensive though, especially for large or poor families. And especially for families thay have worse or no insurance. Meanwhile my friend who is quite well off walked into a Planned Parenthood and got the pill and a dose of Plan B for free, yet voted for Trump. Go figure. We need Planned Parenthood. We need contraception to be a reliable part of insurance plans.\", False, 2, 25786619.0, '5a725f2410f40f00018bed89', 407.0], [\"Women don't go into Planned Parenthood because they want help getting pregnant, and to learn ways to increase their fertility chances.  They go to private doctors, and lawyers, that they have to pay for privately, to learn about intro-vitro pregnancies, surrogacy options, and abortion options.  <br/><br/>Let's be clear about what types of plans Planned Parenthood has for expectant mothers and fathers.  It helps you to unplan when the person is on their way to becoming a parent.  And it distributes sex technologies designed to block pregnancies for people who often are not ready to have procreative sex, but plan to anyway. Sometimes they work, sometimes they don't.  But come back, if you need help unplanning what the consequences of the sex is.  They can help you with that.\", False, 2, 25786898.0, '5a725f2410f40f00018bed89', 407.0], ['Yes, Stu, a great opportunity wasted.', False, 2, 25787537.0, '5a725f2410f40f00018bed89', 407.0], ['Stormy shoulda held out for a LOT more.', False, 2, 25787077.0, '5a725f2410f40f00018bed89', 407.0], ['Does not seem as if any \"sexual restrictions\" were place on Stormy Daniels.  Or Marla Maples.  Or Melania Trump.  Or any member of the Kartrashian clan.  Or an entire litany of Hollywood types.<br/><br/>Any \"ordinary\" man or woman would find the sexual escapades of any of these people repulsive.  As they would find the sexual escapades of Donald Trump, Bill Clinton, Harvey Weinstein, Charlie Rose, and a host of others repulsive.<br/><br/>Stop making everything a feminist issue.  It isn\\'t.  You either accept pig-like behavior or you don\\'t.  Gender does not matter.', False, 2, 25790035.0, '5a725f2410f40f00018bed89', 407.0], ['Great comment!  Laughing out loud and getting stares at Starbucks.  ', False, 2, 25791617.0, '5a725f2410f40f00018bed89', 407.0], [\"@Midway:  So, if we express our opinions in this newspaper and others don't agree, we are using loose talk that somehow will not end well.  Your posting indicates that you think expressing our opinions might lead to a court decision to overturn Roe vs Wade.  Truly mystified by your statements.\", False, 2, 25791517.0, '5a725f2410f40f00018bed89', 407.0], ['You should accredite Isaac Asimov with that quote. And they ‘contend’, not labour ‘Yet another Russian. ', False, 2, 25784358.0, '5a725f2410f40f00018bed89', 407.0], ['Oh, the little children do suffer . . .', False, 2, 25783200.0, '5a725f2410f40f00018bed89', 407.0], ['Stormy weather...', False, 1, 25781804.0, '5a725f2410f40f00018bed89', 471.0], ['\"...the point is that Trump seems to have had either terrible luck or stupendous ineptitude when it comes to birth control.\"<br/><br/>Or incredible virility!<br/><br/>Let\\'s populate America again... we\\'re falling way behind the Chinese. ', False, 1, 25795052.0, '5a725f2410f40f00018bed89', 471.0], [\"Just a thought, if she took the money, and it's a considerable amount. Was she not obligated to stay silent?<br/>There's the old joke about the honest person who stays bought.\", False, 1, 25795901.0, '5a725f2410f40f00018bed89', 471.0], ['...\"And I was really kind of upset about it because I am so, like, careful.”\"<br/>H\\'mmmm. But not careful that time. That\\'s why women have unwanted pregnancies and expect the taxpayer to kill it--because they get careless of their own body.', False, 1, 25782424.0, '5a725f2410f40f00018bed89', 471.0], ['A new low in journalism, even for Collins. ', False, 1, 25785991.0, '5a725f2410f40f00018bed89', 471.0], [\"Women got trump elected and now they don't like it? Too bad, deal with it. You can have all the marches and protests and wear dumb hats and make signs etc etc but unless you ignore the non disclosure papers/hush money arrangements and just come clean to the public and out this chief predator nothing will happen. kiss your family planning goodbye. \", False, 1, 25786717.0, '5a725f2410f40f00018bed89', 471.0], ['Who knew?', False, 1, 25782945.0, '5a725f2410f40f00018bed89', 471.0], ['What is the point of this article? It seems to be all over the place.  Is it stressing a tawdry sex life, birth control, abortion?  Inquisitive minds would like to know.', False, 1, 25786540.0, '5a725f2410f40f00018bed89', 471.0], [\"Trump, Ryan, McConnell, McCarthy, Nunes.....these people have no shame.<br/>And they don't care that they don't.<br/>ALL of these massive changes--no matter how many millions they they hurt--are done to satisfy this small cabal of Republicans who have hijacked our government.\", False, 1, 25786033.0, '5a725f2410f40f00018bed89', 471.0], ['Ugh. The images of Trump in flagrante makes me want to wash my mouth out with the Constitution. ', False, 1, 25785650.0, '5a725f2410f40f00018bed89', 471.0], ['The GOP used the dime method.  Clench a dime between the kneecaps.  Problem solved. ', False, 1, 25785515.0, '5a725f2410f40f00018bed89', 471.0], [\"Flies are to rotten meat as evangelicals are to power.  That's why they cling to him no matter how rank the stench of moral decay.  They lust for power to control women and their unruly bodies.  And the money doesn't hurt.\", False, 1, 25783741.0, '5a725f2410f40f00018bed89', 471.0], [\"I wonder if there have been any paternity tests on little Donnie's 3 oldest children; might be interesting. Then again, they all seem equally disgusting...so there is that connection.\", False, 1, 25782564.0, '5a725f2410f40f00018bed89', 471.0], [\"Look at the photo of trump with Stormy. That was before he started the non-stop tanning machine visits to hide his Rosacea. Then, imagine what his face would look like today....see W.C. Fields' photo.\", False, 1, 25785968.0, '5a725f2410f40f00018bed89', 471.0], [\"Gail, as I paused to reflect on the image  of Stormy before reading your article I couldn't help but wonder if the Donald would declare  there is anything FAKE in the picture? \", False, 1, 25785550.0, '5a725f2410f40f00018bed89', 471.0], [\"Wait'll Trump gets caught between the nation's moon &amp; New York City come 2018, Gail. All this lovin' will be relegated to the third page. There is a tide in the affairs of men...\", False, 1, 25783729.0, '5a725f2410f40f00018bed89', 471.0], [\"Very arrogant of DJT. However, he wasn't President at the time. Further, why does the writer and others assume that Trump was the person responsible? I have always thought since the end of the laws against abortion in NY, before Roe Vs. Wade, that NOT getting pegnantwas the job of both the man and the woman. It was back in the days when I was doing things that were once seen as risky. So why, now some 40 years after the laws legalizing abortion, the laws making birth control legal among all people, not merely married couples,(once only a man could buy condoms )? It seems, increasingly, to be a problem for women to take any responsibility for themselves. Any woman might be trying for a second trip to the well,(so to spoeak), in the case of the married, apparently rich, non President Trump. If he is foolish enough to be so ignorant or arrogant to sow his seed with such abandon, he ought to expect there are millions of women out there waiting to take advantage of such an opportunity. That is, what I am told, DNA attempts to do-ensure it's passage to the future via the offpring of healthy &amp;wealthy-if not wise humans\", False, 1, 25784815.0, '5a725f2410f40f00018bed89', 471.0], [\"Family planning? Don't have kids if you can't afford it. That's all you need to know.\", False, 1, 25784717.0, '5a725f2410f40f00018bed89', 471.0], ['When Bill Clinton was president, it was just about sex and not supposed to be a matter of public concern.  I guess that thrown out the window when the president is a Republican (or at least claims to be one).', False, 1, 25785483.0, '5a725f2410f40f00018bed89', 471.0], [\"Hmmm. Threats of nuclear war, Russia infesting the life blood of our democracy like a cancer, large-breasted woman ... Yup, along with Elvis, expect the return of Abstract-Expressionism (or whatever its neoist coinage) and I'll be darned if we're not right back in the 50s. Of course, it all has the patina of simulacra, meaning none of this is natural, or better put, about as natural as Ms. Daniel's ... well, put another way: Trump era nostalgia is really nothing more than nostalgia for, yes, Reagan-era nostalgia. \", False, 1, 25782558.0, '5a725f2410f40f00018bed89', 471.0], [\"I've surmised that Stormy Daniels found Donald to be intellectually lacking.  \", False, 1, 25784005.0, '5a725f2410f40f00018bed89', 471.0], ['Here is a real story about how the Trump administration feels about women who have sex and get pregnant -<br/><br/><a href=\"https://www.theguardian.com/us-news/2018/jan/31/scott-lloyd-considered-controversial-method-reverse-abortion\" title=\"https://www.theguardian.com/us-news/2018/jan/31/scott-lloyd-considered-controversial-method-reverse-abortion\" target=\"_blank\">https://www.theguardian.com/us-news/2018/jan/31/scott-lloyd-considered-c...</a><br/><br/>This deal with the stripper is all so....  interesting. <br/><br/>But there are real issues too.', False, 1, 25783458.0, '5a725f2410f40f00018bed89', 471.0], ['Let us all pray that Donald does not produce any more children.  But if he does, I am sure Trump will find a place for him/her in his Administration.', False, 1, 25785973.0, '5a725f2410f40f00018bed89', 471.0], ['w/o reading past the 2nd para, i see she mispelled \"bear\".  what\\'s a good family newspaper coming to?  Next i\\'ll be reading that the \"golf fees\" issue is made up. Trump owns golf courses, and we know from Mar-Largo that he raises fees arbitrarily whenever he thinks he can get away with it.  I\\'ll bet the real problem with Mueller was that he is one of those golfers that has to find his ball in the woods.  That holds up the whole show, all those other golfers behind him, having to sit in their golf carts wasting valuable time while he looks for his ball.  Time is money.  And if they are at Trump golf courses, they have to get back to work in order to earn the income to pay the fees and still have enough to donate to the secret white racist political committees to get guys like Trump elected, whether they\\'re tea party or regular southern dixiecrats, now called Republicans.  <br/><br/>And the Trump golf courses sell golf balls; every golfer who finds his ball in the woods is a lost sale.  So you can see that fees at Trump courses is a serious thing and anyone who disputes them would seem biased by someone like Trump.  And, a larger point here: WHO wouldn\\'t be biased against a guy like Trump?  <br/><br/>Then there\\'s that thing about Mueller knowing other lawyers--they all do, and for many of them, they see their job as to uphold the law.  It\\'s no wonder that someone who is a perpetual lawbreaker would see bias and be worried.  ', False, 1, 25782393.0, '5a725f2410f40f00018bed89', 471.0], [\"Stormy should speak! So what is she violates the NDA? Is Trump going to come out and sue her for talking? That would be a complete admission of everything he's so vehemently denying. Of course, the cold hatred of his wife is surely burning through his bluster like a laster. And now, if Stormy would only throw the NDA to the wind and speak openly, she would see that there's not much Trump could do to her and still pretend that nothing happened between them.\", False, 1, 25783699.0, '5a725f2410f40f00018bed89', 471.0], [\"Given the Trump's poor luck with birth control, I wonder how long it will be before we learn that he has also paid for an abortion or two (or five)  himself.  But who cares?  Even if it comes out that he has, I am pretty sure the evangelicals in his base will give him a pass and continue in their glowing adoration of him, per the example set by their Vice-President Pence.  <br/><br/>In the meantime, Trump, Hannity, and all Trump's Congressional enablers will go into full attack mode to destroy the life and credibility of anyone who would dare come forward to point out the history and the hypocrisy of our dear leader, the Most Magnificent and Munificent Donald. <br/><br/>Yes, he could and would survive such accusations, just like he has everything else.  None of the laws of heaven or earth apply to the Great Donald, as we all should have learned by now.\", False, 1, 25782498.0, '5a725f2410f40f00018bed89', 471.0], ['Positions like this will further erode the base ,the constant worrying about unborn babies while ignoring those already born in a economic sense sounds practical in a bottom line way of looking at things. However being a hypocrite is trumps calling card served with hype sauce.    ', False, 1, 25785422.0, '5a725f2410f40f00018bed89', 471.0], ['Abortion should only be illegal if the Government agrees to financially support and provide free child care for all unwanted children born. The \"family values\" adherents think nothing of the 20 years following an unwanted pregnancy when a woman is forced to give birth against her will. Coincidentally, the most vocal critics of birth control and abortion are often the ones that have great trouble keeping their pants up.', False, 1, 25785725.0, '5a725f2410f40f00018bed89', 471.0], ['This isn\\'t complicated.<br/><br/>If you want birth control, purchase some.  It is cheap.<br/><br/>And if somehow you cannot afford the already inexpensive options that are readily available, you can always choose the $0 option:  abstinence.<br/><br/>There is absolutely no reason to put taxpayers on the hook.<br/><br/>And before you bother to mention costs of pregnancies that, under current policy, might accrue to the taxpayer, let me begin my \"pre-buttal\" : those programs need to be pared back significantly and reformed as well.', False, 1, 25786406.0, '5a725f2410f40f00018bed89', 471.0], [\"Yes, let's talk about men and their relationship to contraception and abortion. In many situations, men and women make a mutual decision to use birth control. Not in Trump's world, obviously.  Why don't men speak out about reproductive rights? These are issues that affect women's bodies and the decisions must ultimately be made by women, but these decisions affect men's lives too and men should start vocalizing their support for birth control. Women's rights are human rights and the right to contraception affects all humans.\", False, 1, 25786467.0, '5a725f2410f40f00018bed89', 471.0], ['Yes it is all about Patriarchy with President Little Fingers and the Republican Party.   What I do not understand, however, is why a majority of American white women continue to support the Patriarchy than controls the their economic, political, and religious lives.  It would appear these women really do not want to think for themselves.', False, 1, 25783204.0, '5a725f2410f40f00018bed89', 471.0], ['I already donate to Americans United for Separation of Church and State, Emily\\'s List, and Planned Parenthood. I hope the World Wildlife Fund or the Sierra Club qualifies as a \"pro-shark\"charity.<br/><br/>We need Gail\\'s humor in these \"Stormy\" days for our Republic and \"president\".', False, 1, 25786182.0, '5a725f2410f40f00018bed89', 471.0], ['Trump, naked, in bed.<br/><br/>I I were gay, it would give the term “scared straight” new meaning.<br/><br/>Rim-shot.<br/><br/>But more seriously, I look at the rollback of women’s reproductive rights and insurance coverage and I wonder why. And then it becomes pretty clear.<br/><br/>Obviously not all women support broad reproductive rights and benefits, so there needs to be a coalition of women AND men supporting them.<br/><br/>But men have no skin in the game.<br/><br/>My reproductive rights weren’t changed by Roe v Wade. If it disappeared tomorrow, it wouldn’t change any of my rights regarding an unwanted pregnancy.<br/><br/>If the contraceptive mandate in Obamacare disappeared tomorrow, I would still be paying the exact same amount for my (limited) contraceptive options that I am today. And my insurance premiums will be lower because a portion won’t be used to pay for women’s reproductive benefits.<br/><br/>So- why should I or any man care?<br/><br/>Sure, there is a societal benefit to broad reproductive rights and free contraception for women. and some men certainly will find this sufficient to fight for them.<br/><br/>But there is no direct benefit to men, and voting- done in the privacy of the voting booth, with no one looking over your shoulder- is an intensely selfish “what have you done for ME lately” activity.<br/><br/>Want to keep contraceptive benefits and abortion rights? Figure out a way to make those benefits and rights more relevant to men. More relevant to me.<br/><br/>Otherwise, I’ll just go vote on foreign policy and education issues.<br/><br/>Sorry!', False, 1, 25782598.0, '5a725f2410f40f00018bed89', 471.0], ['Hypocrisy is not surprising in the President or in some vocal evangelical ministers supporting him. Take your pick of either or neither.<br/>March from the pews.<br/>March to the voting booth. Do both!', False, 1, 25786571.0, '5a725f2410f40f00018bed89', 471.0], ['Love how this article &amp; others about women\\'s rights and birth control ALWAYS skew the facts. The facts are that many forms of birth control are WIDELY available, AND NEVER were in jeopardy of not being available. It is only the \"Morning after pill\" that some employers such as Hobby Lobby, have opted NOT to pay for. They still offer many other forms of birth control, yet the main stream media never seems to report the real truth. Only their skewed version of it, to hopefully outrage the public into turning liberal. TERRIBLE.', False, 1, 25783679.0, '5a725f2410f40f00018bed89', 471.0], ['When discussing important issues, equating apples and oranges is just sloppy. Countless Americans oppose illegal immigration.  A tiny minority opposes all immigration.  Countless Americans oppose reverse discrimination.  A tiny minority favors discriminating against minorities.  And countless Americans oppose abortion, but only a tiny minority opposes birth control rights.  Those oblivious to these distinctions are quite oblivious, indeed.', False, 1, 25782949.0, '5a725f2410f40f00018bed89', 471.0], [\"On the other hand, Kimmel did ask her if she did NOT have a non-disclosure agreement with trump and she didn't answer no---which sure makes it seem like she did have one and that part of it was not admitting to the NDA.  \", False, 1, 25788866.0, '5a725f2410f40f00018bed89', 471.0], ['Probably why his wife seems to shrink away from him anytime she is forced to appear with him in public.', False, 1, 25790715.0, '5a725f2410f40f00018bed89', 471.0], [\"Well Paul, perhaps it's just sheer coincidence, but we've also reached a new low in the American presidency. At least until the next time Fearless Leader opens his mouth or twitches his fingers on his phone.\", False, 1, 25791833.0, '5a725f2410f40f00018bed89', 471.0], [\"You really think that women who participated in the women's march voted for trump? Really? SMH. \", False, 1, 25792003.0, '5a725f2410f40f00018bed89', 471.0], ['I think the sub-text was that she was hoping to get on The Apprentice.  She said something to that effect at one point or another.', False, 1, 25788995.0, '5a725f2410f40f00018bed89', 471.0], ['Its impossible to see the \"pro-life\" stance in this move that the people on the right so vehemently proclaim for themselves.', False, 1, 25787085.0, '5a725f2410f40f00018bed89', 471.0], ['...and fried butter.', False, 1, 25786280.0, '5a725f2410f40f00018bed89', 471.0], ['Geez, Tony...prolife people are right because the fetus is human, not because, the president changes.', False, 1, 25786320.0, '5a725f2410f40f00018bed89', 471.0], [\"I recall that 9 out of 10 doctors smoked and recommended Lucky Strikes. What's your point? Lemmings follow their leaders. <br/><br/>What about the right to life of the human fetus. Who speaks for them?\", False, 1, 25786459.0, '5a725f2410f40f00018bed89', 471.0], [\"Making NDA's illegal is a double edged sword given that the conviction rate for rape is only 2% and that is from the 32% of rapes that are actually reported. \", False, 1, 25786593.0, '5a725f2410f40f00018bed89', 471.0], [\"It's my understanding that the Heritage Foudation, the Federalist society, and Trump's lawyer, McGahn are responsible for most of the cabinet and judge picks.\", False, 1, 25786360.0, '5a725f2410f40f00018bed89', 471.0], ['My guess is Mike Pence is providing the names to Mr. Trump to ensure they are anti birth control. ', False, 1, 25786634.0, '5a725f2410f40f00018bed89', 471.0], ['Probably Mike Pence is the one providing these extremists people.', False, 1, 25786639.0, '5a725f2410f40f00018bed89', 471.0], ['Anyone who cannot accept that fact is so out of touch with reality that their opinion should just be ignored.<br/>----------------------<br/><br/>Remember, it was once the offspring of unwed mothers who could not afford their children that society chose to ignore.  Your attitude will only return us to those days.  Men will always be loyal to their own tribal offspring first, and to ignore that is to discount reality.  If you want taxpayers to help as needed, you need to stop financially discouraging men from playing a role in providing for their families, and stop celebrating women who create and choose to raise the offspring of men who can only procreate with government help.', False, 1, 25786498.0, '5a725f2410f40f00018bed89', 471.0], ['Not the case. The turning point was the Civil Rights Act of 1964, which made discrimination and demonization of non-whites illegal. After fishing for months for a new trigger cause, the religious right came up with \"Abortion kills babies,\" a statement that is as polarizing and incendiary as it is false. And they\\'ve been riding that hobby-horse ever since.', False, 1, 25786482.0, '5a725f2410f40f00018bed89', 471.0], ['Good question.  Another good question is whether or not American citizens care about anyone else other than themselves when it comes to health, housing, education, food, etc.  Lately the answer is a resounding no.  ', False, 1, 25795980.0, '5a725f2410f40f00018bed89', 471.0], [\"Ladies need to integrate themselves again into American society, with men, other women, and children.  You really can't do it all alone, and your ideas often fizzle upon exposure to the light.<br/><br/>If you're down and out in this current economy with so many people's boats rising and so much employment right now, then you need to get out more in society and experience the national uplife.  Stop voluntarily segregating yourselves, sisters.\", False, 1, 25786669.0, '5a725f2410f40f00018bed89', 471.0], [\"I have never received a coherent answer to why the Catholic Church is against birth control.<br/>-------------------<br/>The Church supports natural birth control.  The Church believes sex is an intimate act worthy of respect for the woman. Birth control commodifies women, and puts sex into an entertainment/transaction category.  If you love your daughters, you don't give them a handful of pills or condoms and let them loose amongst men to practice.  You teach them to value and respect their own bodies, and to share the intimate pro-creative act when they are mature enough, with a partner who loves them enough, to support the lifely offspring of a biological pro-creative act.  Later in life, there are family planning methods that mature partners can employ to share their sexuality with one another and to prevent further children being born -- this too is natural family planning, and involves the woman's fertile times.<br/><br/>Please, if you have read this far, don't say you don't understand why the Church is against tossing condoms from helicoptors in Africa as a means to prevent the spread of AIDS, and instead insists of educating the women to the value of their bodies that demand respect before undertaking voluntary sexual relations with men.\", False, 1, 25786752.0, '5a725f2410f40f00018bed89', 471.0], ['As that famous statement made in the Watergate movie, follow the money\", where did the $130,000 come from?<br/>------------------<br/>From the Russians, of course.<br/>Wait for the movie -- it will explain all of this!', False, 1, 25786803.0, '5a725f2410f40f00018bed89', 471.0], [\"Sorry, but $10 a month is not expensive.<br/>Go into WalMart, and see all the ways poor people can spend an extra $10 a week when the paycheck comes...<br/>Where there's a will, there's a way.  Congratulations to you for taking responsibility for your own health care needs, and for being a grown-up when you decided to have sex and paying your own way. You are on your way to an independent lifestyle.  (You don't need Planned Parenthood, or insurance to cover your needs, and sounds like:  neither did your friend.  Would you have been miffed if every month she asked you to pay her the $10 directly into her pockets to pay for her needs?  When you start thinking of it that way, you won't be so generous.)\", False, 1, 25790530.0, '5a725f2410f40f00018bed89', 471.0], [\"Excellent post, sir or madam. I am a pro-choice atheist, and I respect believers who don't believe in pushing their beliefs on others.\", False, 1, 25796425.0, '5a725f2410f40f00018bed89', 471.0], [\"Wouldn't be interesting, though,because as you say, there doesn't seem to be any actual love involved.\", False, 1, 25784810.0, '5a725f2410f40f00018bed89', 471.0], [\"Midway - um... lighten up.  It's called humor, something in very short supply presently.\", False, 1, 25793947.0, '5a725f2410f40f00018bed89', 471.0], ['No, he WATCHED.', False, 1, 25785905.0, '5a725f2410f40f00018bed89', 471.0], ['...germophobe?', False, 1, 25787045.0, '5a725f2410f40f00018bed89', 471.0], ['Well, Midway (and Steph, who got it right), I wrote my comment last night when it was actually January 31!', False, 1, 25791734.0, '5a725f2410f40f00018bed89', 471.0], [\"Must have been quite a hurricane to find it's way to you!  Glad you liked my sense of humor.  It's all we have left - or we'd be crying a downpour each day.\", False, 1, 25793210.0, '5a725f2410f40f00018bed89', 471.0], ['Something almost all of us can agree on!', False, 1, 25790656.0, '5a725f2410f40f00018bed89', 471.0], ['Burned?<br/>Stormy Daniels is no Monica Lewinsky.', False, 1, 25785863.0, '5a725f2410f40f00018bed89', 471.0], [\"American women are free to make their own health care decisions, Louise.  You just have to pay the price for your decision-making, both in terms of finances and consequences.  And, you don't get to dispose of viable babies once they can be healthily delivered and survive outside of your wombs.  Premature babies are surviving at younger and younger ages, so women need to start calculating their choices faster, while they are still the primary decision-maker, with no fathers or babies to account for.  Choose wisely, sisters!\", False, 1, 25785915.0, '5a725f2410f40f00018bed89', 471.0], ['Whoot!', False, 1, 25784730.0, '5a725f2410f40f00018bed89', 471.0], ['Consider that an entire generation---no, several generations--have grown up with Roe as the law. I cannot see any of those women willingly giving up control over their reproductive rights.<br/><br/>And what do you mean \"taking other people\\'s money to pay for your rights\"? Have you never heard of the Hyde Amendment?', False, 1, 25791364.0, '5a725f2410f40f00018bed89', 471.0], [\"When you're taking about evangelism, don't look for sense. Repression of women is the name of the game.\", False, 1, 25790916.0, '5a725f2410f40f00018bed89', 471.0], ['That would be a large sum of money spent so she could tell us what we already know.', False, 1, 25783813.0, '5a725f2410f40f00018bed89', 471.0], ['Thank you, Mor.  Well stated and succinct.  I would add that the power women have to bring another human to life underlies the resentment misogynists have toward women, and impels them to seek various overpowering means, from actual physical brutality, to political brutality, to demeaning and degrading confidence-breaking psychological brutality.  You can pretty much bet the more insecure a man is, the more he will brutalize women, one way or another, or one way and another.  ', False, 1, 25794588.0, '5a725f2410f40f00018bed89', 471.0], [\"Married people don't generally abort their children. If they are concerned about baby making and don't use birth control, they either accept the pregnancy or wait until the fertile period for the woman passes before the man ejactulates inside of her.<br/><br/>Don't you think married women were having sex, without hoping for a pregnancy, for years before birth control came on the market?  There are no safe alternatives in life;  if you don't want the baby, married women indeed abstained from sex, became pregnant sometimes late in life and accepted the child into the family, or sometimes, yes -- birthed a disabled/deformed child or even died in the process of giving birth.  Kinda makes your little complaints seem small, no?\", False, 1, 25789328.0, '5a725f2410f40f00018bed89', 471.0], ['You\\'re right, and Obama was actually conservative himself in a lot of ways. Some people think the right has just gone completely insane, and the Democrats are the new conservatives. But others think \"left\" and \"right\" don\\'t mean anything any more, and there are just two tribes (or teams), and you never vote against your team.<br/>Perhaps the never-ending assault-machine on the Clintons was for another reason. Some on the right thought the election of Reagan meant a \"1,000 year reign of Republicans\" had begun, and Clinton ruined that, so somehow he had to pay....', False, 1, 25794277.0, '5a725f2410f40f00018bed89', 471.0], [\"Didn't you mean caring about anybody but himself? \", False, 1, 25789053.0, '5a725f2410f40f00018bed89', 471.0], ['\" It’s as though people were starving for rotten meat after the refined, tasteful sustenance provided by President Obama.\"<br/>Depends on What People?<br/>He mirrored 75-80 % of his base. They see themselves in him and everything he represent.His base is the rotten meat.<br/>The best Black Man we ever had is succeded by the WORST White Man.', False, 1, 25796219.0, '5a725f2410f40f00018bed89', 471.0], [\"You fail to make a connection between Trump's failure to use a condom and the positions he has taken that you oppose.  You use a tawdry picture and story to further your point.  What a disgusting approach.  \", False, 0, 25783104.0, '5a725f2410f40f00018bed89', 527.0], [\"Trump's birth control policy needs a subtle change in light of his State of the Disunion.  White men and women -- all actual or potential Republican voters -- must be prohibited from getting or using contraceptives.  We need all the whites we  can get.  Others, not so much.\", False, 0, 25785653.0, '5a725f2410f40f00018bed89', 527.0], [\"The problem with the topic of contraception is that:<br/><br/>1. Our citizen birthrate is far too low and according to several studies will turn us into a third world economy by 2040. 2040 is 22 years away and we probably don't have time to avert the collapse. Shouldn't we be talking about this instead?<br/>2. Many people don't care to know what is true about contraception in general.<br/>    They simply want to have sex and not worry about getting pregnant or<br/>    having to pay child support.<br/>    Did Bill Clinton visit prostitutes and did he pay to get them to hush up -<br/>    google Dante Williams and guess what you discover - yes he did.<br/>3. So it seems like this journalist like most of them comes into the situation<br/>    thinking he or she knows what is going on and purports to inform the<br/>    rest of us how ignorant we are. Sorry - Ms Collins - you needed to do<br/>    some research. Your argument against the GOP hangs on a false<br/>    premise.\", False, 0, 25786515.0, '5a725f2410f40f00018bed89', 527.0], ['“The wife Trump ditched for Marla was Ivana...” I believe the wife sequence is the other way around. ', False, 0, 25783828.0, '5a725f2410f40f00018bed89', 527.0], ['Juicy storyline  for the press I still think JFK and Bill Clinton are in first and second place. ', False, 0, 25785179.0, '5a725f2410f40f00018bed89', 527.0], ['Thanks to Gail Collins, we all know more about government policy on contraception, Title X and the failure rate the average IUD. I would never have learned and understood any of this, had it not been for the introductory groundwork about Stormy Daniels. Not to mention the accompanying photograph.', False, 0, 25786395.0, '5a725f2410f40f00018bed89', 527.0], ['Very good;  You went through that editorial on balance.  Impressive.', False, 0, 25782679.0, '5a725f2410f40f00018bed89', 527.0], ['I am in favor of effective contraception to prevent the births of unwanted children to parents (or parent) who are unprepared for the responsibilities of parenthood. However, contraception services are famously included under Obamacare (see Sisters of the Poor v. Burwell). Planned Parenthood is largely funded by government monies. Contraception services are available under Medicaid to \"low income\" families (up to $50,000, depending on factors such as size of family and State law). The author bemoans the fact that the Trump administration wants to reduce Title X funding for contraception. Isn\\'t there some duplication here somewhere? Government programs are often (usually) inefficient, poorly run and costly. I know the liberal Gail Collins will not agree that reducing or eliminating duplicative government programs is a good idea. From the point of view of the taxpayers paying for such duplicative programs, it is a good idea. ', False, 0, 25786610.0, '5a725f2410f40f00018bed89', 527.0], ['There is no god. There are no gods. There never have been any gods. <br/><br/>I love that you gave the christian game away: \"time to get their reward\". That is all it is. ', False, 0, 25795087.0, '5a725f2410f40f00018bed89', 527.0], [\"The original line was a bit blunter than your paraphrase, but you captured the gist of it. And the 'girl' was Maria Schneider, whose abusive treatment during the filming was publicized but somehow never provoked outrage as the recent spate of revelations did.<br/><br/>Stormy also calls to mind this line from Radiohead's 'Fake Plastic Trees': 'He used to do surgery on girls in the '80s; but gravity always wins...'<br/><br/>She's a walking monument to Sir Isaac Newton.\", False, 0, 25791776.0, '5a725f2410f40f00018bed89', 527.0], ['If you want \"health care\" go buy and pay for it. Don\\'t ask me to condone or pay a cent for your behaviour, good or bad. Isn\\'t it hypocritical to whine about children\\'s good health but murder the unborn by abortion to suit your convenience? Slavish selfishness is not a virtue despite the clumsy window dressing. After the rout of the midterms in 2018 you won\\'t have a soapbox to stand on and spout phony\" morality\"', False, 0, 25788699.0, '5a725f2410f40f00018bed89', 527.0], ['And Paul preached celibacy.. but if one could not resist, best to wed... a long held belife which is why orphans in prhanages in the Renaissance were wed to each other at age 14-- and their surname was appropriate Innocenti designating that they were the product of the orphanage Ospedale dei Innocenti...', False, 0, 25791635.0, '5a725f2410f40f00018bed89', 527.0], ['\"Men are the most responsible make them be responsible.\" I think you meant, Men are the most irresponsible make them be responsible. but that annoying auto-check kicked in right when you hit, \"submit\".', False, 0, 25787539.0, '5a725f2410f40f00018bed89', 527.0], [\"Actually Gail's use of bear is correct.  I thought she was mistaken, too.  I should have known not Gail!  Look it up.\", False, 0, 25788085.0, '5a725f2410f40f00018bed89', 527.0], [\"The GOP are in power and state by state they are trying to make abortion which for them includes Plan B to be illegal. The Taliban put women who have sex outside of marriage in jail and a current GOP hopeful is running on the message that sex trafficking can be traced to the 1960's Women's Movement and the acceptance of sex outside of marriage.<br/>Unfortunately liberal thinking people are out minding their own business and living their lives and the narrow minded are banding together and voting and looking to punish. Of course they pull back on the punishment and employ forgiveness when one of their own is caught in the church parking lot with a minor.\", False, 0, 25787121.0, '5a725f2410f40f00018bed89', 527.0], ['Nine years passed between the Civil Right Act and Roe vs Wade.   Not \"months\".<br/><br/>Roe vs Wade created a precedent for the government to remove issues from democratic control until voters have little control over their government.   Citizens United advanced that agenda a lot further by legalizing bribery of elected officials.  Why shouldn\\'t people protest that?', False, 0, 25794640.0, '5a725f2410f40f00018bed89', 527.0], ['I think the seeming contradiction can be explained as such:  \"I fully expect to use contraception if I want to but I don\\'t want brown, black, poor, etc. women to have it nor do I want to have to pay for anyone else\\'s contraception.\"', False, 0, 25793878.0, '5a725f2410f40f00018bed89', 527.0], [\"Women in the U.S. are not a homogeneous group.  There are plenty of women who, often for religious reasons, don't think contraception is acceptable.   \", False, 0, 25795515.0, '5a725f2410f40f00018bed89', 527.0], ['Donald Trump has a history of arranging abortions for women. Have any anti-abortion activists called him on this?<br/>---------------<br/><br/>It\\'s like the old tax code system.  Unless they were illegal, any alleged abortions would have been \"arranged\" under the system set up by the liberals to help women.  Don\\'t blame the player, blame the game, and those who think of sex as a transaction-oriented act.', False, 0, 25786627.0, '5a725f2410f40f00018bed89', 527.0], ['It goes far back in history to the 15th century. It was simple. More Catholics make the church more wealthy.', False, 0, 25786326.0, '5a725f2410f40f00018bed89', 527.0], ['Like you, I am appalled at the lack of personal responsibility, common sense, and above all, lack of empathy for others detailed in your article. It honestly makes me amazed anyone could have ever believed, or believes now, those shortcomings should exist in any person who takes on a leadership role.<br/>---------------------------<br/><br/>Did you vote for Bill Clinton?', False, 0, 25785444.0, '5a725f2410f40f00018bed89', 527.0], [\"She is the best at elevating trivial issues you mean.<br/>Her support of dogs' rights overrode her support of Mitt Romney's record as a moderate Republican in a liberal state, and his strong record of conservative economic issues.<br/><br/>This time around, voters elected Donald Trump because he keeps no pets that Ms. Collins could object to, elevating that into a national issue for her readers.  Welcome to the show!\", False, 0, 25790349.0, '5a725f2410f40f00018bed89', 527.0], ['How unusual.  A President who enforces the law as written, in contrast to his predecessor who just made it up as he went along.<br/><br/>If the Democrats do not like the law, they are free to propose legislation that changes the law.  They are not entitled to have the President change laws.', False, 0, 25784627.0, '5a725f2410f40f00018bed89', 527.0], ['Amen to that KJ; I sure didn\\'t get any support whatsoever when I \"got\" pregnant as a teenager. The \"guy\" just showed me the door. \"Therapeutic\" abortion was still off-limits.', False, 0, 25796403.0, '5a725f2410f40f00018bed89', 527.0], ['and how did they come up with that calculation???', False, 0, 25792946.0, '5a725f2410f40f00018bed89', 527.0], ['Maybe Charlie Sheen was right, men pay prostitutes - not for the sex - but to go away. <br/><br/>Just asking ...', False, 0, 25796593.0, '5a725f2410f40f00018bed89', 527.0], [\"To cherrylog754 from just down the road - your comment s/b editor's pick for both its truth and levity.  It provided me the first laugh (out loud) I've had in.... days.  It was much needed and appreciated.\", False, 0, 25792061.0, '5a725f2410f40f00018bed89', 527.0], ['Show me on the doll where his narcissism touched your depersonalization.', False, 0, 25786974.0, '5a725f2410f40f00018bed89', 527.0], ['The suggestion seems half right', False, 0, 25783906.0, '5a725f2410f40f00018bed89', 527.0], ['Suddenly this comment thread is about \"other people\\'s money.\" Revealing. Might be a good time to point out that 1. wealthy women always have had and always will have, access to safe, discreet abortion, 2. federal funds do not pay for abortion, and 3.  abortions are currently at historically low levels, owing mainly to the ACA\\'s birth control mandate.<br/>Are you sure you know all your children? ', False, 0, 25791394.0, '5a725f2410f40f00018bed89', 527.0], ['Those who can do, those who can\\'t preach.<br/><br/>Have you taken a look at some of those right wing politicians and \"religious\" leaders?  ', False, 0, 25791877.0, '5a725f2410f40f00018bed89', 527.0], [\"Don't forget that Ann Coulter says that Republican women have much greater sexual satisfaction than Democratic women.  I wonder what drives her; I take that back, I don't want to know.\", False, 0, 25795414.0, '5a725f2410f40f00018bed89', 527.0], [\"He thinks poor people shouldn't be having sex.<br/>-----------------<br/>A lot of people think that if you can't afford the natural byproducts of sex, which often results in children, then you shouldn't be having sex.  Who is going to pay for your pleasure?  Other than your child?  The taxpayers?  Not indefinitely...\", False, 0, 25789481.0, '5a725f2410f40f00018bed89', 527.0], ['That is the difficulty with the Democratic Party, particularly the parties elites. People who are pro-life are considered barbarian, looked down upon by liberal elite. The Democratic Party is losing voters in the Middle West and other blue-collar areas because of the elite snobbery that is part of the Democratic establishment. I vote Democratic these days because the Republican Party is also the party of the elite and more specifically because of the invasion of Iraq and the neoconservatives support for what conservative commentator George Will referred to as one of the greatest mistakes in foreign policy in American history. Anybody interested in the history of Roe vs. Wade will see that the Supreme Court decided in favor of nationalized abortion in order to protect doctors, not women. These are facts, but they seem so easily dismissed.', False, 0, 25795984.0, '5a725f2410f40f00018bed89', 527.0], ['Your young son who \\'makes a mistake\\' will face a financial burden for almost two decades and an emotional burden for life.<br/>------------------<br/>If he is lucky and she doesn\\'t decide to abort his offspring.  Too bad he gets no say in whether or not the child is adopted into a two-parent family, but is on the hook repaying the State for what they have promised to young women willing to become \"single\" mothers.', False, 0, 25789361.0, '5a725f2410f40f00018bed89', 527.0], [\"What is YOUR point? That no one should expect a higher standard from the president because of something Clinton once did? Or are you implying that the Christian Right (now) can criticize Trump because they act him as well?<br/>I don't get it!\", False, 0, 25794355.0, '5a725f2410f40f00018bed89', 527.0], ['I think this covers it...<br/><br/>Hypocrite<br/>[hip-uh-krit]<br/>noun<br/><br/>1. a person who pretends to have virtues, moral or religious beliefs, principles, etc., that he or she does not actually possess, especially a person whose actions belie stated beliefs.<br/><br/>2. person who feigns some desirable or publicly approved attitude, especially one whose private life, opinions, or statements belie his or her public statements.', False, 0, 25794536.0, '5a725f2410f40f00018bed89', 527.0]]]\n",
            "2\n"
          ],
          "name": "stdout"
        }
      ]
    },
    {
      "cell_type": "code",
      "metadata": {
        "id": "qPZ7PQIH99B4"
      },
      "source": [
        "# rec = top3_liked_comments[:2]\n",
        "# poss = all_comments[:2]\n",
        "\n",
        "# print(rec[0])\n",
        "# print(poss[0])\n",
        "\n",
        "# for y in range(0, len(rec)):\n",
        "#   article_list = []\n",
        "#   for x in  rec[y]:\n",
        "#     # print(\"COMMENT\")\n",
        "#     article_list.append(analyser.polarity_scores(str(x))['compound'])\n",
        "#   rec[y] = article_list\n",
        "\n",
        "# # print(rec)\n",
        "\n",
        "\n",
        "# for y in range(0, len(poss)):\n",
        "#   article_list = []\n",
        "#   for x in  poss[y]:\n",
        "#     # print(\"COMMENT\")\n",
        "#     article_list.append(analyser.polarity_scores(str(x))['compound'])\n",
        "#   poss[y] = article_list\n",
        "\n",
        "# # print(poss)\n",
        "\n",
        "# print(rec[0])\n",
        "# print(poss[0])\n",
        "\n"
      ],
      "execution_count": null,
      "outputs": []
    },
    {
      "cell_type": "code",
      "metadata": {
        "id": "up5k_fF5vZaZ"
      },
      "source": [
        ""
      ],
      "execution_count": null,
      "outputs": []
    },
    {
      "cell_type": "code",
      "metadata": {
        "id": "KL7e677bOWpS"
      },
      "source": [
        "# #top3_liked_comments[:5]\n",
        "\n",
        "# list_of_articles = [x[0] for y in top3_liked_comments for x in y]\n",
        "\n",
        "# # [x[0] for x in top3_liked_comments]\n",
        "\n",
        "# for i in list_of_articles:\n",
        "#   print(i)\n",
        "#   print(\"xxxx\")\n"
      ],
      "execution_count": 39,
      "outputs": []
    },
    {
      "cell_type": "markdown",
      "metadata": {
        "id": "NkHvdmA0YSwn"
      },
      "source": [
        "###Representation metric"
      ]
    },
    {
      "cell_type": "code",
      "metadata": {
        "id": "JS6iIlw2e_l-"
      },
      "source": [
        "def representation_metric(possible_comments, recommended_comments):\n",
        "  #Kullblack-Leibler Divergence, different opinion categories\n",
        "  # different opinion categories --> metadata?\n",
        "  return score"
      ],
      "execution_count": null,
      "outputs": []
    },
    {
      "cell_type": "markdown",
      "metadata": {
        "id": "1oz_GePbYboB"
      },
      "source": [
        "###Protected Voices Metric"
      ]
    },
    {
      "cell_type": "code",
      "metadata": {
        "id": "-y6NkoNGRgLq"
      },
      "source": [
        "def count_protected(comments)\n",
        "  return count\n",
        "\n",
        "def count_unprotected(comments)\n",
        "  return count\n",
        "\n",
        "def voices_metric(possible_comments, recommended_comments):\n",
        "  protected_group_recommended = count_protected(recommended_comments)\n",
        "  protected_group_possible = count_protected(possible_comments)\n",
        "\n",
        "  unprotected_group_recommended = count_unprotected(recommended_comments)\n",
        "  unprotected_group_possible = count_unprotected(possible_comments)\n",
        "\n",
        "  score = (protected_group_recommended/protected_group_possible) / (unprotected_group_recommended/unprocted_group_recommended)\n",
        "  return score"
      ],
      "execution_count": null,
      "outputs": []
    },
    {
      "cell_type": "markdown",
      "metadata": {
        "id": "1CVSMAfVX6TM"
      },
      "source": [
        "#Experiments"
      ]
    },
    {
      "cell_type": "markdown",
      "metadata": {
        "id": "3K4ebn77YCoC"
      },
      "source": [
        "#Evaluation of the test set"
      ]
    },
    {
      "cell_type": "markdown",
      "metadata": {
        "id": "r40NEAGJxfKm"
      },
      "source": [
        "# **SFU Dataset**\r\n"
      ]
    },
    {
      "cell_type": "markdown",
      "metadata": {
        "id": "4Vg2sA42SzjG"
      },
      "source": [
        "## Loading the data"
      ]
    },
    {
      "cell_type": "code",
      "metadata": {
        "id": "WAVDb9GzzMVO"
      },
      "source": [
        "#Importing the zip\r\n",
        "zip_ref_sfu = zipfile.ZipFile(\"/content/drive/MyDrive/Colab Notebooks/SFU-Opinion_and_Comments_Corpus.zip\", \"r\")\r\n",
        "zip_ref_sfu.extractall()\r\n",
        "zip_ref_sfu.close()"
      ],
      "execution_count": null,
      "outputs": []
    },
    {
      "cell_type": "code",
      "metadata": {
        "colab": {
          "base_uri": "https://localhost:8080/",
          "height": 523
        },
        "id": "SPvio3MlPgVa",
        "outputId": "453bd7e8-e5ce-45c5-fc5b-fc4e5695fbed"
      },
      "source": [
        "import pandas as pd\r\n",
        "\r\n",
        "# Raw data\r\n",
        "sfu_articles = pd.read_csv(\"/content/drive/MyDrive/Colab Notebooks/gnm_articles.csv\")\r\n",
        "sfu_comments = pd.read_csv(\"/content/drive/MyDrive/Colab Notebooks/gnm_comments.csv\")\r\n",
        "sfu_threads = pd.read_csv(\"/content/drive/MyDrive/Colab Notebooks/gnm_comment_threads.csv\")\r\n",
        "\r\n",
        "threads.head(5)"
      ],
      "execution_count": null,
      "outputs": [
        {
          "output_type": "stream",
          "text": [
            "/usr/local/lib/python3.6/dist-packages/IPython/core/interactiveshell.py:2718: DtypeWarning: Columns (4,9,10,11,13,14,16,17,18,23,24,25,26,27) have mixed types.Specify dtype option on import or set low_memory=False.\n",
            "  interactivity=interactivity, compiler=compiler, result=result)\n"
          ],
          "name": "stderr"
        },
        {
          "output_type": "execute_result",
          "data": {
            "text/html": [
              "<div>\n",
              "<style scoped>\n",
              "    .dataframe tbody tr th:only-of-type {\n",
              "        vertical-align: middle;\n",
              "    }\n",
              "\n",
              "    .dataframe tbody tr th {\n",
              "        vertical-align: top;\n",
              "    }\n",
              "\n",
              "    .dataframe thead th {\n",
              "        text-align: right;\n",
              "    }\n",
              "</style>\n",
              "<table border=\"1\" class=\"dataframe\">\n",
              "  <thead>\n",
              "    <tr style=\"text-align: right;\">\n",
              "      <th></th>\n",
              "      <th>article_id</th>\n",
              "      <th>comment_counter</th>\n",
              "      <th>comment_author</th>\n",
              "      <th>timestamp</th>\n",
              "      <th>post_time</th>\n",
              "      <th>comment_text</th>\n",
              "      <th>TotalVotes</th>\n",
              "      <th>posVotes</th>\n",
              "      <th>negVotes</th>\n",
              "      <th>vote</th>\n",
              "      <th>reactions</th>\n",
              "      <th>replies</th>\n",
              "      <th>comment_id</th>\n",
              "      <th>parentID</th>\n",
              "      <th>threadID</th>\n",
              "      <th>streamId</th>\n",
              "      <th>edited</th>\n",
              "      <th>isModerator</th>\n",
              "      <th>highlightGroups</th>\n",
              "      <th>moderatorEdit</th>\n",
              "      <th>descendantsCount</th>\n",
              "      <th>threadTimestamp</th>\n",
              "      <th>flagCount</th>\n",
              "      <th>sender_isSelf</th>\n",
              "      <th>sender_loginProvider</th>\n",
              "      <th>data_type</th>\n",
              "      <th>is_empty</th>\n",
              "      <th>status</th>\n",
              "    </tr>\n",
              "  </thead>\n",
              "  <tbody>\n",
              "    <tr>\n",
              "      <th>0</th>\n",
              "      <td>535381</td>\n",
              "      <td>source1_535381_0</td>\n",
              "      <td>Muhammad Shoaib</td>\n",
              "      <td>1.461225e+12</td>\n",
              "      <td>NaN</td>\n",
              "      <td>Indeed it is the best police force in the worl...</td>\n",
              "      <td>0.0</td>\n",
              "      <td>0.0</td>\n",
              "      <td>0.0</td>\n",
              "      <td>none</td>\n",
              "      <td>NaN</td>\n",
              "      <td>NaN</td>\n",
              "      <td>bca183ec85d04ba9abe7df742b05baef</td>\n",
              "      <td>NaN</td>\n",
              "      <td>NaN</td>\n",
              "      <td>535381.0</td>\n",
              "      <td>False</td>\n",
              "      <td>False</td>\n",
              "      <td>[]</td>\n",
              "      <td>NaN</td>\n",
              "      <td>NaN</td>\n",
              "      <td>1.461225e+12</td>\n",
              "      <td>0.0</td>\n",
              "      <td>False</td>\n",
              "      <td>Facebook</td>\n",
              "      <td>comment</td>\n",
              "      <td>N</td>\n",
              "      <td>published</td>\n",
              "    </tr>\n",
              "    <tr>\n",
              "      <th>1</th>\n",
              "      <td>543638</td>\n",
              "      <td>source1_543638_0</td>\n",
              "      <td>Franklin Galvin1</td>\n",
              "      <td>1.454088e+12</td>\n",
              "      <td>NaN</td>\n",
              "      <td>Patients need to express their discontent with...</td>\n",
              "      <td>0.0</td>\n",
              "      <td>0.0</td>\n",
              "      <td>0.0</td>\n",
              "      <td>none</td>\n",
              "      <td>NaN</td>\n",
              "      <td>NaN</td>\n",
              "      <td>3f349e7b7c6b4a73bbe240b86ca81ec1</td>\n",
              "      <td>NaN</td>\n",
              "      <td>NaN</td>\n",
              "      <td>543638.0</td>\n",
              "      <td>False</td>\n",
              "      <td>False</td>\n",
              "      <td>[]</td>\n",
              "      <td>NaN</td>\n",
              "      <td>NaN</td>\n",
              "      <td>1.454088e+12</td>\n",
              "      <td>0.0</td>\n",
              "      <td>False</td>\n",
              "      <td>Site</td>\n",
              "      <td>comment</td>\n",
              "      <td>N</td>\n",
              "      <td>published</td>\n",
              "    </tr>\n",
              "    <tr>\n",
              "      <th>2</th>\n",
              "      <td>544184</td>\n",
              "      <td>source1_544184_0</td>\n",
              "      <td>openwater2010</td>\n",
              "      <td>1.404260e+12</td>\n",
              "      <td>NaN</td>\n",
              "      <td>The Opinion Gap on SPAM seems to match the opi...</td>\n",
              "      <td>1.0</td>\n",
              "      <td>1.0</td>\n",
              "      <td>0.0</td>\n",
              "      <td>none</td>\n",
              "      <td>NaN</td>\n",
              "      <td>NaN</td>\n",
              "      <td>672e3742723545b4bfa745594d1673e1</td>\n",
              "      <td>NaN</td>\n",
              "      <td>NaN</td>\n",
              "      <td>544184.0</td>\n",
              "      <td>False</td>\n",
              "      <td>False</td>\n",
              "      <td>[]</td>\n",
              "      <td>NaN</td>\n",
              "      <td>NaN</td>\n",
              "      <td>1.404260e+12</td>\n",
              "      <td>0.0</td>\n",
              "      <td>False</td>\n",
              "      <td>Site</td>\n",
              "      <td>comment</td>\n",
              "      <td>N</td>\n",
              "      <td>published</td>\n",
              "    </tr>\n",
              "    <tr>\n",
              "      <th>3</th>\n",
              "      <td>544562</td>\n",
              "      <td>source1_544562_0</td>\n",
              "      <td>Wild Bill 2</td>\n",
              "      <td>1.388010e+12</td>\n",
              "      <td>NaN</td>\n",
              "      <td>Prince Rupert route would avoid having 220 sup...</td>\n",
              "      <td>0.0</td>\n",
              "      <td>NaN</td>\n",
              "      <td>NaN</td>\n",
              "      <td>none</td>\n",
              "      <td>NaN</td>\n",
              "      <td>NaN</td>\n",
              "      <td>73767f8e40c941d1bfdba7b8e8f86b03</td>\n",
              "      <td>NaN</td>\n",
              "      <td>NaN</td>\n",
              "      <td>544562.0</td>\n",
              "      <td>False</td>\n",
              "      <td>False</td>\n",
              "      <td>[]</td>\n",
              "      <td>NaN</td>\n",
              "      <td>NaN</td>\n",
              "      <td>1.388010e+12</td>\n",
              "      <td>0.0</td>\n",
              "      <td>False</td>\n",
              "      <td>Site</td>\n",
              "      <td>comment</td>\n",
              "      <td>N</td>\n",
              "      <td>published</td>\n",
              "    </tr>\n",
              "    <tr>\n",
              "      <th>4</th>\n",
              "      <td>544912</td>\n",
              "      <td>source1_544912_0</td>\n",
              "      <td>SusanK.</td>\n",
              "      <td>1.378332e+12</td>\n",
              "      <td>NaN</td>\n",
              "      <td>If I understand your commentary, you are targe...</td>\n",
              "      <td>-4.0</td>\n",
              "      <td>NaN</td>\n",
              "      <td>4.0</td>\n",
              "      <td>none</td>\n",
              "      <td>NaN</td>\n",
              "      <td>NaN</td>\n",
              "      <td>6b6933f1beff41b3934ca71f7aab3ab5</td>\n",
              "      <td>NaN</td>\n",
              "      <td>NaN</td>\n",
              "      <td>544912.0</td>\n",
              "      <td>False</td>\n",
              "      <td>False</td>\n",
              "      <td>[]</td>\n",
              "      <td>NaN</td>\n",
              "      <td>NaN</td>\n",
              "      <td>1.378332e+12</td>\n",
              "      <td>0.0</td>\n",
              "      <td>False</td>\n",
              "      <td>Site</td>\n",
              "      <td>comment</td>\n",
              "      <td>N</td>\n",
              "      <td>published</td>\n",
              "    </tr>\n",
              "  </tbody>\n",
              "</table>\n",
              "</div>"
            ],
            "text/plain": [
              "   article_id   comment_counter    comment_author  ...  data_type is_empty     status\n",
              "0      535381  source1_535381_0   Muhammad Shoaib  ...    comment        N  published\n",
              "1      543638  source1_543638_0  Franklin Galvin1  ...    comment        N  published\n",
              "2      544184  source1_544184_0     openwater2010  ...    comment        N  published\n",
              "3      544562  source1_544562_0       Wild Bill 2  ...    comment        N  published\n",
              "4      544912  source1_544912_0           SusanK.  ...    comment        N  published\n",
              "\n",
              "[5 rows x 28 columns]"
            ]
          },
          "metadata": {
            "tags": []
          },
          "execution_count": 11
        }
      ]
    },
    {
      "cell_type": "code",
      "metadata": {
        "colab": {
          "base_uri": "https://localhost:8080/",
          "height": 660
        },
        "id": "s8tv29gQ0Wdx",
        "outputId": "d98e183c-738a-489a-fe40-03949d00204d"
      },
      "source": [
        "sfu_constr = pd.read_csv(\"/content/SOCC/annotated/constructiveness/SFU_constructiveness_toxicity_corpus.csv\")\r\n",
        "sfu_constr.head()"
      ],
      "execution_count": null,
      "outputs": [
        {
          "output_type": "execute_result",
          "data": {
            "text/html": [
              "<div>\n",
              "<style scoped>\n",
              "    .dataframe tbody tr th:only-of-type {\n",
              "        vertical-align: middle;\n",
              "    }\n",
              "\n",
              "    .dataframe tbody tr th {\n",
              "        vertical-align: top;\n",
              "    }\n",
              "\n",
              "    .dataframe thead th {\n",
              "        text-align: right;\n",
              "    }\n",
              "</style>\n",
              "<table border=\"1\" class=\"dataframe\">\n",
              "  <thead>\n",
              "    <tr style=\"text-align: right;\">\n",
              "      <th></th>\n",
              "      <th>article_id</th>\n",
              "      <th>comment_counter</th>\n",
              "      <th>title</th>\n",
              "      <th>globe_url</th>\n",
              "      <th>url</th>\n",
              "      <th>comment_text</th>\n",
              "      <th>is_constructive</th>\n",
              "      <th>is_constructive:confidence</th>\n",
              "      <th>toxicity_level</th>\n",
              "      <th>toxicity_level:confidence</th>\n",
              "      <th>did_you_read_the_article</th>\n",
              "      <th>did_you_read_the_article:confidence</th>\n",
              "      <th>annotator_comments</th>\n",
              "      <th>expert_is_constructive</th>\n",
              "      <th>expert_toxicity_level</th>\n",
              "      <th>expert_comments</th>\n",
              "    </tr>\n",
              "  </thead>\n",
              "  <tbody>\n",
              "    <tr>\n",
              "      <th>0</th>\n",
              "      <td>23462276</td>\n",
              "      <td>source1_23462276_4</td>\n",
              "      <td>Apple Watch: It's the precise opposite of a la...</td>\n",
              "      <td>http://www.theglobeandmail.com/opinion/as-tech...</td>\n",
              "      <td>http://www.sfu.ca/content/dam/sfu/discourse-la...</td>\n",
              "      <td>While technology does march on, sometimes it t...</td>\n",
              "      <td>yes</td>\n",
              "      <td>1.0000</td>\n",
              "      <td>1</td>\n",
              "      <td>1</td>\n",
              "      <td>1</td>\n",
              "      <td>1.0</td>\n",
              "      <td>\\n\\n\\n\\n\\n\\n\\n\\n\\n\\n\\n\\n\\n\\n\\n\\n\\n\\n\\n\\n\\n</td>\n",
              "      <td>NaN</td>\n",
              "      <td>NaN</td>\n",
              "      <td>NaN</td>\n",
              "    </tr>\n",
              "    <tr>\n",
              "      <th>1</th>\n",
              "      <td>23462276</td>\n",
              "      <td>source1_23462276_10</td>\n",
              "      <td>Apple Watch: It's the precise opposite of a la...</td>\n",
              "      <td>http://www.theglobeandmail.com/opinion/as-tech...</td>\n",
              "      <td>http://www.sfu.ca/content/dam/sfu/discourse-la...</td>\n",
              "      <td>Everyone is still missing the point of what th...</td>\n",
              "      <td>yes</td>\n",
              "      <td>1.0000</td>\n",
              "      <td>1\\n2</td>\n",
              "      <td>0.9111\\n0.0889</td>\n",
              "      <td>1</td>\n",
              "      <td>1.0</td>\n",
              "      <td>\\n\\n\\n\\n\\n\\n\\n\\n\\n\\n</td>\n",
              "      <td>NaN</td>\n",
              "      <td>NaN</td>\n",
              "      <td>NaN</td>\n",
              "    </tr>\n",
              "    <tr>\n",
              "      <th>2</th>\n",
              "      <td>23462276</td>\n",
              "      <td>source1_23462276_11_1</td>\n",
              "      <td>Apple Watch: It's the precise opposite of a la...</td>\n",
              "      <td>http://www.theglobeandmail.com/opinion/as-tech...</td>\n",
              "      <td>http://www.sfu.ca/content/dam/sfu/discourse-la...</td>\n",
              "      <td>You've never used an Apple product have you?</td>\n",
              "      <td>no</td>\n",
              "      <td>1.0000</td>\n",
              "      <td>1\\n2</td>\n",
              "      <td>0.6308\\n0.2937</td>\n",
              "      <td>1</td>\n",
              "      <td>1.0</td>\n",
              "      <td>\\n\\n\\n\\n\\n\\n\\n\\n\\n\\n\\n\\n\\n</td>\n",
              "      <td>NaN</td>\n",
              "      <td>NaN</td>\n",
              "      <td>NaN</td>\n",
              "    </tr>\n",
              "    <tr>\n",
              "      <th>3</th>\n",
              "      <td>23462276</td>\n",
              "      <td>source1_23462276_25</td>\n",
              "      <td>Apple Watch: It's the precise opposite of a la...</td>\n",
              "      <td>http://www.theglobeandmail.com/opinion/as-tech...</td>\n",
              "      <td>http://www.sfu.ca/content/dam/sfu/discourse-la...</td>\n",
              "      <td>You may be using a blackberry. I'm still using...</td>\n",
              "      <td>no</td>\n",
              "      <td>1.0000</td>\n",
              "      <td>1\\n2</td>\n",
              "      <td>0.7346\\n0.2023</td>\n",
              "      <td>1</td>\n",
              "      <td>1.0</td>\n",
              "      <td>\\n\\n\\n\\n\\n\\n\\n\\n\\n\\n\\n\\n\\n\\n</td>\n",
              "      <td>NaN</td>\n",
              "      <td>NaN</td>\n",
              "      <td>NaN</td>\n",
              "    </tr>\n",
              "    <tr>\n",
              "      <th>4</th>\n",
              "      <td>26373964</td>\n",
              "      <td>source1_26373964_63</td>\n",
              "      <td>Don't be fooled by the (surprise!) budget surplus</td>\n",
              "      <td>http://www.theglobeandmail.com/opinion/dont-be...</td>\n",
              "      <td>http://www.sfu.ca/content/dam/sfu/discourse-la...</td>\n",
              "      <td>Of course we all know, unfortunately, there is...</td>\n",
              "      <td>no</td>\n",
              "      <td>0.5963</td>\n",
              "      <td>2\\n1</td>\n",
              "      <td>0.4429\\n0.3066</td>\n",
              "      <td>1</td>\n",
              "      <td>1.0</td>\n",
              "      <td>\\n\\n\\n\\n\\n\\n</td>\n",
              "      <td>NaN</td>\n",
              "      <td>NaN</td>\n",
              "      <td>NaN</td>\n",
              "    </tr>\n",
              "  </tbody>\n",
              "</table>\n",
              "</div>"
            ],
            "text/plain": [
              "   article_id        comment_counter  ... expert_toxicity_level expert_comments\n",
              "0    23462276     source1_23462276_4  ...                   NaN             NaN\n",
              "1    23462276    source1_23462276_10  ...                   NaN             NaN\n",
              "2    23462276  source1_23462276_11_1  ...                   NaN             NaN\n",
              "3    23462276    source1_23462276_25  ...                   NaN             NaN\n",
              "4    26373964    source1_26373964_63  ...                   NaN             NaN\n",
              "\n",
              "[5 rows x 16 columns]"
            ]
          },
          "metadata": {
            "tags": []
          },
          "execution_count": 51
        }
      ]
    },
    {
      "cell_type": "code",
      "metadata": {
        "id": "7U0tdxhT0ab_"
      },
      "source": [
        "#Getting the constructiveness annotations\r\n",
        "zip_ref_sfu_app = zipfile.ZipFile(\"/content/SOCC/annotated/Appraisal/Appraisal_annotations.zip\", \"r\")\r\n",
        "zip_ref_sfu_app.extractall()\r\n",
        "zip_ref_sfu_app.close()"
      ],
      "execution_count": null,
      "outputs": []
    },
    {
      "cell_type": "markdown",
      "metadata": {
        "id": "RVM-mBeVx7eA"
      },
      "source": [
        "## Data description\r\n",
        "\r\n",
        "## What data do we have\r\n",
        "- 10.339 opinion articles from The Globe and Mail\r\n",
        "- 663.173 comments linked to those articles\r\n",
        "- 303.665 comment threads in theory; in practice it's 773716 which makes absolutly no sense at all but I checked the raw file and it does indeed have that many lines\r\n",
        "- 1043 annotated comments in terms of their constructiveness\r\n",
        "- Raw metrics for **comments** (such as pos/neg votes, replies and reactions, but also thread id's and positions) and **articles** (text, headlines, and number of (top-level) comments per article)\r\n",
        "- Dictionaries with annotations for appraisal and negation (not quite sure yet how to transform them in a way that I really understand what is in there and how it is organised)\r\n",
        "### What would we need to do with the data\r\n",
        "- Article text needs to be cleaned, although it seems the only issues are related to formatting: < /p>\" & < p>\r\n",
        "- **Not use** the threads data because it clearly seems untrustworthy\r\n",
        "- Link comments to articles (either with the article id or the thread variable)\r\n",
        "- Unpack the dictionaries??"
      ]
    },
    {
      "cell_type": "code",
      "metadata": {
        "colab": {
          "base_uri": "https://localhost:8080/"
        },
        "id": "dYCcSU4rXZQo",
        "outputId": "406c62f4-ab19-48d3-d514-c540da34ad12"
      },
      "source": [
        "#How much raw data is there\r\n",
        "print(\"Articles:\",len(sfu_articles),\r\n",
        "      \"Comments:\", len(sfu_comments),\r\n",
        "      \"Threads:\", len(sfu_threads),\r\n",
        "      \"Constructiveness:\", len(sfu_constr))"
      ],
      "execution_count": null,
      "outputs": [
        {
          "output_type": "stream",
          "text": [
            "Articles: 10339 Comments: 663173 Threads: 773716 Constructiveness: 1043\n"
          ],
          "name": "stdout"
        }
      ]
    },
    {
      "cell_type": "code",
      "metadata": {
        "colab": {
          "base_uri": "https://localhost:8080/"
        },
        "id": "MVOOa4x42VOq",
        "outputId": "8cd2de84-2a7b-4746-c609-cfad88226c1c"
      },
      "source": [
        "#What is in the article data?\r\n",
        "sfu_articles.columns"
      ],
      "execution_count": null,
      "outputs": [
        {
          "output_type": "execute_result",
          "data": {
            "text/plain": [
              "Index(['article_id', 'title', 'article_url', 'author', 'published_date',\n",
              "       'ncomments', 'ntop_level_comments', 'article_text'],\n",
              "      dtype='object')"
            ]
          },
          "metadata": {
            "tags": []
          },
          "execution_count": 17
        }
      ]
    },
    {
      "cell_type": "code",
      "metadata": {
        "colab": {
          "base_uri": "https://localhost:8080/"
        },
        "id": "tzDbUcSu2d7E",
        "outputId": "8e1c41a5-5b52-4638-be19-af6921683adb"
      },
      "source": [
        "#What is in the columns data?\r\n",
        "sfu_comments.columns"
      ],
      "execution_count": null,
      "outputs": [
        {
          "output_type": "execute_result",
          "data": {
            "text/plain": [
              "Index(['article_id', 'comment_counter', 'comment_author', 'timestamp',\n",
              "       'post_time', 'comment_text', 'TotalVotes', 'posVotes', 'negVotes',\n",
              "       'vote', 'reactions', 'replies', 'comment_id', 'parentID', 'threadID',\n",
              "       'streamId', 'edited', 'isModerator', 'highlightGroups', 'moderatorEdit',\n",
              "       'descendantsCount', 'threadTimestamp', 'flagCount', 'sender_isSelf',\n",
              "       'sender_loginProvider', 'data_type', 'is_empty', 'status'],\n",
              "      dtype='object')"
            ]
          },
          "metadata": {
            "tags": []
          },
          "execution_count": 18
        }
      ]
    },
    {
      "cell_type": "code",
      "metadata": {
        "colab": {
          "base_uri": "https://localhost:8080/"
        },
        "id": "HpK66ueFTP0Y",
        "outputId": "ef1a4e98-bac0-4541-cb94-87a7d79c0236"
      },
      "source": [
        "#What is in the constructiveness data?\r\n",
        "sfu_constr.columns"
      ],
      "execution_count": null,
      "outputs": [
        {
          "output_type": "execute_result",
          "data": {
            "text/plain": [
              "Index(['article_id', 'comment_counter', 'title', 'globe_url', 'url',\n",
              "       'comment_text', 'is_constructive', 'is_constructive:confidence',\n",
              "       'toxicity_level', 'toxicity_level:confidence',\n",
              "       'did_you_read_the_article', 'did_you_read_the_article:confidence',\n",
              "       'annotator_comments', 'expert_is_constructive', 'expert_toxicity_level',\n",
              "       'expert_comments'],\n",
              "      dtype='object')"
            ]
          },
          "metadata": {
            "tags": []
          },
          "execution_count": 53
        }
      ]
    },
    {
      "cell_type": "code",
      "metadata": {
        "colab": {
          "base_uri": "https://localhost:8080/",
          "height": 163
        },
        "id": "dlq7eqx_2sUP",
        "outputId": "f64390b0-4f3d-4e2e-def6-fb394732083f"
      },
      "source": [
        "#What does the text look like?\r\n",
        "articles[\"article_text\"][20]"
      ],
      "execution_count": null,
      "outputs": [
        {
          "output_type": "execute_result",
          "data": {
            "application/vnd.google.colaboratory.intrinsic+json": {
              "type": "string"
            },
            "text/plain": [
              "\"<p>It's good to be a firefighter, especially if you live in a small town. You're one of the best-paid guys around. You get lots and lots of time off to go fishing or hunting or run your own business on the side. And your union always gets its way.</p><p>There's just one problem. The people you work for can't afford you anymore.</p><p>'We're spending 25 per cent of our operating budget on firefighters,' Ted Luciani, the mayor of Thorold, Ont., told me the other day. 'It's not sustainable. We've hit the wall.'</p><p>Thorold is a middle-class town of 18,500 in southwestern Ontario. It has 15 significant structure-related fires a year, the mayor's office says. But although its 18 firefighters don't have much to do, they make big-city money. An arbitrator recently awarded them a retroactive 9.2 per cent raise that bumped their pay to $92,119. Similar settlements have been awarded throughout the province. Most of the people who make these towns' Sunshine List (because their compensation is over $100,000) are cops and firefighters.</p><p>Firefighting is increasingly a lucrative part-time job. Starting next year, Thorold's firefighters will switch to 24-hour shifts, which means they'll work approximately seven shifts every 28 days. The advantages of this arrangement are obvious. Mayor Luciani is not happy about this change. He figures that overtime and sick-pay costs will increase. Besides, he fumes, 'We'll be paying them to sleep on the job.'</p><p>Municipalities that resist the union's demands can go to arbitration. But they virtually never win. Arbitrators simply hand the union whatever the last guys got. 'When the municipalities lose 100 to zero, there's something wrong,' the mayor argues. 'The arbitration system has to change.'</p><p>Thanks to better building materials and stiffer fire safety regulations, the number of fires across Canada has plunged. In big cities, only a small number of the calls to the fire service are for actual fires. (In Toronto, only 9.9 per cent of calls to the fire service in 2013 were about fires; in Calgary it was just 3.4 per cent.) But the number of firefighters just keeps going up. Thorold and other municipalities aren't able to cut staffing levels because of manning clauses in the contracts.</p><p>A new report by the Fraser Institute says the number of fires in Ontario fell by 41 per cent between 1997 and 2012, while the number of firefighters increased by 36 per cent. Although precise statistics aren't available for all of Canada, the national trends are the same. On top of that, firefighter compensation has risen faster than inflation, according to the report.</p><p>The firefighters' union does not want to acknowledge any of this. Its strategy is to try to discredit and intimidate its critics, while reminding us that firefighters risk their lives on our behalf. They like to warn that any effort to challenge its demands will put the public at risk of frying in their beds. They insist that firefighters do extremely valuable work when they're not fighting fires, such as training, prevention, public education, inspections, and pre-fire planning, to say nothing of sending their big red trucks screaming through the streets to rescue people in car accidents.</p><p>I have respect for firefighters. They're brave people and they do their jobs well, so far as I know. But their union is far too powerful for the public good. The arbitration system is broken, too. Although arbitrators are supposed to consider a town's ability to pay, in fact they don't. As a result, firefighters and cops are eating up a bigger and bigger piece of municipal budgets, and leaving less and less money for parks and libraries and everything else.</p><p>The firefighters' sense of entitlement is rapidly exhausting the goodwill of the public, who are increasingly fed up at their high salaries and cushy working conditions. 'Yes, they save lives,' Mayor Luciani says. 'But nurses save lives too. And look how hard they work. When nurses go on shift they're working every minute. They save lives every day.'</p><p>Thorold's wrangle with the firefighters is over for now, but not for long. This dispute take years to settle. They'll be back to the bargaining table in January.\\\\</p><p>Clarification: The original newspaper version and an earlier online version of this column estimatedthere were maybe 10 to 15 fires a year in Thorold, Ont. The mayor's office now confirms that there were 15 significant structure-related calls resulting in $960,000 of fire loss in 2014. This online version has been updated.</p><p> </p>\""
            ]
          },
          "metadata": {
            "tags": []
          },
          "execution_count": 19
        }
      ]
    },
    {
      "cell_type": "code",
      "metadata": {
        "colab": {
          "base_uri": "https://localhost:8080/"
        },
        "id": "TphS-OJL8Nju",
        "outputId": "95f24b3e-9a44-4337-cbc9-b2713dd38b05"
      },
      "source": [
        "#appraisal dictionary\r\n",
        "import json\r\n",
        "\r\n",
        "file = \"exportedproject5207298023855609783.json\"\r\n",
        "#with open(file) as appraisal:\r\n",
        "#    dict_appraisal = json.load(appraisal)\r\n",
        "\r\n",
        "#print(pd.json_normalize(dict_appraisal))\r\n"
      ],
      "execution_count": null,
      "outputs": [
        {
          "output_type": "stream",
          "text": [
            "        name description  ... disableExport  script_direction\n",
            "0  Appraisal        None  ...         False               LTR\n",
            "\n",
            "[1 rows x 12 columns]\n"
          ],
          "name": "stdout"
        }
      ]
    },
    {
      "cell_type": "code",
      "metadata": {
        "colab": {
          "base_uri": "https://localhost:8080/",
          "height": 421
        },
        "id": "_lnqfKFMdccC",
        "outputId": "d5175d59-898d-4c1b-b49b-170ce07e8069"
      },
      "source": [
        "df = pd.read_json(file,orient='index')\r\n",
        "df"
      ],
      "execution_count": null,
      "outputs": [
        {
          "output_type": "execute_result",
          "data": {
            "text/html": [
              "<div>\n",
              "<style scoped>\n",
              "    .dataframe tbody tr th:only-of-type {\n",
              "        vertical-align: middle;\n",
              "    }\n",
              "\n",
              "    .dataframe tbody tr th {\n",
              "        vertical-align: top;\n",
              "    }\n",
              "\n",
              "    .dataframe thead th {\n",
              "        text-align: right;\n",
              "    }\n",
              "</style>\n",
              "<table border=\"1\" class=\"dataframe\">\n",
              "  <thead>\n",
              "    <tr style=\"text-align: right;\">\n",
              "      <th></th>\n",
              "      <th>0</th>\n",
              "    </tr>\n",
              "  </thead>\n",
              "  <tbody>\n",
              "    <tr>\n",
              "      <th>name</th>\n",
              "      <td>Appraisal</td>\n",
              "    </tr>\n",
              "    <tr>\n",
              "      <th>description</th>\n",
              "      <td>None</td>\n",
              "    </tr>\n",
              "    <tr>\n",
              "      <th>mode</th>\n",
              "      <td>ANNOTATION</td>\n",
              "    </tr>\n",
              "    <tr>\n",
              "      <th>version</th>\n",
              "      <td>1</td>\n",
              "    </tr>\n",
              "    <tr>\n",
              "      <th>source_documents</th>\n",
              "      <td>[{'name': 'aboriginal_1.txt', 'format': 'text'...</td>\n",
              "    </tr>\n",
              "    <tr>\n",
              "      <th>annotation_documents</th>\n",
              "      <td>[{'name': 'aboriginal_1.txt', 'user': 'Luca', ...</td>\n",
              "    </tr>\n",
              "    <tr>\n",
              "      <th>project_permissions</th>\n",
              "      <td>[{'level': 'USER', 'user': 'Erin'}, {'level': ...</td>\n",
              "    </tr>\n",
              "    <tr>\n",
              "      <th>tag_sets</th>\n",
              "      <td>[{'name': 'Appraisal', 'typeUiName': None, 'de...</td>\n",
              "    </tr>\n",
              "    <tr>\n",
              "      <th>layers</th>\n",
              "      <td>[{'name': 'webanno.custom.Attitude__', 'featur...</td>\n",
              "    </tr>\n",
              "    <tr>\n",
              "      <th>mira_templates</th>\n",
              "      <td>[]</td>\n",
              "    </tr>\n",
              "    <tr>\n",
              "      <th>disableExport</th>\n",
              "      <td>False</td>\n",
              "    </tr>\n",
              "    <tr>\n",
              "      <th>script_direction</th>\n",
              "      <td>LTR</td>\n",
              "    </tr>\n",
              "  </tbody>\n",
              "</table>\n",
              "</div>"
            ],
            "text/plain": [
              "                                                                      0\n",
              "name                                                          Appraisal\n",
              "description                                                        None\n",
              "mode                                                         ANNOTATION\n",
              "version                                                               1\n",
              "source_documents      [{'name': 'aboriginal_1.txt', 'format': 'text'...\n",
              "annotation_documents  [{'name': 'aboriginal_1.txt', 'user': 'Luca', ...\n",
              "project_permissions   [{'level': 'USER', 'user': 'Erin'}, {'level': ...\n",
              "tag_sets              [{'name': 'Appraisal', 'typeUiName': None, 'de...\n",
              "layers                [{'name': 'webanno.custom.Attitude__', 'featur...\n",
              "mira_templates                                                       []\n",
              "disableExport                                                     False\n",
              "script_direction                                                    LTR"
            ]
          },
          "metadata": {
            "tags": []
          },
          "execution_count": 95
        }
      ]
    },
    {
      "cell_type": "code",
      "metadata": {
        "id": "GXEZrYvpjQ5M"
      },
      "source": [
        ""
      ],
      "execution_count": null,
      "outputs": []
    },
    {
      "cell_type": "code",
      "metadata": {
        "id": "32i7xISTjQvp"
      },
      "source": [
        ""
      ],
      "execution_count": null,
      "outputs": []
    }
  ]
}
